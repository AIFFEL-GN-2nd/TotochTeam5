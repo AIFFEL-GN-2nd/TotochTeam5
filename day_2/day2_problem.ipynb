{
 "cells": [
  {
   "cell_type": "markdown",
   "metadata": {},
   "source": [
    "# 이웃집 토토치 파이토치 : Day 2 - 추가 실습\n",
    "---"
   ]
  },
  {
   "cell_type": "markdown",
   "metadata": {
    "execution": {
     "iopub.execute_input": "2021-10-01T00:50:08.920291Z",
     "iopub.status.busy": "2021-10-01T00:50:08.919297Z",
     "iopub.status.idle": "2021-10-01T00:50:08.940542Z",
     "shell.execute_reply": "2021-10-01T00:50:08.938545Z",
     "shell.execute_reply.started": "2021-10-01T00:50:08.919297Z"
    }
   },
   "source": [
    "<div class=\"alert alert-info\">\n",
    "    <h4>Q1</h4>\n",
    "    <p> 다음 코드는 keras를 이용한 mnist 손글씨 분류기를 학습시키는 과정을 나타내고 있다. 아래의 코드와 동등한 역할을 수행할 수 있는 코드를 pytorch를 이용하여 작성하라.</p>\n",
    "</div>"
   ]
  },
  {
   "cell_type": "markdown",
   "metadata": {},
   "source": [
    "- keras 코드"
   ]
  },
  {
   "cell_type": "code",
   "execution_count": null,
   "metadata": {},
   "outputs": [],
   "source": [
    "def show_hist_plot(acc, val_acc, loss, val_loss):\n",
    "    import matplotlib.pyplot as plt\n",
    "\n",
    "    fig, (loss_ax, acc_ax) = plt.subplots(1, 2, figsize=(12, 4))\n",
    "\n",
    "    loss_ax.plot(loss, 'b', label='train loss')\n",
    "    loss_ax.plot(val_loss, 'r', label='val loss')\n",
    "    loss_ax.set_xlabel('epoch')\n",
    "    loss_ax.set_ylabel('loss')\n",
    "    loss_ax.legend(loc='upper left')\n",
    "\n",
    "    acc_ax.plot(acc, 'b', label='train acc')\n",
    "    acc_ax.plot(val_acc, 'r', label='val acc')\n",
    "    acc_ax.set_ylabel('accuracy')\n",
    "    acc_ax.set_xlabel('epoch')\n",
    "    acc_ax.legend(loc='upper left')"
   ]
  },
  {
   "cell_type": "code",
   "execution_count": null,
   "metadata": {
    "tags": []
   },
   "outputs": [],
   "source": [
    "# 코드 출처 : https://keras.io/examples/vision/mnist_convnet/\n",
    "\n",
    "########################################################### \n",
    "# Setup\n",
    "###########################################################\n",
    "import numpy as np\n",
    "from tensorflow import keras\n",
    "from tensorflow.keras import layers\n",
    "\n",
    "\n",
    "########################################################### \n",
    "# Prepare the data\n",
    "###########################################################\n",
    "num_classes = 10\n",
    "input_shape = (28, 28, 1)\n",
    "\n",
    "# the data, split between train and test sets\n",
    "(x_train, y_train), (x_test, y_test) = keras.datasets.mnist.load_data()\n",
    "\n",
    "# Scale images to the [0, 1] range\n",
    "x_train = x_train.astype(\"float32\") / 255\n",
    "x_test = x_test.astype(\"float32\") / 255\n",
    "# Make sure images have shape (28, 28, 1)\n",
    "x_train = np.expand_dims(x_train, -1)\n",
    "x_test = np.expand_dims(x_test, -1)\n",
    "print(\"x_train shape:\", x_train.shape)\n",
    "print(x_train.shape[0], \"train samples\")\n",
    "print(x_test.shape[0], \"test samples\\n\")\n",
    "\n",
    "\n",
    "# convert class vectors to binary class matrices\n",
    "y_train = keras.utils.to_categorical(y_train, num_classes)\n",
    "y_test = keras.utils.to_categorical(y_test, num_classes)\n",
    "\n",
    "\n",
    "\n",
    "########################################################### \n",
    "# Build the model\n",
    "###########################################################\n",
    "model = keras.Sequential(\n",
    "    [\n",
    "        keras.Input(shape=input_shape),\n",
    "        layers.Conv2D(32, kernel_size=(3, 3), activation=\"relu\"),\n",
    "        layers.MaxPooling2D(pool_size=(2, 2)),\n",
    "        layers.Conv2D(64, kernel_size=(3, 3), activation=\"relu\"),\n",
    "        layers.MaxPooling2D(pool_size=(2, 2)),\n",
    "        layers.Flatten(),\n",
    "        layers.Dropout(0.5),\n",
    "        layers.Dense(num_classes, activation=\"softmax\"),\n",
    "    ]\n",
    ")\n",
    "\n",
    "model.summary()\n",
    "print()\n",
    "\n",
    "########################################################### \n",
    "# Train the model\n",
    "###########################################################\n",
    "batch_size = 128\n",
    "epochs = 15\n",
    "\n",
    "model.compile(loss=\"categorical_crossentropy\", optimizer=\"adam\", metrics=[\"accuracy\"])\n",
    "hist = model.fit(x_train, y_train, batch_size=batch_size, epochs=epochs, validation_split=0.1)\n",
    "show_hist_plot(hist.history['accuracy'], hist.history['val_accuracy'], \n",
    "               hist.history['loss'], hist.history['val_loss'])\n",
    "print()\n",
    "\n",
    "########################################################### \n",
    "# Evaluate the trained model\n",
    "###########################################################\n",
    "score = model.evaluate(x_test, y_test, verbose=0)\n",
    "print(\"Test loss:\", score[0])\n",
    "print(\"Test accuracy:\", score[1])"
   ]
  },
  {
   "cell_type": "markdown",
   "metadata": {},
   "source": [
    "- 여기부터 작성 해주세요"
   ]
  },
  {
   "cell_type": "code",
   "execution_count": null,
   "metadata": {},
   "outputs": [],
   "source": [
    "########################################################### \n",
    "# Setup\n",
    "###########################################################\n",
    "import torch\n",
    "import torchvision\n",
    "device = 'cuda' if torch.cuda.is_available() else 'cpu'"
   ]
  },
  {
   "cell_type": "code",
   "execution_count": null,
   "metadata": {},
   "outputs": [],
   "source": [
    "########################################################### \n",
    "# Prepare the data\n",
    "###########################################################\n",
    "num_classes = 10\n",
    "input_shape = (28, 28, 1)\n",
    "\n",
    "# the data, split between train and test sets\n",
    "\n",
    "\n",
    "# Scale images to the [0, 1] range\n",
    "\n",
    "\n",
    "# Make sure images have shape (28, 28, 1)\n",
    "\n",
    "\n",
    "# convert class vectors to binary class matrices\n",
    "\n",
    "\n"
   ]
  },
  {
   "cell_type": "code",
   "execution_count": null,
   "metadata": {},
   "outputs": [],
   "source": [
    "########################################################### \n",
    "# Build the model\n",
    "###########################################################\n",
    "\n",
    "\n",
    "\n"
   ]
  },
  {
   "cell_type": "code",
   "execution_count": null,
   "metadata": {},
   "outputs": [],
   "source": [
    "########################################################### \n",
    "# Train the model\n",
    "###########################################################\n",
    "batch_size = 128\n",
    "epochs = 15\n",
    "\n",
    "\n",
    "\n",
    "# show_hist_plot()"
   ]
  },
  {
   "cell_type": "code",
   "execution_count": null,
   "metadata": {},
   "outputs": [],
   "source": [
    "########################################################### \n",
    "# Evaluate the trained model\n",
    "###########################################################\n",
    "\n",
    "\n"
   ]
  }
 ],
 "metadata": {
  "kernelspec": {
   "display_name": "Python 3",
   "language": "python",
   "name": "python3"
  },
  "language_info": {
   "codemirror_mode": {
    "name": "ipython",
    "version": 3
   },
   "file_extension": ".py",
   "mimetype": "text/x-python",
   "name": "python",
   "nbconvert_exporter": "python",
   "pygments_lexer": "ipython3",
   "version": "3.7.10"
  }
 },
 "nbformat": 4,
 "nbformat_minor": 4
}
