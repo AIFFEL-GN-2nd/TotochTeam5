{
  "nbformat": 4,
  "nbformat_minor": 0,
  "metadata": {
    "colab": {
      "name": "day3_exercise_장재성.ipynb",
      "provenance": [],
      "collapsed_sections": []
    },
    "kernelspec": {
      "display_name": "Python 3",
      "language": "python",
      "name": "python3"
    },
    "language_info": {
      "codemirror_mode": {
        "name": "ipython",
        "version": 3
      },
      "file_extension": ".py",
      "mimetype": "text/x-python",
      "name": "python",
      "nbconvert_exporter": "python",
      "pygments_lexer": "ipython3",
      "version": "3.7.10"
    }
  },
  "cells": [
    {
      "cell_type": "markdown",
      "metadata": {
        "id": "YZaY21mGeRfi"
      },
      "source": [
        "# 이웃집 토토치 파이토치 : Day 3\n",
        "---"
      ]
    },
    {
      "cell_type": "markdown",
      "metadata": {
        "id": "cuSAAxKLm2BY"
      },
      "source": [
        "<div class=\"alert alert-info\">\n",
        "    <p>📢 해당 게시물은 <a href=\"https://tutorials.pytorch.kr/beginner/basics/intro.html\">파이토치 기본 익히기</a>와 torchvision에서 제공하는 <a href=\"https://github.com/pytorch/vision/blob/main/torchvision/models/vgg.py\">vgg 모델</a>을 재구성하여 작성되었습니다.</p>\n",
        "</div>"
      ]
    },
    {
      "cell_type": "markdown",
      "metadata": {
        "id": "QIYwW_fdnRIV"
      },
      "source": [
        "## VGG16 작성 및 학습\n",
        "\n",
        "![](https://miro.medium.com/max/700/1*gU5m4XO2awEM6Zp4DkirFA.png)\n",
        "\n",
        "오늘은 VGG16 모델을 CIFAR-10 데이터를 학습 시켜볼 수 있는 이미지 분류기로 정의하고 이를 학습시켜 보고자 합니다.\n",
        "\n",
        "작성해야하는 분류기와 학습 환경에 대한 조건은 다음과 같습니다.\n",
        "\n",
        "- transforms : 정규화만을 진행한다.\n",
        "- 모델 구조\n",
        "    - feature [64, 64, M, 128, 128, M, 256, 256, 256, M, 512, 512, 512, M, 512, 512, 512, M] + classifier [AA, 4096, 4096, 1000]\n",
        "    - feature\n",
        "        - n(숫자) : filter의 수가 n개인 2d Conv Layer, `kernel_size=3`, `padding=1`\n",
        "        - M : Max Pooling Layer, `kernel_size=2`, `padding=2`\n",
        "        - Conv Layer 이후의 activation func는 ReLU를 사용한다.\n",
        "    - classifier\n",
        "        - AA : Adaptive Average Pooling(7x7)\n",
        "        - n(숫자) : Linear(n unit)\n",
        "- loss 함수 : CrossEntropyLoss\n",
        "- optimizer = SGD, lr = 0.005, momentum=0.9\n",
        "    - StepLR를 사용하여 5 step 마다 lr를 0.9배씩 줄이며 학습시킨다.\n",
        "- 학습 과정에서 train set과 test set에 대한 loss와 accuracy를 출력하고, 학습 종료 후 matrix의 변화를 plot으로 출력한다.\n",
        "- 학습이 완료된 모델을 `my_vgg16`이라는 이름으로 [저장](https://tutorials.pytorch.kr/beginner/basics/saveloadrun_tutorial.html)한다."
      ]
    },
    {
      "cell_type": "code",
      "metadata": {
        "id": "N3NAhZdNkof2",
        "colab": {
          "base_uri": "https://localhost:8080/"
        },
        "outputId": "cf39e57a-839c-47f0-c742-4bd6c21c2271"
      },
      "source": [
        "!pip install torchinfo"
      ],
      "execution_count": 1,
      "outputs": [
        {
          "output_type": "stream",
          "name": "stdout",
          "text": [
            "Collecting torchinfo\n",
            "  Downloading torchinfo-1.5.3-py3-none-any.whl (19 kB)\n",
            "Installing collected packages: torchinfo\n",
            "Successfully installed torchinfo-1.5.3\n"
          ]
        }
      ]
    },
    {
      "cell_type": "code",
      "metadata": {
        "id": "LQL3tOhkeYIe"
      },
      "source": [
        "import torch\n",
        "from torch import nn\n",
        "from torch.utils.data import DataLoader\n",
        "from torchvision import datasets\n",
        "from torchvision import transforms\n",
        "from torchinfo import summary\n",
        "\n",
        "device = 'cuda' if torch.cuda.is_available() else 'cpu'\n",
        "#device = 'cpu'"
      ],
      "execution_count": 36,
      "outputs": []
    },
    {
      "cell_type": "code",
      "metadata": {
        "id": "_-vrWosOejsu"
      },
      "source": [
        "# parameters\n",
        "lr = 0.001\n",
        "epochs = 15\n",
        "batch_size = 128"
      ],
      "execution_count": 37,
      "outputs": []
    },
    {
      "cell_type": "code",
      "metadata": {
        "id": "dNMS3959enB_",
        "colab": {
          "base_uri": "https://localhost:8080/"
        },
        "outputId": "0d564876-ddbb-42b4-cb6b-66a41d1636e0"
      },
      "source": [
        "transform = transforms.Compose([\n",
        "    transforms.ToTensor(),\n",
        "    transforms.Normalize((0.5, 0.5, 0.5), (0.5, 0.5, 0.5)),\n",
        "])\n",
        "\n",
        "train_loader = DataLoader(\n",
        "    datasets.CIFAR10(root='./data', train=True, transform=transform, download=True),\n",
        "    batch_size=batch_size, shuffle=True)\n",
        "\n",
        "val_loader = torch.utils.data.DataLoader(\n",
        "    datasets.CIFAR10(root='./data', train=False, transform=transform),\n",
        "    batch_size=batch_size, shuffle=False)"
      ],
      "execution_count": 38,
      "outputs": [
        {
          "output_type": "stream",
          "name": "stdout",
          "text": [
            "Files already downloaded and verified\n"
          ]
        }
      ]
    },
    {
      "cell_type": "code",
      "metadata": {
        "id": "5X_ifRp_e6n3"
      },
      "source": [
        "classes = ['plane', 'car', 'bird', 'cat', 'deer', 'dog', 'frog', 'horse', 'ship', 'truck']"
      ],
      "execution_count": 39,
      "outputs": []
    },
    {
      "cell_type": "markdown",
      "metadata": {
        "id": "QrKEtZnBP8RB"
      },
      "source": [
        "feature [64, 64, M, 128, 128, M, 256, 256, 256, M, 512, 512, 512, M, 512, 512, 512, M] + classifier [AA, 4096, 4096, 1000]<br>\n",
        "feature<br>\n",
        "n(숫자) : filter의 수가 n개인 2d Conv Layer, kernel_size=3, padding=1<br>\n",
        "M : Max Pooling Layer, kernel_size=2, padding=2\n",
        "Conv Layer 이후의 activation func는 ReLU를 사용한다.\n",
        "classifier<br>\n",
        "AA : Adaptive Average Pooling(7x7)<br>\n",
        "n(숫자) : Linear(n unit)<br>"
      ]
    },
    {
      "cell_type": "code",
      "metadata": {
        "id": "41zysYalfU4Y",
        "colab": {
          "base_uri": "https://localhost:8080/"
        },
        "outputId": "ee8de3e5-1155-483d-d183-9e652b7a1e33"
      },
      "source": [
        "class VGG16(nn.Module):\n",
        "    def __init__(self, num_classes):\n",
        "        super(VGG16, self).__init__()\n",
        "        self.features = nn.Sequential(\n",
        "            nn.Conv2d(3, 64, kernel_size=3, padding=1),\n",
        "            nn.ReLU(inplace=True),\n",
        "            nn.Conv2d(64, 64, kernel_size=3, padding=1),\n",
        "            nn.ReLU(inplace=True),\n",
        "            nn.MaxPool2d(kernel_size=2, stride=2),\n",
        "            nn.Conv2d(64, 128, kernel_size=3, padding=1),\n",
        "            nn.ReLU(inplace=True),\n",
        "            nn.Conv2d(128, 128, kernel_size=3, padding=1),\n",
        "            nn.ReLU(inplace=True),\n",
        "            nn.MaxPool2d(kernel_size=2, stride=2),\n",
        "            nn.Conv2d(128, 256, kernel_size=3, padding=1),\n",
        "            nn.ReLU(inplace=True),\n",
        "            nn.Conv2d(256, 256, kernel_size=3, padding=1),\n",
        "            nn.ReLU(inplace=True),\n",
        "            nn.Conv2d(256, 256, kernel_size=3, padding=1),\n",
        "            nn.ReLU(inplace=True),\n",
        "            nn.MaxPool2d(kernel_size=2, stride=2),\n",
        "            nn.Conv2d(256, 512, kernel_size=3, padding=1),\n",
        "            nn.ReLU(inplace=True),\n",
        "            nn.Conv2d(512, 512, kernel_size=3, padding=1),\n",
        "            nn.ReLU(inplace=True),\n",
        "            nn.Conv2d(512, 512, kernel_size=3, padding=1),\n",
        "            nn.ReLU(inplace=True),\n",
        "            nn.MaxPool2d(kernel_size=2, stride=2),\n",
        "            nn.Conv2d(512, 512, kernel_size=3, padding=1),\n",
        "            nn.ReLU(inplace=True),\n",
        "            nn.Conv2d(512, 512, kernel_size=3, padding=1),\n",
        "            nn.ReLU(inplace=True),\n",
        "            nn.Conv2d(512, 512, kernel_size=3, padding=1),\n",
        "            nn.ReLU(inplace=True),\n",
        "            nn.MaxPool2d(kernel_size=2, stride=2)\n",
        "        )\n",
        "        self.avgpool = nn.AdaptiveAvgPool2d((7, 7))\n",
        "        self.classifier = nn.Sequential(\n",
        "            nn.Linear(512 * 7 * 7, 4096),\n",
        "            nn.ReLU(inplace=True),\n",
        "            nn.Dropout(),\n",
        "            nn.Linear(4096, 4096),\n",
        "            nn.ReLU(inplace=True),\n",
        "            nn.Dropout(),\n",
        "            nn.Linear(4096, num_classes),\n",
        "        )\n",
        "\n",
        "    def forward(self, x):\n",
        "        x = self.features(x)\n",
        "        x = self.avgpool(x)\n",
        "        x = torch.flatten(x, 1)\n",
        "        x = self.classifier(x)\n",
        "        return x\n",
        "        \n",
        "vgg16 = VGG16(10).to(device)\n",
        "summary(vgg16, input_size=(64, 3, 32, 32))"
      ],
      "execution_count": 40,
      "outputs": [
        {
          "output_type": "execute_result",
          "data": {
            "text/plain": [
              "==========================================================================================\n",
              "Layer (type:depth-idx)                   Output Shape              Param #\n",
              "==========================================================================================\n",
              "VGG16                                    --                        --\n",
              "├─Sequential: 1-1                        [64, 512, 1, 1]           --\n",
              "│    └─Conv2d: 2-1                       [64, 64, 32, 32]          1,792\n",
              "│    └─ReLU: 2-2                         [64, 64, 32, 32]          --\n",
              "│    └─Conv2d: 2-3                       [64, 64, 32, 32]          36,928\n",
              "│    └─ReLU: 2-4                         [64, 64, 32, 32]          --\n",
              "│    └─MaxPool2d: 2-5                    [64, 64, 16, 16]          --\n",
              "│    └─Conv2d: 2-6                       [64, 128, 16, 16]         73,856\n",
              "│    └─ReLU: 2-7                         [64, 128, 16, 16]         --\n",
              "│    └─Conv2d: 2-8                       [64, 128, 16, 16]         147,584\n",
              "│    └─ReLU: 2-9                         [64, 128, 16, 16]         --\n",
              "│    └─MaxPool2d: 2-10                   [64, 128, 8, 8]           --\n",
              "│    └─Conv2d: 2-11                      [64, 256, 8, 8]           295,168\n",
              "│    └─ReLU: 2-12                        [64, 256, 8, 8]           --\n",
              "│    └─Conv2d: 2-13                      [64, 256, 8, 8]           590,080\n",
              "│    └─ReLU: 2-14                        [64, 256, 8, 8]           --\n",
              "│    └─Conv2d: 2-15                      [64, 256, 8, 8]           590,080\n",
              "│    └─ReLU: 2-16                        [64, 256, 8, 8]           --\n",
              "│    └─MaxPool2d: 2-17                   [64, 256, 4, 4]           --\n",
              "│    └─Conv2d: 2-18                      [64, 512, 4, 4]           1,180,160\n",
              "│    └─ReLU: 2-19                        [64, 512, 4, 4]           --\n",
              "│    └─Conv2d: 2-20                      [64, 512, 4, 4]           2,359,808\n",
              "│    └─ReLU: 2-21                        [64, 512, 4, 4]           --\n",
              "│    └─Conv2d: 2-22                      [64, 512, 4, 4]           2,359,808\n",
              "│    └─ReLU: 2-23                        [64, 512, 4, 4]           --\n",
              "│    └─MaxPool2d: 2-24                   [64, 512, 2, 2]           --\n",
              "│    └─Conv2d: 2-25                      [64, 512, 2, 2]           2,359,808\n",
              "│    └─ReLU: 2-26                        [64, 512, 2, 2]           --\n",
              "│    └─Conv2d: 2-27                      [64, 512, 2, 2]           2,359,808\n",
              "│    └─ReLU: 2-28                        [64, 512, 2, 2]           --\n",
              "│    └─Conv2d: 2-29                      [64, 512, 2, 2]           2,359,808\n",
              "│    └─ReLU: 2-30                        [64, 512, 2, 2]           --\n",
              "│    └─MaxPool2d: 2-31                   [64, 512, 1, 1]           --\n",
              "├─AdaptiveAvgPool2d: 1-2                 [64, 512, 7, 7]           --\n",
              "├─Sequential: 1-3                        [64, 10]                  --\n",
              "│    └─Linear: 2-32                      [64, 4096]                102,764,544\n",
              "│    └─ReLU: 2-33                        [64, 4096]                --\n",
              "│    └─Dropout: 2-34                     [64, 4096]                --\n",
              "│    └─Linear: 2-35                      [64, 4096]                16,781,312\n",
              "│    └─ReLU: 2-36                        [64, 4096]                --\n",
              "│    └─Dropout: 2-37                     [64, 4096]                --\n",
              "│    └─Linear: 2-38                      [64, 10]                  40,970\n",
              "==========================================================================================\n",
              "Total params: 134,301,514\n",
              "Trainable params: 134,301,514\n",
              "Non-trainable params: 0\n",
              "Total mult-adds (G): 27.72\n",
              "==========================================================================================\n",
              "Input size (MB): 0.79\n",
              "Forward/backward pass size (MB): 145.76\n",
              "Params size (MB): 537.21\n",
              "Estimated Total Size (MB): 683.75\n",
              "=========================================================================================="
            ]
          },
          "metadata": {},
          "execution_count": 40
        }
      ]
    },
    {
      "cell_type": "code",
      "metadata": {
        "colab": {
          "base_uri": "https://localhost:8080/"
        },
        "id": "0nNuLRbn0QJA",
        "outputId": "e9cad505-0b22-4ebe-a228-39344e022a83"
      },
      "source": [
        "summary(vgg16, input_size=(64, 3, 32, 32))"
      ],
      "execution_count": 41,
      "outputs": [
        {
          "output_type": "execute_result",
          "data": {
            "text/plain": [
              "==========================================================================================\n",
              "Layer (type:depth-idx)                   Output Shape              Param #\n",
              "==========================================================================================\n",
              "VGG16                                    --                        --\n",
              "├─Sequential: 1-1                        [64, 512, 1, 1]           --\n",
              "│    └─Conv2d: 2-1                       [64, 64, 32, 32]          1,792\n",
              "│    └─ReLU: 2-2                         [64, 64, 32, 32]          --\n",
              "│    └─Conv2d: 2-3                       [64, 64, 32, 32]          36,928\n",
              "│    └─ReLU: 2-4                         [64, 64, 32, 32]          --\n",
              "│    └─MaxPool2d: 2-5                    [64, 64, 16, 16]          --\n",
              "│    └─Conv2d: 2-6                       [64, 128, 16, 16]         73,856\n",
              "│    └─ReLU: 2-7                         [64, 128, 16, 16]         --\n",
              "│    └─Conv2d: 2-8                       [64, 128, 16, 16]         147,584\n",
              "│    └─ReLU: 2-9                         [64, 128, 16, 16]         --\n",
              "│    └─MaxPool2d: 2-10                   [64, 128, 8, 8]           --\n",
              "│    └─Conv2d: 2-11                      [64, 256, 8, 8]           295,168\n",
              "│    └─ReLU: 2-12                        [64, 256, 8, 8]           --\n",
              "│    └─Conv2d: 2-13                      [64, 256, 8, 8]           590,080\n",
              "│    └─ReLU: 2-14                        [64, 256, 8, 8]           --\n",
              "│    └─Conv2d: 2-15                      [64, 256, 8, 8]           590,080\n",
              "│    └─ReLU: 2-16                        [64, 256, 8, 8]           --\n",
              "│    └─MaxPool2d: 2-17                   [64, 256, 4, 4]           --\n",
              "│    └─Conv2d: 2-18                      [64, 512, 4, 4]           1,180,160\n",
              "│    └─ReLU: 2-19                        [64, 512, 4, 4]           --\n",
              "│    └─Conv2d: 2-20                      [64, 512, 4, 4]           2,359,808\n",
              "│    └─ReLU: 2-21                        [64, 512, 4, 4]           --\n",
              "│    └─Conv2d: 2-22                      [64, 512, 4, 4]           2,359,808\n",
              "│    └─ReLU: 2-23                        [64, 512, 4, 4]           --\n",
              "│    └─MaxPool2d: 2-24                   [64, 512, 2, 2]           --\n",
              "│    └─Conv2d: 2-25                      [64, 512, 2, 2]           2,359,808\n",
              "│    └─ReLU: 2-26                        [64, 512, 2, 2]           --\n",
              "│    └─Conv2d: 2-27                      [64, 512, 2, 2]           2,359,808\n",
              "│    └─ReLU: 2-28                        [64, 512, 2, 2]           --\n",
              "│    └─Conv2d: 2-29                      [64, 512, 2, 2]           2,359,808\n",
              "│    └─ReLU: 2-30                        [64, 512, 2, 2]           --\n",
              "│    └─MaxPool2d: 2-31                   [64, 512, 1, 1]           --\n",
              "├─AdaptiveAvgPool2d: 1-2                 [64, 512, 7, 7]           --\n",
              "├─Sequential: 1-3                        [64, 10]                  --\n",
              "│    └─Linear: 2-32                      [64, 4096]                102,764,544\n",
              "│    └─ReLU: 2-33                        [64, 4096]                --\n",
              "│    └─Dropout: 2-34                     [64, 4096]                --\n",
              "│    └─Linear: 2-35                      [64, 4096]                16,781,312\n",
              "│    └─ReLU: 2-36                        [64, 4096]                --\n",
              "│    └─Dropout: 2-37                     [64, 4096]                --\n",
              "│    └─Linear: 2-38                      [64, 10]                  40,970\n",
              "==========================================================================================\n",
              "Total params: 134,301,514\n",
              "Trainable params: 134,301,514\n",
              "Non-trainable params: 0\n",
              "Total mult-adds (G): 27.72\n",
              "==========================================================================================\n",
              "Input size (MB): 0.79\n",
              "Forward/backward pass size (MB): 145.76\n",
              "Params size (MB): 537.21\n",
              "Estimated Total Size (MB): 683.75\n",
              "=========================================================================================="
            ]
          },
          "metadata": {},
          "execution_count": 41
        }
      ]
    },
    {
      "cell_type": "code",
      "metadata": {
        "id": "4AOhCdjrlIkk"
      },
      "source": [
        "criterion = nn.CrossEntropyLoss().to(device) # loss func\n",
        "optimizer = torch.optim.Adam(vgg16.parameters(), lr=0.001) # optimizer\n",
        "lr_sche = torch.optim.lr_scheduler.StepLR(optimizer, step_size=5, gamma=0.9) # learning rate scheduler"
      ],
      "execution_count": 42,
      "outputs": []
    },
    {
      "cell_type": "code",
      "metadata": {
        "id": "lXHsUjlOtY1w"
      },
      "source": [
        "def train_loop(dataloader, model, loss_fn, optimizer):\n",
        "    size = len(dataloader.dataset)\n",
        "    num_batches = len(dataloader)\n",
        "    total_loss, total_acc = 0, 0\n",
        "    \n",
        "    for batch, (X, y) in enumerate(dataloader):\n",
        "        # 예측(prediction)과 손실(loss) 계산\n",
        "        X, y = X.to(device).float(), y.to(device)\n",
        "        pred = model(X)\n",
        "        loss = loss_fn(pred, y)\n",
        "\n",
        "        # 역전파\n",
        "        optimizer.zero_grad()\n",
        "        loss.backward()\n",
        "        optimizer.step()\n",
        "\n",
        "\n",
        "        # train loss, train acc 계산\n",
        "        total_loss += loss.item()\n",
        "        total_acc += (pred.argmax(1) == y).type(torch.float).sum().item()\n",
        "\n",
        "        if batch % 100 == 0:\n",
        "            loss, current = loss.item(), batch * len(X)\n",
        "            print(f\"loss: {loss:>7f}  [{current:>5d}/{size:>5d}]\")\n",
        "\n",
        "    return total_loss / num_batches, total_acc / size\n",
        "\n",
        "def test_loop(dataloader, model, loss_fn):\n",
        "    size = len(dataloader.dataset)\n",
        "    num_batches = len(dataloader)\n",
        "    test_loss, correct = 0, 0\n",
        "\n",
        "    with torch.no_grad():\n",
        "        for X, y in dataloader:\n",
        "            X, y = X.to(device).float(), y.to(device)\n",
        "            pred = model(X)\n",
        "            test_loss += loss_fn(pred, y).item()\n",
        "            correct += (pred.argmax(1) == y).type(torch.float).sum().item()\n",
        "\n",
        "    return test_loss / num_batches, correct / size\n",
        "\n",
        "def fit(model, train_loader, validation_loader, loss_fun, optimizer):\n",
        "    history = {key: [] for key in ['acc', 'val_acc', 'loss', 'val_loss']}\n",
        "    for t in range(epochs):  \n",
        "        print(f\"Epoch {t+1}/{epochs}\\n-------------------------------\")\n",
        "        _loss, _acc = train_loop(train_loader, model, loss_fun, optimizer)\n",
        "        _val_loss, _val_acc = test_loop(val_loader, model, loss_fun)\n",
        "        print(f\"loss: {_loss:>.5f} - accuracy: {_acc:>.5f} - val_loss: {_val_loss:>.5f} - val_accuracy: {_val_acc:>.5f}\\n\")\n",
        "\n",
        "        for key, value in zip(['acc', 'val_acc', 'loss', 'val_loss'], \n",
        "                              [_acc, _val_acc, _loss, _val_loss]):\n",
        "            history[key].append(value)\n",
        "    return history"
      ],
      "execution_count": 43,
      "outputs": []
    },
    {
      "cell_type": "code",
      "metadata": {
        "id": "DdQ5J-t5uRew"
      },
      "source": [
        "import matplotlib.pyplot as plt\n",
        "\n",
        "def show_train_history(history):\n",
        "    fig, axes = plt.subplots(1, 2, figsize=(10, 4))\n",
        "    for ax, key in zip(axes, ['acc', 'loss']):\n",
        "        ax.plot(history[key], 'r', label='train')\n",
        "        ax.plot(history['val_' + key], 'b', label='validation')\n",
        "        ax.legend()\n",
        "        ax.set_title(key)\n",
        "    plt.show()"
      ],
      "execution_count": 44,
      "outputs": []
    },
    {
      "cell_type": "code",
      "metadata": {
        "id": "U_oKzB-huU9t",
        "colab": {
          "base_uri": "https://localhost:8080/",
          "height": 396
        },
        "outputId": "b75ac9bc-b0ae-4d02-f939-4b3b545bebcf"
      },
      "source": [
        "history = fit(vgg16, train_loader, val_loader, criterion, optimizer)\n",
        "show_train_history(history)"
      ],
      "execution_count": 46,
      "outputs": [
        {
          "output_type": "stream",
          "name": "stdout",
          "text": [
            "Epoch 1/15\n",
            "-------------------------------\n",
            "loss: 2.303402  [    0/50000]\n"
          ]
        },
        {
          "output_type": "error",
          "ename": "KeyboardInterrupt",
          "evalue": "ignored",
          "traceback": [
            "\u001b[0;31m---------------------------------------------------------------------------\u001b[0m",
            "\u001b[0;31mKeyboardInterrupt\u001b[0m                         Traceback (most recent call last)",
            "\u001b[0;32m<ipython-input-46-01968c494443>\u001b[0m in \u001b[0;36m<module>\u001b[0;34m()\u001b[0m\n\u001b[0;32m----> 1\u001b[0;31m \u001b[0mhistory\u001b[0m \u001b[0;34m=\u001b[0m \u001b[0mfit\u001b[0m\u001b[0;34m(\u001b[0m\u001b[0mvgg16\u001b[0m\u001b[0;34m,\u001b[0m \u001b[0mtrain_loader\u001b[0m\u001b[0;34m,\u001b[0m \u001b[0mval_loader\u001b[0m\u001b[0;34m,\u001b[0m \u001b[0mcriterion\u001b[0m\u001b[0;34m,\u001b[0m \u001b[0moptimizer\u001b[0m\u001b[0;34m)\u001b[0m\u001b[0;34m\u001b[0m\u001b[0;34m\u001b[0m\u001b[0m\n\u001b[0m\u001b[1;32m      2\u001b[0m \u001b[0mshow_train_history\u001b[0m\u001b[0;34m(\u001b[0m\u001b[0mhistory\u001b[0m\u001b[0;34m)\u001b[0m\u001b[0;34m\u001b[0m\u001b[0;34m\u001b[0m\u001b[0m\n",
            "\u001b[0;32m<ipython-input-43-ceaa19e5c0b2>\u001b[0m in \u001b[0;36mfit\u001b[0;34m(model, train_loader, validation_loader, loss_fun, optimizer)\u001b[0m\n\u001b[1;32m     44\u001b[0m     \u001b[0;32mfor\u001b[0m \u001b[0mt\u001b[0m \u001b[0;32min\u001b[0m \u001b[0mrange\u001b[0m\u001b[0;34m(\u001b[0m\u001b[0mepochs\u001b[0m\u001b[0;34m)\u001b[0m\u001b[0;34m:\u001b[0m\u001b[0;34m\u001b[0m\u001b[0;34m\u001b[0m\u001b[0m\n\u001b[1;32m     45\u001b[0m         \u001b[0mprint\u001b[0m\u001b[0;34m(\u001b[0m\u001b[0;34mf\"Epoch {t+1}/{epochs}\\n-------------------------------\"\u001b[0m\u001b[0;34m)\u001b[0m\u001b[0;34m\u001b[0m\u001b[0;34m\u001b[0m\u001b[0m\n\u001b[0;32m---> 46\u001b[0;31m         \u001b[0m_loss\u001b[0m\u001b[0;34m,\u001b[0m \u001b[0m_acc\u001b[0m \u001b[0;34m=\u001b[0m \u001b[0mtrain_loop\u001b[0m\u001b[0;34m(\u001b[0m\u001b[0mtrain_loader\u001b[0m\u001b[0;34m,\u001b[0m \u001b[0mmodel\u001b[0m\u001b[0;34m,\u001b[0m \u001b[0mloss_fun\u001b[0m\u001b[0;34m,\u001b[0m \u001b[0moptimizer\u001b[0m\u001b[0;34m)\u001b[0m\u001b[0;34m\u001b[0m\u001b[0;34m\u001b[0m\u001b[0m\n\u001b[0m\u001b[1;32m     47\u001b[0m         \u001b[0m_val_loss\u001b[0m\u001b[0;34m,\u001b[0m \u001b[0m_val_acc\u001b[0m \u001b[0;34m=\u001b[0m \u001b[0mtest_loop\u001b[0m\u001b[0;34m(\u001b[0m\u001b[0mval_loader\u001b[0m\u001b[0;34m,\u001b[0m \u001b[0mmodel\u001b[0m\u001b[0;34m,\u001b[0m \u001b[0mloss_fun\u001b[0m\u001b[0;34m)\u001b[0m\u001b[0;34m\u001b[0m\u001b[0;34m\u001b[0m\u001b[0m\n\u001b[1;32m     48\u001b[0m         \u001b[0mprint\u001b[0m\u001b[0;34m(\u001b[0m\u001b[0;34mf\"loss: {_loss:>.5f} - accuracy: {_acc:>.5f} - val_loss: {_val_loss:>.5f} - val_accuracy: {_val_acc:>.5f}\\n\"\u001b[0m\u001b[0;34m)\u001b[0m\u001b[0;34m\u001b[0m\u001b[0;34m\u001b[0m\u001b[0m\n",
            "\u001b[0;32m<ipython-input-43-ceaa19e5c0b2>\u001b[0m in \u001b[0;36mtrain_loop\u001b[0;34m(dataloader, model, loss_fn, optimizer)\u001b[0m\n\u001b[1;32m     12\u001b[0m         \u001b[0;31m# 역전파\u001b[0m\u001b[0;34m\u001b[0m\u001b[0;34m\u001b[0m\u001b[0;34m\u001b[0m\u001b[0m\n\u001b[1;32m     13\u001b[0m         \u001b[0moptimizer\u001b[0m\u001b[0;34m.\u001b[0m\u001b[0mzero_grad\u001b[0m\u001b[0;34m(\u001b[0m\u001b[0;34m)\u001b[0m\u001b[0;34m\u001b[0m\u001b[0;34m\u001b[0m\u001b[0m\n\u001b[0;32m---> 14\u001b[0;31m         \u001b[0mloss\u001b[0m\u001b[0;34m.\u001b[0m\u001b[0mbackward\u001b[0m\u001b[0;34m(\u001b[0m\u001b[0;34m)\u001b[0m\u001b[0;34m\u001b[0m\u001b[0;34m\u001b[0m\u001b[0m\n\u001b[0m\u001b[1;32m     15\u001b[0m         \u001b[0moptimizer\u001b[0m\u001b[0;34m.\u001b[0m\u001b[0mstep\u001b[0m\u001b[0;34m(\u001b[0m\u001b[0;34m)\u001b[0m\u001b[0;34m\u001b[0m\u001b[0;34m\u001b[0m\u001b[0m\n\u001b[1;32m     16\u001b[0m \u001b[0;34m\u001b[0m\u001b[0m\n",
            "\u001b[0;32m/usr/local/lib/python3.7/dist-packages/torch/_tensor.py\u001b[0m in \u001b[0;36mbackward\u001b[0;34m(self, gradient, retain_graph, create_graph, inputs)\u001b[0m\n\u001b[1;32m    253\u001b[0m                 \u001b[0mcreate_graph\u001b[0m\u001b[0;34m=\u001b[0m\u001b[0mcreate_graph\u001b[0m\u001b[0;34m,\u001b[0m\u001b[0;34m\u001b[0m\u001b[0;34m\u001b[0m\u001b[0m\n\u001b[1;32m    254\u001b[0m                 inputs=inputs)\n\u001b[0;32m--> 255\u001b[0;31m         \u001b[0mtorch\u001b[0m\u001b[0;34m.\u001b[0m\u001b[0mautograd\u001b[0m\u001b[0;34m.\u001b[0m\u001b[0mbackward\u001b[0m\u001b[0;34m(\u001b[0m\u001b[0mself\u001b[0m\u001b[0;34m,\u001b[0m \u001b[0mgradient\u001b[0m\u001b[0;34m,\u001b[0m \u001b[0mretain_graph\u001b[0m\u001b[0;34m,\u001b[0m \u001b[0mcreate_graph\u001b[0m\u001b[0;34m,\u001b[0m \u001b[0minputs\u001b[0m\u001b[0;34m=\u001b[0m\u001b[0minputs\u001b[0m\u001b[0;34m)\u001b[0m\u001b[0;34m\u001b[0m\u001b[0;34m\u001b[0m\u001b[0m\n\u001b[0m\u001b[1;32m    256\u001b[0m \u001b[0;34m\u001b[0m\u001b[0m\n\u001b[1;32m    257\u001b[0m     \u001b[0;32mdef\u001b[0m \u001b[0mregister_hook\u001b[0m\u001b[0;34m(\u001b[0m\u001b[0mself\u001b[0m\u001b[0;34m,\u001b[0m \u001b[0mhook\u001b[0m\u001b[0;34m)\u001b[0m\u001b[0;34m:\u001b[0m\u001b[0;34m\u001b[0m\u001b[0;34m\u001b[0m\u001b[0m\n",
            "\u001b[0;32m/usr/local/lib/python3.7/dist-packages/torch/autograd/__init__.py\u001b[0m in \u001b[0;36mbackward\u001b[0;34m(tensors, grad_tensors, retain_graph, create_graph, grad_variables, inputs)\u001b[0m\n\u001b[1;32m    147\u001b[0m     Variable._execution_engine.run_backward(\n\u001b[1;32m    148\u001b[0m         \u001b[0mtensors\u001b[0m\u001b[0;34m,\u001b[0m \u001b[0mgrad_tensors_\u001b[0m\u001b[0;34m,\u001b[0m \u001b[0mretain_graph\u001b[0m\u001b[0;34m,\u001b[0m \u001b[0mcreate_graph\u001b[0m\u001b[0;34m,\u001b[0m \u001b[0minputs\u001b[0m\u001b[0;34m,\u001b[0m\u001b[0;34m\u001b[0m\u001b[0;34m\u001b[0m\u001b[0m\n\u001b[0;32m--> 149\u001b[0;31m         allow_unreachable=True, accumulate_grad=True)  # allow_unreachable flag\n\u001b[0m\u001b[1;32m    150\u001b[0m \u001b[0;34m\u001b[0m\u001b[0m\n\u001b[1;32m    151\u001b[0m \u001b[0;34m\u001b[0m\u001b[0m\n",
            "\u001b[0;31mKeyboardInterrupt\u001b[0m: "
          ]
        }
      ]
    },
    {
      "cell_type": "markdown",
      "metadata": {
        "id": "lGibE3WOVqeD"
      },
      "source": [
        "![image.png](data:image/png;base64,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)"
      ]
    },
    {
      "cell_type": "markdown",
      "metadata": {
        "id": "z_9QA-69UtKD"
      },
      "source": [
        "CPU로 진행했는데 여기서 거의 40분동안 1 epoch을 넘어가지를 못했다. 따라서 15 epochs를 돌리는데 하루종일 걸릴 수도 있다고 판단되서 중지하고 이후의 결과는 정답지를 통해 마저 확인하기로 했다."
      ]
    },
    {
      "cell_type": "code",
      "metadata": {
        "id": "UoiT_KhF5LUW"
      },
      "source": [
        "torch.save(vgg16, 'vgg16.pt') # 전체 모델 저장"
      ],
      "execution_count": null,
      "outputs": []
    },
    {
      "cell_type": "code",
      "metadata": {
        "id": "DdVCZr4O5NjU"
      },
      "source": [
        "vgg16_loded = torch.load('vgg16.pt')\n",
        "vgg16_loded"
      ],
      "execution_count": null,
      "outputs": []
    },
    {
      "cell_type": "markdown",
      "metadata": {
        "id": "2O44N0CkW3HS"
      },
      "source": [
        "## 회고\n",
        "\n",
        "아직 torch가 익숙치 않다. 앞으로 공부해야 할 것이 많아보인다. learning schedule을 설정하는 것은 여러모로 상당히 유용하다고 생각된다. 다양한 방법들이 존재하던데 어떤 차이가 있는지 궁금하다."
      ]
    }
  ]
}