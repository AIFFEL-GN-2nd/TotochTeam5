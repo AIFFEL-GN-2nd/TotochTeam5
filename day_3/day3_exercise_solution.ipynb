{
 "cells": [
  {
   "cell_type": "markdown",
   "metadata": {
    "id": "YZaY21mGeRfi"
   },
   "source": [
    "# 이웃집 토토치 파이토치 : Day 3\n",
    "---"
   ]
  },
  {
   "cell_type": "markdown",
   "metadata": {
    "id": "cuSAAxKLm2BY"
   },
   "source": [
    "<div class=\"alert alert-info\">\n",
    "    <p>📢 해당 게시물은 <a href=\"https://tutorials.pytorch.kr/beginner/basics/intro.html\">파이토치 기본 익히기</a>와 torchvision에서 제공하는 <a href=\"https://github.com/pytorch/vision/blob/main/torchvision/models/vgg.py\">vgg 모델</a>을 재구성하여 작성되었습니다.</p>\n",
    "</div>"
   ]
  },
  {
   "cell_type": "markdown",
   "metadata": {
    "id": "QIYwW_fdnRIV"
   },
   "source": [
    "## VGG16 작성 및 학습\n",
    "\n",
    "![](https://miro.medium.com/max/700/1*gU5m4XO2awEM6Zp4DkirFA.png)\n",
    "\n",
    "오늘은 VGG16 모델을 CIFAR-10 데이터를 학습 시켜볼 수 있는 이미지 분류기로 정의하고 이를 학습시켜 보고자 합니다.\n",
    "\n",
    "작성해야하는 분류기와 학습 환경에 대한 조건은 다음과 같습니다.\n",
    "\n",
    "- transforms : 정규화만을 진행한다.\n",
    "- 모델 구조 : 입력 이미지의 형상이 (3, 32, 32)이므로 아래의 구조를 따르도록 한다.\n",
    "    - feature [32, 32, M, 64, 64, M, 128, 128, 128, M, 256, 256, 256, M, 512, 512, 512, M] + classifier [AA, 4096, 4096, 1000]\n",
    "    - feature\n",
    "        - n(숫자) : filter의 수가 n개인 2d Conv Layer, `kernel_size=3`, `padding=1`\n",
    "        - M : Max Pooling Layer, `kernel_size=2`, `padding=2`\n",
    "        - Conv Layer 이후의 activation func는 ReLU를 사용한다.\n",
    "    - classifier\n",
    "        - AA : Adaptive Average Pooling(7x7)\n",
    "        - n(숫자) : Linear(n unit)\n",
    "- loss 함수 : CrossEntropyLoss\n",
    "- optimizer = SGD, lr = 0.005, momentum=0.9\n",
    "    - StepLR를 사용하여 5 step 마다 lr를 0.9배씩 줄이며 학습시킨다.\n",
    "- 학습 과정에서 train set과 test set에 대한 loss와 accuracy를 출력하고, 학습 종료 후 matrix의 변화를 plot으로 출력한다.\n",
    "- 학습이 완료된 모델을 `my_vgg16`이라는 이름으로 [저장](https://tutorials.pytorch.kr/beginner/basics/saveloadrun_tutorial.html)한다."
   ]
  },
  {
   "cell_type": "code",
   "execution_count": 1,
   "metadata": {
    "colab": {
     "base_uri": "https://localhost:8080/"
    },
    "id": "N3NAhZdNkof2",
    "outputId": "7b480278-6fed-416c-bb7b-fb159f842eb2"
   },
   "outputs": [
    {
     "name": "stdout",
     "output_type": "stream",
     "text": [
      "Requirement already satisfied: torchinfo in /opt/conda/lib/python3.7/site-packages (1.5.3)\n",
      "\u001b[33mWARNING: You are using pip version 20.3.3; however, version 21.2.4 is available.\n",
      "You should consider upgrading via the '/opt/conda/bin/python3.7 -m pip install --upgrade pip' command.\u001b[0m\n"
     ]
    }
   ],
   "source": [
    "!pip install torchinfo"
   ]
  },
  {
   "cell_type": "code",
   "execution_count": 2,
   "metadata": {
    "execution": {
     "iopub.execute_input": "2021-10-05T22:02:51.353046Z",
     "iopub.status.busy": "2021-10-05T22:02:51.352050Z",
     "iopub.status.idle": "2021-10-05T22:02:57.496717Z",
     "shell.execute_reply": "2021-10-05T22:02:57.493719Z",
     "shell.execute_reply.started": "2021-10-05T22:02:51.353046Z"
    },
    "id": "LQL3tOhkeYIe",
    "tags": []
   },
   "outputs": [],
   "source": [
    "import torch\n",
    "from torch import nn\n",
    "from torch.utils.data import DataLoader\n",
    "from torchvision import datasets\n",
    "from torchvision import transforms\n",
    "from torchinfo import summary\n",
    "\n",
    "device = 'cuda' if torch.cuda.is_available() else 'cpu'"
   ]
  },
  {
   "cell_type": "code",
   "execution_count": 3,
   "metadata": {
    "execution": {
     "iopub.execute_input": "2021-10-05T22:02:57.502704Z",
     "iopub.status.busy": "2021-10-05T22:02:57.500711Z",
     "iopub.status.idle": "2021-10-05T22:02:57.527637Z",
     "shell.execute_reply": "2021-10-05T22:02:57.523645Z",
     "shell.execute_reply.started": "2021-10-05T22:02:57.501709Z"
    },
    "id": "_-vrWosOejsu",
    "tags": []
   },
   "outputs": [],
   "source": [
    "# parameters\n",
    "lr = 0.001\n",
    "epochs = 15\n",
    "batch_size = 128"
   ]
  },
  {
   "cell_type": "code",
   "execution_count": 4,
   "metadata": {
    "colab": {
     "base_uri": "https://localhost:8080/"
    },
    "execution": {
     "iopub.execute_input": "2021-10-05T22:03:41.916555Z",
     "iopub.status.busy": "2021-10-05T22:03:41.916555Z",
     "iopub.status.idle": "2021-10-05T22:03:42.568516Z",
     "shell.execute_reply": "2021-10-05T22:03:42.566520Z",
     "shell.execute_reply.started": "2021-10-05T22:03:41.916555Z"
    },
    "id": "dNMS3959enB_",
    "outputId": "7e980501-707d-4830-f4a4-a7bfe973c62d",
    "tags": []
   },
   "outputs": [
    {
     "name": "stdout",
     "output_type": "stream",
     "text": [
      "Files already downloaded and verified\n"
     ]
    }
   ],
   "source": [
    "transform = transforms.Compose([\n",
    "    transforms.ToTensor(),\n",
    "    transforms.Normalize((0.5, 0.5, 0.5), (0.5, 0.5, 0.5)),\n",
    "])\n",
    "\n",
    "train_loader = DataLoader(\n",
    "    datasets.CIFAR10(root='./data', train=True, transform=transform, download=True),\n",
    "    batch_size=batch_size, shuffle=True)\n",
    "\n",
    "val_loader = torch.utils.data.DataLoader(\n",
    "    datasets.CIFAR10(root='./data', train=False, transform=transform),\n",
    "    batch_size=batch_size, shuffle=False)"
   ]
  },
  {
   "cell_type": "code",
   "execution_count": 5,
   "metadata": {
    "execution": {
     "iopub.status.busy": "2021-10-05T21:42:10.650915Z",
     "iopub.status.idle": "2021-10-05T21:42:10.651913Z",
     "shell.execute_reply": "2021-10-05T21:42:10.650915Z"
    },
    "id": "5X_ifRp_e6n3"
   },
   "outputs": [],
   "source": [
    "classes = ['plane', 'car', 'bird', 'cat', 'deer', 'dog', 'frog', 'horse', 'ship', 'truck']"
   ]
  },
  {
   "cell_type": "markdown",
   "metadata": {},
   "source": [
    "- 모델 정의"
   ]
  },
  {
   "cell_type": "code",
   "execution_count": null,
   "metadata": {
    "id": "41zysYalfU4Y"
   },
   "outputs": [],
   "source": [
    "class VGG16(nn.Module):\n",
    "    def __init__(self, num_classes):\n",
    "        super(VGG16, self).__init__()\n",
    "        self.features = nn.Sequential(\n",
    "            nn.Conv2d(3, 64, kernel_size=3, padding=1),\n",
    "            nn.ReLU(inplace=True),\n",
    "            nn.Conv2d(64, 64, kernel_size=3, padding=1),\n",
    "            nn.ReLU(inplace=True),\n",
    "            nn.MaxPool2d(kernel_size=2, stride=2),\n",
    "            nn.Conv2d(64, 128, kernel_size=3, padding=1),\n",
    "            nn.ReLU(inplace=True),\n",
    "            nn.Conv2d(128, 128, kernel_size=3, padding=1),\n",
    "            nn.ReLU(inplace=True),\n",
    "            nn.MaxPool2d(kernel_size=2, stride=2),\n",
    "            nn.Conv2d(128, 256, kernel_size=3, padding=1),\n",
    "            nn.ReLU(inplace=True),\n",
    "            nn.Conv2d(256, 256, kernel_size=3, padding=1),\n",
    "            nn.ReLU(inplace=True),\n",
    "            nn.Conv2d(256, 256, kernel_size=3, padding=1),\n",
    "            nn.ReLU(inplace=True),\n",
    "            nn.MaxPool2d(kernel_size=2, stride=2),\n",
    "            nn.Conv2d(256, 512, kernel_size=3, padding=1),\n",
    "            nn.ReLU(inplace=True),\n",
    "            nn.Conv2d(512, 512, kernel_size=3, padding=1),\n",
    "            nn.ReLU(inplace=True),\n",
    "            nn.Conv2d(512, 512, kernel_size=3, padding=1),\n",
    "            nn.ReLU(inplace=True),\n",
    "            nn.MaxPool2d(kernel_size=2, stride=2),\n",
    "            nn.Conv2d(512, 512, kernel_size=3, padding=1),\n",
    "            nn.ReLU(inplace=True),\n",
    "            nn.Conv2d(512, 512, kernel_size=3, padding=1),\n",
    "            nn.ReLU(inplace=True),\n",
    "            nn.Conv2d(512, 512, kernel_size=3, padding=1),\n",
    "            nn.ReLU(inplace=True),\n",
    "            nn.MaxPool2d(kernel_size=2, stride=2)\n",
    "        )\n",
    "        self.avgpool = nn.AdaptiveAvgPool2d((7, 7))\n",
    "        self.classifier = nn.Sequential(\n",
    "            nn.Linear(512 * 7 * 7, 4096),\n",
    "            nn.ReLU(inplace=True),\n",
    "            nn.Dropout(),\n",
    "            nn.Linear(4096, 4096),\n",
    "            nn.ReLU(inplace=True),\n",
    "            nn.Dropout(),\n",
    "            nn.Linear(4096, num_classes),\n",
    "        )\n",
    "\n",
    "    def forward(self, x):\n",
    "        x = self.features(x)\n",
    "        x = self.avgpool(x)\n",
    "        x = torch.flatten(x, 1)\n",
    "        x = self.classifier(x)\n",
    "        return x\n",
    "        \n",
    "vgg16 = VGG16(10).to(device)\n",
    "summary(vgg16, input_size=(64, 3, 32, 32))"
   ]
  },
  {
   "cell_type": "code",
   "execution_count": 37,
   "metadata": {},
   "outputs": [
    {
     "data": {
      "text/plain": [
       "==========================================================================================\n",
       "Layer (type:depth-idx)                   Output Shape              Param #\n",
       "==========================================================================================\n",
       "VGG16                                    --                        --\n",
       "├─Sequential: 1-1                        [64, 512, 1, 1]           --\n",
       "│    └─Conv2d: 2-1                       [64, 64, 32, 32]          1,792\n",
       "│    └─ReLU: 2-2                         [64, 64, 32, 32]          --\n",
       "│    └─Conv2d: 2-3                       [64, 64, 32, 32]          36,928\n",
       "│    └─ReLU: 2-4                         [64, 64, 32, 32]          --\n",
       "│    └─MaxPool2d: 2-5                    [64, 64, 16, 16]          --\n",
       "│    └─Conv2d: 2-6                       [64, 128, 16, 16]         73,856\n",
       "│    └─ReLU: 2-7                         [64, 128, 16, 16]         --\n",
       "│    └─Conv2d: 2-8                       [64, 128, 16, 16]         147,584\n",
       "│    └─ReLU: 2-9                         [64, 128, 16, 16]         --\n",
       "│    └─MaxPool2d: 2-10                   [64, 128, 8, 8]           --\n",
       "│    └─Conv2d: 2-11                      [64, 256, 8, 8]           295,168\n",
       "│    └─ReLU: 2-12                        [64, 256, 8, 8]           --\n",
       "│    └─Conv2d: 2-13                      [64, 256, 8, 8]           590,080\n",
       "│    └─ReLU: 2-14                        [64, 256, 8, 8]           --\n",
       "│    └─Conv2d: 2-15                      [64, 256, 8, 8]           590,080\n",
       "│    └─ReLU: 2-16                        [64, 256, 8, 8]           --\n",
       "│    └─MaxPool2d: 2-17                   [64, 256, 4, 4]           --\n",
       "│    └─Conv2d: 2-18                      [64, 512, 4, 4]           1,180,160\n",
       "│    └─ReLU: 2-19                        [64, 512, 4, 4]           --\n",
       "│    └─Conv2d: 2-20                      [64, 512, 4, 4]           2,359,808\n",
       "│    └─ReLU: 2-21                        [64, 512, 4, 4]           --\n",
       "│    └─Conv2d: 2-22                      [64, 512, 4, 4]           2,359,808\n",
       "│    └─ReLU: 2-23                        [64, 512, 4, 4]           --\n",
       "│    └─MaxPool2d: 2-24                   [64, 512, 2, 2]           --\n",
       "│    └─Conv2d: 2-25                      [64, 512, 2, 2]           2,359,808\n",
       "│    └─ReLU: 2-26                        [64, 512, 2, 2]           --\n",
       "│    └─Conv2d: 2-27                      [64, 512, 2, 2]           2,359,808\n",
       "│    └─ReLU: 2-28                        [64, 512, 2, 2]           --\n",
       "│    └─Conv2d: 2-29                      [64, 512, 2, 2]           2,359,808\n",
       "│    └─ReLU: 2-30                        [64, 512, 2, 2]           --\n",
       "│    └─MaxPool2d: 2-31                   [64, 512, 1, 1]           --\n",
       "├─AdaptiveAvgPool2d: 1-2                 [64, 512, 7, 7]           --\n",
       "├─Sequential: 1-3                        [64, 10]                  --\n",
       "│    └─Linear: 2-32                      [64, 4096]                102,764,544\n",
       "│    └─ReLU: 2-33                        [64, 4096]                --\n",
       "│    └─Dropout: 2-34                     [64, 4096]                --\n",
       "│    └─Linear: 2-35                      [64, 4096]                16,781,312\n",
       "│    └─ReLU: 2-36                        [64, 4096]                --\n",
       "│    └─Dropout: 2-37                     [64, 4096]                --\n",
       "│    └─Linear: 2-38                      [64, 10]                  40,970\n",
       "==========================================================================================\n",
       "Total params: 134,301,514\n",
       "Trainable params: 134,301,514\n",
       "Non-trainable params: 0\n",
       "Total mult-adds (G): 27.72\n",
       "==========================================================================================\n",
       "Input size (MB): 0.79\n",
       "Forward/backward pass size (MB): 145.76\n",
       "Params size (MB): 537.21\n",
       "Estimated Total Size (MB): 683.75\n",
       "=========================================================================================="
      ]
     },
     "execution_count": 37,
     "metadata": {},
     "output_type": "execute_result"
    }
   ],
   "source": [
    "summary(vgg16, input_size=(64, 3, 32, 32))"
   ]
  },
  {
   "cell_type": "markdown",
   "metadata": {},
   "source": [
    "- loss function, optimizer, learing rate scheduler 정의"
   ]
  },
  {
   "cell_type": "code",
   "execution_count": 33,
   "metadata": {
    "id": "4AOhCdjrlIkk"
   },
   "outputs": [],
   "source": [
    "criterion = nn.CrossEntropyLoss().to(device) # loss func\n",
    "optimizer = torch.optim.Adam(vgg16.parameters(), lr=0.001) # optimizer\n",
    "lr_sche = torch.optim.lr_scheduler.StepLR(optimizer, step_size=5, gamma=0.9) # learning rate scheduler"
   ]
  },
  {
   "cell_type": "markdown",
   "metadata": {},
   "source": [
    "- 학습 함수 정의"
   ]
  },
  {
   "cell_type": "code",
   "execution_count": 34,
   "metadata": {
    "id": "lXHsUjlOtY1w"
   },
   "outputs": [],
   "source": [
    "def train_loop(dataloader, model, loss_fn, optimizer):\n",
    "    size = len(dataloader.dataset)\n",
    "    num_batches = len(dataloader)\n",
    "    total_loss, total_acc = 0, 0\n",
    "    \n",
    "    for batch, (X, y) in enumerate(dataloader):\n",
    "        # 예측(prediction)과 손실(loss) 계산\n",
    "        X, y = X.to(device).float(), y.to(device)\n",
    "        pred = model(X)\n",
    "        loss = loss_fn(pred, y)\n",
    "\n",
    "        # 역전파\n",
    "        optimizer.zero_grad()\n",
    "        loss.backward()\n",
    "        optimizer.step()\n",
    "\n",
    "        # train loss, train acc 계산\n",
    "        total_loss += loss.item()\n",
    "        total_acc += (pred.argmax(1) == y).type(torch.float).sum().item()\n",
    "\n",
    "        if batch % 100 == 0:\n",
    "            loss, current = loss.item(), batch * len(X)\n",
    "            print(f\"loss: {loss:>7f}  [{current:>5d}/{size:>5d}]\")\n",
    "\n",
    "    return total_loss / num_batches, total_acc / size\n",
    "\n",
    "def test_loop(dataloader, model, loss_fn):\n",
    "    size = len(dataloader.dataset)\n",
    "    num_batches = len(dataloader)\n",
    "    test_loss, correct = 0, 0\n",
    "\n",
    "    with torch.no_grad():\n",
    "        for X, y in dataloader:\n",
    "            X, y = X.to(device).float(), y.to(device)\n",
    "            pred = model(X)\n",
    "            test_loss += loss_fn(pred, y).item()\n",
    "            correct += (pred.argmax(1) == y).type(torch.float).sum().item()\n",
    "\n",
    "    return test_loss / num_batches, correct / size\n",
    "\n",
    "def fit(model, train_loader, validation_loader, loss_fun, optimizer):\n",
    "    history = {key: [] for key in ['acc', 'val_acc', 'loss', 'val_loss']}\n",
    "    for t in range(epochs):  \n",
    "        print(f\"Epoch {t+1}/{epochs}\\n-------------------------------\")\n",
    "        _loss, _acc = train_loop(train_loader, model, loss_fun, optimizer)\n",
    "        _val_loss, _val_acc = test_loop(val_loader, model, loss_fun)\n",
    "        print(f\"loss: {_loss:>.5f} - accuracy: {_acc:>.5f} - val_loss: {_val_loss:>.5f} - val_accuracy: {_val_acc:>.5f}\\n\")\n",
    "\n",
    "        for key, value in zip(['acc', 'val_acc', 'loss', 'val_loss'], \n",
    "                              [_acc, _val_acc, _loss, _val_loss]):\n",
    "            history[key].append(value)\n",
    "    return history"
   ]
  },
  {
   "cell_type": "code",
   "execution_count": 32,
   "metadata": {
    "id": "U_oKzB-huU9t"
   },
   "outputs": [],
   "source": [
    "import matplotlib.pyplot as plt\n",
    "\n",
    "def show_train_history(history):\n",
    "    fig, axes = plt.subplots(1, 2, figsize=(10, 4))\n",
    "    for ax, key in zip(axes, ['acc', 'loss']):\n",
    "        ax.plot(history[key], 'r', label='train')\n",
    "        ax.plot(history['val_' + key], 'b', label='validation')\n",
    "        ax.legend()\n",
    "        ax.set_title(key)\n",
    "    plt.show()"
   ]
  },
  {
   "cell_type": "markdown",
   "metadata": {},
   "source": [
    "- vgg16 학습"
   ]
  },
  {
   "cell_type": "code",
   "execution_count": 35,
   "metadata": {},
   "outputs": [
    {
     "name": "stdout",
     "output_type": "stream",
     "text": [
      "Epoch 1/15\n",
      "-------------------------------\n",
      "loss: 2.301914  [    0/50000]\n",
      "loss: 2.301216  [12800/50000]\n",
      "loss: 2.082240  [25600/50000]\n",
      "loss: 1.947834  [38400/50000]\n",
      "loss: 2.11055 - accuracy: 0.16130 - val_loss: 1.90731 - val_accuracy: 0.21570\n",
      "\n",
      "Epoch 2/15\n",
      "-------------------------------\n",
      "loss: 1.918582  [    0/50000]\n",
      "loss: 1.868636  [12800/50000]\n",
      "loss: 1.957064  [25600/50000]\n",
      "loss: 1.742329  [38400/50000]\n",
      "loss: 1.83814 - accuracy: 0.26698 - val_loss: 1.70077 - val_accuracy: 0.33540\n",
      "\n",
      "Epoch 3/15\n",
      "-------------------------------\n",
      "loss: 1.648903  [    0/50000]\n",
      "loss: 1.768937  [12800/50000]\n",
      "loss: 1.753757  [25600/50000]\n",
      "loss: 1.620684  [38400/50000]\n",
      "loss: 1.62767 - accuracy: 0.37020 - val_loss: 1.50861 - val_accuracy: 0.43160\n",
      "\n",
      "Epoch 4/15\n",
      "-------------------------------\n",
      "loss: 1.424664  [    0/50000]\n",
      "loss: 1.566410  [12800/50000]\n",
      "loss: 1.474864  [25600/50000]\n",
      "loss: 1.318474  [38400/50000]\n",
      "loss: 1.46000 - accuracy: 0.45526 - val_loss: 1.39143 - val_accuracy: 0.49080\n",
      "\n",
      "Epoch 5/15\n",
      "-------------------------------\n",
      "loss: 1.291132  [    0/50000]\n",
      "loss: 1.495708  [12800/50000]\n",
      "loss: 1.354780  [25600/50000]\n",
      "loss: 1.395297  [38400/50000]\n",
      "loss: 1.31729 - accuracy: 0.52288 - val_loss: 1.26670 - val_accuracy: 0.54970\n",
      "\n",
      "Epoch 6/15\n",
      "-------------------------------\n",
      "loss: 1.183436  [    0/50000]\n",
      "loss: 1.238840  [12800/50000]\n",
      "loss: 1.269902  [25600/50000]\n",
      "loss: 1.125528  [38400/50000]\n",
      "loss: 1.18506 - accuracy: 0.58150 - val_loss: 1.26979 - val_accuracy: 0.55090\n",
      "\n",
      "Epoch 7/15\n",
      "-------------------------------\n",
      "loss: 1.329553  [    0/50000]\n",
      "loss: 0.932402  [12800/50000]\n",
      "loss: 1.321530  [25600/50000]\n",
      "loss: 1.210276  [38400/50000]\n",
      "loss: 1.09231 - accuracy: 0.61700 - val_loss: 1.08237 - val_accuracy: 0.62480\n",
      "\n",
      "Epoch 8/15\n",
      "-------------------------------\n",
      "loss: 0.964943  [    0/50000]\n",
      "loss: 1.030560  [12800/50000]\n",
      "loss: 1.006630  [25600/50000]\n",
      "loss: 1.020468  [38400/50000]\n",
      "loss: 1.00182 - accuracy: 0.65300 - val_loss: 1.01887 - val_accuracy: 0.64800\n",
      "\n",
      "Epoch 9/15\n",
      "-------------------------------\n",
      "loss: 0.722242  [    0/50000]\n",
      "loss: 1.119459  [12800/50000]\n",
      "loss: 0.934291  [25600/50000]\n",
      "loss: 0.807937  [38400/50000]\n",
      "loss: 0.92967 - accuracy: 0.67774 - val_loss: 1.00060 - val_accuracy: 0.66460\n",
      "\n",
      "Epoch 10/15\n",
      "-------------------------------\n",
      "loss: 1.103103  [    0/50000]\n",
      "loss: 1.022547  [12800/50000]\n",
      "loss: 0.643657  [25600/50000]\n",
      "loss: 0.853245  [38400/50000]\n",
      "loss: 0.88624 - accuracy: 0.69698 - val_loss: 1.03479 - val_accuracy: 0.64940\n",
      "\n",
      "Epoch 11/15\n",
      "-------------------------------\n",
      "loss: 0.987566  [    0/50000]\n",
      "loss: 0.786114  [12800/50000]\n",
      "loss: 1.011055  [25600/50000]\n",
      "loss: 0.561179  [38400/50000]\n",
      "loss: 0.81888 - accuracy: 0.72126 - val_loss: 0.98691 - val_accuracy: 0.67730\n",
      "\n",
      "Epoch 12/15\n",
      "-------------------------------\n",
      "loss: 0.766537  [    0/50000]\n",
      "loss: 0.906320  [12800/50000]\n",
      "loss: 0.662074  [25600/50000]\n",
      "loss: 0.816563  [38400/50000]\n",
      "loss: 0.75914 - accuracy: 0.74124 - val_loss: 0.99248 - val_accuracy: 0.67500\n",
      "\n",
      "Epoch 13/15\n",
      "-------------------------------\n",
      "loss: 0.695681  [    0/50000]\n",
      "loss: 0.800576  [12800/50000]\n",
      "loss: 0.731649  [25600/50000]\n",
      "loss: 0.663994  [38400/50000]\n",
      "loss: 0.72010 - accuracy: 0.75712 - val_loss: 0.98366 - val_accuracy: 0.67860\n",
      "\n",
      "Epoch 14/15\n",
      "-------------------------------\n",
      "loss: 0.714438  [    0/50000]\n",
      "loss: 0.443594  [12800/50000]\n",
      "loss: 0.668420  [25600/50000]\n",
      "loss: 0.606601  [38400/50000]\n",
      "loss: 0.68366 - accuracy: 0.76892 - val_loss: 0.99576 - val_accuracy: 0.68530\n",
      "\n",
      "Epoch 15/15\n",
      "-------------------------------\n",
      "loss: 0.543118  [    0/50000]\n",
      "loss: 0.964248  [12800/50000]\n",
      "loss: 0.729872  [25600/50000]\n",
      "loss: 0.686063  [38400/50000]\n",
      "loss: 0.80258 - accuracy: 0.73294 - val_loss: 1.03345 - val_accuracy: 0.67470\n",
      "\n"
     ]
    },
    {
     "data": {
      "image/png": "[encoded data removed]",
      "text/plain": [
       "<Figure size 720x288 with 2 Axes>"
      ]
     },
     "metadata": {
      "needs_background": "light"
     },
     "output_type": "display_data"
    }
   ],
   "source": [
    "history = fit(vgg16, train_loader, val_loader, criterion, optimizer)\n",
    "show_train_history(history)"
   ]
  },
  {
   "cell_type": "markdown",
   "metadata": {},
   "source": [
    "- 모델 저장"
   ]
  },
  {
   "cell_type": "code",
   "execution_count": 38,
   "metadata": {},
   "outputs": [],
   "source": [
    "torch.save(vgg16, 'vgg16.pt') # 전체 모델 저장"
   ]
  },
  {
   "cell_type": "markdown",
   "metadata": {},
   "source": [
    "- 모델 불러오기"
   ]
  },
  {
   "cell_type": "code",
   "execution_count": 40,
   "metadata": {},
   "outputs": [
    {
     "data": {
      "text/plain": [
       "VGG16(\n",
       "  (features): Sequential(\n",
       "    (0): Conv2d(3, 64, kernel_size=(3, 3), stride=(1, 1), padding=(1, 1))\n",
       "    (1): ReLU(inplace=True)\n",
       "    (2): Conv2d(64, 64, kernel_size=(3, 3), stride=(1, 1), padding=(1, 1))\n",
       "    (3): ReLU(inplace=True)\n",
       "    (4): MaxPool2d(kernel_size=2, stride=2, padding=0, dilation=1, ceil_mode=False)\n",
       "    (5): Conv2d(64, 128, kernel_size=(3, 3), stride=(1, 1), padding=(1, 1))\n",
       "    (6): ReLU(inplace=True)\n",
       "    (7): Conv2d(128, 128, kernel_size=(3, 3), stride=(1, 1), padding=(1, 1))\n",
       "    (8): ReLU(inplace=True)\n",
       "    (9): MaxPool2d(kernel_size=2, stride=2, padding=0, dilation=1, ceil_mode=False)\n",
       "    (10): Conv2d(128, 256, kernel_size=(3, 3), stride=(1, 1), padding=(1, 1))\n",
       "    (11): ReLU(inplace=True)\n",
       "    (12): Conv2d(256, 256, kernel_size=(3, 3), stride=(1, 1), padding=(1, 1))\n",
       "    (13): ReLU(inplace=True)\n",
       "    (14): Conv2d(256, 256, kernel_size=(3, 3), stride=(1, 1), padding=(1, 1))\n",
       "    (15): ReLU(inplace=True)\n",
       "    (16): MaxPool2d(kernel_size=2, stride=2, padding=0, dilation=1, ceil_mode=False)\n",
       "    (17): Conv2d(256, 512, kernel_size=(3, 3), stride=(1, 1), padding=(1, 1))\n",
       "    (18): ReLU(inplace=True)\n",
       "    (19): Conv2d(512, 512, kernel_size=(3, 3), stride=(1, 1), padding=(1, 1))\n",
       "    (20): ReLU(inplace=True)\n",
       "    (21): Conv2d(512, 512, kernel_size=(3, 3), stride=(1, 1), padding=(1, 1))\n",
       "    (22): ReLU(inplace=True)\n",
       "    (23): MaxPool2d(kernel_size=2, stride=2, padding=0, dilation=1, ceil_mode=False)\n",
       "    (24): Conv2d(512, 512, kernel_size=(3, 3), stride=(1, 1), padding=(1, 1))\n",
       "    (25): ReLU(inplace=True)\n",
       "    (26): Conv2d(512, 512, kernel_size=(3, 3), stride=(1, 1), padding=(1, 1))\n",
       "    (27): ReLU(inplace=True)\n",
       "    (28): Conv2d(512, 512, kernel_size=(3, 3), stride=(1, 1), padding=(1, 1))\n",
       "    (29): ReLU(inplace=True)\n",
       "    (30): MaxPool2d(kernel_size=2, stride=2, padding=0, dilation=1, ceil_mode=False)\n",
       "  )\n",
       "  (avgpool): AdaptiveAvgPool2d(output_size=(7, 7))\n",
       "  (classifier): Sequential(\n",
       "    (0): Linear(in_features=25088, out_features=4096, bias=True)\n",
       "    (1): ReLU(inplace=True)\n",
       "    (2): Dropout(p=0.5, inplace=False)\n",
       "    (3): Linear(in_features=4096, out_features=4096, bias=True)\n",
       "    (4): ReLU(inplace=True)\n",
       "    (5): Dropout(p=0.5, inplace=False)\n",
       "    (6): Linear(in_features=4096, out_features=10, bias=True)\n",
       "  )\n",
       ")"
      ]
     },
     "execution_count": 40,
     "metadata": {},
     "output_type": "execute_result"
    }
   ],
   "source": [
    "vgg16_loded = torch.load('vgg16.pt')\n",
    "vgg16_loded"
   ]
  }
 ],
 "metadata": {
  "colab": {
   "collapsed_sections": [],
   "name": "day3_exercise.ipynb",
   "provenance": []
  },
  "kernelspec": {
   "display_name": "Python 3",
   "language": "python",
   "name": "python3"
  },
  "language_info": {
   "codemirror_mode": {
    "name": "ipython",
    "version": 3
   },
   "file_extension": ".py",
   "mimetype": "text/x-python",
   "name": "python",
   "nbconvert_exporter": "python",
   "pygments_lexer": "ipython3",
   "version": "3.7.9"
  }
 },
 "nbformat": 4,
 "nbformat_minor": 4
}
