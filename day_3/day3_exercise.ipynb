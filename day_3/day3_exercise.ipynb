{
 "cells": [
  {
   "cell_type": "markdown",
   "metadata": {
    "id": "YZaY21mGeRfi"
   },
   "source": [
    "# 이웃집 토토치 파이토치 : Day 3\n",
    "---"
   ]
  },
  {
   "cell_type": "markdown",
   "metadata": {
    "id": "cuSAAxKLm2BY"
   },
   "source": [
    "<div class=\"alert alert-info\">\n",
    "    <p>📢 해당 게시물은 <a href=\"https://tutorials.pytorch.kr/beginner/basics/intro.html\">파이토치 기본 익히기</a>와 torchvision에서 제공하는 <a href=\"https://github.com/pytorch/vision/blob/main/torchvision/models/vgg.py\">vgg 모델</a>을 재구성하여 작성되었습니다.</p>\n",
    "</div>"
   ]
  },
  {
   "cell_type": "markdown",
   "metadata": {
    "id": "QIYwW_fdnRIV"
   },
   "source": [
    "## VGG16 작성 및 학습\n",
    "\n",
    "![](https://miro.medium.com/max/700/1*gU5m4XO2awEM6Zp4DkirFA.png)\n",
    "\n",
    "오늘은 VGG16 모델을 CIFAR-10 데이터를 학습 시켜볼 수 있는 이미지 분류기로 정의하고 이를 학습시켜 보고자 합니다.\n",
    "\n",
    "작성해야하는 분류기와 학습 환경에 대한 조건은 다음과 같습니다.\n",
    "\n",
    "- transforms : 정규화만을 진행한다.\n",
    "- 모델 구조\n",
    "    - feature [64, 64, M, 128, 128, M, 256, 256, 256, M, 512, 512, 512, M, 512, 512, 512, M] + classifier [AA, 4096, 4096, 1000]\n",
    "    - feature\n",
    "        - n(숫자) : filter의 수가 n개인 2d Conv Layer, `kernel_size=3`, `padding=1`\n",
    "        - M : Max Pooling Layer, `kernel_size=2`, `padding=2`\n",
    "        - Conv Layer 이후의 activation func는 ReLU를 사용한다.\n",
    "    - classifier\n",
    "        - AA : Adaptive Average Pooling(7x7)\n",
    "        - n(숫자) : Linear(n unit)\n",
    "- loss 함수 : CrossEntropyLoss\n",
    "- optimizer = SGD, lr = 0.005, momentum=0.9\n",
    "    - StepLR를 사용하여 5 step 마다 lr를 0.9배씩 줄이며 학습시킨다.\n",
    "- 학습 과정에서 train set과 test set에 대한 loss와 accuracy를 출력하고, 학습 종료 후 matrix의 변화를 plot으로 출력한다.\n",
    "- 학습이 완료된 모델을 `my_vgg16`이라는 이름으로 [저장](https://tutorials.pytorch.kr/beginner/basics/saveloadrun_tutorial.html)한다."
   ]
  },
  {
   "cell_type": "code",
   "execution_count": null,
   "metadata": {
    "colab": {
     "base_uri": "https://localhost:8080/"
    },
    "id": "N3NAhZdNkof2",
    "outputId": "7b480278-6fed-416c-bb7b-fb159f842eb2"
   },
   "outputs": [],
   "source": [
    "!pip install torchinfo"
   ]
  },
  {
   "cell_type": "code",
   "execution_count": null,
   "metadata": {
    "id": "LQL3tOhkeYIe"
   },
   "outputs": [],
   "source": [
    "import torch\n",
    "from torch import nn\n",
    "from torch.utils.data import DataLoader\n",
    "from torchvision import datasets\n",
    "from torchvision import transforms\n",
    "from torchinfo import summary\n",
    "\n",
    "device = 'cuda' if torch.cuda.is_available() else 'cpu'"
   ]
  },
  {
   "cell_type": "code",
   "execution_count": null,
   "metadata": {
    "id": "_-vrWosOejsu"
   },
   "outputs": [],
   "source": [
    "# parameters\n",
    "lr = 0.001\n",
    "epochs = 15\n",
    "batch_size = 128"
   ]
  },
  {
   "cell_type": "code",
   "execution_count": null,
   "metadata": {
    "colab": {
     "base_uri": "https://localhost:8080/"
    },
    "id": "dNMS3959enB_",
    "outputId": "7e980501-707d-4830-f4a4-a7bfe973c62d"
   },
   "outputs": [],
   "source": [
    "transform = transforms.Compose([\n",
    "    transforms.ToTensor(),\n",
    "    transforms.Normalize((0.5, 0.5, 0.5), (0.5, 0.5, 0.5)),\n",
    "])\n",
    "\n",
    "train_loader = DataLoader(\n",
    "    datasets.CIFAR10(root='./data', train=True, transform=transform, download=True),\n",
    "    batch_size=batch_size, shuffle=True)\n",
    "\n",
    "val_loader = torch.utils.data.DataLoader(\n",
    "    datasets.CIFAR10(root='./data', train=False, transform=transform),\n",
    "    batch_size=batch_size, shuffle=False)"
   ]
  },
  {
   "cell_type": "code",
   "execution_count": null,
   "metadata": {
    "id": "5X_ifRp_e6n3"
   },
   "outputs": [],
   "source": [
    "classes = ['plane', 'car', 'bird', 'cat', 'deer', 'dog', 'frog', 'horse', 'ship', 'truck']"
   ]
  },
  {
   "cell_type": "code",
   "execution_count": null,
   "metadata": {
    "id": "41zysYalfU4Y"
   },
   "outputs": [],
   "source": [
    "class VGG16(nn.Module):\n",
    "    def __init__(self, num_classes):\n",
    "        super(VGG16, self).__init__()\n",
    "        self.features = nn.Sequential(\n",
    "            # 이곳을 구현해 주세요\n",
    "        )\n",
    "\n",
    "        self.classifier = nn.Sequential(\n",
    "            # 이곳을 구현해 주세요\n",
    "        )\n",
    "\n",
    "        def forward(self, x: torch.Tensor) -> torch.Tensor:\n",
    "            x = self.features(x)\n",
    "            x = self.avgpool(x)\n",
    "            x = torch.flatten(x, 1)\n",
    "            x = self.classifier(x)\n",
    "            return x"
   ]
  },
  {
   "cell_type": "code",
   "execution_count": null,
   "metadata": {
    "id": "4AOhCdjrlIkk"
   },
   "outputs": [],
   "source": [
    "criterion = # loss func를 정의하여 주세요\n",
    "optimizer = # optimizer를 정의하여 주세요\n",
    "lr_sche = # learning scheduler를 정의하여 주세요"
   ]
  },
  {
   "cell_type": "code",
   "execution_count": null,
   "metadata": {
    "id": "lXHsUjlOtY1w"
   },
   "outputs": [],
   "source": [
    "for epoch in range(epochs): \n",
    "    # 이곳을 구현해 주세요"
   ]
  },
  {
   "cell_type": "code",
   "execution_count": null,
   "metadata": {
    "id": "DdQ5J-t5uRew"
   },
   "outputs": [],
   "source": [
    "# 학습경과 출력\n",
    "# 이곳을 구현해 주세요"
   ]
  },
  {
   "cell_type": "code",
   "execution_count": null,
   "metadata": {
    "id": "U_oKzB-huU9t"
   },
   "outputs": [],
   "source": [
    "# 모델 저장\n",
    "# 이곳을 구현해 주세요"
   ]
  }
 ],
 "metadata": {
  "colab": {
   "collapsed_sections": [],
   "name": "day3_exercise.ipynb",
   "provenance": []
  },
  "kernelspec": {
   "display_name": "Python 3",
   "language": "python",
   "name": "python3"
  },
  "language_info": {
   "codemirror_mode": {
    "name": "ipython",
    "version": 3
   },
   "file_extension": ".py",
   "mimetype": "text/x-python",
   "name": "python",
   "nbconvert_exporter": "python",
   "pygments_lexer": "ipython3",
   "version": "3.7.10"
  }
 },
 "nbformat": 4,
 "nbformat_minor": 4
}
