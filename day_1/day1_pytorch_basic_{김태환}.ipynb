{
  "nbformat": 4,
  "nbformat_minor": 5,
  "metadata": {
    "colab": {
      "name": "day1_pytorch_basic_{김태환}.ipynb",
      "provenance": [],
      "collapsed_sections": [
        "-dcGs7jPd_fs"
      ]
    },
    "kernelspec": {
      "display_name": "aiffel",
      "language": "python",
      "name": "aiffel"
    },
    "language_info": {
      "codemirror_mode": {
        "name": "ipython",
        "version": 3
      },
      "file_extension": ".py",
      "mimetype": "text/x-python",
      "name": "python",
      "nbconvert_exporter": "python",
      "pygments_lexer": "ipython3",
      "version": "3.7.10"
    },
    "latex_envs": {
      "LaTeX_envs_menu_present": true,
      "autoclose": false,
      "autocomplete": true,
      "bibliofile": "biblio.bib",
      "cite_by": "apalike",
      "current_citInitial": 1,
      "eqLabelWithNumbers": true,
      "eqNumInitial": 1,
      "hotkeys": {
        "equation": "Ctrl-E",
        "itemize": "Ctrl-I"
      },
      "labels_anchors": false,
      "latex_user_defs": false,
      "report_style_numbering": false,
      "user_envs_cfg": false
    },
    "toc-autonumbering": false,
    "toc-showtags": false,
    "accelerator": "GPU"
  },
  "cells": [
    {
      "cell_type": "markdown",
      "metadata": {
        "id": "5e7f2f2c-6302-40e9-b643-4556a6604ed0"
      },
      "source": [
        "# 이웃집 토토치 파이토치 : Day 1\n",
        "---"
      ],
      "id": "5e7f2f2c-6302-40e9-b643-4556a6604ed0"
    },
    {
      "cell_type": "markdown",
      "metadata": {
        "id": "7e34878d-54a2-40de-ae3a-75866a8e2097"
      },
      "source": [
        "<div class=\"alert alert-info\">\n",
        "    <p>📢 해당 게시물은 파이토치 공식 튜토리얼 중 <a href=\"https://tutorials.pytorch.kr/beginner/pytorch_with_examples.html\">예제로 배우는 파이토치(PYTORCH) </a>와 파이토치(PYTORCH) 기본 익히기-<a href=\"https://tutorials.pytorch.kr/beginner/basics/tensorqs_tutorial.html\">텐서(Tensor)</a>, <a href=\"https://tutorials.pytorch.kr/beginner/pytorch_with_examples.html#id13\">DATASET과 DATALOADER</a>, <a href=\"https://tutorials.pytorch.kr/beginner/basics/autogradqs_tutorial.html\">Autograd</a> 그리고 토치비전 공식문서의 Example gallery-<a href=https://pytorch.org/vision/stable/auto_examples/plot_transforms.html#sphx-glr-auto-examples-plot-transforms-py\">ILLUSTRATION OF TRANSFORMS</a>를 재구성하여 작성되었습니다.</p>\n",
        "</div>"
      ],
      "id": "7e34878d-54a2-40de-ae3a-75866a8e2097"
    },
    {
      "cell_type": "markdown",
      "metadata": {
        "id": "9b8956f1-a5de-4cfb-8c38-b2b4b098b2e5"
      },
      "source": [
        "#### 주요 키워드\n",
        "- Tensor\n",
        "- Autograd\n",
        "- Dataset과 Dataloader\n",
        "- Transform"
      ],
      "id": "9b8956f1-a5de-4cfb-8c38-b2b4b098b2e5"
    },
    {
      "cell_type": "markdown",
      "metadata": {
        "id": "81fd1b58-3ada-46cf-a2c9-655692e3a2a6",
        "tags": [],
        "toc-hr-collapsed": true
      },
      "source": [
        "#### 목차\n",
        "1. 탠서(TENSOR)\n",
        "    1. 텐서(tensor) 초기화\n",
        "    2. 텐서의 속성(Attribute)\n",
        "    3. 텐서 연산(Operation)\n",
        "    4. NumPy 변환(Bridge)\n",
        "    5. [실습] Numpy to Tensor\n",
        "2. Autograd\n",
        "    1. Tensor, Function과 연산그래프(Computational graph)\n",
        "    2. 변화도(Gradient) 계산하기\n",
        "    3. 변화도 추적 멈추기\n",
        "    4. 연산 그래프에 대한 추가 정보\n",
        "    5. 선택적으로 읽기(Optional Reading): 텐서 변화도와 야코비안 곱 (Jacobian Product)\n",
        "    6. [실습] Backpropagation with Autograd\n",
        "3. DATASET과 DATALOADER\n",
        "    1. 데이터셋 불러오기\n",
        "    2. 데이터셋을 순회하고 시각화하기\n",
        "    3. 파일에서 사용자 정의 데이터셋 만들기\n",
        "    4. DataLoader로 학습용 데이터 준비하기\n",
        "    5. DataLoader를 통해 순회하기\n",
        "4. 변형(TRANSFORM)\n",
        "    1. ToTnesor()\n",
        "    2. Lambda 변형(Transform)"
      ],
      "id": "81fd1b58-3ada-46cf-a2c9-655692e3a2a6"
    },
    {
      "cell_type": "markdown",
      "metadata": {
        "id": "8d8cdc33-53ef-443e-967e-d221a4f8fbb5"
      },
      "source": [
        "## 1. 텐서(TENSOR) \n",
        "---"
      ],
      "id": "8d8cdc33-53ef-443e-967e-d221a4f8fbb5"
    },
    {
      "cell_type": "markdown",
      "metadata": {
        "id": "6b4d8f21-377c-4aa0-941b-b7909cc2f2cf"
      },
      "source": [
        "텐서(tensor)는 배열(array)이나 행렬(matrix)과 매우 유사한 특수한 자료구조입니다.\n",
        "PyTorch에서는 텐서를 사용하여 모델의 입력(input)과 출력(output), 그리고 모델의 매개변수들을 부호화(encode)합니다.\n",
        "\n",
        "텐서는 GPU나 다른 하드웨어 가속기에서 실행할 수 있다는 점만 제외하면 [NumPy](https://numpy.org)의 ndarray와 유사합니다.\n",
        "실제로 텐서와 NumPy 배열(array)은 종종 동일한 내부(underly) 메모리를 공유할 수 있어 데이터를 복수할 필요가 없습니다. ([NumPy 변환(Bridge)](https://tutorials.pytorch.kr/beginner/blitz/tensor_tutorial.html#bridge-to-np-label) 참고)\n",
        "텐서는 또한 ([Autograd](autogradqs_tutorial.html)장에서 살펴볼) 자동 미분(automatic differentiation)에 최적화되어 있습니다.\n",
        "ndarray에 익숙하다면 Tensor API를 바로 사용할 수 있을 것입니다. 아니라면, 아래 내용을 함께 보시죠!"
      ],
      "id": "6b4d8f21-377c-4aa0-941b-b7909cc2f2cf"
    },
    {
      "cell_type": "code",
      "metadata": {
        "id": "84b21bbe-2e1f-4a0c-9863-cc7b9b4bf2b8"
      },
      "source": [
        "import torch\n",
        "import numpy as np"
      ],
      "id": "84b21bbe-2e1f-4a0c-9863-cc7b9b4bf2b8",
      "execution_count": 7,
      "outputs": []
    },
    {
      "cell_type": "markdown",
      "metadata": {
        "id": "33173f1c-e196-4f80-87f6-25adb3f7907e"
      },
      "source": [
        "### A. 텐서(tensor) 초기화\n",
        "텐서는 여러가지 방법으로 초기화할 수 있습니다. \n",
        "\n",
        "- Tensor From\n",
        "  - list\n",
        "  - numpy.array\n",
        "  - tensor(ones_like, zeros_like, rand_like)\n",
        "  - constant(ones_like, zeros_like, rand_like)\n",
        "\n",
        "\n",
        "다음 예를 살펴보세요:"
      ],
      "id": "33173f1c-e196-4f80-87f6-25adb3f7907e"
    },
    {
      "cell_type": "markdown",
      "metadata": {
        "id": "3d02882d-b5c0-4f6a-979e-14484173f0f6"
      },
      "source": [
        "#### a. 데이터로부터 직접(directly) 생성하기\n",
        "데이터로부터 직접 텐서를 생성할 수 있습니다. 데이터의 자료형(data type)은 자동으로 유추합니다."
      ],
      "id": "3d02882d-b5c0-4f6a-979e-14484173f0f6"
    },
    {
      "cell_type": "code",
      "metadata": {
        "colab": {
          "base_uri": "https://localhost:8080/"
        },
        "id": "ecc80d93-e872-4cc8-9948-29e323d0cce8",
        "outputId": "920f4993-c7f5-4c2a-eaff-fefbbe24c6cc"
      },
      "source": [
        "data = [[1, 2],[3, 4]]\n",
        "x_data = torch.tensor(data)\n",
        "x_data"
      ],
      "id": "ecc80d93-e872-4cc8-9948-29e323d0cce8",
      "execution_count": 8,
      "outputs": [
        {
          "output_type": "execute_result",
          "data": {
            "text/plain": [
              "tensor([[1, 2],\n",
              "        [3, 4]])"
            ]
          },
          "metadata": {},
          "execution_count": 8
        }
      ]
    },
    {
      "cell_type": "markdown",
      "metadata": {
        "id": "b7fcefc3-4830-4ad3-a74c-bd9e7976aa2f"
      },
      "source": [
        "#### b. NumPy 배열로부터 생성하기\n",
        "텐서는 NumPy 배열로 생성할 수 있습니다. (그 반대도 가능합니다 - [NumPy 변환(Bridge)](https://tutorials.pytorch.kr/beginner/blitz/tensor_tutorial.html#bridge-to-np-label) 참고)"
      ],
      "id": "b7fcefc3-4830-4ad3-a74c-bd9e7976aa2f"
    },
    {
      "cell_type": "code",
      "metadata": {
        "colab": {
          "base_uri": "https://localhost:8080/"
        },
        "id": "753be768-90dd-4806-9b63-dc9adec2736b",
        "outputId": "95b74009-ccf8-4d99-f7ab-619cffb480e0"
      },
      "source": [
        "np_array = np.array(data)\n",
        "x_np = torch.from_numpy(np_array)\n",
        "x_np"
      ],
      "id": "753be768-90dd-4806-9b63-dc9adec2736b",
      "execution_count": 9,
      "outputs": [
        {
          "output_type": "execute_result",
          "data": {
            "text/plain": [
              "tensor([[1, 2],\n",
              "        [3, 4]])"
            ]
          },
          "metadata": {},
          "execution_count": 9
        }
      ]
    },
    {
      "cell_type": "markdown",
      "metadata": {
        "id": "bcfd57ba-92e2-4ea9-8826-25196fdcb07d"
      },
      "source": [
        "#### c. 다른 텐서로부터 생성하기\n",
        "명시적으로 재정의(override)하지 않는다면, 인자로 주어진 텐서의 속성(모양(shape), 자료형(datatype))을 유지합니다."
      ],
      "id": "bcfd57ba-92e2-4ea9-8826-25196fdcb07d"
    },
    {
      "cell_type": "code",
      "metadata": {
        "colab": {
          "base_uri": "https://localhost:8080/"
        },
        "id": "6100365e-0302-4ad2-8623-0b250116ae13",
        "outputId": "3a9fb27f-66c1-425f-a4d8-4640d214a96f"
      },
      "source": [
        "x_ones = torch.ones_like(x_data) # x_data의 속성을 유지합니다.\n",
        "print(f\"Ones Tensor: \\n {x_ones} \\n\")\n",
        "\n",
        "z_rand = torch.zeros_like(x_data)  # x_data의 속성을 유지합니다.\n",
        "print(f\"Random Tensor: \\n {z_rand} \\n\")\n",
        "\n",
        "x_rand = torch.rand_like(x_data, dtype=torch.float) # x_data의 속성을 덮어씁니다.\n",
        "print(f\"Random Tensor: \\n {x_rand} \\n\")\n",
        "\n",
        "y_rand = torch.rand_like(x_data, dtype=torch.float32) # x_data의 속성을 덮어씁니다.\n",
        "print(f\"Random Tensor: \\n {y_rand} \\n\")\n"
      ],
      "id": "6100365e-0302-4ad2-8623-0b250116ae13",
      "execution_count": 10,
      "outputs": [
        {
          "output_type": "stream",
          "name": "stdout",
          "text": [
            "Ones Tensor: \n",
            " tensor([[1, 1],\n",
            "        [1, 1]]) \n",
            "\n",
            "Random Tensor: \n",
            " tensor([[0, 0],\n",
            "        [0, 0]]) \n",
            "\n",
            "Random Tensor: \n",
            " tensor([[0.8428, 0.5367],\n",
            "        [0.1857, 0.8739]]) \n",
            "\n",
            "Random Tensor: \n",
            " tensor([[0.1892, 0.8007],\n",
            "        [0.3104, 0.6746]]) \n",
            "\n"
          ]
        }
      ]
    },
    {
      "cell_type": "markdown",
      "metadata": {
        "id": "1676896b-fa1e-46f2-afee-3e9da2457e0b"
      },
      "source": [
        "#### d. 무작위(random) 또는 상수(constant) 값을 사용하기\n",
        "`shape`은 텐서의 차원(dimension)을 나타내는 튜플(tuple)로, 아래 함수들에서는 출력 텐서의 차원을 결정합니다."
      ],
      "id": "1676896b-fa1e-46f2-afee-3e9da2457e0b"
    },
    {
      "cell_type": "code",
      "metadata": {
        "colab": {
          "base_uri": "https://localhost:8080/"
        },
        "id": "476f0e06-3c50-4d4c-bd47-6d5b5810e768",
        "outputId": "db7d9f05-c6c8-4bec-f8a4-647db4e8472e"
      },
      "source": [
        "shape = (2,3,)\n",
        "rand_tensor = torch.rand(shape)\n",
        "ones_tensor = torch.ones(shape)\n",
        "zeros_tensor = torch.zeros(shape)\n",
        "\n",
        "print(f\"Random Tensor: \\n {rand_tensor} \\n\")\n",
        "print(f\"Ones Tensor: \\n {ones_tensor} \\n\")\n",
        "print(f\"Zeros Tensor: \\n {zeros_tensor}\")"
      ],
      "id": "476f0e06-3c50-4d4c-bd47-6d5b5810e768",
      "execution_count": 11,
      "outputs": [
        {
          "output_type": "stream",
          "name": "stdout",
          "text": [
            "Random Tensor: \n",
            " tensor([[0.9287, 0.2717, 0.0315],\n",
            "        [0.2819, 0.3025, 0.2569]]) \n",
            "\n",
            "Ones Tensor: \n",
            " tensor([[1., 1., 1.],\n",
            "        [1., 1., 1.]]) \n",
            "\n",
            "Zeros Tensor: \n",
            " tensor([[0., 0., 0.],\n",
            "        [0., 0., 0.]])\n"
          ]
        }
      ]
    },
    {
      "cell_type": "markdown",
      "metadata": {
        "id": "6f14c531-430a-45e7-818d-278876cc7735"
      },
      "source": [
        "### B. 텐서의 속성(Attribute)\n",
        "텐서의 속성은 텐서의 모양(shape), 자료형(datatype) 및 어느 장치에 저장되는지를 나타냅니다."
      ],
      "id": "6f14c531-430a-45e7-818d-278876cc7735"
    },
    {
      "cell_type": "code",
      "metadata": {
        "colab": {
          "base_uri": "https://localhost:8080/"
        },
        "id": "c0d18f60-2823-47ee-958f-b3de620f5357",
        "outputId": "0c5e74e0-0fe9-424f-cecc-1d4c86758df8"
      },
      "source": [
        "tensor = torch.rand(3,4)\n",
        "\n",
        "print(f\"Shape of tensor: {tensor.shape}\")\n",
        "print(f\"Datatype of tensor: {tensor.dtype}\")\n",
        "print(f\"Device tensor is stored on: {tensor.device}\")"
      ],
      "id": "c0d18f60-2823-47ee-958f-b3de620f5357",
      "execution_count": 12,
      "outputs": [
        {
          "output_type": "stream",
          "name": "stdout",
          "text": [
            "Shape of tensor: torch.Size([3, 4])\n",
            "Datatype of tensor: torch.float32\n",
            "Device tensor is stored on: cpu\n"
          ]
        }
      ]
    },
    {
      "cell_type": "markdown",
      "metadata": {
        "id": "dc8ec2e3-b2e1-406c-a654-59cbc060aa4e"
      },
      "source": [
        "### C. 텐서 연산(Operation)\n",
        "전치(transposing), 인덱싱(indexing), 슬라이싱(slicing), 수학 계산, 선형 대수, 임의 샘플링(random sampling) 등, 100가지 이상의 텐서 연산들을 [여기](https://pytorch.org/docs/stable/torch.html)에서 확인할 수 있습니다.\n",
        "\n",
        "각 연산들은 (일반적으로 CPU보다 빠른) GPU에서 실행할 수 있습니다. Colab을 사용한다면, Edit > Notebook Settings 에서 GPU를 할당할 수 있습니다.\n",
        "\n",
        "기본적으로 텐서는 CPU에 생성됩니다. .to 메소드를 사용하면 (GPU의 가용성(availability)을 확인한 뒤) GPU로 텐서를 명시적으로 이동할 수 있습니다. 장치들 간에 큰 텐서들을 복사하는 것은 시간과 메모리 측면에서 비용이 많이든다는 것을 기억하세요!"
      ],
      "id": "dc8ec2e3-b2e1-406c-a654-59cbc060aa4e"
    },
    {
      "cell_type": "code",
      "metadata": {
        "id": "7a2f8fb6-b044-4cbd-bcdc-80c1ec7a82cb",
        "colab": {
          "base_uri": "https://localhost:8080/"
        },
        "outputId": "aff5cac3-f8ae-4788-f25a-d149e4ee08c4"
      },
      "source": [
        "# GPU가 존재하면 텐서를 이동합니다\n",
        "if torch.cuda.is_available():\n",
        "    tensor = tensor.to('cuda')\n",
        "    print(tensor)\n",
        "\n",
        "print(f\"Device tensor is stored on: {tensor.device}\")"
      ],
      "id": "7a2f8fb6-b044-4cbd-bcdc-80c1ec7a82cb",
      "execution_count": 13,
      "outputs": [
        {
          "output_type": "stream",
          "name": "stdout",
          "text": [
            "tensor([[0.3197, 0.2773, 0.0030, 0.9858],\n",
            "        [0.8644, 0.0997, 0.3067, 0.2745],\n",
            "        [0.2873, 0.6738, 0.6900, 0.0549]], device='cuda:0')\n",
            "Device tensor is stored on: cuda:0\n"
          ]
        }
      ]
    },
    {
      "cell_type": "markdown",
      "metadata": {
        "id": "40866338-5f65-4d75-a97b-63457e90cff9"
      },
      "source": [
        "목록에서 몇몇 연산들을 시도해보세요. NumPy API에 익숙하다면 Tensor API를 사용하는 것은 식은 죽 먹기라는 것을 알게 되실 겁니다."
      ],
      "id": "40866338-5f65-4d75-a97b-63457e90cff9"
    },
    {
      "cell_type": "markdown",
      "metadata": {
        "id": "631fdca2-aab4-4e2d-b6bf-9062338d9101"
      },
      "source": [
        "#### a. NumPy식의 표준 인덱싱과 슬라이싱"
      ],
      "id": "631fdca2-aab4-4e2d-b6bf-9062338d9101"
    },
    {
      "cell_type": "code",
      "metadata": {
        "colab": {
          "base_uri": "https://localhost:8080/"
        },
        "id": "535e7a6a-6b64-45c0-ad27-99b8e26584e6",
        "outputId": "f3d65382-2303-4ede-cb69-6873fa4cf804"
      },
      "source": [
        "tensor = torch.ones(4, 4)\n",
        "print('First row: ',tensor[0])\n",
        "print('First column: ', tensor[:, 0])\n",
        "# [★]\n",
        "print('Last column:', tensor[..., -1])\n",
        "tensor[:,1] = 0\n",
        "print(tensor)"
      ],
      "id": "535e7a6a-6b64-45c0-ad27-99b8e26584e6",
      "execution_count": 14,
      "outputs": [
        {
          "output_type": "stream",
          "name": "stdout",
          "text": [
            "First row:  tensor([1., 1., 1., 1.])\n",
            "First column:  tensor([1., 1., 1., 1.])\n",
            "Last column: tensor([1., 1., 1., 1.])\n",
            "tensor([[1., 0., 1., 1.],\n",
            "        [1., 0., 1., 1.],\n",
            "        [1., 0., 1., 1.],\n",
            "        [1., 0., 1., 1.]])\n"
          ]
        }
      ]
    },
    {
      "cell_type": "markdown",
      "metadata": {
        "id": "0f5b5a86-18ed-4af1-be4a-91717895d609"
      },
      "source": [
        "텐서 합치기 `torch.cat`을 사용하여 주어진 차원에 따라 일련의 텐서를 연결할 수 있습니다. torch.cat 과 미묘하게 다른 또 다른 텐서 결합 연산인 [torch.stack](https://pytorch.org/docs/stable/generated/torch.stack.html)도 참고해보세요."
      ],
      "id": "0f5b5a86-18ed-4af1-be4a-91717895d609"
    },
    {
      "cell_type": "code",
      "metadata": {
        "colab": {
          "base_uri": "https://localhost:8080/"
        },
        "id": "c47ef522-8161-4508-991f-32fd0db49ea8",
        "outputId": "7af87ed9-6af3-4485-ce6c-b9d0a93bbdac"
      },
      "source": [
        "print(tensor.shape)\n",
        "#주어진 tensor를 연결할건데\n",
        "#0번째 차원에 다 겹쳐서 합침\n",
        "t1 = torch.cat([tensor, tensor, tensor], dim=0)\n",
        "print(t1.shape)\n",
        "#1번째 차원에 다 겹쳐서 합침\n",
        "t1 = torch.cat([tensor, tensor, tensor], dim=1)\n",
        "print(t1.shape)\n",
        "# t1 = torch.cat([tensor, tensor, tensor], dim=2)\n",
        "\n",
        "\n",
        "#주어진 tensor를 쌓을건데\n",
        "#0번째 차원(을 늘리는) 방향으로 합침\n",
        "t1 = torch.stack([tensor, tensor, tensor], dim=0)\n",
        "print(t1.shape)\n",
        "#1번째 차원(을 늘리는) 방향으로 합침\n",
        "t1 = torch.stack([tensor, tensor, tensor], dim=1)\n",
        "print(t1.shape)\n",
        "#2번째 차원(을 늘리는) 방향으로 합침\n",
        "t1 = torch.stack([tensor, tensor, tensor], dim=2)\n",
        "print(t1.shape)"
      ],
      "id": "c47ef522-8161-4508-991f-32fd0db49ea8",
      "execution_count": 15,
      "outputs": [
        {
          "output_type": "stream",
          "name": "stdout",
          "text": [
            "torch.Size([4, 4])\n",
            "torch.Size([12, 4])\n",
            "torch.Size([4, 12])\n",
            "torch.Size([3, 4, 4])\n",
            "torch.Size([4, 3, 4])\n",
            "torch.Size([4, 4, 3])\n"
          ]
        }
      ]
    },
    {
      "cell_type": "markdown",
      "metadata": {
        "id": "38f8542e-a54a-40b8-982c-94723f164257"
      },
      "source": [
        "#### b. 산술 연산(Arithmetic operations)"
      ],
      "id": "38f8542e-a54a-40b8-982c-94723f164257"
    },
    {
      "cell_type": "code",
      "metadata": {
        "colab": {
          "base_uri": "https://localhost:8080/"
        },
        "id": "431105fb-a68f-4d58-8550-03e0cae85986",
        "outputId": "f3cb84f3-52c2-4850-dab8-af673eae0705"
      },
      "source": [
        "# 두 텐서 간의 행렬 곱(matrix multiplication)을 계산합니다. y1, y2, y3은 모두 같은 값을 갖습니다.\n",
        "y1 = tensor @ tensor.T\n",
        "y2 = tensor.matmul(tensor.T)\n",
        "\n",
        "y3 = torch.rand_like(tensor)\n",
        "torch.matmul(tensor, tensor.T, out=y3)\n",
        "\n",
        "\n",
        "# 요소별 곱(element-wise product)을 계산합니다. z1, z2, z3는 모두 같은 값을 갖습니다.\n",
        "z1 = tensor * tensor\n",
        "z2 = tensor.mul(tensor)\n",
        "\n",
        "z3 = torch.rand_like(tensor)\n",
        "torch.mul(tensor, tensor, out=z3)"
      ],
      "id": "431105fb-a68f-4d58-8550-03e0cae85986",
      "execution_count": 16,
      "outputs": [
        {
          "output_type": "execute_result",
          "data": {
            "text/plain": [
              "tensor([[1., 0., 1., 1.],\n",
              "        [1., 0., 1., 1.],\n",
              "        [1., 0., 1., 1.],\n",
              "        [1., 0., 1., 1.]])"
            ]
          },
          "metadata": {},
          "execution_count": 16
        }
      ]
    },
    {
      "cell_type": "markdown",
      "metadata": {
        "id": "ac408566-f305-4a2e-bfc6-6a4c979d4d11"
      },
      "source": [
        "**단일-요소(single-element) 텐서**의 모든 값을 하나로 집계(aggregate)하여 요소가 하나인 텐서의 경우, `item()`을 사용하여 Python 숫자 값으로 변환할 수 있습니다:"
      ],
      "id": "ac408566-f305-4a2e-bfc6-6a4c979d4d11"
    },
    {
      "cell_type": "code",
      "metadata": {
        "colab": {
          "base_uri": "https://localhost:8080/"
        },
        "id": "57b5ea67-3e56-4eb6-9234-cf081999185d",
        "outputId": "a1db7331-9e16-4838-bdfd-32d9e3e58292"
      },
      "source": [
        "agg = tensor.sum()\n",
        "agg_item = agg.item()\n",
        "print(agg, type(agg))\n",
        "print(agg_item, type(agg_item))"
      ],
      "id": "57b5ea67-3e56-4eb6-9234-cf081999185d",
      "execution_count": 17,
      "outputs": [
        {
          "output_type": "stream",
          "name": "stdout",
          "text": [
            "tensor(12.) <class 'torch.Tensor'>\n",
            "12.0 <class 'float'>\n"
          ]
        }
      ]
    },
    {
      "cell_type": "markdown",
      "metadata": {
        "id": "a096f157-2ca6-476f-9d2d-ed5add07fe2e"
      },
      "source": [
        "**바꿔치기(in-place) 연산** 연산 결과를 피연산자(operand)에 저장하는 연산을 바꿔치기 연산이라고 부르며,  `_` 접미사를 갖습니다. 예를 들어, x.copy_(y) 나 x.t_() 는 x 를 변경합니다."
      ],
      "id": "a096f157-2ca6-476f-9d2d-ed5add07fe2e"
    },
    {
      "cell_type": "markdown",
      "metadata": {
        "id": "c163fa49-91ea-42b1-8e5c-358b0dde0f3f"
      },
      "source": [
        "<div class=\"alert alert-info\">\n",
        "    <b>📌NOTE</b>\n",
        "    <div>바꿔치기 연산은 메모리를 일부 절약하지만, 기록(history)이 즉시 삭제되어 도함수(derivative) 계산에 문제가 발생할 수 있습니다. 따라서, 사용을 권장하지 않습니다.</div>\n",
        "</div>"
      ],
      "id": "c163fa49-91ea-42b1-8e5c-358b0dde0f3f"
    },
    {
      "cell_type": "markdown",
      "metadata": {
        "id": "acf19d2e-2adf-42ec-b312-e37c4c942710"
      },
      "source": [
        "### D. NumPy 변환(Bridge)\n",
        "CPU 상의 텐서와 NumPy 배열은 메모리 공간을 공유하기 때문에, 하나를 변경하면 다른 하나도 변경됩니다."
      ],
      "id": "acf19d2e-2adf-42ec-b312-e37c4c942710"
    },
    {
      "cell_type": "markdown",
      "metadata": {
        "id": "04d1de7a-b49f-4b69-96e9-c4b4bc48731e"
      },
      "source": [
        "#### a. 텐서를 NumPy 배열로 변환하기"
      ],
      "id": "04d1de7a-b49f-4b69-96e9-c4b4bc48731e"
    },
    {
      "cell_type": "code",
      "metadata": {
        "colab": {
          "base_uri": "https://localhost:8080/"
        },
        "id": "0380fad1-29cc-42aa-99e8-08d324e4fd4c",
        "outputId": "2bfd2839-d066-4819-fde2-b0a032a6083c"
      },
      "source": [
        "t = torch.ones(5)\n",
        "print(f\"t: {t}\")\n",
        "n = t.numpy()\n",
        "print(f\"n: {n}\")"
      ],
      "id": "0380fad1-29cc-42aa-99e8-08d324e4fd4c",
      "execution_count": 18,
      "outputs": [
        {
          "output_type": "stream",
          "name": "stdout",
          "text": [
            "t: tensor([1., 1., 1., 1., 1.])\n",
            "n: [1. 1. 1. 1. 1.]\n"
          ]
        }
      ]
    },
    {
      "cell_type": "markdown",
      "metadata": {
        "id": "49599d36-5081-4c2c-91cd-2dcf2909dd35"
      },
      "source": [
        "텐서의 변경 사항이 NumPy 배열에 반영됩니다."
      ],
      "id": "49599d36-5081-4c2c-91cd-2dcf2909dd35"
    },
    {
      "cell_type": "code",
      "metadata": {
        "colab": {
          "base_uri": "https://localhost:8080/"
        },
        "id": "f02c53b2-9c6b-4db8-8503-ae7070281716",
        "outputId": "cd2a2240-80f9-4e32-9f82-18fc6a3c1c30"
      },
      "source": [
        "t.add_(1)\n",
        "print(f\"t: {t}\")\n",
        "print(f\"n: {n}\")"
      ],
      "id": "f02c53b2-9c6b-4db8-8503-ae7070281716",
      "execution_count": 19,
      "outputs": [
        {
          "output_type": "stream",
          "name": "stdout",
          "text": [
            "t: tensor([2., 2., 2., 2., 2.])\n",
            "n: [2. 2. 2. 2. 2.]\n"
          ]
        }
      ]
    },
    {
      "cell_type": "markdown",
      "metadata": {
        "id": "e1be91ad-d832-438b-a538-037ccaead865"
      },
      "source": [
        "#### b. NumPy 배열을 텐서로 변환하기"
      ],
      "id": "e1be91ad-d832-438b-a538-037ccaead865"
    },
    {
      "cell_type": "code",
      "metadata": {
        "colab": {
          "base_uri": "https://localhost:8080/"
        },
        "id": "7c9e1f5b-02d1-4aa6-8af5-ea52d60e7f69",
        "outputId": "f9c4dc41-e97d-4d8d-c8b7-c36fd1927532"
      },
      "source": [
        "n = np.ones(5)\n",
        "t = torch.from_numpy(n)\n",
        "t"
      ],
      "id": "7c9e1f5b-02d1-4aa6-8af5-ea52d60e7f69",
      "execution_count": 20,
      "outputs": [
        {
          "output_type": "execute_result",
          "data": {
            "text/plain": [
              "tensor([1., 1., 1., 1., 1.], dtype=torch.float64)"
            ]
          },
          "metadata": {},
          "execution_count": 20
        }
      ]
    },
    {
      "cell_type": "markdown",
      "metadata": {
        "id": "d5fc0d4d-8ff7-4b16-80af-1632f223aa9f"
      },
      "source": [
        "NumPy 배열의 변경 사항이 텐서에 반영됩니다."
      ],
      "id": "d5fc0d4d-8ff7-4b16-80af-1632f223aa9f"
    },
    {
      "cell_type": "code",
      "metadata": {
        "colab": {
          "base_uri": "https://localhost:8080/"
        },
        "id": "eb1c0529-b952-488d-8420-f4602c4e6e42",
        "outputId": "d916f558-f34b-4c04-9052-5af841eda9d9"
      },
      "source": [
        "np.add(n, 1, out=n)\n",
        "print(f\"t: {t}\")\n",
        "print(f\"n: {n}\")"
      ],
      "id": "eb1c0529-b952-488d-8420-f4602c4e6e42",
      "execution_count": 21,
      "outputs": [
        {
          "output_type": "stream",
          "name": "stdout",
          "text": [
            "t: tensor([2., 2., 2., 2., 2.], dtype=torch.float64)\n",
            "n: [2. 2. 2. 2. 2.]\n"
          ]
        }
      ]
    },
    {
      "cell_type": "markdown",
      "metadata": {
        "id": "c649cc4d-39c9-4676-aa96-ad39a9a4a84d"
      },
      "source": [
        "### E. [실습] Numpy to Tensor"
      ],
      "id": "c649cc4d-39c9-4676-aa96-ad39a9a4a84d"
    },
    {
      "cell_type": "markdown",
      "metadata": {
        "id": "2a9a591c-019f-4083-b5e0-a75ba5e09d6a"
      },
      "source": [
        "본질적으로, PyTorch에는 두가지 주요한 특징이 있습니다:\n",
        "\n",
        "- NumPy와 유사하지만 GPU 상에서 실행 가능한 n-차원 텐서(Tensor)\n",
        "- 신경망을 구성하고 학습하는 과정에서의 자동 미분(Automatic differentiation)\n",
        "\n",
        "이 튜토리얼에서는 3차 다항식(third order polynomial)을 사용하여 $y=\\sin(x)$ 에 근사(fit)하는 문제를 다뤄보겠습니다. 신경망은 4개의 매개변수를 가지며, 정답과 신경망이 예측한 결과 사이의 유클리드 거리(Euclidean distance)를 최소화하여 임의의 값을 근사할 수 있도록 경사하강법(gradient descent)을 사용하여 학습하겠습니다."
      ],
      "id": "2a9a591c-019f-4083-b5e0-a75ba5e09d6a"
    },
    {
      "cell_type": "markdown",
      "metadata": {
        "id": "fb231346-9453-4fed-883a-2984bb42b219"
      },
      "source": [
        "#### a. Numpy"
      ],
      "id": "fb231346-9453-4fed-883a-2984bb42b219"
    },
    {
      "cell_type": "markdown",
      "metadata": {
        "id": "09744d29-bdc0-4577-b8dc-e42e93888f6c"
      },
      "source": [
        "PyTorch를 소개하기 전에, 먼저 `NumPy`를 사용하여 신경망을 구성해보겠습니다.\n",
        "\n",
        "NumPy는 n-차원 배열 객체와 이러한 배열들을 조작하기 위한 다양한 함수들을 제공합니다. Num\n",
        "Py는 과학 분야의 연산을 위한 포괄적인 프레임워크(generic framework)입니다. \n",
        "\n",
        "NumPy는 연산 그래프(computation graph)나 딥러닝, 변화도(gradient)에 대해서는 알지 못합니다. 하지만 NumPy 연산을 사용하여 신경망의 순전파 단계와 역전파 단계를 직접 구현함으로써, 3차 다항식이 사인(sine) 함수에 근사하도록 만들 수 있습니다.\n",
        "\n",
        "✅ 구현해야 하는 사항 : Numpy를 이용한 순전파, 손실, 역전파\n",
        "- 이때, 입력값의 범위는 `-π ~ π` 이다. 따라서 구현되는 순전파 함수는 삼차다항식의 꼴이 된다.\n",
        "- 이때, 손실은 예측값과 실제값의 유클리드 거리로 구한다."
      ],
      "id": "09744d29-bdc0-4577-b8dc-e42e93888f6c"
    },
    {
      "cell_type": "code",
      "metadata": {
        "colab": {
          "base_uri": "https://localhost:8080/"
        },
        "id": "b2fd4ac5-a369-435a-9e68-c475010d47dc",
        "outputId": "706c7922-1fa6-4df7-9843-bc49a7ee6b45"
      },
      "source": [
        "import numpy as np\n",
        "import math\n",
        "\n",
        "# 무작위로 입력과 출력 데이터를 생성합니다\n",
        "x = np.linspace(-math.pi, math.pi, 2000)\n",
        "y = np.sin(x)\n",
        "\n",
        "# 무작위로 가중치를 초기화합니다\n",
        "a = np.random.randn()\n",
        "b = np.random.randn()\n",
        "c = np.random.randn()\n",
        "d = np.random.randn()\n",
        "\n",
        "print(f'------------------ init ------------------')\n",
        "print(f'x({len(x)}) : {x}')\n",
        "print(f'y({len(y)}) : {y}')\n",
        "print(f'가중치 초기값 : ')\n",
        "print(f'  a : {a}')\n",
        "print(f'  b : {b}')\n",
        "print(f'  c : {c}')\n",
        "print(f'  d : {d}')\n",
        "print(f'------------------------------------------')\n",
        "\n",
        "learning_rate = 1e-6\n",
        "for t in range(2000):\n",
        "    # 순전파 단계: 예측값 y를 계산합니다\n",
        "    # y = a + b x + c x^2 + d x^3\n",
        "    y_pred = a + b * x + c * x ** 2 + d * x ** 3\n",
        "\n",
        "    # 손실(loss)을 계산하고 출력합니다\n",
        "    loss = np.square(y_pred - y).sum() #loss를 sum으로 정의해서\n",
        "    if t % 100 == 99:\n",
        "        print(f'[t = {t+1:4d}] loss : {loss:.3f}')\n",
        "\n",
        "    # 손실에 따른 a, b, c, d의 변화도(gradient)를 계산하고 역전파합니다.\n",
        "    grad_y_pred = 2.0 * (y_pred - y) # 배치 경사 하강법: 주어진 데이터 전체로 경사하강을 한다. / 벡터의 미분\n",
        "    grad_a = grad_y_pred.sum() #gradient도 sum으로 계산하는구나\n",
        "    grad_b = (grad_y_pred * x).sum()\n",
        "    grad_c = (grad_y_pred * x ** 2).sum()\n",
        "    grad_d = (grad_y_pred * x ** 3).sum()\n",
        "\n",
        "    # 가중치를 갱신합니다.\n",
        "    a -= learning_rate * grad_a\n",
        "    b -= learning_rate * grad_b\n",
        "    c -= learning_rate * grad_c\n",
        "    d -= learning_rate * grad_d\n",
        "    \n",
        "print(f'------------------------------------------')\n",
        "print(f'Result: y = {a} + {b} x + {c} x^2 + {d} x^3')"
      ],
      "id": "b2fd4ac5-a369-435a-9e68-c475010d47dc",
      "execution_count": 22,
      "outputs": [
        {
          "output_type": "stream",
          "name": "stdout",
          "text": [
            "------------------ init ------------------\n",
            "x(2000) : [-3.14159265 -3.13844949 -3.13530633 ...  3.13530633  3.13844949\n",
            "  3.14159265]\n",
            "y(2000) : [-1.22464680e-16 -3.14315906e-03 -6.28628707e-03 ...  6.28628707e-03\n",
            "  3.14315906e-03  1.22464680e-16]\n",
            "가중치 초기값 : \n",
            "  a : 0.8676002214970783\n",
            "  b : -1.6867044556861914\n",
            "  c : 0.757379189191995\n",
            "  d : -0.20405716414925157\n",
            "------------------------------------------\n",
            "[t =  100] loss : 4627.734\n",
            "[t =  200] loss : 3078.088\n",
            "[t =  300] loss : 2048.996\n",
            "[t =  400] loss : 1365.404\n",
            "[t =  500] loss : 911.180\n",
            "[t =  600] loss : 609.269\n",
            "[t =  700] loss : 408.530\n",
            "[t =  800] loss : 275.013\n",
            "[t =  900] loss : 186.173\n",
            "[t = 1000] loss : 127.038\n",
            "[t = 1100] loss : 87.659\n",
            "[t = 1200] loss : 61.424\n",
            "[t = 1300] loss : 43.938\n",
            "[t = 1400] loss : 32.278\n",
            "[t = 1500] loss : 24.498\n",
            "[t = 1600] loss : 19.305\n",
            "[t = 1700] loss : 15.836\n",
            "[t = 1800] loss : 13.518\n",
            "[t = 1900] loss : 11.967\n",
            "[t = 2000] loss : 10.930\n",
            "------------------------------------------\n",
            "Result: y = 0.022537698238443347 + 0.8171416754717576 x + -0.003888127975048954 x^2 + -0.0876977522817959 x^3\n"
          ]
        }
      ]
    },
    {
      "cell_type": "code",
      "metadata": {
        "colab": {
          "base_uri": "https://localhost:8080/",
          "height": 265
        },
        "id": "bdca8ad5-edcd-4189-9d78-3a42d995fefc",
        "outputId": "7d8ac86a-e646-48e0-d369-658c28adf70e"
      },
      "source": [
        "import matplotlib.pyplot as plt\n",
        "\n",
        "def show(x, y, y_pred):\n",
        "    fig = plt.figure(figsize=(10, 4))\n",
        "\n",
        "    plt.plot(x, y, color='red', label=\"real\")\n",
        "    plt.plot(x, y_pred, color='blue', label=\"prediction\")\n",
        "    plt.legend()\n",
        "    plt.grid(True)\n",
        "    plt.show()\n",
        "\n",
        "show(x, y, a + b * x + c * x ** 2 + d * x ** 3)"
      ],
      "id": "bdca8ad5-edcd-4189-9d78-3a42d995fefc",
      "execution_count": 23,
      "outputs": [
        {
          "output_type": "display_data",
          "data": {
            "image/png": "[encoded data removed]",
            "text/plain": [
              "<Figure size 720x288 with 1 Axes>"
            ]
          },
          "metadata": {
            "needs_background": "light"
          }
        }
      ]
    },
    {
      "cell_type": "markdown",
      "metadata": {
        "id": "9f417d32-37d0-4773-9f65-3af636582c2d"
      },
      "source": [
        "<div class=\"alert alert-warning\">\n",
        "    <p><b>Q. `grad_y_pred`를 계산하는 수식에서 왜 2를 곱하는 이유는 무엇인가?</b></p>\n",
        "    <p>👉 (여기에 답을 입력해 주세요)</p>\n",
        "</div>"
      ],
      "id": "9f417d32-37d0-4773-9f65-3af636582c2d"
    },
    {
      "cell_type": "markdown",
      "metadata": {
        "id": "80b79538-48ca-473b-86a7-fa8841712c8a"
      },
      "source": [
        "<div class=\"alert alert-warning\">\n",
        "    <p><b>Q. 각 가중치에 대한 gradient를 구하는 식은 어떻게 유도되었는가?</b></p>\n",
        "    <p>👉 (여기에 답을 입력해 주세요)</p>\n",
        "</div>"
      ],
      "id": "80b79538-48ca-473b-86a7-fa8841712c8a"
    },
    {
      "cell_type": "markdown",
      "metadata": {
        "id": "df2aa280-6127-41bf-a5e7-d91daa8c9ed8"
      },
      "source": [
        "<div class=\"alert alert-warning\">\n",
        "    <p><b>Q. 다음 함수들의 기능은 무엇인가?</b>\n",
        "    <a href=\"https://numpy.org/doc/stable/index.html\">hint</a></p>\n",
        "    <div>👉 numpy.linespace : (여기에 답을 입력해 주세요)<br>\n",
        "             👉 numpy.sin : (여기에 답을 입력해 주세요)<br>\n",
        "             👉 numpy.square : (여기에 답을 입력해 주세요)</div>\n",
        "</div>"
      ],
      "id": "df2aa280-6127-41bf-a5e7-d91daa8c9ed8"
    },
    {
      "cell_type": "markdown",
      "metadata": {
        "id": "fb5c00bf-14f5-4975-8de7-52e86a9bb9ac"
      },
      "source": [
        "#### b. Tensor"
      ],
      "id": "fb5c00bf-14f5-4975-8de7-52e86a9bb9ac"
    },
    {
      "cell_type": "markdown",
      "metadata": {
        "id": "2c25f57c-74f4-4989-a8c6-0d1e7b1b0c0d"
      },
      "source": [
        "NumPy는 훌륭한 프레임워크지만, GPU를 사용하여 수치 연산을 가속화할 수는 없습니다. 현대의 심층 신경망에서 GPU는 종종 [50배 또는 그 이상](https://github.com/jcjohnson/cnn-benchmarks) 의 속도 향상을 제공하기 때문에, 안타깝게도 NumPy는 현대의 딥러닝에는 충분치 않습니다.\n",
        "\n",
        "이번에는 PyTorch의 가장 핵심적인 개념인 **텐서(Tensor)** 에 대해서 알아보겠습니다. PyTorch 텐서(Tensor)는 개념적으로 NumPy 배열과 동일합니다. \n",
        "- 텐서(Tensor)는 n-차원 배열이며, PyTorch는 이러한 텐서들의 연산을 위한 다양한 기능들을 제공합니다.\n",
        "- NumPy 배열처럼 PyTorch Tensor는 딥러닝이나 연산 그래프, 변화도는 알지 못하며, 과학적 분야의 연산을 위한 포괄적인 도구입니다. \n",
        "- 텐서는 연산 그래프와 변화도를 추적할 수도 있지만, 과학적 연산을 위한 일반적인 도구로도 유용합니다.\n",
        "- 또한 NumPy와는 다르게, PyTorch 텐서는 GPU를 사용하여 수치 연산을 가속할 수 있습니다. PyTorch 텐서를 GPU에서 실행하기 위해서는 단지 적절한 장치를 지정해주기만 하면 됩니다.\n",
        "\n",
        "위의 NumPy 예제에서와 같이 신경망의 순전파 단계와 역전파 단계구현하되 입력/출력/가중치 값을 PyTorch 텐서를 사용하여 정의해 봅시다. \n",
        "\n",
        "✅ 구현해야 하는 사항 : 이전 구현에서 Numpy를 torch.Tensor로 대체한다."
      ],
      "id": "2c25f57c-74f4-4989-a8c6-0d1e7b1b0c0d"
    },
    {
      "cell_type": "code",
      "metadata": {
        "colab": {
          "base_uri": "https://localhost:8080/"
        },
        "id": "RT38Q9L_80GI",
        "outputId": "c41d820b-e6f4-4f31-a4c1-e41408dce94b"
      },
      "source": [
        "x.shape"
      ],
      "id": "RT38Q9L_80GI",
      "execution_count": 24,
      "outputs": [
        {
          "output_type": "execute_result",
          "data": {
            "text/plain": [
              "(2000,)"
            ]
          },
          "metadata": {},
          "execution_count": 24
        }
      ]
    },
    {
      "cell_type": "code",
      "metadata": {
        "colab": {
          "base_uri": "https://localhost:8080/",
          "height": 841
        },
        "id": "5b6c9266-1b2c-42cc-b405-ffe5b560ba42",
        "outputId": "16dbc33d-ba0b-439e-f4b0-bc55c9e9c15f"
      },
      "source": [
        "import torch\n",
        "import math\n",
        "\n",
        "\n",
        "dtype = torch.float\n",
        "device = torch.device(\"cpu\")\n",
        "# device = torch.device(\"cuda:0\") # GPU에서 실행하려면 이 주석을 제거하세요\n",
        "\n",
        "# 무작위로 입력과 출력 데이터를 생성합니다\n",
        "x = torch.linspace(-math.pi, math.pi, 2000, device=device, dtype=dtype)\n",
        "y = torch.sin(x)\n",
        "\n",
        "# 무작위로 가중치를 초기화합니다\n",
        "a = torch.randn((), device=device, dtype=dtype)\n",
        "b = torch.randn((), device=device, dtype=dtype)\n",
        "c = torch.randn((), device=device, dtype=dtype)\n",
        "d = torch.randn((), device=device, dtype=dtype)\n",
        "\n",
        "print(f'------------------ init ------------------')\n",
        "print(f'x({len(x)}, {x.__class__}) : {x}')\n",
        "print(f'y({len(y)}, {y.__class__}) : {y}')\n",
        "print(f'가중치 초기값 : ')\n",
        "print(f'  a({a.__class__}) : {a}')\n",
        "print(f'  b({b.__class__}) : {b}')\n",
        "print(f'  c({c.__class__}) : {c}')\n",
        "print(f'  d({d.__class__}) : {d}')\n",
        "print(f'------------------------------------------')\n",
        "\n",
        "learning_rate = 1e-6\n",
        "for t in range(2000):\n",
        "    # 순전파 단계: 예측값 y를 계산합니다\n",
        "    y_pred = a + b * x + c * x ** 2 + d * x ** 3\n",
        "\n",
        "    # 손실(loss)을 계산하고 출력합니다\n",
        "    loss = (y_pred - y).pow(2).sum().item()\n",
        "    if t % 100 == 99:\n",
        "        print(f'[t = {t+1:4d}] loss : {loss:.3f}')\n",
        "\n",
        "    # 손실에 따른 a, b, c, d의 변화도(gradient)를 계산하고 역전파합니다.\n",
        "    grad_y_pred = 2.0 * (y_pred - y)\n",
        "    grad_a = grad_y_pred.sum()\n",
        "    grad_b = (grad_y_pred * x).sum()\n",
        "    grad_c = (grad_y_pred * x ** 2).sum()\n",
        "    grad_d = (grad_y_pred * x ** 3).sum()\n",
        "\n",
        "    # 가중치를 갱신합니다.\n",
        "    a -= learning_rate * grad_a\n",
        "    b -= learning_rate * grad_b\n",
        "    c -= learning_rate * grad_c\n",
        "    d -= learning_rate * grad_d\n",
        "\n",
        "print(f'------------------------------------------')\n",
        "print(f'Result: y = {a.item()} + {b.item()} x + {c.item()} x^2 + {d.item()} x^3')\n",
        "\n",
        "show(x, y, a + b * x + c * x ** 2 + d * x ** 3)"
      ],
      "id": "5b6c9266-1b2c-42cc-b405-ffe5b560ba42",
      "execution_count": 25,
      "outputs": [
        {
          "output_type": "stream",
          "name": "stdout",
          "text": [
            "------------------ init ------------------\n",
            "x(2000, <class 'torch.Tensor'>) : tensor([-3.1416, -3.1384, -3.1353,  ...,  3.1353,  3.1384,  3.1416])\n",
            "y(2000, <class 'torch.Tensor'>) : tensor([ 8.7423e-08, -3.1430e-03, -6.2863e-03,  ...,  6.2863e-03,\n",
            "         3.1432e-03, -8.7423e-08])\n",
            "가중치 초기값 : \n",
            "  a(<class 'torch.Tensor'>) : -1.2383670806884766\n",
            "  b(<class 'torch.Tensor'>) : 0.5191817879676819\n",
            "  c(<class 'torch.Tensor'>) : 0.010196004994213581\n",
            "  d(<class 'torch.Tensor'>) : 1.1355570554733276\n",
            "------------------------------------------\n",
            "[t =  100] loss : 1101.323\n",
            "[t =  200] loss : 773.745\n",
            "[t =  300] loss : 544.706\n",
            "[t =  400] loss : 384.461\n",
            "[t =  500] loss : 272.275\n",
            "[t =  600] loss : 193.689\n",
            "[t =  700] loss : 138.607\n",
            "[t =  800] loss : 99.979\n",
            "[t =  900] loss : 72.876\n",
            "[t = 1000] loss : 53.849\n",
            "[t = 1100] loss : 40.486\n",
            "[t = 1200] loss : 31.097\n",
            "[t = 1300] loss : 24.497\n",
            "[t = 1400] loss : 19.856\n",
            "[t = 1500] loss : 16.591\n",
            "[t = 1600] loss : 14.293\n",
            "[t = 1700] loss : 12.676\n",
            "[t = 1800] loss : 11.537\n",
            "[t = 1900] loss : 10.735\n",
            "[t = 2000] loss : 10.169\n",
            "------------------------------------------\n",
            "Result: y = -0.037926532328128815 + 0.8487139940261841 x + 0.006542956456542015 x^2 + -0.09218863397836685 x^3\n"
          ]
        },
        {
          "output_type": "display_data",
          "data": {
            "image/png": "[encoded data removed]",
            "text/plain": [
              "<Figure size 720x288 with 1 Axes>"
            ]
          },
          "metadata": {
            "needs_background": "light"
          }
        }
      ]
    },
    {
      "cell_type": "markdown",
      "metadata": {
        "id": "qbx3NVLMFT1b"
      },
      "source": [
        "![image.png](data:image/png;base64,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)"
      ],
      "id": "qbx3NVLMFT1b"
    },
    {
      "cell_type": "markdown",
      "metadata": {
        "id": "eb7ba389-11f0-406b-876c-87fa24bdb3be"
      },
      "source": [
        "<div class=\"alert alert-warning\">\n",
        "    <p><b>Q. 파이토치 Tensor가 Numpy에 비하여 가지는 장점이 무엇인가? 위의 문장들을 복사하지 말고 자신만의 표현으로 적어보자.</b></p>\n",
        "    <p>👉 (여기에 답을 입력해 주세요)</p>\n",
        "</div>"
      ],
      "id": "eb7ba389-11f0-406b-876c-87fa24bdb3be"
    },
    {
      "cell_type": "markdown",
      "metadata": {
        "id": "f2e95c5e-71c5-4441-a558-dd1fd9f9e4bf"
      },
      "source": [
        "## 2. Autograd\n",
        "---"
      ],
      "id": "f2e95c5e-71c5-4441-a558-dd1fd9f9e4bf"
    },
    {
      "cell_type": "markdown",
      "metadata": {
        "id": "65780702-4ad4-444d-87d6-d0e34b8787b7"
      },
      "source": [
        "신경망을 학습할 때 가장 자주 사용되는 알고리즘은 **역전파* 입니다. 이 알고리즘에서, 매개변수(모델 가중치)는 주어진 매개변수에 대한 손실 함수의 **변화도(gradient)**에 따라 조정됩니다.\n",
        "\n",
        "이러한 변화도를 계산하기 위해 PyTorch에는 `torch.autograd`라고 불리는 자동 미분 엔진이 내장되어 있습니다. 이는 모든 계산 그래프에 대한 변화도의 자동 계산을 지원합니다.\n",
        "\n",
        "입력 `x`, 매개변수 `w` 와 `b` , 그리고 일부 손실 함수가 있는 가장 간단한 단일 계층 신경망을 가정하겠습니다. PyTorch에서는 다음과 같이 정의할 수 있습니다."
      ],
      "id": "65780702-4ad4-444d-87d6-d0e34b8787b7"
    },
    {
      "cell_type": "code",
      "metadata": {
        "id": "0ab002f5-707e-4e5b-8888-137a06eca942"
      },
      "source": [
        "import torch\n",
        "\n",
        "x = torch.ones(5)  # input tensor\n",
        "y = torch.zeros(3)  # expected output\n",
        "w = torch.randn(5, 3, requires_grad=True) #하나의 데이터에 해당하는 파라미터\n",
        "b = torch.randn(3, requires_grad=True)\n",
        "z = torch.matmul(x, w)+b\n",
        "loss = torch.nn.functional.binary_cross_entropy_with_logits(z, y)"
      ],
      "id": "0ab002f5-707e-4e5b-8888-137a06eca942",
      "execution_count": 36,
      "outputs": []
    },
    {
      "cell_type": "code",
      "metadata": {
        "colab": {
          "base_uri": "https://localhost:8080/"
        },
        "id": "SxKBfGmMGltY",
        "outputId": "ef0c702e-0d9f-4849-acc8-519fe911357a"
      },
      "source": [
        "x, y, w, b, z, loss"
      ],
      "id": "SxKBfGmMGltY",
      "execution_count": 32,
      "outputs": [
        {
          "output_type": "execute_result",
          "data": {
            "text/plain": [
              "(tensor([1., 1., 1., 1., 1.]),\n",
              " tensor([0., 0., 0.]),\n",
              " tensor([[-0.0193, -1.6657,  0.1935],\n",
              "         [-1.4176, -0.3402,  0.7787],\n",
              "         [-1.0064,  0.4599,  0.8464],\n",
              "         [-0.4024,  1.4556,  0.1868],\n",
              "         [ 0.1282,  0.7229,  0.2735]], requires_grad=True),\n",
              " tensor([ 0.2427, -1.3167,  0.6033], requires_grad=True),\n",
              " tensor([-2.4749, -0.6843,  2.8823], grad_fn=<AddBackward0>),\n",
              " tensor(1.1420, grad_fn=<BinaryCrossEntropyWithLogitsBackward>))"
            ]
          },
          "metadata": {},
          "execution_count": 32
        }
      ]
    },
    {
      "cell_type": "markdown",
      "metadata": {
        "id": "07aa2e7d-b21c-4a6e-90c1-d67edcc28f72"
      },
      "source": [
        "### A. Tensor, Function과 연산그래프(Computational graph)"
      ],
      "id": "07aa2e7d-b21c-4a6e-90c1-d67edcc28f72"
    },
    {
      "cell_type": "markdown",
      "metadata": {
        "id": "f9705f65-99a2-4144-a6a5-79c971124881"
      },
      "source": [
        "이 코드는 다음의 **연산 그래프** 를 정의합니다:\n",
        "\n",
        "![](https://i.ibb.co/HFpgNcF/computational-graph.png)\n",
        "\n",
        "이 신경망에서, ``w`` 와 ``b`` 는 최적화를 해야 하는 **매개변수** 입니다. 따라서\n",
        "이러한 변수들에 대한 손실 함수의 변화도를 계산할 수 있어야 합니다. 이를 위해서 해당 텐서에\n",
        "``requires_grad`` 속성을 설정합니다.\n",
        "\n",
        "<div class=\"alert alert-info\">\n",
        "    <b>📌NOTE</b>\n",
        "    <div><b><i>requires_grad</i></b>의 값은 텐서를 생성할 때 설정하거나, 나중에 <b><i>x.requires_grad_(True)</i></b> 메소드를 사용하여 나중에 설정할 수도 있습니다.</div>\n",
        "</div>\n",
        "\n",
        "연산 그래프를 구성하기 위해 텐서에 적용하는 함수는 사실 ``Function`` 클래스의 객체입니다. 이 객체는 *순전파* 방향으로 함수를 계산하는 방법과, *역방향 전파* 단계에서 도함수(derivative)를 계산하는 방법을 알고 있습니다. 역방향 전파 함수에 대한 참조(reference)는 텐서의 ``grad_fn`` 속성에 저장됩니다. ``Function`` 에 대한 자세한 정보는 [이 문서](https://pytorch.org/docs/stable/autograd.html#function)에서 찾아볼 수 있습니다."
      ],
      "id": "f9705f65-99a2-4144-a6a5-79c971124881"
    },
    {
      "cell_type": "code",
      "metadata": {
        "colab": {
          "base_uri": "https://localhost:8080/"
        },
        "id": "cb880382-83f8-4eee-8dcc-f7a6ef936702",
        "outputId": "2fb434bd-b4a0-4ece-a558-04f5b17e70e3"
      },
      "source": [
        "print('Gradient function for z =', z.grad_fn)\n",
        "print('Gradient function for loss =', loss.grad_fn)"
      ],
      "id": "cb880382-83f8-4eee-8dcc-f7a6ef936702",
      "execution_count": 33,
      "outputs": [
        {
          "output_type": "stream",
          "name": "stdout",
          "text": [
            "Gradient function for z = <AddBackward0 object at 0x7f78bc42ac90>\n",
            "Gradient function for loss = <BinaryCrossEntropyWithLogitsBackward object at 0x7f78bc42a9d0>\n"
          ]
        }
      ]
    },
    {
      "cell_type": "markdown",
      "metadata": {
        "id": "1b5658d1-39bb-4218-a057-8b9af5bf800b"
      },
      "source": [
        "### B. 변화도(Gradient) 계산하기\n",
        "신경망에서 매개변수의 가중치를 최적화하려면 매개변수에 대한 손실함수의 도함수(derivative)를 계산해야 합니다. 즉, ``x`` 와 ``y`` 의 일부 고정값에서 $\\frac{\\partial loss}{\\partial w}$와 $\\frac{\\partial loss}{\\partial b}$ 가 필요합니다.\n",
        "\n",
        "이러한 도함수를 계산하기 위해, ``loss.backward()`` 를 호출한 다음 ``w.grad`` 와\n",
        "``b.grad`` 에서 값을 가져옵니다:"
      ],
      "id": "1b5658d1-39bb-4218-a057-8b9af5bf800b"
    },
    {
      "cell_type": "code",
      "metadata": {
        "colab": {
          "base_uri": "https://localhost:8080/"
        },
        "id": "a704989c-91ff-4c8d-b2f4-7bb4540e76a7",
        "outputId": "0f44d0ae-addb-4d4a-9d2f-3107dbe5e1f1"
      },
      "source": [
        "# loss.backward(retain_graph=True)\n",
        "print(w.grad)\n",
        "print(b.grad)\n",
        "print(z.grad)"
      ],
      "id": "a704989c-91ff-4c8d-b2f4-7bb4540e76a7",
      "execution_count": 42,
      "outputs": [
        {
          "output_type": "stream",
          "name": "stdout",
          "text": [
            "tensor([[0.3237, 0.3264, 0.0941],\n",
            "        [0.3237, 0.3264, 0.0941],\n",
            "        [0.3237, 0.3264, 0.0941],\n",
            "        [0.3237, 0.3264, 0.0941],\n",
            "        [0.3237, 0.3264, 0.0941]])\n",
            "tensor([0.3237, 0.3264, 0.0941])\n",
            "None\n"
          ]
        },
        {
          "output_type": "stream",
          "name": "stderr",
          "text": [
            "/usr/local/lib/python3.7/dist-packages/ipykernel_launcher.py:4: UserWarning: The .grad attribute of a Tensor that is not a leaf Tensor is being accessed. Its .grad attribute won't be populated during autograd.backward(). If you indeed want the gradient for a non-leaf Tensor, use .retain_grad() on the non-leaf Tensor. If you access the non-leaf Tensor by mistake, make sure you access the leaf Tensor instead. See github.com/pytorch/pytorch/pull/30531 for more information.\n",
            "  after removing the cwd from sys.path.\n"
          ]
        }
      ]
    },
    {
      "cell_type": "markdown",
      "metadata": {
        "id": "5af95bad-529b-4362-9a43-627fb600cbe3"
      },
      "source": [
        "<div class=\"alert alert-info\">\n",
        "    <b>📌NOTE</b>\n",
        "    <div>\n",
        "        <p>• 연산 그래프의 잎(leaf) 노드들 중 <i><b>requires_grad</b></i> 속성이 <i><b>True</b></i> 로 설정된 노드들의 <i><b>grad</b></i> 속성만 구할 수 있습니다. 그래프의 다른 모든 노드에서는 변화도가 유효하지 않습니다.</p>\n",
        "        <p>• 성능 상의 이유로, 주어진 그래프에서의 <i><b>backward</b></i>를 사용한 변화도 계산은 한 번만 수행할 수 있습니다. 만약 동일한 그래프에서 여러번의 <i><b>backward</b></i> 호출이 필요하면, <i><b>backward</b></i> 호출 시에 <i><b>retrain_graph=True</b></i> 를 전달해야 합니다.</p>\n",
        "    </div>\n",
        "</div>"
      ],
      "id": "5af95bad-529b-4362-9a43-627fb600cbe3"
    },
    {
      "cell_type": "markdown",
      "metadata": {
        "id": "8cfbb790-2f37-44e7-86d7-86ff21351942"
      },
      "source": [
        "### C. 변화도 추적 멈추기"
      ],
      "id": "8cfbb790-2f37-44e7-86d7-86ff21351942"
    },
    {
      "cell_type": "markdown",
      "metadata": {
        "id": "1557d146-e7ee-4e42-8fb7-d20f807d22fd"
      },
      "source": [
        "기본적으로, `requires_grad=True`인 모든 텐서들은 연산 기록을 추적하고 변화도 계산을 지원합니다. 그러나 모델을 학습한 뒤 입력 데이터를 단순히 적용하기만 하는 경우와 같이 순전파 연산만 필요한 경우에는, 이러한 추적이나 지원이 필요없을 수 있습니다. 연산 코드를 `torch.no_grad()` 블록으로 둘러싸서 연산 추적을 멈출 수 있습니다."
      ],
      "id": "1557d146-e7ee-4e42-8fb7-d20f807d22fd"
    },
    {
      "cell_type": "code",
      "metadata": {
        "id": "10b1c43a-b570-4917-817a-e8003a5118da"
      },
      "source": [
        "z = torch.matmul(x, w)+b\n",
        "print(z.requires_grad)\n",
        "\n",
        "with torch.no_grad():\n",
        "    z = torch.matmul(x, w)+b\n",
        "print(z.requires_grad)"
      ],
      "id": "10b1c43a-b570-4917-817a-e8003a5118da",
      "execution_count": null,
      "outputs": []
    },
    {
      "cell_type": "markdown",
      "metadata": {
        "id": "8348b424-4424-4c42-8f29-2362a0724c1f"
      },
      "source": [
        "동일한 결과를 얻는 다른 방법은 텐서에 `detach()` 메소드를 사용하는 것입니다.\n",
        "\n",
        "변화도 추적을 멈춰야 하는 이유들은 다음과 같습니다:\n",
        "- 신경망의 일부 매개변수를 고정된 **매개변수(frozen parameter)**로 표시합니다. 이는 [사전 학습된 신경망을 미세조정](https://tutorials.pytorch.kr/beginner/finetuning_torchvision_models_tutorial.html) 할 때 매우 일반적인 시나리오입니다.\n",
        "- 변화도를 추적하지 않는 텐서의 연산이 더 효율적이기 때문에, 순전파 단계만 수행할 때 **연산 속도가 향상됩니다.**"
      ],
      "id": "8348b424-4424-4c42-8f29-2362a0724c1f"
    },
    {
      "cell_type": "markdown",
      "metadata": {
        "id": "326cedcf-8665-478f-ab0c-d7f7129e25fa"
      },
      "source": [
        "### D. 연산 그래프에 대한 추가 정보"
      ],
      "id": "326cedcf-8665-478f-ab0c-d7f7129e25fa"
    },
    {
      "cell_type": "markdown",
      "metadata": {
        "id": "3ca91d38-5c91-4dd0-8443-ce41423e5fbf"
      },
      "source": [
        "개념적으로, autograd는 데이터(텐서)의 및 실행된 모든 연산들(및 연산 결과가 새로운 텐서인 경우도 포함하여)의 기록을 [Function](https://pytorch.org/docs/stable/autograd.html#torch.autograd.Function) 객체로\n",
        "구성된 방향성 비순환 그래프(DAG; Directed Acyclic Graph)에 저장(keep)합니다. 이 방향성 비순환 그래프(DAG)의 잎(leave)은 입력 텐서이고, 뿌리(root)는 결과 텐서입니다. 이 그래프를 뿌리에서부터 잎까지 추적하면 연쇄 법칙(chain rule)에 따라 변화도를 자동으로 계산할 수 있습니다.\n",
        "\n",
        "순전파 단계에서, `autograd`는 다음 두 가지 작업을 동시에 수행합니다:\n",
        "\n",
        "- 요청된 연산을 수행하여 결과 텐서를 계산하고,\n",
        "- DAG에 연산의 *변화도 기능(gradient function)* 를 유지(maintain)합니다.\n",
        "\n",
        "역전파 단계는 DAG 뿌리(root)에서 ``.backward()`` 가 호출될 때 시작됩니다. ``autograd`` 는 이 때:\n",
        "\n",
        "- 각 ``.grad_fn`` 으로부터 변화도를 계산하고,\n",
        "- 각 텐서의 ``.grad`` 속성에 계산 결과를 쌓고(accumulate),\n",
        "- 연쇄 법칙을 사용하여, 모든 잎(leaf) 텐서들까지 전파(propagate)합니다.\n",
        "\n",
        "<div class=\"alert alert-info\">\n",
        "    <b>📌NOTE</b>\n",
        "    <div>\n",
        "  <b>PyTorch에서 DAG들은 동적(dynamic)입니다.</b><br>\n",
        "      주목해야 할 중요한 점은 그래프가 처음부터(from scratch) 다시 생성된다는 것입니다. 매번 <b><i>.bachward()</i></b> 가 호출되고 나면, autograd는 새로운 그래프를 채우기(populate) 시작합니다. 이러한 점 덕분에 모델에서 흐름 제어(control flow) 구문들을 사용할 수 있게 되는 것입니다; 매번 반복(iteration)할 때마다 필요하면 모양(shape)이나 크기(size), 연산(operation)을 바꿀 수 있습니다.\n",
        "    </div>\n",
        "</div>"
      ],
      "id": "3ca91d38-5c91-4dd0-8443-ce41423e5fbf"
    },
    {
      "cell_type": "markdown",
      "metadata": {
        "id": "201244df-f973-48db-a7b2-8af96d91ad09"
      },
      "source": [
        "### E. 선택적으로 읽기(Optional Reading): 텐서 변화도와 야코비안 곱(Jacobian Product)"
      ],
      "id": "201244df-f973-48db-a7b2-8af96d91ad09"
    },
    {
      "cell_type": "markdown",
      "metadata": {
        "id": "4049c8c6-ba5f-40cf-a99c-bd301753053d"
      },
      "source": [
        "대부분의 경우, 스칼라 손실 함수를 가지고 일부 매개변수와 관련한 변화도를 계산해야 합니다. 그러나 출력 함수가 임의의 텐서인 경우가 있습니다. 이럴 때, PyTorch는 실제 변화도가 아닌 **야코비안 곱(Jacobian product)**\\ 을 계산합니다.\n",
        "\n",
        "$\\vec{x}=\\langle x_1,\\dots,x_n\\rangle$ 이고, $\\vec{y}=\\langle y_1,\\dots,y_m\\rangle`$ 일 때 벡터 함수 $\\vec{y}=f(\\vec{x})$에서 $\\vec{x}$에 대한 $\\vec{y}$의 변화도는 **야코비안 행렬(Jacobian matrix)**로 주어집니다:\n",
        "\n",
        "$$J=\\left(\\begin{array}{ccc}\n",
        "      \\frac{\\partial y_{1}}{\\partial x_{1}} & \\cdots & \\frac{\\partial y_{1}}{\\partial x_{n}}\\\\\n",
        "      \\vdots & \\ddots & \\vdots\\\\\n",
        "      \\frac{\\partial y_{m}}{\\partial x_{1}} & \\cdots & \\frac{\\partial y_{m}}{\\partial x_{n}}\n",
        "      \\end{array}\\right) $$\n",
        "\n",
        "야코비안 행렬 자체를 계산하는 대신, PyTorch는 주어진 입력 벡터 $v=(v_1 \\dots v_m)$ 에 대한 **야코비안 곱(Jacobian Product)**  $v^T\\cdot J$ 을 계산합니다.\n",
        "이 과정은 $v$ 를 인자로 ``backward`` 를 호출하면 이뤄집니다. $v$의 크기는 곱(product)을 계산하려고 하는 원래 텐서의 크기와 같아야 합니다."
      ],
      "id": "4049c8c6-ba5f-40cf-a99c-bd301753053d"
    },
    {
      "cell_type": "code",
      "metadata": {
        "id": "e0f36f8f-b5cc-4f06-a23a-a997a143102c"
      },
      "source": [
        "inp = torch.eye(5, requires_grad=True)\n",
        "out = (inp+1).pow(2)\n",
        "out.backward(torch.ones_like(inp), retain_graph=True)\n",
        "print(\"First call\\n\", inp.grad)\n",
        "out.backward(torch.ones_like(inp), retain_graph=True)\n",
        "print(\"\\nSecond call\\n\", inp.grad)\n",
        "inp.grad.zero_()\n",
        "out.backward(torch.ones_like(inp), retain_graph=True)\n",
        "print(\"\\nCall after zeroing gradients\\n\", inp.grad)"
      ],
      "id": "e0f36f8f-b5cc-4f06-a23a-a997a143102c",
      "execution_count": null,
      "outputs": []
    },
    {
      "cell_type": "markdown",
      "metadata": {
        "id": "2b294856-bafd-4967-bd2e-608830bbdb57"
      },
      "source": [
        "동일한 인자로 `backward`를 두차례 호출하면 변화도 값이 달라집니다. 이는 역방향 전파를 수행할 때, PyTorch가 **변화도를 누적(accumulate)해두기 때문**입니다. 즉, 계산된 변화도의 값이 연산 그래프의 모든 잎(leaf) 노드의 `grad` 속성에 추가됩니다. 따라서 제대로된 변화도를 계산하기 위해서는 `grad` 속성을 먼저 0으로 만들어야 합니다. 실제 학습 과정에서는 *옵티마이저(optimizer)* 가 이 과정을 도와줍니다."
      ],
      "id": "2b294856-bafd-4967-bd2e-608830bbdb57"
    },
    {
      "cell_type": "markdown",
      "metadata": {
        "id": "9fd1d504-c110-46cf-a412-4307aa42529a"
      },
      "source": [
        "<div class=\"alert alert-info\">\n",
        "    <b>📌NOTE</b>\n",
        "    <div>이전에는 매개변수 없이 <b><i>backward()</i></b> 함수를 호출했습니다. 이는 본질적으로 <b><i>backward(torch.tensor(1.0))</i></b>을 호출하는 것과 동일하며, 신경망 훈련 중의 손실과 같은 스칼라-값 함수의 변화도를 계산하는 유용한 방법입니다.\n",
        "    </div>\n",
        "</div>"
      ],
      "id": "9fd1d504-c110-46cf-a412-4307aa42529a"
    },
    {
      "cell_type": "markdown",
      "metadata": {
        "id": "73e8699f-6d35-4efa-9e9a-f4660b6260c0"
      },
      "source": [
        "### F. [실습] Backpropagation with Autograd"
      ],
      "id": "73e8699f-6d35-4efa-9e9a-f4660b6260c0"
    },
    {
      "cell_type": "markdown",
      "metadata": {
        "id": "d8acbc6d-9258-4629-9083-6084a6fb3108"
      },
      "source": [
        "앞선 실습에서는 신경망의 순전파 단계와 역전파 단계를 직접 구현해보았습니다. 작은 2계층(2-layer) 신경망에서는 역전파 단계를 직접 구현하는 것이 큰일이 아니지만, 복잡한 대규모 신경망에서는 매우 아슬아슬한 일일 것입니다.\n",
        "\n",
        "다행히도, [자동 미분](https://en.wikipedia.org/wiki/Automatic_differentiation) 을 사용하여 신경망의 역전파 단계 연산을 자동화할 수 있습니다. PyTorch의 **autograd** 패키지는 정확히 이런 기능을 제공합니다. Autograd를 사용하면, 신경망의 순전파 단계에서 **연산 그래프(computational graph)** 를 정의하게 됩니다; 이 그래프의 노드(node)는 텐서(tensor)이고, 엣지(edge)는 입력 텐서로부터 출력 텐서를 만들어내는 함수가 됩니다. 이 그래프를 통해 역전파를 하게 되면 변화도를 쉽게 계산할 수 있습니다.\n",
        "\n",
        "이는 복잡하게 들리겠지만, 실제로 사용하는 것은 매우 간단합니다. 각 텐서는 연산그래프에서 노드로 표현됩니다. 만약 x 가 `x.requires_grad=True` 인 텐서라면 `x.grad` 어떤 스칼라 값에 대한 x 의 변화도를 갖는 또 다른 텐서입니다.\n",
        "\n",
        "이번 단계에서는 텐서 연산을 사용하여 순전파 단계를 계산하고, PyTorch autograd를 사용하여 변화도(gradient)를 계산해보겠습니다.\n",
        "\n",
        "✅ 구현해야 하는 사항 : 이전 구현에서 역전파 부분을 autograd 기능으로 대체한다."
      ],
      "id": "d8acbc6d-9258-4629-9083-6084a6fb3108"
    },
    {
      "cell_type": "code",
      "metadata": {
        "id": "94484464-1019-4631-aea7-c5c9b2fc662d"
      },
      "source": [
        "import torch\n",
        "import math\n",
        "\n",
        "dtype = torch.float\n",
        "device = torch.device(\"cpu\")\n",
        "# device = torch.device(\"cuda:0\") # GPU에서 실행하려면 이 주석을 제거하세요\n",
        "\n",
        "# 입력값과 출력값을 갖는 텐서들을 생성합니다.\n",
        "# requires_grad=False가 기본값으로 설정되어 역전파 단계 중에 이 텐서들에 대한 변화도를\n",
        "# 계산할 필요가 없음을 나타냅니다.\n",
        "x = torch.linspace(-math.pi, math.pi, 2000, device=device, dtype=dtype)\n",
        "y = torch.sin(x)\n",
        "\n",
        "# 가중치를 갖는 임의의 텐서를 생성합니다. 3차 다항식이므로 4개의 가중치가 필요합니다:\n",
        "# y = a + b x + c x^2 + d x^3\n",
        "# requires_grad=True로 설정하여 역전파 단계 중에 이 텐서들에 대한 변화도를 계산할 필요가 \n",
        "# 있음을 나타냅니다.\n",
        "a = torch.randn((), device=device, dtype=dtype, requires_grad=True)\n",
        "b = torch.randn((), device=device, dtype=dtype, requires_grad=True)\n",
        "c = torch.randn((), device=device, dtype=dtype, requires_grad=True)\n",
        "d = torch.randn((), device=device, dtype=dtype, requires_grad=True)\n",
        "\n",
        "print(f'------------------ init ------------------')\n",
        "print(f'x({len(x)}) : {x}')\n",
        "print(f'y({len(y)}) : {y}')\n",
        "print(f'가중치 초기값 : ')\n",
        "print(f'  a : {a}')\n",
        "print(f'  b : {b}')\n",
        "print(f'  c : {c}')\n",
        "print(f'  d : {d}')\n",
        "print(f'------------------------------------------')\n",
        "\n",
        "learning_rate = 1e-6\n",
        "for t in range(2000):\n",
        "    # 순전파 단계: 텐서들 간의 연산을 사용하여 예측값 y를 계산합니다.\n",
        "    y_pred = a + b * x + c * x ** 2 + d * x ** 3\n",
        "\n",
        "    # 텐서들간의 연산을 사용하여 손실(loss)을 계싼하고 출력합니다.\n",
        "    # 이 때 손실은 (1,) shape을 갖는 텐서입니다.\n",
        "    # loss.item() 으로 손실이 갖고 있는 스칼라 값을 가져올 수 있습니다.\n",
        "    loss = (y_pred - y).pow(2).sum()\n",
        "    if t % 100 == 99:\n",
        "        print(f'[t = {t+1:4d}] loss : {loss:.3f}')\n",
        "\n",
        "    # autograd 를 사용하여 역전파 단계를 계산합니다. 이는 requires_grad=True를 갖는\n",
        "    # 모든 텐서들에 대한 손실의 변화도를 계산합니다. \n",
        "    # 이후 a.grad와 b.grad, c.grad, d.grad는 각각 a, b, c, d에 대한 손실의 변화도를\n",
        "    # 갖는 텐서가 됩니다.\n",
        "    loss.backward()\n",
        "\n",
        "    # 경사하강법(gradient descent)를 사용하여 가중치를 직접 갱신합니다.\n",
        "    # torch.no_grad()로 감싸는 이유는, 가중치들이 requires_grad=True 지만\n",
        "    # autograd에서는 이를 추적하지 않을 것이기 때문입니다.\n",
        "    with torch.no_grad():\n",
        "        a -= learning_rate * a.grad\n",
        "        b -= learning_rate * b.grad\n",
        "        c -= learning_rate * c.grad\n",
        "        d -= learning_rate * d.grad\n",
        "\n",
        "        # 가중치 갱신 후에는 변화도를 직접 0으로 만듭니다.\n",
        "        a.grad = None\n",
        "        b.grad = None\n",
        "        c.grad = None\n",
        "        d.grad = None\n",
        "\n",
        "print(f'------------------------------------------')\n",
        "print(f'Result: y = {a.item()} + {b.item()} x + {c.item()} x^2 + {d.item()} x^3')\n",
        "\n",
        "with torch.no_grad():\n",
        "    show(x, y, a + b * x + c * x ** 2 + d * x ** 3)"
      ],
      "id": "94484464-1019-4631-aea7-c5c9b2fc662d",
      "execution_count": null,
      "outputs": []
    },
    {
      "cell_type": "markdown",
      "metadata": {
        "id": "56adc9ff-6855-4f95-bea8-0e645905aef3"
      },
      "source": [
        "<div class=\"alert alert-warning\">\n",
        "    <h4>Q. `loss.backward()`는 어떻게 역전파를 진행하는가?</h4>\n",
        "    <p>👉 (여기에 답을 입력해 주세요)</p>\n",
        "</div>"
      ],
      "id": "56adc9ff-6855-4f95-bea8-0e645905aef3"
    },
    {
      "cell_type": "markdown",
      "metadata": {
        "id": "3e2ede93-3555-4835-9dfe-dea552f1a2e6"
      },
      "source": [
        "## 3. DATASET과 DATALOADER\n",
        "---\n",
        "\n",
        "데이터 샘플을 처리하는 코드는 지저분(messy)하고 유지보수가 어려울 수 있습니다. 더 나은 가독성(readability)과 모듈성(modularity)을 위해 데이터셋 코드를 모델 학습 코드로부터 분리하는 것이 이상적입니다. PyTorch는 ``torch.utils.data.DataLoader``와 ``torch.utils.data.Dataset`` 의 두 가지 데이터 기본 요소를 제공하여 미리 준비해된(pre-loaded) 데이터셋 뿐만 아니라 가지고 있는 데이터를 사용할 수 있도록 합니다.\n",
        "``Dataset`` 은 샘플과 정답(label)을 저장하고, ``DataLoader`` 는 ``Dataset`` 을 샘플에 쉽게 접근할 수 있도록 순회 가능한 객체(iterable)로 감쌉니다.\n",
        "\n",
        "PyTorch의 도메인 특화 라이브러리들은 (FashionMNIST와 같은) 다양한 미리 준비해둔(pre-loaded) 데이터셋을 제공합니다. 데이터셋은 ``torch.utils.data.Dataset`` 의 하위 클래스로 개별 데이터를 특정하는 함수가 구현되어 있습니다. 이러한 데이터셋은 모델을 만들어보고(prototype) 성능을 측정(benchmark)하는데 사용할 수 있습니다.\n",
        "\n",
        "여기에서 데이터셋들을 찾아볼 수 있습니다:\n",
        "[이미지 데이터셋](https://pytorch.org/vision/stable/datasets.html), \n",
        "[텍스트 데이터셋](https://pytorch.org/text/stable/datasets.html) 및\n",
        "[오디오 데이터셋](https://pytorch.org/audio/stable/datasets.html)"
      ],
      "id": "3e2ede93-3555-4835-9dfe-dea552f1a2e6"
    },
    {
      "cell_type": "markdown",
      "metadata": {
        "id": "c7d517ee-96bf-4c97-8b2c-2dec58086070"
      },
      "source": [
        "### A. 데이터셋 불러오기\n",
        "\n",
        "`TorchVision` 에서 [Fashion-MNIST](https://research.zalando.com/project/fashion_mnist/fashion_mnist) 데이터셋을\n",
        "불러오는 예제를 살펴보겠습니다. Fashion-MNIST는 Zalando의 기사 이미지 데이터셋으로 60,000개의 학습 예제와 10,000개의 테스트 예제로 이루어져 있습니다. 각 예제는 흑백(grayscale)의 28x28 이미지와 10개 분류(class) 중 하나인 정답(label)으로 구성됩니다.\n",
        "\n",
        "다음 매개변수들을 사용하여 [FashionMNIST 데이터셋](https://pytorch.org/vision/stable/datasets.html#fashion-mnist)을 불러옵니다:\n",
        " - ``root`` 는 학습/테스트 데이터가 저장되는 경로입니다.\n",
        " - ``train`` 은 학습용 또는 테스트용 데이터셋 여부를 지정합니다.\n",
        " - ``download=True`` 는 ``root`` 에 데이터가 없는 경우 인터넷에서 다운로드합니다.\n",
        " - ``transform`` 과 ``target_transform`` 은 특징(feature)과 정답(label) 변형(transform)을 지정합니다."
      ],
      "id": "c7d517ee-96bf-4c97-8b2c-2dec58086070"
    },
    {
      "cell_type": "code",
      "metadata": {
        "id": "c99015ed-d495-4fb6-902b-05f27aad92a4"
      },
      "source": [
        "import torch\n",
        "from torch.utils.data import Dataset\n",
        "from torchvision import datasets\n",
        "from torchvision.transforms import ToTensor\n",
        "import matplotlib.pyplot as plt\n",
        "\n",
        "\n",
        "training_data = datasets.FashionMNIST(\n",
        "    root=\"data\",\n",
        "    train=True,\n",
        "    download=True,\n",
        "    transform=ToTensor()\n",
        ")\n",
        "\n",
        "test_data = datasets.FashionMNIST(\n",
        "    root=\"data\",\n",
        "    train=False,\n",
        "    download=True,\n",
        "    transform=ToTensor()\n",
        ")"
      ],
      "id": "c99015ed-d495-4fb6-902b-05f27aad92a4",
      "execution_count": null,
      "outputs": []
    },
    {
      "cell_type": "markdown",
      "metadata": {
        "id": "a0d25b89-b98c-428a-b92a-9aafbf18909c"
      },
      "source": [
        "### B. 데이터셋을 순회하고 시각화하기\n",
        "\n",
        "Dataset 에 리스트(list)처럼 직접 접근(index)할 수 있습니다: training_data[index]. matplotlib 을 사용하여 학습 데이터의 일부를 시각화해보겠습니다."
      ],
      "id": "a0d25b89-b98c-428a-b92a-9aafbf18909c"
    },
    {
      "cell_type": "code",
      "metadata": {
        "id": "e830ed75-b3ae-4244-9acd-b05f87a9fc48"
      },
      "source": [
        "labels_map = {\n",
        "    0: \"T-Shirt\",\n",
        "    1: \"Trouser\",\n",
        "    2: \"Pullover\",\n",
        "    3: \"Dress\",\n",
        "    4: \"Coat\",\n",
        "    5: \"Sandal\",\n",
        "    6: \"Shirt\",\n",
        "    7: \"Sneaker\",\n",
        "    8: \"Bag\",\n",
        "    9: \"Ankle Boot\",\n",
        "}\n",
        "figure = plt.figure(figsize=(8, 8))\n",
        "cols, rows = 3, 3\n",
        "for i in range(1, cols * rows + 1):\n",
        "    sample_idx = torch.randint(len(training_data), size=(1,)).item()\n",
        "    img, label = training_data[sample_idx]\n",
        "    figure.add_subplot(rows, cols, i)\n",
        "    plt.title(labels_map[label])\n",
        "    plt.axis(\"off\")\n",
        "    plt.imshow(img.squeeze(), cmap=\"gray\")\n",
        "plt.show()\n"
      ],
      "id": "e830ed75-b3ae-4244-9acd-b05f87a9fc48",
      "execution_count": null,
      "outputs": []
    },
    {
      "cell_type": "markdown",
      "metadata": {
        "id": "9d75cdc7-65d2-4de5-b738-7e3ec44dd2a3"
      },
      "source": [
        "### C. 파일에서 사용자 정의 데이터셋 만들기"
      ],
      "id": "9d75cdc7-65d2-4de5-b738-7e3ec44dd2a3"
    },
    {
      "cell_type": "markdown",
      "metadata": {
        "id": "4e203219-14ba-44ed-821a-7fb375b34ea9"
      },
      "source": [
        "사용자 정의 Dataset 클래스는 반드시 3개 함수를 구현해야 합니다: `__init__`, `__len__`, and `__getitem__`. 아래 구현을 살펴보면 FashionMNIST 이미지들은 img_dir 디렉토리에 저장되고, 정답은 `annotations_file csv` 파일에 별도로 저장됩니다.\n",
        "\n",
        "다음 장에서 각 함수들에서 일어나는 일들을 자세히 살펴보겠습니다"
      ],
      "id": "4e203219-14ba-44ed-821a-7fb375b34ea9"
    },
    {
      "cell_type": "code",
      "metadata": {
        "id": "ac6d3bcf-96a1-4073-9e72-239a57ba68db"
      },
      "source": [
        "import os\n",
        "import pandas as pd\n",
        "from torchvision.io import read_image\n",
        "\n",
        "class CustomImageDataset(Dataset):\n",
        "    def __init__(self, annotations_file, img_dir, transform=None, target_transform=None):\n",
        "        self.img_labels = pd.read_csv(annotations_file)\n",
        "        self.img_dir = img_dir\n",
        "        self.transform = transform\n",
        "        self.target_transform = target_transform\n",
        "\n",
        "    def __len__(self):\n",
        "        return len(self.img_labels)\n",
        "\n",
        "    def __getitem__(self, idx):\n",
        "        img_path = os.path.join(self.img_dir, self.img_labels.iloc[idx, 0])\n",
        "        image = read_image(img_path)\n",
        "        label = self.img_labels.iloc[idx, 1]\n",
        "        if self.transform:\n",
        "            image = self.transform(image)\n",
        "        if self.target_transform:\n",
        "            label = self.target_transform(label)\n",
        "        return image, label"
      ],
      "id": "ac6d3bcf-96a1-4073-9e72-239a57ba68db",
      "execution_count": null,
      "outputs": []
    },
    {
      "cell_type": "markdown",
      "metadata": {
        "id": "626548e7-caf4-4baf-9271-eecda95ffea6"
      },
      "source": [
        "#### a. \\_\\_init\\_\\_\n",
        "\n",
        "`__init__` 함수는 Dataset 객체가 생성(instantiate)될 때 한 번만 실행됩니다. 여기서는 이미지와 주석 파일(annotation_file)이 포함된 디렉토리와 (다음 장에서 자세히 살펴볼) 두가지 변형(transform)을 초기화합니다. \n",
        "\n",
        "labels.csv 파일은 다음과 같습니다: \n",
        "```\n",
        "tshirt1.jpg, 0\n",
        "tshirt2.jpg, 0\n",
        "......\n",
        "ankleboot999.jpg, 9\n",
        "```"
      ],
      "id": "626548e7-caf4-4baf-9271-eecda95ffea6"
    },
    {
      "cell_type": "code",
      "metadata": {
        "id": "486171b8-cb30-4b3b-a4b1-4a4dca46698a"
      },
      "source": [
        "def __init__(self, annotations_file, img_dir, transform=None, target_transform=None):\n",
        "    self.img_labels = pd.read_csv(annotations_file)\n",
        "    self.img_dir = img_dir\n",
        "    self.transform = transform\n",
        "    self.target_transform = target_transform"
      ],
      "id": "486171b8-cb30-4b3b-a4b1-4a4dca46698a",
      "execution_count": null,
      "outputs": []
    },
    {
      "cell_type": "markdown",
      "metadata": {
        "id": "4e172b99-bcb3-4943-89f5-309a8a0d99e3"
      },
      "source": [
        "#### b. \\_\\_len\\_\\_\n",
        "\n",
        "`__len__` 함수는 데이터셋의 샘플 개수를 반환합니다.\n",
        "\n",
        "예:"
      ],
      "id": "4e172b99-bcb3-4943-89f5-309a8a0d99e3"
    },
    {
      "cell_type": "code",
      "metadata": {
        "id": "f6901271-9687-4c3a-9ea3-e6fc1fc6a89e"
      },
      "source": [
        "def __len__(self):\n",
        "    return len(self.img_labels)"
      ],
      "id": "f6901271-9687-4c3a-9ea3-e6fc1fc6a89e",
      "execution_count": null,
      "outputs": []
    },
    {
      "cell_type": "markdown",
      "metadata": {
        "id": "3aee14b1-ff9e-4089-adfc-8a853effab6f"
      },
      "source": [
        "#### c. \\_\\_getitem\\_\\_\n",
        "\n",
        "`__getitem__` 함수는 주어진 인덱스 ``idx`` 에 해당하는 샘플을 데이터셋에서 불러오고 반환합니다.<br>\n",
        "인덱스를 기반으로, 디스크에서 이미지의 위치를 식별하고, ``read_image`` 를 사용하여 이미지를 텐서로 변환하고, ``self.img_labels`` 의 csv 데이터로부터 해당하는 정답(label)을 가져오고, (해당하는 경우) 변형(transform) 함수들을 호출한 뒤, 텐서 이미지와 라벨을 Python 사전(dict)형으로 반환합니다."
      ],
      "id": "3aee14b1-ff9e-4089-adfc-8a853effab6f"
    },
    {
      "cell_type": "code",
      "metadata": {
        "id": "31a24918-bc86-48d2-b503-993ecc6b6427"
      },
      "source": [
        "def __getitem__(self, idx):\n",
        "    img_path = os.path.join(self.img_dir, self.img_labels.iloc[idx, 0])\n",
        "    image = read_image(img_path)\n",
        "    label = self.img_labels.iloc[idx, 1]\n",
        "    if self.transform:\n",
        "        image = self.transform(image)\n",
        "    if self.target_transform:\n",
        "        label = self.target_transform(label)\n",
        "    sample = {\"image\": image, \"label\": label}\n",
        "    return sample"
      ],
      "id": "31a24918-bc86-48d2-b503-993ecc6b6427",
      "execution_count": null,
      "outputs": []
    },
    {
      "cell_type": "markdown",
      "metadata": {
        "id": "86c936c9-fe4e-43ca-9b6f-f12e59ef01ce"
      },
      "source": [
        "### D. DataLoader로 학습용 데이터 준비하기"
      ],
      "id": "86c936c9-fe4e-43ca-9b6f-f12e59ef01ce"
    },
    {
      "cell_type": "markdown",
      "metadata": {
        "id": "7f026f35-f761-4d82-b9c2-7347a0a84113"
      },
      "source": [
        "`Dataset`은 데이터셋의 특징(feature)을 가져오고 하나의 샘플에 정답(label)을 지정하는 일을 한 번에 합니다. 모델을 학습할 때, 일반적으로 샘플들을 “미니배치(minibatch)”로 전달하고, 매 에폭(epoch)마다 데이터를 다시 섞어서 과적합(overfit)을 막고, Python의 multiprocessing 을 사용하여 데이터 검색 속도를 높이려고 합니다.\n",
        "\n",
        "`DataLoader`는 간단한 API로 이러한 복잡한 과정들을 추상화한 순회 가능한 객체(iteratable)입니다."
      ],
      "id": "7f026f35-f761-4d82-b9c2-7347a0a84113"
    },
    {
      "cell_type": "code",
      "metadata": {
        "id": "6c985b57-d35e-4d41-8265-80246ff7bc30"
      },
      "source": [
        "from torch.utils.data import DataLoader\n",
        "\n",
        "train_dataloader = DataLoader(training_data, batch_size=64, shuffle=True)\n",
        "test_dataloader = DataLoader(test_data, batch_size=64, shuffle=True)\n",
        "\n",
        "train_dataloader, test_dataloader"
      ],
      "id": "6c985b57-d35e-4d41-8265-80246ff7bc30",
      "execution_count": null,
      "outputs": []
    },
    {
      "cell_type": "markdown",
      "metadata": {
        "id": "426442b1-4eaf-422d-bc6a-77e8c4894094"
      },
      "source": [
        "### E. DataLoader를 통해 순회하기(iterate)"
      ],
      "id": "426442b1-4eaf-422d-bc6a-77e8c4894094"
    },
    {
      "cell_type": "markdown",
      "metadata": {
        "id": "54da5074-94f1-4524-be21-bfefe3200d57"
      },
      "source": [
        "``DataLoader`` 에 데이터셋을 불러온 뒤에는 필요에 따라 데이터셋을 순회(iterate)할 수 있습니다.\n",
        "아래의 각 순회(iteration)는 (각각 ``batch_size=64`` 의 특징(feature)과 정답(label)을 포함하는) ``train_features`` 와\n",
        "``train_labels`` 의 묶음(batch)을 반환합니다. ``shuffle=True`` 로 지정했으므로, 모든 배치를 순회한 뒤 데이터가 섞입니다.\n",
        "(데이터 불러오기 순서를 보다 세밀하게(finer-grained) 제어하려면 [Samplers](https://pytorch.org/docs/stable/data.html#data-loading-order-and-sampler)\n",
        "를 살펴보세요.)"
      ],
      "id": "54da5074-94f1-4524-be21-bfefe3200d57"
    },
    {
      "cell_type": "code",
      "metadata": {
        "id": "39cd90d9-5408-429e-b047-69e64e56c3ce"
      },
      "source": [
        "# 이미지와 정답(label)을 표시합니다.\n",
        "train_features, train_labels = next(iter(train_dataloader))\n",
        "print(f\"Feature batch shape: {train_features.size()}\")\n",
        "print(f\"Labels batch shape: {train_labels.size()}\")\n",
        "img = train_features[0].squeeze()\n",
        "label = train_labels[0]\n",
        "plt.imshow(img, cmap=\"gray\")\n",
        "plt.show()\n",
        "print(f\"Label: {label}\")"
      ],
      "id": "39cd90d9-5408-429e-b047-69e64e56c3ce",
      "execution_count": null,
      "outputs": []
    },
    {
      "cell_type": "markdown",
      "metadata": {
        "id": "b6ae3779-cd06-4575-9202-c2a4ee69152d"
      },
      "source": [
        "## 4. 변형(TRANSFORM)\n",
        "---"
      ],
      "id": "b6ae3779-cd06-4575-9202-c2a4ee69152d"
    },
    {
      "cell_type": "markdown",
      "metadata": {
        "id": "dd3d6e94-d2bd-49df-94da-22f25f740f91"
      },
      "source": [
        "데이터가 항상 머신러닝 알고리즘 학습에 필요한 최종 처리가 된 형태로 제공되지는 않습니다. 변형(transform) 을 해서 데이터를 조작하고 학습에 적합하게 만듭니다.\n",
        "\n",
        "모든 TorchVision 데이터셋들은 변형 로직을 갖는, 호출 가능한 객체(callable)를 받는 매개변수 두개 ( 특징(feature)을 변경하기 위한 transform 과 정답(label)을 변경하기 위한 target_transform )를 갖습니다 [torchvision.transforms](https://pytorch.org/vision/stable/transforms.html) 모듈은 주로 사용하는 몇가지 변형(transform)을 제공합니다.\n",
        "\n",
        "FashionMNIST 특징(feature)은 PIL Image 형식이며, 정답(label)은 정수(integer)입니다. 학습을 하려면 정규화(normalize)된 텐서 형태의 특징(feature)과 원-핫(one-hot)으로 부호화(encode)된 텐서 형태의 정답(label)이 필요합니다. 이러한 변형(transformation)을 하기 위해 `ToTensor` 와 `Lambda` 를 사용합니다."
      ],
      "id": "dd3d6e94-d2bd-49df-94da-22f25f740f91"
    },
    {
      "cell_type": "code",
      "metadata": {
        "id": "0efdb21a-48d7-4684-a1d7-ba3f04783750"
      },
      "source": [
        "import torch\n",
        "from torchvision import datasets\n",
        "from torchvision.transforms import ToTensor, Lambda\n",
        "\n",
        "ds = datasets.FashionMNIST(\n",
        "    root=\"data\",\n",
        "    train=True,\n",
        "    download=True,\n",
        "    transform=ToTensor(),\n",
        "    target_transform=Lambda(lambda y: torch.zeros(10, dtype=torch.float).scatter_(0, torch.tensor(y), value=1))\n",
        ")\n",
        "\n",
        "ds"
      ],
      "id": "0efdb21a-48d7-4684-a1d7-ba3f04783750",
      "execution_count": null,
      "outputs": []
    },
    {
      "cell_type": "markdown",
      "metadata": {
        "id": "9f9966e5-afb4-463e-ac78-8efc507892db"
      },
      "source": [
        "### A. ToTensor()"
      ],
      "id": "9f9966e5-afb4-463e-ac78-8efc507892db"
    },
    {
      "cell_type": "markdown",
      "metadata": {
        "id": "6e2449af-b200-4d86-a96a-f257188b244c"
      },
      "source": [
        "`ToTensor`는 PIL Image나 NumPy ndarray 를 FloatTensor 로 변환하고, 이미지의 픽셀의 크기(intensity) 값을 [0., 1.] 범위로 비례하여 조정(scale)합니다."
      ],
      "id": "6e2449af-b200-4d86-a96a-f257188b244c"
    },
    {
      "cell_type": "markdown",
      "metadata": {
        "id": "abc3c41d-b5a4-4140-9f0c-86849c263b79"
      },
      "source": [
        "### B. Lambda 변형(Transform)"
      ],
      "id": "abc3c41d-b5a4-4140-9f0c-86849c263b79"
    },
    {
      "cell_type": "markdown",
      "metadata": {
        "id": "4083339e-b2cd-404f-bc11-3e7313d8f7c2"
      },
      "source": [
        "Lambda 변형은 사용자 정의 람다(lambda) 함수를 적용합니다. 여기에서는 정수를 원-핫으로 부호화된 텐서로 바꾸는 함수를 정의합니다. 이 함수는 먼저 (데이터셋 정답의 개수인) 크기 10짜리 영 텐서(zero tensor)를 만들고, [scatter_](https://pytorch.org/docs/stable/tensors.html#torch.Tensor.scatter_) 를 호출하여 주어진 정답 y 에 해당하는 인덱스에 `value=1` 을 할당합니다."
      ],
      "id": "4083339e-b2cd-404f-bc11-3e7313d8f7c2"
    },
    {
      "cell_type": "code",
      "metadata": {
        "id": "ca365aad-4990-4de6-b120-41ee4f229d44"
      },
      "source": [
        "target_transform = Lambda(lambda y: torch.zeros(\n",
        "    10, dtype=torch.float).scatter_(dim=0, index=torch.tensor(y), value=1))"
      ],
      "id": "ca365aad-4990-4de6-b120-41ee4f229d44",
      "execution_count": null,
      "outputs": []
    },
    {
      "cell_type": "markdown",
      "metadata": {
        "id": "-dcGs7jPd_fs"
      },
      "source": [
        "### C. ILLUSTRATION OF TRANSFORMS"
      ],
      "id": "-dcGs7jPd_fs"
    },
    {
      "cell_type": "markdown",
      "metadata": {
        "id": "BfMST1WFg6cW"
      },
      "source": [
        "`torchvision.transforms`을 통해서는 다양한 변환들에 대해여 알아봅시다. 여기서에 등장하지 않는 변환들에서 대해서는 [공식문서](https://pytorch.org/vision/stable/transforms.html)에서 확인해 보실 수 있습니다.\n",
        "\n",
        "✅ 예시와 함께 주어진 빈칸을 [공식문서](https://pytorch.org/vision/stable/transforms.html)을 참고하여 각 method에 대한 설명으로 채워보세요."
      ],
      "id": "BfMST1WFg6cW"
    },
    {
      "cell_type": "code",
      "metadata": {
        "id": "BadU3YQyh0k7"
      },
      "source": [
        "from PIL import Image\n",
        "from pathlib import Path\n",
        "import matplotlib.pyplot as plt\n",
        "import numpy as np\n",
        "import urllib.request\n",
        "\n",
        "import torch\n",
        "import torchvision.transforms as T\n",
        "\n",
        "\n",
        "plt.rcParams[\"savefig.bbox\"] = 'tight'\n",
        "plt.rcParams[\"figure.figsize\"] = (14,6)\n",
        "\n",
        "img_url = 'https://images.unsplash.com/photo-1597848212624-a19eb35e2651?w=600'\n",
        "urllib.request.urlretrieve(img_url, \"./sunflower.jpg\")\n",
        "orig_img = Image.open('./sunflower.jpg')\n",
        "plt.imshow(np.asarray(orig_img))\n",
        "\n",
        "# if you change the seed, make sure that the randomly-applied transforms\n",
        "# properly show that the image can be both transformed and *not* transformed!\n",
        "torch.manual_seed(0)\n",
        "\n",
        "\n",
        "def plot(imgs, with_orig=True, row_title=None, **imshow_kwargs):\n",
        "    if not isinstance(imgs[0], list):\n",
        "        # Make a 2d grid even if there's just 1 row\n",
        "        imgs = [imgs]\n",
        "\n",
        "    num_rows = len(imgs)\n",
        "    num_cols = len(imgs[0]) + with_orig\n",
        "    fig, axs = plt.subplots(nrows=num_rows, ncols=num_cols, squeeze=False)\n",
        "    for row_idx, row in enumerate(imgs):\n",
        "        row = [orig_img] + row if with_orig else row\n",
        "        for col_idx, img in enumerate(row):\n",
        "            ax = axs[row_idx, col_idx]\n",
        "            ax.imshow(np.asarray(img), **imshow_kwargs)\n",
        "            ax.set(xticklabels=[], yticklabels=[], xticks=[], yticks=[])\n",
        "\n",
        "    if with_orig:\n",
        "        axs[0, 0].set(title='Original image')\n",
        "        axs[0, 0].title.set_size(8)\n",
        "    if row_title is not None:\n",
        "        for row_idx in range(num_rows):\n",
        "            axs[row_idx, 0].set(ylabel=row_title[row_idx])\n",
        "\n",
        "    plt.tight_layout()"
      ],
      "id": "BadU3YQyh0k7",
      "execution_count": null,
      "outputs": []
    },
    {
      "cell_type": "markdown",
      "metadata": {
        "id": "RFBkH4Mqj6JV"
      },
      "source": [
        "- Pad : `(method의 동작)`"
      ],
      "id": "RFBkH4Mqj6JV"
    },
    {
      "cell_type": "code",
      "metadata": {
        "id": "CcboWkMnkEZ6"
      },
      "source": [
        "added_imgs = [T.Pad(padding=padding)(orig_img) for padding in (3, 10, 30, 50)]\n",
        "plot(padded_imgs)"
      ],
      "id": "CcboWkMnkEZ6",
      "execution_count": null,
      "outputs": []
    },
    {
      "cell_type": "markdown",
      "metadata": {
        "id": "oq0AjRYykzX9"
      },
      "source": [
        "- Resize : `(method의 동작)`"
      ],
      "id": "oq0AjRYykzX9"
    },
    {
      "cell_type": "code",
      "metadata": {
        "id": "KLTz7KQJk1nt"
      },
      "source": [
        "resized_imgs = [T.Resize(size=size)(orig_img) for size in (30, 50, 100, orig_img.size)]\n",
        "plot(resized_imgs)"
      ],
      "id": "KLTz7KQJk1nt",
      "execution_count": null,
      "outputs": []
    },
    {
      "cell_type": "markdown",
      "metadata": {
        "id": "vxyyUYqCkzLj"
      },
      "source": [
        "- CenterCrop : `(method의 동작)`"
      ],
      "id": "vxyyUYqCkzLj"
    },
    {
      "cell_type": "code",
      "metadata": {
        "id": "iqAQOc4klc1-"
      },
      "source": [
        "center_crops = [T.CenterCrop(size=size)(orig_img) for size in (30, 50, 100, orig_img.size)]\n",
        "plot(center_crops)"
      ],
      "id": "iqAQOc4klc1-",
      "execution_count": null,
      "outputs": []
    },
    {
      "cell_type": "markdown",
      "metadata": {
        "id": "ItWQpQ6OkzIP"
      },
      "source": [
        "- FiveCrop : `(method의 동작)`"
      ],
      "id": "ItWQpQ6OkzIP"
    },
    {
      "cell_type": "code",
      "metadata": {
        "id": "mC6OxOOGli_n"
      },
      "source": [
        "(top_left, top_right, bottom_left, bottom_right, center) = T.FiveCrop(size=(100, 100))(orig_img)\n",
        "plot([top_left, top_right, bottom_left, bottom_right, center])"
      ],
      "id": "mC6OxOOGli_n",
      "execution_count": null,
      "outputs": []
    },
    {
      "cell_type": "markdown",
      "metadata": {
        "id": "om0KqV8XkzE0"
      },
      "source": [
        "- Grayscale : `(method의 동작)`"
      ],
      "id": "om0KqV8XkzE0"
    },
    {
      "cell_type": "code",
      "metadata": {
        "id": "11xtq4Hglo0m"
      },
      "source": [
        "gray_img = T.Grayscale()(orig_img)\n",
        "plot([gray_img], cmap='gray')"
      ],
      "id": "11xtq4Hglo0m",
      "execution_count": null,
      "outputs": []
    },
    {
      "cell_type": "markdown",
      "metadata": {
        "id": "lJkrTbdokzBW"
      },
      "source": [
        "#### Random transforms\n",
        "아래에 method는 랜덤하게 동작하는 변형들 입니다."
      ],
      "id": "lJkrTbdokzBW"
    },
    {
      "cell_type": "markdown",
      "metadata": {
        "id": "bsHfPW4Uky-V"
      },
      "source": [
        "- ColorJitter : `(method의 동작)`"
      ],
      "id": "bsHfPW4Uky-V"
    },
    {
      "cell_type": "code",
      "metadata": {
        "id": "l5yAg22smAix"
      },
      "source": [
        "jitter = T.ColorJitter(brightness=.5, hue=.3)\n",
        "jitted_imgs = [jitter(orig_img) for _ in range(4)]\n",
        "plot(jitted_imgs)"
      ],
      "id": "l5yAg22smAix",
      "execution_count": null,
      "outputs": []
    },
    {
      "cell_type": "markdown",
      "metadata": {
        "id": "pHXFccIrky7A"
      },
      "source": [
        "- GaussianBlur : `(method의 동작)`"
      ],
      "id": "pHXFccIrky7A"
    },
    {
      "cell_type": "code",
      "metadata": {
        "id": "PJSiiLtgmGgs"
      },
      "source": [
        "blurrer = T.GaussianBlur(kernel_size=(5, 9), sigma=(0.1, 5))\n",
        "blurred_imgs = [blurrer(orig_img) for _ in range(4)]\n",
        "plot(blurred_imgs)"
      ],
      "id": "PJSiiLtgmGgs",
      "execution_count": null,
      "outputs": []
    },
    {
      "cell_type": "markdown",
      "metadata": {
        "id": "rcr7Hot1ky1y"
      },
      "source": [
        "- RandomPerspective : `(method의 동작)`"
      ],
      "id": "rcr7Hot1ky1y"
    },
    {
      "cell_type": "code",
      "metadata": {
        "id": "Kzs6Zf_amMUb"
      },
      "source": [
        "perspective_transformer = T.RandomPerspective(distortion_scale=0.6, p=1.0)\n",
        "perspective_imgs = [perspective_transformer(orig_img) for _ in range(4)]\n",
        "plot(perspective_imgs)"
      ],
      "id": "Kzs6Zf_amMUb",
      "execution_count": null,
      "outputs": []
    },
    {
      "cell_type": "markdown",
      "metadata": {
        "id": "oq4J1xsKkyyq"
      },
      "source": [
        "- RandomRotation : `(method의 동작)`"
      ],
      "id": "oq4J1xsKkyyq"
    },
    {
      "cell_type": "code",
      "metadata": {
        "id": "_cYoAEMtmRhZ"
      },
      "source": [
        "rotater = T.RandomRotation(degrees=(0, 180))\n",
        "rotated_imgs = [rotater(orig_img) for _ in range(4)]\n",
        "plot(rotated_imgs)"
      ],
      "id": "_cYoAEMtmRhZ",
      "execution_count": null,
      "outputs": []
    },
    {
      "cell_type": "markdown",
      "metadata": {
        "id": "3IM4MoX9kyvE"
      },
      "source": [
        "- RandomAffine : `(method의 동작)`"
      ],
      "id": "3IM4MoX9kyvE"
    },
    {
      "cell_type": "code",
      "metadata": {
        "id": "7hm0Iv0BmX3y"
      },
      "source": [
        "affine_transfomer = T.RandomAffine(degrees=(30, 70), translate=(0.1, 0.3), scale=(0.5, 0.75))\n",
        "affine_imgs = [affine_transfomer(orig_img) for _ in range(4)]\n",
        "plot(affine_imgs)"
      ],
      "id": "7hm0Iv0BmX3y",
      "execution_count": null,
      "outputs": []
    },
    {
      "cell_type": "markdown",
      "metadata": {
        "id": "z6Q8C_qCkysA"
      },
      "source": [
        "- RandomResizedCrop : `(method의 동작)`"
      ],
      "id": "z6Q8C_qCkysA"
    },
    {
      "cell_type": "code",
      "metadata": {
        "id": "w3_1g-FMmirM"
      },
      "source": [
        "resize_cropper = T.RandomResizedCrop(size=(32, 32))\n",
        "resized_crops = [resize_cropper(orig_img) for _ in range(4)]\n",
        "plot(resized_crops)"
      ],
      "id": "w3_1g-FMmirM",
      "execution_count": null,
      "outputs": []
    },
    {
      "cell_type": "markdown",
      "metadata": {
        "id": "VOvTc32HmiDm"
      },
      "source": [
        "- RandomEqualize : `(method의 동작)`"
      ],
      "id": "VOvTc32HmiDm"
    },
    {
      "cell_type": "code",
      "metadata": {
        "id": "mfIDI26Rmyk2"
      },
      "source": [
        "equalizer = T.RandomEqualize()\n",
        "equalized_imgs = [equalizer(orig_img) for _ in range(4)]\n",
        "plot(equalized_imgs)"
      ],
      "id": "mfIDI26Rmyk2",
      "execution_count": null,
      "outputs": []
    },
    {
      "cell_type": "markdown",
      "metadata": {
        "id": "LjZ7depvmiAS"
      },
      "source": [
        "- AutoAugment : `(method의 동작)`"
      ],
      "id": "LjZ7depvmiAS"
    },
    {
      "cell_type": "code",
      "metadata": {
        "id": "H_WNYVZPm7gT"
      },
      "source": [
        "policies = [T.AutoAugmentPolicy.CIFAR10, T.AutoAugmentPolicy.IMAGENET, T.AutoAugmentPolicy.SVHN]\n",
        "augmenters = [T.AutoAugment(policy) for policy in policies]\n",
        "imgs = [\n",
        "    [augmenter(orig_img) for _ in range(4)]\n",
        "    for augmenter in augmenters\n",
        "]\n",
        "row_title = [str(policy).split('.')[-1] for policy in policies]\n",
        "plot(imgs, row_title=row_title)"
      ],
      "id": "H_WNYVZPm7gT",
      "execution_count": null,
      "outputs": []
    },
    {
      "cell_type": "markdown",
      "metadata": {
        "id": "6gnE6jF3mh8q"
      },
      "source": [
        "#### Randomly-applied transforms\n",
        "\n",
        "일부 변환은 확률 p가 주어지면 무작위로 적용됩니다. 즉, 동일한 변환기 인스턴스로 호출하더라도 변환된 이미지가 실제로 원본 이미지와 같을 수 있습니다!"
      ],
      "id": "6gnE6jF3mh8q"
    },
    {
      "cell_type": "markdown",
      "metadata": {
        "id": "dyXHL9rlmh46"
      },
      "source": [
        "- RandomHorizontalFlip : `(method의 동작)`\n",
        "\n"
      ],
      "id": "dyXHL9rlmh46"
    },
    {
      "cell_type": "code",
      "metadata": {
        "id": "5BV0151RnJdj"
      },
      "source": [
        "hflipper = T.RandomHorizontalFlip(p=0.5)\n",
        "transformed_imgs = [hflipper(orig_img) for _ in range(4)]\n",
        "plot(transformed_imgs)"
      ],
      "id": "5BV0151RnJdj",
      "execution_count": null,
      "outputs": []
    },
    {
      "cell_type": "markdown",
      "metadata": {
        "id": "dEPTwfiJmhza"
      },
      "source": [
        "- RandomVerticalFlip : `(method의 동작)`"
      ],
      "id": "dEPTwfiJmhza"
    },
    {
      "cell_type": "code",
      "metadata": {
        "id": "dgRcAY9mnQSK"
      },
      "source": [
        "vflipper = T.RandomVerticalFlip(p=0.5)\n",
        "transformed_imgs = [vflipper(orig_img) for _ in range(4)]\n",
        "plot(transformed_imgs)"
      ],
      "id": "dgRcAY9mnQSK",
      "execution_count": null,
      "outputs": []
    },
    {
      "cell_type": "markdown",
      "metadata": {
        "id": "d6ZPfIPZnQ8s"
      },
      "source": [
        "- RandomApply : `(method의 동작)`"
      ],
      "id": "d6ZPfIPZnQ8s"
    },
    {
      "cell_type": "code",
      "metadata": {
        "id": "SiG4MCxqnVBU"
      },
      "source": [
        "applier = T.RandomApply(transforms=[T.RandomCrop(size=(64, 64))], p=0.5)\n",
        "transformed_imgs = [applier(orig_img) for _ in range(4)]\n",
        "plot(transformed_imgs)"
      ],
      "id": "SiG4MCxqnVBU",
      "execution_count": null,
      "outputs": []
    },
    {
      "cell_type": "markdown",
      "metadata": {
        "id": "h6tkfBM6ncR9"
      },
      "source": [
        "### D. Compose"
      ],
      "id": "h6tkfBM6ncR9"
    },
    {
      "cell_type": "markdown",
      "metadata": {
        "id": "q0_IuNvFngjq"
      },
      "source": [
        "여러 변환들을 함께 사용하고 싶은 경우 Compose를 이용하여 변환의 파이프라인을 만들 수 있습니다."
      ],
      "id": "q0_IuNvFngjq"
    },
    {
      "cell_type": "code",
      "metadata": {
        "id": "gdkBYEbhngDJ"
      },
      "source": [
        "my_transform = T.Compose([\n",
        "    T.RandomHorizontalFlip(p=0.5),\n",
        "    T.RandomVerticalFlip(p=0.5),\n",
        "    T.RandomRotation(degrees=(0, 180)),\n",
        "    ToTensor()\n",
        " ])"
      ],
      "id": "gdkBYEbhngDJ",
      "execution_count": null,
      "outputs": []
    },
    {
      "cell_type": "code",
      "metadata": {
        "id": "ckY3c-K9oh-w"
      },
      "source": [
        "ds = datasets.FashionMNIST(\n",
        "    root=\"data\",\n",
        "    train=True,\n",
        "    download=True,\n",
        "    transform=my_transform,\n",
        "    target_transform=Lambda(lambda y: torch.zeros(10, dtype=torch.float).scatter_(0, torch.tensor(y), value=1))\n",
        ")\n",
        "\n",
        "dataloader = DataLoader(ds, batch_size=9, shuffle=True)"
      ],
      "id": "ckY3c-K9oh-w",
      "execution_count": null,
      "outputs": []
    },
    {
      "cell_type": "code",
      "metadata": {
        "id": "mgp8D2qPonAP"
      },
      "source": [
        "features, labels = next(iter(dataloader))\n",
        "\n",
        "fig = plt.figure(figsize=(10,10))\n",
        "i = 1\n",
        "\n",
        "for img, label in zip(features, labels):\n",
        "    ax = fig.add_subplot(3, 3, i)\n",
        "    ax.imshow(img.squeeze(), cmap=\"gray\")\n",
        "    ax.set_title(label.numpy())\n",
        "    ax.set_xticks([]), ax.set_yticks([])\n",
        "    i += 1\n",
        "    \n",
        "plt.tight_layout()\n",
        "plt.show()"
      ],
      "id": "mgp8D2qPonAP",
      "execution_count": null,
      "outputs": []
    }
  ]
}