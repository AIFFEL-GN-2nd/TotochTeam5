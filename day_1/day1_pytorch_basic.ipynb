{
 "cells": [
  {
   "cell_type": "markdown",
   "id": "5e7f2f2c-6302-40e9-b643-4556a6604ed0",
   "metadata": {
    "id": "5e7f2f2c-6302-40e9-b643-4556a6604ed0"
   },
   "source": [
    "# 이웃집 토토치 파이토치 : Day 1\n",
    "---"
   ]
  },
  {
   "cell_type": "markdown",
   "id": "7e34878d-54a2-40de-ae3a-75866a8e2097",
   "metadata": {
    "id": "7e34878d-54a2-40de-ae3a-75866a8e2097"
   },
   "source": [
    "<div class=\"alert alert-info\">\n",
    "    <p>📢 해당 게시물은 파이토치 공식 튜토리얼 중 <a href=\"https://tutorials.pytorch.kr/beginner/pytorch_with_examples.html\">예제로 배우는 파이토치(PYTORCH) </a>와 파이토치(PYTORCH) 기본 익히기-<a href=\"https://tutorials.pytorch.kr/beginner/basics/tensorqs_tutorial.html\">텐서(Tensor)</a>, <a href=\"https://tutorials.pytorch.kr/beginner/pytorch_with_examples.html#id13\">DATASET과 DATALOADER</a>, <a href=\"https://tutorials.pytorch.kr/beginner/basics/autogradqs_tutorial.html\">Autograd</a> 그리고 토치비전 공식문서의 Example gallery-<a href=https://pytorch.org/vision/stable/auto_examples/plot_transforms.html#sphx-glr-auto-examples-plot-transforms-py\">ILLUSTRATION OF TRANSFORMS</a>를 재구성하여 작성되었습니다.</p>\n",
    "</div>"
   ]
  },
  {
   "cell_type": "markdown",
   "id": "9b8956f1-a5de-4cfb-8c38-b2b4b098b2e5",
   "metadata": {
    "id": "9b8956f1-a5de-4cfb-8c38-b2b4b098b2e5"
   },
   "source": [
    "#### 주요 키워드\n",
    "- Tensor\n",
    "- Autograd\n",
    "- Dataset과 Dataloader\n",
    "- Transform"
   ]
  },
  {
   "cell_type": "markdown",
   "id": "81fd1b58-3ada-46cf-a2c9-655692e3a2a6",
   "metadata": {
    "id": "81fd1b58-3ada-46cf-a2c9-655692e3a2a6",
    "tags": [],
    "toc-hr-collapsed": true
   },
   "source": [
    "#### 목차\n",
    "1. 탠서(TENSOR)\n",
    "    1. 텐서(tensor) 초기화\n",
    "    2. 텐서의 속성(Attribute)\n",
    "    3. 텐서 연산(Operation)\n",
    "    4. NumPy 변환(Bridge)\n",
    "    5. [실습] Numpy to Tensor\n",
    "2. Autograd\n",
    "    1. Tensor, Function과 연산그래프(Computational graph)\n",
    "    2. 변화도(Gradient) 계산하기\n",
    "    3. 변화도 추적 멈추기\n",
    "    4. 연산 그래프에 대한 추가 정보\n",
    "    5. 선택적으로 읽기(Optional Reading): 텐서 변화도와 야코비안 곱 (Jacobian Product)\n",
    "    6. [실습] Backpropagation with Autograd\n",
    "3. DATASET과 DATALOADER\n",
    "    1. 데이터셋 불러오기\n",
    "    2. 데이터셋을 순회하고 시각화하기\n",
    "    3. 파일에서 사용자 정의 데이터셋 만들기\n",
    "    4. DataLoader로 학습용 데이터 준비하기\n",
    "    5. DataLoader를 통해 순회하기\n",
    "4. 변형(TRANSFORM)\n",
    "    1. ToTnesor()\n",
    "    2. Lambda 변형(Transform)"
   ]
  },
  {
   "cell_type": "markdown",
   "id": "8d8cdc33-53ef-443e-967e-d221a4f8fbb5",
   "metadata": {
    "id": "8d8cdc33-53ef-443e-967e-d221a4f8fbb5"
   },
   "source": [
    "## 1. 텐서(TENSOR) \n",
    "---"
   ]
  },
  {
   "cell_type": "markdown",
   "id": "6b4d8f21-377c-4aa0-941b-b7909cc2f2cf",
   "metadata": {
    "id": "6b4d8f21-377c-4aa0-941b-b7909cc2f2cf"
   },
   "source": [
    "텐서(tensor)는 배열(array)이나 행렬(matrix)과 매우 유사한 특수한 자료구조입니다.\n",
    "PyTorch에서는 텐서를 사용하여 모델의 입력(input)과 출력(output), 그리고 모델의 매개변수들을 부호화(encode)합니다.\n",
    "\n",
    "텐서는 GPU나 다른 하드웨어 가속기에서 실행할 수 있다는 점만 제외하면 [NumPy](https://numpy.org)의 ndarray와 유사합니다.\n",
    "실제로 텐서와 NumPy 배열(array)은 종종 동일한 내부(underly) 메모리를 공유할 수 있어 데이터를 복수할 필요가 없습니다. ([NumPy 변환(Bridge)](https://tutorials.pytorch.kr/beginner/blitz/tensor_tutorial.html#bridge-to-np-label) 참고)\n",
    "텐서는 또한 ([Autograd](autogradqs_tutorial.html)장에서 살펴볼) 자동 미분(automatic differentiation)에 최적화되어 있습니다.\n",
    "ndarray에 익숙하다면 Tensor API를 바로 사용할 수 있을 것입니다. 아니라면, 아래 내용을 함께 보시죠!"
   ]
  },
  {
   "cell_type": "code",
   "execution_count": null,
   "id": "84b21bbe-2e1f-4a0c-9863-cc7b9b4bf2b8",
   "metadata": {
    "id": "84b21bbe-2e1f-4a0c-9863-cc7b9b4bf2b8"
   },
   "outputs": [],
   "source": [
    "import torch\n",
    "import numpy as np"
   ]
  },
  {
   "cell_type": "markdown",
   "id": "33173f1c-e196-4f80-87f6-25adb3f7907e",
   "metadata": {
    "id": "33173f1c-e196-4f80-87f6-25adb3f7907e"
   },
   "source": [
    "### A. 텐서(tensor) 초기화\n",
    "텐서는 여러가지 방법으로 초기화할 수 있습니다. 다음 예를 살펴보세요:"
   ]
  },
  {
   "cell_type": "markdown",
   "id": "3d02882d-b5c0-4f6a-979e-14484173f0f6",
   "metadata": {
    "id": "3d02882d-b5c0-4f6a-979e-14484173f0f6"
   },
   "source": [
    "#### a. 데이터로부터 직접(directly) 생성하기\n",
    "데이터로부터 직접 텐서를 생성할 수 있습니다. 데이터의 자료형(data type)은 자동으로 유추합니다."
   ]
  },
  {
   "cell_type": "code",
   "execution_count": null,
   "id": "ecc80d93-e872-4cc8-9948-29e323d0cce8",
   "metadata": {
    "colab": {
     "base_uri": "https://localhost:8080/"
    },
    "id": "ecc80d93-e872-4cc8-9948-29e323d0cce8",
    "outputId": "7378bd07-a2e2-4098-c775-0ee0e887b1bd"
   },
   "outputs": [],
   "source": [
    "data = [[1, 2],[3, 4]]\n",
    "x_data = torch.tensor(data)\n",
    "x_data"
   ]
  },
  {
   "cell_type": "markdown",
   "id": "b7fcefc3-4830-4ad3-a74c-bd9e7976aa2f",
   "metadata": {
    "id": "b7fcefc3-4830-4ad3-a74c-bd9e7976aa2f"
   },
   "source": [
    "#### b. NumPy 배열로부터 생성하기\n",
    "텐서는 NumPy 배열로 생성할 수 있습니다. (그 반대도 가능합니다 - [NumPy 변환(Bridge)](https://tutorials.pytorch.kr/beginner/blitz/tensor_tutorial.html#bridge-to-np-label) 참고)"
   ]
  },
  {
   "cell_type": "code",
   "execution_count": null,
   "id": "753be768-90dd-4806-9b63-dc9adec2736b",
   "metadata": {
    "colab": {
     "base_uri": "https://localhost:8080/"
    },
    "id": "753be768-90dd-4806-9b63-dc9adec2736b",
    "outputId": "6090f267-d878-4885-face-d5a1f1ed77ed"
   },
   "outputs": [],
   "source": [
    "np_array = np.array(data)\n",
    "x_np = torch.from_numpy(np_array)\n",
    "x_np"
   ]
  },
  {
   "cell_type": "markdown",
   "id": "bcfd57ba-92e2-4ea9-8826-25196fdcb07d",
   "metadata": {
    "id": "bcfd57ba-92e2-4ea9-8826-25196fdcb07d"
   },
   "source": [
    "#### c. 다른 텐서로부터 생성하기\n",
    "명시적으로 재정의(override)하지 않는다면, 인자로 주어진 텐서의 속성(모양(shape), 자료형(datatype))을 유지합니다."
   ]
  },
  {
   "cell_type": "code",
   "execution_count": null,
   "id": "6100365e-0302-4ad2-8623-0b250116ae13",
   "metadata": {
    "colab": {
     "base_uri": "https://localhost:8080/"
    },
    "id": "6100365e-0302-4ad2-8623-0b250116ae13",
    "outputId": "43e69824-7793-4db0-c119-774cd296de4b"
   },
   "outputs": [],
   "source": [
    "x_ones = torch.ones_like(x_data) # x_data의 속성을 유지합니다.\n",
    "print(f\"Ones Tensor: \\n {x_ones} \\n\")\n",
    "\n",
    "x_rand = torch.rand_like(x_data, dtype=torch.float) # x_data의 속성을 덮어씁니다.\n",
    "print(f\"Random Tensor: \\n {x_rand} \\n\")"
   ]
  },
  {
   "cell_type": "markdown",
   "id": "1676896b-fa1e-46f2-afee-3e9da2457e0b",
   "metadata": {
    "id": "1676896b-fa1e-46f2-afee-3e9da2457e0b"
   },
   "source": [
    "#### d. 무작위(random) 또는 상수(constant) 값을 사용하기\n",
    "`shape`은 텐서의 차원(dimension)을 나타내는 튜플(tuple)로, 아래 함수들에서는 출력 텐서의 차원을 결정합니다."
   ]
  },
  {
   "cell_type": "code",
   "execution_count": null,
   "id": "476f0e06-3c50-4d4c-bd47-6d5b5810e768",
   "metadata": {
    "colab": {
     "base_uri": "https://localhost:8080/"
    },
    "id": "476f0e06-3c50-4d4c-bd47-6d5b5810e768",
    "outputId": "029e4331-c6e8-4fee-904b-142ae6ce60b6"
   },
   "outputs": [],
   "source": [
    "shape = (2,3,)\n",
    "rand_tensor = torch.rand(shape)\n",
    "ones_tensor = torch.ones(shape)\n",
    "zeros_tensor = torch.zeros(shape)\n",
    "\n",
    "print(f\"Random Tensor: \\n {rand_tensor} \\n\")\n",
    "print(f\"Ones Tensor: \\n {ones_tensor} \\n\")\n",
    "print(f\"Zeros Tensor: \\n {zeros_tensor}\")"
   ]
  },
  {
   "cell_type": "markdown",
   "id": "6f14c531-430a-45e7-818d-278876cc7735",
   "metadata": {
    "id": "6f14c531-430a-45e7-818d-278876cc7735"
   },
   "source": [
    "### B. 텐서의 속성(Attribute)\n",
    "텐서의 속성은 텐서의 모양(shape), 자료형(datatype) 및 어느 장치에 저장되는지를 나타냅니다."
   ]
  },
  {
   "cell_type": "code",
   "execution_count": null,
   "id": "c0d18f60-2823-47ee-958f-b3de620f5357",
   "metadata": {
    "colab": {
     "base_uri": "https://localhost:8080/"
    },
    "id": "c0d18f60-2823-47ee-958f-b3de620f5357",
    "outputId": "7e70ee21-aaa1-4428-a755-9f287848267b"
   },
   "outputs": [],
   "source": [
    "tensor = torch.rand(3,4)\n",
    "\n",
    "print(f\"Shape of tensor: {tensor.shape}\")\n",
    "print(f\"Datatype of tensor: {tensor.dtype}\")\n",
    "print(f\"Device tensor is stored on: {tensor.device}\")"
   ]
  },
  {
   "cell_type": "markdown",
   "id": "dc8ec2e3-b2e1-406c-a654-59cbc060aa4e",
   "metadata": {
    "id": "dc8ec2e3-b2e1-406c-a654-59cbc060aa4e"
   },
   "source": [
    "### C. 텐서 연산(Operation)\n",
    "전치(transposing), 인덱싱(indexing), 슬라이싱(slicing), 수학 계산, 선형 대수, 임의 샘플링(random sampling) 등, 100가지 이상의 텐서 연산들을 [여기](https://pytorch.org/docs/stable/torch.html)에서 확인할 수 있습니다.\n",
    "\n",
    "각 연산들은 (일반적으로 CPU보다 빠른) GPU에서 실행할 수 있습니다. Colab을 사용한다면, Edit > Notebook Settings 에서 GPU를 할당할 수 있습니다.\n",
    "\n",
    "기본적으로 텐서는 CPU에 생성됩니다. .to 메소드를 사용하면 (GPU의 가용성(availability)을 확인한 뒤) GPU로 텐서를 명시적으로 이동할 수 있습니다. 장치들 간에 큰 텐서들을 복사하는 것은 시간과 메모리 측면에서 비용이 많이든다는 것을 기억하세요!"
   ]
  },
  {
   "cell_type": "code",
   "execution_count": null,
   "id": "7a2f8fb6-b044-4cbd-bcdc-80c1ec7a82cb",
   "metadata": {
    "id": "7a2f8fb6-b044-4cbd-bcdc-80c1ec7a82cb"
   },
   "outputs": [],
   "source": [
    "# GPU가 존재하면 텐서를 이동합니다\n",
    "if torch.cuda.is_available():\n",
    "    tensor = tensor.to('cuda')\n",
    "    print(tensor)"
   ]
  },
  {
   "cell_type": "markdown",
   "id": "40866338-5f65-4d75-a97b-63457e90cff9",
   "metadata": {
    "id": "40866338-5f65-4d75-a97b-63457e90cff9"
   },
   "source": [
    "목록에서 몇몇 연산들을 시도해보세요. NumPy API에 익숙하다면 Tensor API를 사용하는 것은 식은 죽 먹기라는 것을 알게 되실 겁니다."
   ]
  },
  {
   "cell_type": "markdown",
   "id": "631fdca2-aab4-4e2d-b6bf-9062338d9101",
   "metadata": {
    "id": "631fdca2-aab4-4e2d-b6bf-9062338d9101"
   },
   "source": [
    "#### a. NumPy식의 표준 인덱싱과 슬라이싱"
   ]
  },
  {
   "cell_type": "code",
   "execution_count": null,
   "id": "535e7a6a-6b64-45c0-ad27-99b8e26584e6",
   "metadata": {
    "colab": {
     "base_uri": "https://localhost:8080/"
    },
    "id": "535e7a6a-6b64-45c0-ad27-99b8e26584e6",
    "outputId": "634c6367-6ebd-4f43-8a8c-b559826fbeab"
   },
   "outputs": [],
   "source": [
    "tensor = torch.ones(4, 4)\n",
    "print('First row: ',tensor[0])\n",
    "print('First column: ', tensor[:, 0])\n",
    "print('Last column:', tensor[..., -1])\n",
    "tensor[:,1] = 0\n",
    "print(tensor)"
   ]
  },
  {
   "cell_type": "markdown",
   "id": "0f5b5a86-18ed-4af1-be4a-91717895d609",
   "metadata": {
    "id": "0f5b5a86-18ed-4af1-be4a-91717895d609"
   },
   "source": [
    "텐서 합치기 `torch.cat`을 사용하여 주어진 차원에 따라 일련의 텐서를 연결할 수 있습니다. torch.cat 과 미묘하게 다른 또 다른 텐서 결합 연산인 [torch.stack](https://pytorch.org/docs/stable/generated/torch.stack.html)도 참고해보세요."
   ]
  },
  {
   "cell_type": "code",
   "execution_count": null,
   "id": "c47ef522-8161-4508-991f-32fd0db49ea8",
   "metadata": {
    "colab": {
     "base_uri": "https://localhost:8080/"
    },
    "id": "c47ef522-8161-4508-991f-32fd0db49ea8",
    "outputId": "fc34dbea-fccc-48a2-d513-89d5f40048f1"
   },
   "outputs": [],
   "source": [
    "t1 = torch.cat([tensor, tensor, tensor], dim=1)\n",
    "print(t1)"
   ]
  },
  {
   "cell_type": "markdown",
   "id": "38f8542e-a54a-40b8-982c-94723f164257",
   "metadata": {
    "id": "38f8542e-a54a-40b8-982c-94723f164257"
   },
   "source": [
    "#### b. 산술 연산(Arithmetic operations)"
   ]
  },
  {
   "cell_type": "code",
   "execution_count": null,
   "id": "431105fb-a68f-4d58-8550-03e0cae85986",
   "metadata": {
    "colab": {
     "base_uri": "https://localhost:8080/"
    },
    "id": "431105fb-a68f-4d58-8550-03e0cae85986",
    "outputId": "7f30000e-2895-444e-c45e-0289a25f305f"
   },
   "outputs": [],
   "source": [
    "# 두 텐서 간의 행렬 곱(matrix multiplication)을 계산합니다. y1, y2, y3은 모두 같은 값을 갖습니다.\n",
    "y1 = tensor @ tensor.T\n",
    "y2 = tensor.matmul(tensor.T)\n",
    "\n",
    "y3 = torch.rand_like(tensor)\n",
    "torch.matmul(tensor, tensor.T, out=y3)\n",
    "\n",
    "\n",
    "# 요소별 곱(element-wise product)을 계산합니다. z1, z2, z3는 모두 같은 값을 갖습니다.\n",
    "z1 = tensor * tensor\n",
    "z2 = tensor.mul(tensor)\n",
    "\n",
    "z3 = torch.rand_like(tensor)\n",
    "torch.mul(tensor, tensor, out=z3)"
   ]
  },
  {
   "cell_type": "markdown",
   "id": "ac408566-f305-4a2e-bfc6-6a4c979d4d11",
   "metadata": {
    "id": "ac408566-f305-4a2e-bfc6-6a4c979d4d11"
   },
   "source": [
    "**단일-요소(single-element) 텐서**의 모든 값을 하나로 집계(aggregate)하여 요소가 하나인 텐서의 경우, `item()`을 사용하여 Python 숫자 값으로 변환할 수 있습니다:"
   ]
  },
  {
   "cell_type": "code",
   "execution_count": null,
   "id": "57b5ea67-3e56-4eb6-9234-cf081999185d",
   "metadata": {
    "colab": {
     "base_uri": "https://localhost:8080/"
    },
    "id": "57b5ea67-3e56-4eb6-9234-cf081999185d",
    "outputId": "7e1a17bd-f851-431d-9e96-bcc1a32d0d6b"
   },
   "outputs": [],
   "source": [
    "agg = tensor.sum()\n",
    "agg_item = agg.item()\n",
    "print(agg_item, type(agg_item))"
   ]
  },
  {
   "cell_type": "markdown",
   "id": "a096f157-2ca6-476f-9d2d-ed5add07fe2e",
   "metadata": {
    "id": "a096f157-2ca6-476f-9d2d-ed5add07fe2e"
   },
   "source": [
    "**바꿔치기(in-place) 연산** 연산 결과를 피연산자(operand)에 저장하는 연산을 바꿔치기 연산이라고 부르며,  `_` 접미사를 갖습니다. 예를 들어, x.copy_(y) 나 x.t_() 는 x 를 변경합니다."
   ]
  },
  {
   "cell_type": "markdown",
   "id": "c163fa49-91ea-42b1-8e5c-358b0dde0f3f",
   "metadata": {
    "id": "c163fa49-91ea-42b1-8e5c-358b0dde0f3f"
   },
   "source": [
    "<div class=\"alert alert-info\">\n",
    "    <b>📌NOTE</b>\n",
    "    <div>바꿔치기 연산은 메모리를 일부 절약하지만, 기록(history)이 즉시 삭제되어 도함수(derivative) 계산에 문제가 발생할 수 있습니다. 따라서, 사용을 권장하지 않습니다.</div>\n",
    "</div>"
   ]
  },
  {
   "cell_type": "markdown",
   "id": "acf19d2e-2adf-42ec-b312-e37c4c942710",
   "metadata": {
    "id": "acf19d2e-2adf-42ec-b312-e37c4c942710"
   },
   "source": [
    "### D. NumPy 변환(Bridge)\n",
    "CPU 상의 텐서와 NumPy 배열은 메모리 공간을 공유하기 때문에, 하나를 변경하면 다른 하나도 변경됩니다."
   ]
  },
  {
   "cell_type": "markdown",
   "id": "04d1de7a-b49f-4b69-96e9-c4b4bc48731e",
   "metadata": {
    "id": "04d1de7a-b49f-4b69-96e9-c4b4bc48731e"
   },
   "source": [
    "#### a. 텐서를 NumPy 배열로 변환하기"
   ]
  },
  {
   "cell_type": "code",
   "execution_count": null,
   "id": "0380fad1-29cc-42aa-99e8-08d324e4fd4c",
   "metadata": {
    "colab": {
     "base_uri": "https://localhost:8080/"
    },
    "id": "0380fad1-29cc-42aa-99e8-08d324e4fd4c",
    "outputId": "b0880d16-f516-4921-934e-ae514aad5ab5"
   },
   "outputs": [],
   "source": [
    "t = torch.ones(5)\n",
    "print(f\"t: {t}\")\n",
    "n = t.numpy()\n",
    "print(f\"n: {n}\")"
   ]
  },
  {
   "cell_type": "markdown",
   "id": "49599d36-5081-4c2c-91cd-2dcf2909dd35",
   "metadata": {
    "id": "49599d36-5081-4c2c-91cd-2dcf2909dd35"
   },
   "source": [
    "텐서의 변경 사항이 NumPy 배열에 반영됩니다."
   ]
  },
  {
   "cell_type": "code",
   "execution_count": null,
   "id": "f02c53b2-9c6b-4db8-8503-ae7070281716",
   "metadata": {
    "colab": {
     "base_uri": "https://localhost:8080/"
    },
    "id": "f02c53b2-9c6b-4db8-8503-ae7070281716",
    "outputId": "9eb5440b-adfe-4421-f476-0c2f9419f207"
   },
   "outputs": [],
   "source": [
    "t.add_(1)\n",
    "print(f\"t: {t}\")\n",
    "print(f\"n: {n}\")"
   ]
  },
  {
   "cell_type": "markdown",
   "id": "e1be91ad-d832-438b-a538-037ccaead865",
   "metadata": {
    "id": "e1be91ad-d832-438b-a538-037ccaead865"
   },
   "source": [
    "#### b. NumPy 배열을 텐서로 변환하기"
   ]
  },
  {
   "cell_type": "code",
   "execution_count": null,
   "id": "7c9e1f5b-02d1-4aa6-8af5-ea52d60e7f69",
   "metadata": {
    "colab": {
     "base_uri": "https://localhost:8080/"
    },
    "id": "7c9e1f5b-02d1-4aa6-8af5-ea52d60e7f69",
    "outputId": "7e522b52-103c-4e64-9279-aa954686e46e"
   },
   "outputs": [],
   "source": [
    "n = np.ones(5)\n",
    "t = torch.from_numpy(n)\n",
    "t"
   ]
  },
  {
   "cell_type": "markdown",
   "id": "d5fc0d4d-8ff7-4b16-80af-1632f223aa9f",
   "metadata": {
    "id": "d5fc0d4d-8ff7-4b16-80af-1632f223aa9f"
   },
   "source": [
    "NumPy 배열의 변경 사항이 텐서에 반영됩니다."
   ]
  },
  {
   "cell_type": "code",
   "execution_count": null,
   "id": "eb1c0529-b952-488d-8420-f4602c4e6e42",
   "metadata": {
    "colab": {
     "base_uri": "https://localhost:8080/"
    },
    "id": "eb1c0529-b952-488d-8420-f4602c4e6e42",
    "outputId": "f36e6910-5c84-4079-f3d5-396c26a0adcd"
   },
   "outputs": [],
   "source": [
    "np.add(n, 1, out=n)\n",
    "print(f\"t: {t}\")\n",
    "print(f\"n: {n}\")"
   ]
  },
  {
   "cell_type": "markdown",
   "id": "c649cc4d-39c9-4676-aa96-ad39a9a4a84d",
   "metadata": {
    "id": "c649cc4d-39c9-4676-aa96-ad39a9a4a84d"
   },
   "source": [
    "### E. [실습] Numpy to Tensor"
   ]
  },
  {
   "cell_type": "markdown",
   "id": "2a9a591c-019f-4083-b5e0-a75ba5e09d6a",
   "metadata": {
    "id": "2a9a591c-019f-4083-b5e0-a75ba5e09d6a"
   },
   "source": [
    "본질적으로, PyTorch에는 두가지 주요한 특징이 있습니다:\n",
    "\n",
    "- NumPy와 유사하지만 GPU 상에서 실행 가능한 n-차원 텐서(Tensor)\n",
    "- 신경망을 구성하고 학습하는 과정에서의 자동 미분(Automatic differentiation)\n",
    "\n",
    "이 튜토리얼에서는 3차 다항식(third order polynomial)을 사용하여 $y=\\sin(x)$ 에 근사(fit)하는 문제를 다뤄보겠습니다. 신경망은 4개의 매개변수를 가지며, 정답과 신경망이 예측한 결과 사이의 유클리드 거리(Euclidean distance)를 최소화하여 임의의 값을 근사할 수 있도록 경사하강법(gradient descent)을 사용하여 학습하겠습니다."
   ]
  },
  {
   "cell_type": "markdown",
   "id": "fb231346-9453-4fed-883a-2984bb42b219",
   "metadata": {
    "id": "fb231346-9453-4fed-883a-2984bb42b219"
   },
   "source": [
    "#### a. Numpy"
   ]
  },
  {
   "cell_type": "markdown",
   "id": "09744d29-bdc0-4577-b8dc-e42e93888f6c",
   "metadata": {
    "id": "09744d29-bdc0-4577-b8dc-e42e93888f6c"
   },
   "source": [
    "PyTorch를 소개하기 전에, 먼저 `NumPy`를 사용하여 신경망을 구성해보겠습니다.\n",
    "\n",
    "NumPy는 n-차원 배열 객체와 이러한 배열들을 조작하기 위한 다양한 함수들을 제공합니다. Num\n",
    "Py는 과학 분야의 연산을 위한 포괄적인 프레임워크(generic framework)입니다. \n",
    "\n",
    "NumPy는 연산 그래프(computation graph)나 딥러닝, 변화도(gradient)에 대해서는 알지 못합니다. 하지만 NumPy 연산을 사용하여 신경망의 순전파 단계와 역전파 단계를 직접 구현함으로써, 3차 다항식이 사인(sine) 함수에 근사하도록 만들 수 있습니다.\n",
    "\n",
    "✅ 구현해야 하는 사항 : Numpy를 이용한 순전파, 손실, 역전파\n",
    "- 이때, 입력값의 범위는 `-π ~ π` 이다. 따라서 구현되는 순전파 함수는 삼차다항식의 꼴이 된다.\n",
    "- 이때, 손실은 예측값과 실제값의 유클리드 거리로 구한다."
   ]
  },
  {
   "cell_type": "code",
   "execution_count": null,
   "id": "b2fd4ac5-a369-435a-9e68-c475010d47dc",
   "metadata": {
    "colab": {
     "base_uri": "https://localhost:8080/"
    },
    "id": "b2fd4ac5-a369-435a-9e68-c475010d47dc",
    "outputId": "f34b3b40-8e3d-4bfe-e8ad-1d9e04ac4a80"
   },
   "outputs": [],
   "source": [
    "import numpy as np\n",
    "import math\n",
    "\n",
    "# 무작위로 입력과 출력 데이터를 생성합니다\n",
    "x = np.linspace(-math.pi, math.pi, 2000)\n",
    "y = np.sin(x)\n",
    "\n",
    "# 무작위로 가중치를 초기화합니다\n",
    "a = np.random.randn()\n",
    "b = np.random.randn()\n",
    "c = np.random.randn()\n",
    "d = np.random.randn()\n",
    "\n",
    "print(f'------------------ init ------------------')\n",
    "print(f'x({len(x)}) : {x}')\n",
    "print(f'y({len(y)}) : {y}')\n",
    "print(f'가중치 초기값 : ')\n",
    "print(f'  a : {a}')\n",
    "print(f'  b : {b}')\n",
    "print(f'  c : {c}')\n",
    "print(f'  d : {d}')\n",
    "print(f'------------------------------------------')\n",
    "\n",
    "learning_rate = 1e-6\n",
    "for t in range(2000):\n",
    "    # 순전파 단계: 예측값 y를 계산합니다\n",
    "    # y = a + b x + c x^2 + d x^3\n",
    "    y_pred = a + b * x + c * x ** 2 + d * x ** 3\n",
    "\n",
    "    # 손실(loss)을 계산하고 출력합니다\n",
    "    loss = np.square(y_pred - y).sum()\n",
    "    if t % 100 == 99:\n",
    "        print(f'[t = {t+1:4d}] loss : {loss:.3f}')\n",
    "\n",
    "    # 손실에 따른 a, b, c, d의 변화도(gradient)를 계산하고 역전파합니다.\n",
    "    grad_y_pred = 2.0 * (y_pred - y)\n",
    "    grad_a = grad_y_pred.sum()\n",
    "    grad_b = (grad_y_pred * x).sum()\n",
    "    grad_c = (grad_y_pred * x ** 2).sum()\n",
    "    grad_d = (grad_y_pred * x ** 3).sum()\n",
    "\n",
    "    # 가중치를 갱신합니다.\n",
    "    a -= learning_rate * grad_a\n",
    "    b -= learning_rate * grad_b\n",
    "    c -= learning_rate * grad_c\n",
    "    d -= learning_rate * grad_d\n",
    "    \n",
    "print(f'------------------------------------------')\n",
    "print(f'Result: y = {a} + {b} x + {c} x^2 + {d} x^3')"
   ]
  },
  {
   "cell_type": "code",
   "execution_count": null,
   "id": "bdca8ad5-edcd-4189-9d78-3a42d995fefc",
   "metadata": {
    "colab": {
     "base_uri": "https://localhost:8080/",
     "height": 265
    },
    "id": "bdca8ad5-edcd-4189-9d78-3a42d995fefc",
    "outputId": "2919502e-4db3-4d81-d5ca-1a3a2081e26f"
   },
   "outputs": [],
   "source": [
    "import matplotlib.pyplot as plt\n",
    "\n",
    "def show(x, y, y_pred):\n",
    "    fig = plt.figure(figsize=(10, 4))\n",
    "\n",
    "    plt.plot(x, y, color='red', label=\"real\")\n",
    "    plt.plot(x, y_pred, color='blue', label=\"prediction\")\n",
    "    plt.legend()\n",
    "    plt.grid(True)\n",
    "    plt.show()\n",
    "\n",
    "show(x, y, a + b * x + c * x ** 2 + d * x ** 3)"
   ]
  },
  {
   "cell_type": "markdown",
   "id": "9f417d32-37d0-4773-9f65-3af636582c2d",
   "metadata": {
    "id": "9f417d32-37d0-4773-9f65-3af636582c2d"
   },
   "source": [
    "<div class=\"alert alert-warning\">\n",
    "    <p><b>Q. `grad_y_pred`를 계산하는 수식에서 왜 2를 곱하는 이유는 무엇인가?</b></p>\n",
    "    <p>👉 (여기에 답을 입력해 주세요)</p>\n",
    "</div>"
   ]
  },
  {
   "cell_type": "markdown",
   "id": "80b79538-48ca-473b-86a7-fa8841712c8a",
   "metadata": {
    "id": "80b79538-48ca-473b-86a7-fa8841712c8a"
   },
   "source": [
    "<div class=\"alert alert-warning\">\n",
    "    <p><b>Q. 각 가중치에 대한 gradient를 구하는 식은 어떻게 유도되었는가?</b></p>\n",
    "    <p>👉 (여기에 답을 입력해 주세요)</p>\n",
    "</div>"
   ]
  },
  {
   "cell_type": "markdown",
   "id": "df2aa280-6127-41bf-a5e7-d91daa8c9ed8",
   "metadata": {
    "id": "df2aa280-6127-41bf-a5e7-d91daa8c9ed8"
   },
   "source": [
    "<div class=\"alert alert-warning\">\n",
    "    <p><b>Q. 다음 함수들의 기능은 무엇인가?</b>\n",
    "    <a href=\"https://numpy.org/doc/stable/index.html\">hint</a></p>\n",
    "    <div>👉 numpy.linespace : (여기에 답을 입력해 주세요)<br>\n",
    "             👉 numpy.sin : (여기에 답을 입력해 주세요)<br>\n",
    "             👉 numpy.square : (여기에 답을 입력해 주세요)</div>\n",
    "</div>"
   ]
  },
  {
   "cell_type": "markdown",
   "id": "fb5c00bf-14f5-4975-8de7-52e86a9bb9ac",
   "metadata": {
    "id": "fb5c00bf-14f5-4975-8de7-52e86a9bb9ac"
   },
   "source": [
    "#### b. Tensor"
   ]
  },
  {
   "cell_type": "markdown",
   "id": "2c25f57c-74f4-4989-a8c6-0d1e7b1b0c0d",
   "metadata": {
    "id": "2c25f57c-74f4-4989-a8c6-0d1e7b1b0c0d"
   },
   "source": [
    "NumPy는 훌륭한 프레임워크지만, GPU를 사용하여 수치 연산을 가속화할 수는 없습니다. 현대의 심층 신경망에서 GPU는 종종 [50배 또는 그 이상](https://github.com/jcjohnson/cnn-benchmarks) 의 속도 향상을 제공하기 때문에, 안타깝게도 NumPy는 현대의 딥러닝에는 충분치 않습니다.\n",
    "\n",
    "이번에는 PyTorch의 가장 핵심적인 개념인 **텐서(Tensor)** 에 대해서 알아보겠습니다. PyTorch 텐서(Tensor)는 개념적으로 NumPy 배열과 동일합니다. \n",
    "- 텐서(Tensor)는 n-차원 배열이며, PyTorch는 이러한 텐서들의 연산을 위한 다양한 기능들을 제공합니다.\n",
    "- NumPy 배열처럼 PyTorch Tensor는 딥러닝이나 연산 그래프, 변화도는 알지 못하며, 과학적 분야의 연산을 위한 포괄적인 도구입니다. \n",
    "- 텐서는 연산 그래프와 변화도를 추적할 수도 있지만, 과학적 연산을 위한 일반적인 도구로도 유용합니다.\n",
    "- 또한 NumPy와는 다르게, PyTorch 텐서는 GPU를 사용하여 수치 연산을 가속할 수 있습니다. PyTorch 텐서를 GPU에서 실행하기 위해서는 단지 적절한 장치를 지정해주기만 하면 됩니다.\n",
    "\n",
    "위의 NumPy 예제에서와 같이 신경망의 순전파 단계와 역전파 단계구현하되 입력/출력/가중치 값을 PyTorch 텐서를 사용하여 정의해 봅시다. \n",
    "\n",
    "✅ 구현해야 하는 사항 : 이전 구현에서 Numpy를 torch.Tensor로 대체한다."
   ]
  },
  {
   "cell_type": "code",
   "execution_count": null,
   "id": "5b6c9266-1b2c-42cc-b405-ffe5b560ba42",
   "metadata": {
    "colab": {
     "base_uri": "https://localhost:8080/",
     "height": 853
    },
    "id": "5b6c9266-1b2c-42cc-b405-ffe5b560ba42",
    "outputId": "0c707448-f335-492e-93f0-9b1ad0c5f3cd"
   },
   "outputs": [],
   "source": [
    "import torch\n",
    "import math\n",
    "\n",
    "\n",
    "dtype = torch.float\n",
    "device = torch.device(\"cpu\")\n",
    "# device = torch.device(\"cuda:0\") # GPU에서 실행하려면 이 주석을 제거하세요\n",
    "\n",
    "# 무작위로 입력과 출력 데이터를 생성합니다\n",
    "x = torch.linspace(-math.pi, math.pi, 2000, device=device, dtype=dtype)\n",
    "y = torch.sin(x)\n",
    "\n",
    "# 무작위로 가중치를 초기화합니다\n",
    "a = torch.randn((), device=device, dtype=dtype)\n",
    "b = torch.randn((), device=device, dtype=dtype)\n",
    "c = torch.randn((), device=device, dtype=dtype)\n",
    "d = torch.randn((), device=device, dtype=dtype)\n",
    "\n",
    "print(f'------------------ init ------------------')\n",
    "print(f'x({len(x)}, {x.__class__}) : {x}')\n",
    "print(f'y({len(y)}, {y.__class__}) : {y}')\n",
    "print(f'가중치 초기값 : ')\n",
    "print(f'  a({a.__class__}) : {a}')\n",
    "print(f'  b({b.__class__}) : {b}')\n",
    "print(f'  c({c.__class__}) : {c}')\n",
    "print(f'  d({d.__class__}) : {d}')\n",
    "print(f'------------------------------------------')\n",
    "\n",
    "learning_rate = 1e-6\n",
    "for t in range(2000):\n",
    "    # 순전파 단계: 예측값 y를 계산합니다\n",
    "    y_pred = a + b * x + c * x ** 2 + d * x ** 3\n",
    "\n",
    "    # 손실(loss)을 계산하고 출력합니다\n",
    "    loss = (y_pred - y).pow(2).sum().item()\n",
    "    if t % 100 == 99:\n",
    "        print(f'[t = {t+1:4d}] loss : {loss:.3f}')\n",
    "\n",
    "    # 손실에 따른 a, b, c, d의 변화도(gradient)를 계산하고 역전파합니다.\n",
    "    grad_y_pred = 2.0 * (y_pred - y)\n",
    "    grad_a = grad_y_pred.sum()\n",
    "    grad_b = (grad_y_pred * x).sum()\n",
    "    grad_c = (grad_y_pred * x ** 2).sum()\n",
    "    grad_d = (grad_y_pred * x ** 3).sum()\n",
    "\n",
    "    # 가중치를 갱신합니다.\n",
    "    a -= learning_rate * grad_a\n",
    "    b -= learning_rate * grad_b\n",
    "    c -= learning_rate * grad_c\n",
    "    d -= learning_rate * grad_d\n",
    "\n",
    "print(f'------------------------------------------')\n",
    "print(f'Result: y = {a.item()} + {b.item()} x + {c.item()} x^2 + {d.item()} x^3')\n",
    "\n",
    "show(x, y, a + b * x + c * x ** 2 + d * x ** 3)"
   ]
  },
  {
   "cell_type": "markdown",
   "id": "eb7ba389-11f0-406b-876c-87fa24bdb3be",
   "metadata": {
    "id": "eb7ba389-11f0-406b-876c-87fa24bdb3be"
   },
   "source": [
    "<div class=\"alert alert-warning\">\n",
    "    <p><b>Q. 파이토치 Tensor가 Numpy에 비하여 가지는 장점이 무엇인가? 위의 문장들을 복사하지 말고 자신만의 표현으로 적어보자.</b></p>\n",
    "    <p>👉 (여기에 답을 입력해 주세요)</p>\n",
    "</div>"
   ]
  },
  {
   "cell_type": "markdown",
   "id": "f2e95c5e-71c5-4441-a558-dd1fd9f9e4bf",
   "metadata": {
    "id": "f2e95c5e-71c5-4441-a558-dd1fd9f9e4bf"
   },
   "source": [
    "## 2. Autograd\n",
    "---"
   ]
  },
  {
   "cell_type": "markdown",
   "id": "65780702-4ad4-444d-87d6-d0e34b8787b7",
   "metadata": {
    "id": "65780702-4ad4-444d-87d6-d0e34b8787b7"
   },
   "source": [
    "신경망을 학습할 때 가장 자주 사용되는 알고리즘은 **역전파* 입니다. 이 알고리즘에서, 매개변수(모델 가중치)는 주어진 매개변수에 대한 손실 함수의 **변화도(gradient)**에 따라 조정됩니다.\n",
    "\n",
    "이러한 변화도를 계산하기 위해 PyTorch에는 `torch.autograd`라고 불리는 자동 미분 엔진이 내장되어 있습니다. 이는 모든 계산 그래프에 대한 변화도의 자동 계산을 지원합니다.\n",
    "\n",
    "입력 `x`, 매개변수 `w` 와 `b` , 그리고 일부 손실 함수가 있는 가장 간단한 단일 계층 신경망을 가정하겠습니다. PyTorch에서는 다음과 같이 정의할 수 있습니다."
   ]
  },
  {
   "cell_type": "code",
   "execution_count": null,
   "id": "0ab002f5-707e-4e5b-8888-137a06eca942",
   "metadata": {
    "id": "0ab002f5-707e-4e5b-8888-137a06eca942"
   },
   "outputs": [],
   "source": [
    "import torch\n",
    "\n",
    "x = torch.ones(5)  # input tensor\n",
    "y = torch.zeros(3)  # expected output\n",
    "w = torch.randn(5, 3, requires_grad=True)\n",
    "b = torch.randn(3, requires_grad=True)\n",
    "z = torch.matmul(x, w)+b\n",
    "loss = torch.nn.functional.binary_cross_entropy_with_logits(z, y)"
   ]
  },
  {
   "cell_type": "markdown",
   "id": "07aa2e7d-b21c-4a6e-90c1-d67edcc28f72",
   "metadata": {
    "id": "07aa2e7d-b21c-4a6e-90c1-d67edcc28f72"
   },
   "source": [
    "### A. Tensor, Function과 연산그래프(Computational graph)"
   ]
  },
  {
   "cell_type": "markdown",
   "id": "f9705f65-99a2-4144-a6a5-79c971124881",
   "metadata": {
    "id": "f9705f65-99a2-4144-a6a5-79c971124881"
   },
   "source": [
    "이 코드는 다음의 **연산 그래프** 를 정의합니다:\n",
    "\n",
    "![](https://i.ibb.co/HFpgNcF/computational-graph.png)\n",
    "\n",
    "이 신경망에서, ``w`` 와 ``b`` 는 최적화를 해야 하는 **매개변수** 입니다. 따라서\n",
    "이러한 변수들에 대한 손실 함수의 변화도를 계산할 수 있어야 합니다. 이를 위해서 해당 텐서에\n",
    "``requires_grad`` 속성을 설정합니다.\n",
    "\n",
    "<div class=\"alert alert-info\">\n",
    "    <b>📌NOTE</b>\n",
    "    <div><b><i>requires_grad</i></b>의 값은 텐서를 생성할 때 설정하거나, 나중에 <b><i>x.requires_grad_(True)</i></b> 메소드를 사용하여 나중에 설정할 수도 있습니다.</div>\n",
    "</div>\n",
    "\n",
    "연산 그래프를 구성하기 위해 텐서에 적용하는 함수는 사실 ``Function`` 클래스의 객체입니다. 이 객체는 *순전파* 방향으로 함수를 계산하는 방법과, *역방향 전파* 단계에서 도함수(derivative)를 계산하는 방법을 알고 있습니다. 역방향 전파 함수에 대한 참조(reference)는 텐서의 ``grad_fn`` 속성에 저장됩니다. ``Function`` 에 대한 자세한 정보는 [이 문서](https://pytorch.org/docs/stable/autograd.html#function)에서 찾아볼 수 있습니다."
   ]
  },
  {
   "cell_type": "code",
   "execution_count": null,
   "id": "cb880382-83f8-4eee-8dcc-f7a6ef936702",
   "metadata": {
    "colab": {
     "base_uri": "https://localhost:8080/"
    },
    "id": "cb880382-83f8-4eee-8dcc-f7a6ef936702",
    "outputId": "cf2c4dcd-8479-4583-acaa-27e032919dcb"
   },
   "outputs": [],
   "source": [
    "print('Gradient function for z =', z.grad_fn)\n",
    "print('Gradient function for loss =', loss.grad_fn)"
   ]
  },
  {
   "cell_type": "markdown",
   "id": "1b5658d1-39bb-4218-a057-8b9af5bf800b",
   "metadata": {
    "id": "1b5658d1-39bb-4218-a057-8b9af5bf800b"
   },
   "source": [
    "### B. 변화도(Gradient) 계산하기\n",
    "신경망에서 매개변수의 가중치를 최적화하려면 매개변수에 대한 손실함수의 도함수(derivative)를 계산해야 합니다. 즉, ``x`` 와 ``y`` 의 일부 고정값에서 $\\frac{\\partial loss}{\\partial w}$와 $\\frac{\\partial loss}{\\partial b}$ 가 필요합니다.\n",
    "\n",
    "이러한 도함수를 계산하기 위해, ``loss.backward()`` 를 호출한 다음 ``w.grad`` 와\n",
    "``b.grad`` 에서 값을 가져옵니다:"
   ]
  },
  {
   "cell_type": "code",
   "execution_count": null,
   "id": "a704989c-91ff-4c8d-b2f4-7bb4540e76a7",
   "metadata": {
    "colab": {
     "base_uri": "https://localhost:8080/"
    },
    "id": "a704989c-91ff-4c8d-b2f4-7bb4540e76a7",
    "outputId": "50b035d9-4c28-4006-a584-add6467c91e2"
   },
   "outputs": [],
   "source": [
    "loss.backward()\n",
    "print(w.grad)\n",
    "print(b.grad)"
   ]
  },
  {
   "cell_type": "markdown",
   "id": "5af95bad-529b-4362-9a43-627fb600cbe3",
   "metadata": {
    "id": "5af95bad-529b-4362-9a43-627fb600cbe3"
   },
   "source": [
    "<div class=\"alert alert-info\">\n",
    "    <b>📌NOTE</b>\n",
    "    <div>\n",
    "        <p>• 연산 그래프의 잎(leaf) 노드들 중 <i><b>requires_grad</b></i> 속성이 <i><b>True</b></i> 로 설정된 노드들의 <i><b>grad</b></i> 속성만 구할 수 있습니다. 그래프의 다른 모든 노드에서는 변화도가 유효하지 않습니다.</p>\n",
    "        <p>• 성능 상의 이유로, 주어진 그래프에서의 <i><b>backward</b></i>를 사용한 변화도 계산은 한 번만 수행할 수 있습니다. 만약 동일한 그래프에서 여러번의 <i><b>backward</b></i> 호출이 필요하면, <i><b>backward</b></i> 호출 시에 <i><b>retrain_graph=True</b></i> 를 전달해야 합니다.</p>\n",
    "    </div>\n",
    "</div>"
   ]
  },
  {
   "cell_type": "markdown",
   "id": "8cfbb790-2f37-44e7-86d7-86ff21351942",
   "metadata": {
    "id": "8cfbb790-2f37-44e7-86d7-86ff21351942"
   },
   "source": [
    "### C. 변화도 추적 멈추기"
   ]
  },
  {
   "cell_type": "markdown",
   "id": "1557d146-e7ee-4e42-8fb7-d20f807d22fd",
   "metadata": {
    "id": "1557d146-e7ee-4e42-8fb7-d20f807d22fd"
   },
   "source": [
    "기본적으로, `requires_grad=True`인 모든 텐서들은 연산 기록을 추적하고 변화도 계산을 지원합니다. 그러나 모델을 학습한 뒤 입력 데이터를 단순히 적용하기만 하는 경우와 같이 순전파 연산만 필요한 경우에는, 이러한 추적이나 지원이 필요없을 수 있습니다. 연산 코드를 `torch.no_grad()` 블록으로 둘러싸서 연산 추적을 멈출 수 있습니다."
   ]
  },
  {
   "cell_type": "code",
   "execution_count": null,
   "id": "10b1c43a-b570-4917-817a-e8003a5118da",
   "metadata": {
    "colab": {
     "base_uri": "https://localhost:8080/"
    },
    "id": "10b1c43a-b570-4917-817a-e8003a5118da",
    "outputId": "8348d185-96f3-40ba-e337-f04e93d1757d"
   },
   "outputs": [],
   "source": [
    "z = torch.matmul(x, w)+b\n",
    "print(z.requires_grad)\n",
    "\n",
    "with torch.no_grad():\n",
    "    z = torch.matmul(x, w)+b\n",
    "print(z.requires_grad)"
   ]
  },
  {
   "cell_type": "markdown",
   "id": "8348b424-4424-4c42-8f29-2362a0724c1f",
   "metadata": {
    "id": "8348b424-4424-4c42-8f29-2362a0724c1f"
   },
   "source": [
    "동일한 결과를 얻는 다른 방법은 텐서에 `detach()` 메소드를 사용하는 것입니다.\n",
    "\n",
    "변화도 추적을 멈춰야 하는 이유들은 다음과 같습니다:\n",
    "- 신경망의 일부 매개변수를 고정된 **매개변수(frozen parameter)**로 표시합니다. 이는 [사전 학습된 신경망을 미세조정](https://tutorials.pytorch.kr/beginner/finetuning_torchvision_models_tutorial.html) 할 때 매우 일반적인 시나리오입니다.\n",
    "- 변화도를 추적하지 않는 텐서의 연산이 더 효율적이기 때문에, 순전파 단계만 수행할 때 **연산 속도가 향상됩니다.**"
   ]
  },
  {
   "cell_type": "markdown",
   "id": "326cedcf-8665-478f-ab0c-d7f7129e25fa",
   "metadata": {
    "id": "326cedcf-8665-478f-ab0c-d7f7129e25fa"
   },
   "source": [
    "### D. 연산 그래프에 대한 추가 정보"
   ]
  },
  {
   "cell_type": "markdown",
   "id": "3ca91d38-5c91-4dd0-8443-ce41423e5fbf",
   "metadata": {
    "id": "3ca91d38-5c91-4dd0-8443-ce41423e5fbf"
   },
   "source": [
    "개념적으로, autograd는 데이터(텐서)의 및 실행된 모든 연산들(및 연산 결과가 새로운 텐서인 경우도 포함하여)의 기록을 [Function](https://pytorch.org/docs/stable/autograd.html#torch.autograd.Function) 객체로\n",
    "구성된 방향성 비순환 그래프(DAG; Directed Acyclic Graph)에 저장(keep)합니다. 이 방향성 비순환 그래프(DAG)의 잎(leave)은 입력 텐서이고, 뿌리(root)는 결과 텐서입니다. 이 그래프를 뿌리에서부터 잎까지 추적하면 연쇄 법칙(chain rule)에 따라 변화도를 자동으로 계산할 수 있습니다.\n",
    "\n",
    "순전파 단계에서, `autograd`는 다음 두 가지 작업을 동시에 수행합니다:\n",
    "\n",
    "- 요청된 연산을 수행하여 결과 텐서를 계산하고,\n",
    "- DAG에 연산의 *변화도 기능(gradient function)* 를 유지(maintain)합니다.\n",
    "\n",
    "역전파 단계는 DAG 뿌리(root)에서 ``.backward()`` 가 호출될 때 시작됩니다. ``autograd`` 는 이 때:\n",
    "\n",
    "- 각 ``.grad_fn`` 으로부터 변화도를 계산하고,\n",
    "- 각 텐서의 ``.grad`` 속성에 계산 결과를 쌓고(accumulate),\n",
    "- 연쇄 법칙을 사용하여, 모든 잎(leaf) 텐서들까지 전파(propagate)합니다.\n",
    "\n",
    "<div class=\"alert alert-info\">\n",
    "    <b>📌NOTE</b>\n",
    "    <div>\n",
    "  <b>PyTorch에서 DAG들은 동적(dynamic)입니다.</b><br>\n",
    "      주목해야 할 중요한 점은 그래프가 처음부터(from scratch) 다시 생성된다는 것입니다. 매번 <b><i>.bachward()</i></b> 가 호출되고 나면, autograd는 새로운 그래프를 채우기(populate) 시작합니다. 이러한 점 덕분에 모델에서 흐름 제어(control flow) 구문들을 사용할 수 있게 되는 것입니다; 매번 반복(iteration)할 때마다 필요하면 모양(shape)이나 크기(size), 연산(operation)을 바꿀 수 있습니다.\n",
    "    </div>\n",
    "</div>"
   ]
  },
  {
   "cell_type": "markdown",
   "id": "201244df-f973-48db-a7b2-8af96d91ad09",
   "metadata": {
    "id": "201244df-f973-48db-a7b2-8af96d91ad09"
   },
   "source": [
    "### E. 선택적으로 읽기(Optional Reading): 텐서 변화도와 야코비안 곱(Jacobian Product)"
   ]
  },
  {
   "cell_type": "markdown",
   "id": "4049c8c6-ba5f-40cf-a99c-bd301753053d",
   "metadata": {
    "id": "4049c8c6-ba5f-40cf-a99c-bd301753053d"
   },
   "source": [
    "대부분의 경우, 스칼라 손실 함수를 가지고 일부 매개변수와 관련한 변화도를 계산해야 합니다. 그러나 출력 함수가 임의의 텐서인 경우가 있습니다. 이럴 때, PyTorch는 실제 변화도가 아닌 **야코비안 곱(Jacobian product)**\\ 을 계산합니다.\n",
    "\n",
    "$\\vec{x}=\\langle x_1,\\dots,x_n\\rangle$ 이고, $\\vec{y}=\\langle y_1,\\dots,y_m\\rangle`$ 일 때 벡터 함수 $\\vec{y}=f(\\vec{x})$에서 $\\vec{x}$에 대한 $\\vec{y}$의 변화도는 **야코비안 행렬(Jacobian matrix)**로 주어집니다:\n",
    "\n",
    "$$J=\\left(\\begin{array}{ccc}\n",
    "      \\frac{\\partial y_{1}}{\\partial x_{1}} & \\cdots & \\frac{\\partial y_{1}}{\\partial x_{n}}\\\\\n",
    "      \\vdots & \\ddots & \\vdots\\\\\n",
    "      \\frac{\\partial y_{m}}{\\partial x_{1}} & \\cdots & \\frac{\\partial y_{m}}{\\partial x_{n}}\n",
    "      \\end{array}\\right) $$\n",
    "\n",
    "야코비안 행렬 자체를 계산하는 대신, PyTorch는 주어진 입력 벡터 $v=(v_1 \\dots v_m)$ 에 대한 **야코비안 곱(Jacobian Product)**  $v^T\\cdot J$ 을 계산합니다.\n",
    "이 과정은 $v$ 를 인자로 ``backward`` 를 호출하면 이뤄집니다. $v$의 크기는 곱(product)을 계산하려고 하는 원래 텐서의 크기와 같아야 합니다."
   ]
  },
  {
   "cell_type": "code",
   "execution_count": null,
   "id": "e0f36f8f-b5cc-4f06-a23a-a997a143102c",
   "metadata": {
    "colab": {
     "base_uri": "https://localhost:8080/"
    },
    "id": "e0f36f8f-b5cc-4f06-a23a-a997a143102c",
    "outputId": "70232f0e-56dc-48cb-8226-eabc28315713"
   },
   "outputs": [],
   "source": [
    "inp = torch.eye(5, requires_grad=True)\n",
    "out = (inp+1).pow(2)\n",
    "out.backward(torch.ones_like(inp), retain_graph=True)\n",
    "print(\"First call\\n\", inp.grad)\n",
    "out.backward(torch.ones_like(inp), retain_graph=True)\n",
    "print(\"\\nSecond call\\n\", inp.grad)\n",
    "inp.grad.zero_()\n",
    "out.backward(torch.ones_like(inp), retain_graph=True)\n",
    "print(\"\\nCall after zeroing gradients\\n\", inp.grad)"
   ]
  },
  {
   "cell_type": "markdown",
   "id": "2b294856-bafd-4967-bd2e-608830bbdb57",
   "metadata": {
    "id": "2b294856-bafd-4967-bd2e-608830bbdb57"
   },
   "source": [
    "동일한 인자로 `backward`를 두차례 호출하면 변화도 값이 달라집니다. 이는 역방향 전파를 수행할 때, PyTorch가 **변화도를 누적(accumulate)해두기 때문**입니다. 즉, 계산된 변화도의 값이 연산 그래프의 모든 잎(leaf) 노드의 `grad` 속성에 추가됩니다. 따라서 제대로된 변화도를 계산하기 위해서는 `grad` 속성을 먼저 0으로 만들어야 합니다. 실제 학습 과정에서는 *옵티마이저(optimizer)* 가 이 과정을 도와줍니다."
   ]
  },
  {
   "cell_type": "markdown",
   "id": "9fd1d504-c110-46cf-a412-4307aa42529a",
   "metadata": {
    "id": "9fd1d504-c110-46cf-a412-4307aa42529a"
   },
   "source": [
    "<div class=\"alert alert-info\">\n",
    "    <b>📌NOTE</b>\n",
    "    <div>이전에는 매개변수 없이 <b><i>backward()</i></b> 함수를 호출했습니다. 이는 본질적으로 <b><i>backward(torch.tensor(1.0))</i></b>을 호출하는 것과 동일하며, 신경망 훈련 중의 손실과 같은 스칼라-값 함수의 변화도를 계산하는 유용한 방법입니다.\n",
    "    </div>\n",
    "</div>"
   ]
  },
  {
   "cell_type": "markdown",
   "id": "73e8699f-6d35-4efa-9e9a-f4660b6260c0",
   "metadata": {
    "id": "73e8699f-6d35-4efa-9e9a-f4660b6260c0"
   },
   "source": [
    "### F. [실습] Backpropagation with Autograd"
   ]
  },
  {
   "cell_type": "markdown",
   "id": "d8acbc6d-9258-4629-9083-6084a6fb3108",
   "metadata": {
    "id": "d8acbc6d-9258-4629-9083-6084a6fb3108"
   },
   "source": [
    "앞선 실습에서는 신경망의 순전파 단계와 역전파 단계를 직접 구현해보았습니다. 작은 2계층(2-layer) 신경망에서는 역전파 단계를 직접 구현하는 것이 큰일이 아니지만, 복잡한 대규모 신경망에서는 매우 아슬아슬한 일일 것입니다.\n",
    "\n",
    "다행히도, [자동 미분](https://en.wikipedia.org/wiki/Automatic_differentiation) 을 사용하여 신경망의 역전파 단계 연산을 자동화할 수 있습니다. PyTorch의 **autograd** 패키지는 정확히 이런 기능을 제공합니다. Autograd를 사용하면, 신경망의 순전파 단계에서 **연산 그래프(computational graph)** 를 정의하게 됩니다; 이 그래프의 노드(node)는 텐서(tensor)이고, 엣지(edge)는 입력 텐서로부터 출력 텐서를 만들어내는 함수가 됩니다. 이 그래프를 통해 역전파를 하게 되면 변화도를 쉽게 계산할 수 있습니다.\n",
    "\n",
    "이는 복잡하게 들리겠지만, 실제로 사용하는 것은 매우 간단합니다. 각 텐서는 연산그래프에서 노드로 표현됩니다. 만약 x 가 `x.requires_grad=True` 인 텐서라면 `x.grad` 어떤 스칼라 값에 대한 x 의 변화도를 갖는 또 다른 텐서입니다.\n",
    "\n",
    "이번 단계에서는 텐서 연산을 사용하여 순전파 단계를 계산하고, PyTorch autograd를 사용하여 변화도(gradient)를 계산해보겠습니다.\n",
    "\n",
    "✅ 구현해야 하는 사항 : 이전 구현에서 역전파 부분을 autograd 기능으로 대체한다."
   ]
  },
  {
   "cell_type": "code",
   "execution_count": null,
   "id": "94484464-1019-4631-aea7-c5c9b2fc662d",
   "metadata": {
    "colab": {
     "base_uri": "https://localhost:8080/",
     "height": 853
    },
    "id": "94484464-1019-4631-aea7-c5c9b2fc662d",
    "outputId": "00219127-5d52-4aff-dd05-1718e7af24fc"
   },
   "outputs": [],
   "source": [
    "import torch\n",
    "import math\n",
    "\n",
    "dtype = torch.float\n",
    "device = torch.device(\"cpu\")\n",
    "# device = torch.device(\"cuda:0\") # GPU에서 실행하려면 이 주석을 제거하세요\n",
    "\n",
    "# 입력값과 출력값을 갖는 텐서들을 생성합니다.\n",
    "# requires_grad=False가 기본값으로 설정되어 역전파 단계 중에 이 텐서들에 대한 변화도를\n",
    "# 계산할 필요가 없음을 나타냅니다.\n",
    "x = torch.linspace(-math.pi, math.pi, 2000, device=device, dtype=dtype)\n",
    "y = torch.sin(x)\n",
    "\n",
    "# 가중치를 갖는 임의의 텐서를 생성합니다. 3차 다항식이므로 4개의 가중치가 필요합니다:\n",
    "# y = a + b x + c x^2 + d x^3\n",
    "# requires_grad=True로 설정하여 역전파 단계 중에 이 텐서들에 대한 변화도를 계산할 필요가 \n",
    "# 있음을 나타냅니다.\n",
    "a = torch.randn((), device=device, dtype=dtype, requires_grad=True)\n",
    "b = torch.randn((), device=device, dtype=dtype, requires_grad=True)\n",
    "c = torch.randn((), device=device, dtype=dtype, requires_grad=True)\n",
    "d = torch.randn((), device=device, dtype=dtype, requires_grad=True)\n",
    "\n",
    "print(f'------------------ init ------------------')\n",
    "print(f'x({len(x)}) : {x}')\n",
    "print(f'y({len(y)}) : {y}')\n",
    "print(f'가중치 초기값 : ')\n",
    "print(f'  a : {a}')\n",
    "print(f'  b : {b}')\n",
    "print(f'  c : {c}')\n",
    "print(f'  d : {d}')\n",
    "print(f'------------------------------------------')\n",
    "\n",
    "learning_rate = 1e-6\n",
    "for t in range(2000):\n",
    "    # 순전파 단계: 텐서들 간의 연산을 사용하여 예측값 y를 계산합니다.\n",
    "    y_pred = a + b * x + c * x ** 2 + d * x ** 3\n",
    "\n",
    "    # 텐서들간의 연산을 사용하여 손실(loss)을 계싼하고 출력합니다.\n",
    "    # 이 때 손실은 (1,) shape을 갖는 텐서입니다.\n",
    "    # loss.item() 으로 손실이 갖고 있는 스칼라 값을 가져올 수 있습니다.\n",
    "    loss = (y_pred - y).pow(2).sum()\n",
    "    if t % 100 == 99:\n",
    "        print(f'[t = {t+1:4d}] loss : {loss:.3f}')\n",
    "\n",
    "    # autograd 를 사용하여 역전파 단계를 계산합니다. 이는 requires_grad=True를 갖는\n",
    "    # 모든 텐서들에 대한 손실의 변화도를 계산합니다. \n",
    "    # 이후 a.grad와 b.grad, c.grad, d.grad는 각각 a, b, c, d에 대한 손실의 변화도를\n",
    "    # 갖는 텐서가 됩니다.\n",
    "    loss.backward()\n",
    "\n",
    "    # 경사하강법(gradient descent)를 사용하여 가중치를 직접 갱신합니다.\n",
    "    # torch.no_grad()로 감싸는 이유는, 가중치들이 requires_grad=True 지만\n",
    "    # autograd에서는 이를 추적하지 않을 것이기 때문입니다.\n",
    "    with torch.no_grad():\n",
    "        a -= learning_rate * a.grad\n",
    "        b -= learning_rate * b.grad\n",
    "        c -= learning_rate * c.grad\n",
    "        d -= learning_rate * d.grad\n",
    "\n",
    "        # 가중치 갱신 후에는 변화도를 직접 0으로 만듭니다.\n",
    "        a.grad = None\n",
    "        b.grad = None\n",
    "        c.grad = None\n",
    "        d.grad = None\n",
    "\n",
    "print(f'------------------------------------------')\n",
    "print(f'Result: y = {a.item()} + {b.item()} x + {c.item()} x^2 + {d.item()} x^3')\n",
    "\n",
    "with torch.no_grad():\n",
    "    show(x, y, a + b * x + c * x ** 2 + d * x ** 3)"
   ]
  },
  {
   "cell_type": "markdown",
   "id": "56adc9ff-6855-4f95-bea8-0e645905aef3",
   "metadata": {
    "id": "56adc9ff-6855-4f95-bea8-0e645905aef3"
   },
   "source": [
    "<div class=\"alert alert-warning\">\n",
    "    <h4>Q. `loss.backward()`는 어떻게 역전파를 진행하는가?</h4>\n",
    "    <p>👉 (여기에 답을 입력해 주세요)</p>\n",
    "</div>"
   ]
  },
  {
   "cell_type": "markdown",
   "id": "3e2ede93-3555-4835-9dfe-dea552f1a2e6",
   "metadata": {
    "id": "3e2ede93-3555-4835-9dfe-dea552f1a2e6"
   },
   "source": [
    "## 3. DATASET과 DATALOADER\n",
    "---\n",
    "\n",
    "데이터 샘플을 처리하는 코드는 지저분(messy)하고 유지보수가 어려울 수 있습니다. 더 나은 가독성(readability)과 모듈성(modularity)을 위해 데이터셋 코드를 모델 학습 코드로부터 분리하는 것이 이상적입니다. PyTorch는 ``torch.utils.data.DataLoader``와 ``torch.utils.data.Dataset`` 의 두 가지 데이터 기본 요소를 제공하여 미리 준비해된(pre-loaded) 데이터셋 뿐만 아니라 가지고 있는 데이터를 사용할 수 있도록 합니다.\n",
    "``Dataset`` 은 샘플과 정답(label)을 저장하고, ``DataLoader`` 는 ``Dataset`` 을 샘플에 쉽게 접근할 수 있도록 순회 가능한 객체(iterable)로 감쌉니다.\n",
    "\n",
    "PyTorch의 도메인 특화 라이브러리들은 (FashionMNIST와 같은) 다양한 미리 준비해둔(pre-loaded) 데이터셋을 제공합니다. 데이터셋은 ``torch.utils.data.Dataset`` 의 하위 클래스로 개별 데이터를 특정하는 함수가 구현되어 있습니다. 이러한 데이터셋은 모델을 만들어보고(prototype) 성능을 측정(benchmark)하는데 사용할 수 있습니다.\n",
    "\n",
    "여기에서 데이터셋들을 찾아볼 수 있습니다:\n",
    "[이미지 데이터셋](https://pytorch.org/vision/stable/datasets.html), \n",
    "[텍스트 데이터셋](https://pytorch.org/text/stable/datasets.html) 및\n",
    "[오디오 데이터셋](https://pytorch.org/audio/stable/datasets.html)"
   ]
  },
  {
   "cell_type": "markdown",
   "id": "c7d517ee-96bf-4c97-8b2c-2dec58086070",
   "metadata": {
    "id": "c7d517ee-96bf-4c97-8b2c-2dec58086070"
   },
   "source": [
    "### A. 데이터셋 불러오기\n",
    "\n",
    "`TorchVision` 에서 [Fashion-MNIST](https://research.zalando.com/project/fashion_mnist/fashion_mnist) 데이터셋을\n",
    "불러오는 예제를 살펴보겠습니다. Fashion-MNIST는 Zalando의 기사 이미지 데이터셋으로 60,000개의 학습 예제와 10,000개의 테스트 예제로 이루어져 있습니다. 각 예제는 흑백(grayscale)의 28x28 이미지와 10개 분류(class) 중 하나인 정답(label)으로 구성됩니다.\n",
    "\n",
    "다음 매개변수들을 사용하여 [FashionMNIST 데이터셋](https://pytorch.org/vision/stable/datasets.html#fashion-mnist)을 불러옵니다:\n",
    " - ``root`` 는 학습/테스트 데이터가 저장되는 경로입니다.\n",
    " - ``train`` 은 학습용 또는 테스트용 데이터셋 여부를 지정합니다.\n",
    " - ``download=True`` 는 ``root`` 에 데이터가 없는 경우 인터넷에서 다운로드합니다.\n",
    " - ``transform`` 과 ``target_transform`` 은 특징(feature)과 정답(label) 변형(transform)을 지정합니다."
   ]
  },
  {
   "cell_type": "code",
   "execution_count": null,
   "id": "c99015ed-d495-4fb6-902b-05f27aad92a4",
   "metadata": {
    "colab": {
     "base_uri": "https://localhost:8080/",
     "height": 495,
     "referenced_widgets": [
      "9b14adbf948e468790aa806a6b7a78c7",
      "405e10933ee04f9c9cdf29f580bb6d22",
      "0ec8ada266614619b130ecf04d03679d",
      "0ec4e1cc1ac342c1bd0883c44376614c",
      "89cce03e71be42e7ab2c02e2e0d2b73e",
      "b79939890dd8498e984ac2f1f13b9a57",
      "2b27b2284d6b4484b44048e23864280c",
      "37aca75e5d8b4bc3b39a6210bac6243f",
      "fc37647185b246e78d33d75d7056e97e",
      "1c222cfe4e794b21baa41cebb9697d74",
      "d138d0b04aa246939051e1ce133e03bb",
      "71782e11c276463c81d0a0ab6dd4dd77",
      "f35a84381256473086972819238fa483",
      "94d26662bbb44c80961d703760191d02",
      "d28d0ba4ad0a443d9b3e71950be9a264",
      "1c2269e03f9d4f01a2ed305254adf07a",
      "a14a803444a745039338b5f5b09ae75a",
      "b577521e8bb948d292dc59d35be6bddf",
      "176aa6e2254f4610b7499b3d4e29438a",
      "045a0c398a5d4c5cb837c28b7bc8dd18",
      "54f5c7584803489594f8a5a707302cc9",
      "4cea21fce9f34b668f6b22bcb1ef5d19",
      "1727391317e64616b334333299c52198",
      "064c282c5ac2490680e49ee6d95b4374",
      "37a4a07b624b4cf8a3e8fec5656574fe",
      "8000f318094b45b2808cf8694ce68969",
      "ba20c2e33cc344fc81d48c7ad36e144f",
      "6bd9121d6f5f4f0681b3937a3d9fb205",
      "1fc6492cd225478ab1dd8e317110b59e",
      "b652d8cecd0a47e6ae05913de4b8926f",
      "2ab9b4a6fd3e460683b12135746c84a8",
      "462326ec2014425ab84153f326f4b59d",
      "84a45dedb3734b51ba2cac8e7bca4cf8",
      "1ae88c6f154043d4bcd5c25a75e7a98e",
      "27fcdf4497f64a9382bdcc3f8fdeb4bd",
      "8c2f0c2b6ec74cceabbf0fef807967bf",
      "143e817e41fb48218ad0645bb3007d51",
      "ff06074ddcaa4089ba2b23fb8ca94e19",
      "01e148f8dc0442ebbcc446b2d1c0ec17",
      "826be472afbb44e294283c4e5498626c",
      "f44f0220d68f434b984eb3b1000a9d48",
      "d1d3782506a541c99718555821dd402f",
      "fadcc7e6d9e941ddb23aeef132c2e7f0",
      "eec4340102204514aa25edff1c59d1c5"
     ]
    },
    "id": "c99015ed-d495-4fb6-902b-05f27aad92a4",
    "outputId": "5c8fa2c1-b165-413e-c998-48c2a73445c7"
   },
   "outputs": [],
   "source": [
    "import torch\n",
    "from torch.utils.data import Dataset\n",
    "from torchvision import datasets\n",
    "from torchvision.transforms import ToTensor\n",
    "import matplotlib.pyplot as plt\n",
    "\n",
    "\n",
    "training_data = datasets.FashionMNIST(\n",
    "    root=\"data\",\n",
    "    train=True,\n",
    "    download=True,\n",
    "    transform=ToTensor()\n",
    ")\n",
    "\n",
    "test_data = datasets.FashionMNIST(\n",
    "    root=\"data\",\n",
    "    train=False,\n",
    "    download=True,\n",
    "    transform=ToTensor()\n",
    ")"
   ]
  },
  {
   "cell_type": "markdown",
   "id": "a0d25b89-b98c-428a-b92a-9aafbf18909c",
   "metadata": {
    "id": "a0d25b89-b98c-428a-b92a-9aafbf18909c"
   },
   "source": [
    "### B. 데이터셋을 순회하고 시각화하기\n",
    "\n",
    "Dataset 에 리스트(list)처럼 직접 접근(index)할 수 있습니다: training_data[index]. matplotlib 을 사용하여 학습 데이터의 일부를 시각화해보겠습니다."
   ]
  },
  {
   "cell_type": "code",
   "execution_count": null,
   "id": "e830ed75-b3ae-4244-9acd-b05f87a9fc48",
   "metadata": {
    "colab": {
     "base_uri": "https://localhost:8080/",
     "height": 482
    },
    "id": "e830ed75-b3ae-4244-9acd-b05f87a9fc48",
    "outputId": "f0d5b92d-89eb-4f07-bc82-da1167a1b5f4"
   },
   "outputs": [],
   "source": [
    "labels_map = {\n",
    "    0: \"T-Shirt\",\n",
    "    1: \"Trouser\",\n",
    "    2: \"Pullover\",\n",
    "    3: \"Dress\",\n",
    "    4: \"Coat\",\n",
    "    5: \"Sandal\",\n",
    "    6: \"Shirt\",\n",
    "    7: \"Sneaker\",\n",
    "    8: \"Bag\",\n",
    "    9: \"Ankle Boot\",\n",
    "}\n",
    "figure = plt.figure(figsize=(8, 8))\n",
    "cols, rows = 3, 3\n",
    "for i in range(1, cols * rows + 1):\n",
    "    sample_idx = torch.randint(len(training_data), size=(1,)).item()\n",
    "    img, label = training_data[sample_idx]\n",
    "    figure.add_subplot(rows, cols, i)\n",
    "    plt.title(labels_map[label])\n",
    "    plt.axis(\"off\")\n",
    "    plt.imshow(img.squeeze(), cmap=\"gray\")\n",
    "plt.show()\n"
   ]
  },
  {
   "cell_type": "markdown",
   "id": "9d75cdc7-65d2-4de5-b738-7e3ec44dd2a3",
   "metadata": {
    "id": "9d75cdc7-65d2-4de5-b738-7e3ec44dd2a3"
   },
   "source": [
    "### C. 파일에서 사용자 정의 데이터셋 만들기"
   ]
  },
  {
   "cell_type": "markdown",
   "id": "4e203219-14ba-44ed-821a-7fb375b34ea9",
   "metadata": {
    "id": "4e203219-14ba-44ed-821a-7fb375b34ea9"
   },
   "source": [
    "사용자 정의 Dataset 클래스는 반드시 3개 함수를 구현해야 합니다: `__init__`, `__len__`, and `__getitem__`. 아래 구현을 살펴보면 FashionMNIST 이미지들은 img_dir 디렉토리에 저장되고, 정답은 `annotations_file csv` 파일에 별도로 저장됩니다.\n",
    "\n",
    "다음 장에서 각 함수들에서 일어나는 일들을 자세히 살펴보겠습니다"
   ]
  },
  {
   "cell_type": "code",
   "execution_count": null,
   "id": "ac6d3bcf-96a1-4073-9e72-239a57ba68db",
   "metadata": {
    "id": "ac6d3bcf-96a1-4073-9e72-239a57ba68db"
   },
   "outputs": [],
   "source": [
    "import os\n",
    "import pandas as pd\n",
    "from torchvision.io import read_image\n",
    "\n",
    "class CustomImageDataset(Dataset):\n",
    "    def __init__(self, annotations_file, img_dir, transform=None, target_transform=None):\n",
    "        self.img_labels = pd.read_csv(annotations_file)\n",
    "        self.img_dir = img_dir\n",
    "        self.transform = transform\n",
    "        self.target_transform = target_transform\n",
    "\n",
    "    def __len__(self):\n",
    "        return len(self.img_labels)\n",
    "\n",
    "    def __getitem__(self, idx):\n",
    "        img_path = os.path.join(self.img_dir, self.img_labels.iloc[idx, 0])\n",
    "        image = read_image(img_path)\n",
    "        label = self.img_labels.iloc[idx, 1]\n",
    "        if self.transform:\n",
    "            image = self.transform(image)\n",
    "        if self.target_transform:\n",
    "            label = self.target_transform(label)\n",
    "        return image, label"
   ]
  },
  {
   "cell_type": "markdown",
   "id": "626548e7-caf4-4baf-9271-eecda95ffea6",
   "metadata": {
    "id": "626548e7-caf4-4baf-9271-eecda95ffea6"
   },
   "source": [
    "#### a. \\_\\_init\\_\\_\n",
    "\n",
    "`__init__` 함수는 Dataset 객체가 생성(instantiate)될 때 한 번만 실행됩니다. 여기서는 이미지와 주석 파일(annotation_file)이 포함된 디렉토리와 (다음 장에서 자세히 살펴볼) 두가지 변형(transform)을 초기화합니다. \n",
    "\n",
    "labels.csv 파일은 다음과 같습니다: \n",
    "```\n",
    "tshirt1.jpg, 0\n",
    "tshirt2.jpg, 0\n",
    "......\n",
    "ankleboot999.jpg, 9\n",
    "```"
   ]
  },
  {
   "cell_type": "code",
   "execution_count": null,
   "id": "486171b8-cb30-4b3b-a4b1-4a4dca46698a",
   "metadata": {
    "id": "486171b8-cb30-4b3b-a4b1-4a4dca46698a"
   },
   "outputs": [],
   "source": [
    "def __init__(self, annotations_file, img_dir, transform=None, target_transform=None):\n",
    "    self.img_labels = pd.read_csv(annotations_file)\n",
    "    self.img_dir = img_dir\n",
    "    self.transform = transform\n",
    "    self.target_transform = target_transform"
   ]
  },
  {
   "cell_type": "markdown",
   "id": "4e172b99-bcb3-4943-89f5-309a8a0d99e3",
   "metadata": {
    "id": "4e172b99-bcb3-4943-89f5-309a8a0d99e3"
   },
   "source": [
    "#### b. \\_\\_len\\_\\_\n",
    "\n",
    "`__len__` 함수는 데이터셋의 샘플 개수를 반환합니다.\n",
    "\n",
    "예:"
   ]
  },
  {
   "cell_type": "code",
   "execution_count": null,
   "id": "f6901271-9687-4c3a-9ea3-e6fc1fc6a89e",
   "metadata": {
    "id": "f6901271-9687-4c3a-9ea3-e6fc1fc6a89e"
   },
   "outputs": [],
   "source": [
    "def __len__(self):\n",
    "    return len(self.img_labels)"
   ]
  },
  {
   "cell_type": "markdown",
   "id": "3aee14b1-ff9e-4089-adfc-8a853effab6f",
   "metadata": {
    "id": "3aee14b1-ff9e-4089-adfc-8a853effab6f"
   },
   "source": [
    "#### c. \\_\\_getitem\\_\\_\n",
    "\n",
    "`__getitem__` 함수는 주어진 인덱스 ``idx`` 에 해당하는 샘플을 데이터셋에서 불러오고 반환합니다.<br>\n",
    "인덱스를 기반으로, 디스크에서 이미지의 위치를 식별하고, ``read_image`` 를 사용하여 이미지를 텐서로 변환하고, ``self.img_labels`` 의 csv 데이터로부터 해당하는 정답(label)을 가져오고, (해당하는 경우) 변형(transform) 함수들을 호출한 뒤, 텐서 이미지와 라벨을 Python 사전(dict)형으로 반환합니다."
   ]
  },
  {
   "cell_type": "code",
   "execution_count": null,
   "id": "31a24918-bc86-48d2-b503-993ecc6b6427",
   "metadata": {
    "id": "31a24918-bc86-48d2-b503-993ecc6b6427"
   },
   "outputs": [],
   "source": [
    "def __getitem__(self, idx):\n",
    "    img_path = os.path.join(self.img_dir, self.img_labels.iloc[idx, 0])\n",
    "    image = read_image(img_path)\n",
    "    label = self.img_labels.iloc[idx, 1]\n",
    "    if self.transform:\n",
    "        image = self.transform(image)\n",
    "    if self.target_transform:\n",
    "        label = self.target_transform(label)\n",
    "    sample = {\"image\": image, \"label\": label}\n",
    "    return sample"
   ]
  },
  {
   "cell_type": "markdown",
   "id": "86c936c9-fe4e-43ca-9b6f-f12e59ef01ce",
   "metadata": {
    "id": "86c936c9-fe4e-43ca-9b6f-f12e59ef01ce"
   },
   "source": [
    "### D. DataLoader로 학습용 데이터 준비하기"
   ]
  },
  {
   "cell_type": "markdown",
   "id": "7f026f35-f761-4d82-b9c2-7347a0a84113",
   "metadata": {
    "id": "7f026f35-f761-4d82-b9c2-7347a0a84113"
   },
   "source": [
    "`Dataset`은 데이터셋의 특징(feature)을 가져오고 하나의 샘플에 정답(label)을 지정하는 일을 한 번에 합니다. 모델을 학습할 때, 일반적으로 샘플들을 “미니배치(minibatch)”로 전달하고, 매 에폭(epoch)마다 데이터를 다시 섞어서 과적합(overfit)을 막고, Python의 multiprocessing 을 사용하여 데이터 검색 속도를 높이려고 합니다.\n",
    "\n",
    "`DataLoader`는 간단한 API로 이러한 복잡한 과정들을 추상화한 순회 가능한 객체(iteratable)입니다."
   ]
  },
  {
   "cell_type": "code",
   "execution_count": null,
   "id": "6c985b57-d35e-4d41-8265-80246ff7bc30",
   "metadata": {
    "colab": {
     "base_uri": "https://localhost:8080/"
    },
    "id": "6c985b57-d35e-4d41-8265-80246ff7bc30",
    "outputId": "0d82a30c-e4cc-46dd-ed7d-9b74c890206d"
   },
   "outputs": [],
   "source": [
    "from torch.utils.data import DataLoader\n",
    "\n",
    "train_dataloader = DataLoader(training_data, batch_size=64, shuffle=True)\n",
    "test_dataloader = DataLoader(test_data, batch_size=64, shuffle=True)\n",
    "\n",
    "train_dataloader, test_dataloader"
   ]
  },
  {
   "cell_type": "markdown",
   "id": "426442b1-4eaf-422d-bc6a-77e8c4894094",
   "metadata": {
    "id": "426442b1-4eaf-422d-bc6a-77e8c4894094"
   },
   "source": [
    "### E. DataLoader를 통해 순회하기(iterate)"
   ]
  },
  {
   "cell_type": "markdown",
   "id": "54da5074-94f1-4524-be21-bfefe3200d57",
   "metadata": {
    "id": "54da5074-94f1-4524-be21-bfefe3200d57"
   },
   "source": [
    "``DataLoader`` 에 데이터셋을 불러온 뒤에는 필요에 따라 데이터셋을 순회(iterate)할 수 있습니다.\n",
    "아래의 각 순회(iteration)는 (각각 ``batch_size=64`` 의 특징(feature)과 정답(label)을 포함하는) ``train_features`` 와\n",
    "``train_labels`` 의 묶음(batch)을 반환합니다. ``shuffle=True`` 로 지정했으므로, 모든 배치를 순회한 뒤 데이터가 섞입니다.\n",
    "(데이터 불러오기 순서를 보다 세밀하게(finer-grained) 제어하려면 [Samplers](https://pytorch.org/docs/stable/data.html#data-loading-order-and-sampler)\n",
    "를 살펴보세요.)"
   ]
  },
  {
   "cell_type": "code",
   "execution_count": null,
   "id": "39cd90d9-5408-429e-b047-69e64e56c3ce",
   "metadata": {
    "colab": {
     "base_uri": "https://localhost:8080/",
     "height": 320
    },
    "id": "39cd90d9-5408-429e-b047-69e64e56c3ce",
    "outputId": "b3387259-38f6-499c-a7fc-d22d981740b8"
   },
   "outputs": [],
   "source": [
    "# 이미지와 정답(label)을 표시합니다.\n",
    "train_features, train_labels = next(iter(train_dataloader))\n",
    "print(f\"Feature batch shape: {train_features.size()}\")\n",
    "print(f\"Labels batch shape: {train_labels.size()}\")\n",
    "img = train_features[0].squeeze()\n",
    "label = train_labels[0]\n",
    "plt.imshow(img, cmap=\"gray\")\n",
    "plt.show()\n",
    "print(f\"Label: {label}\")"
   ]
  },
  {
   "cell_type": "markdown",
   "id": "b6ae3779-cd06-4575-9202-c2a4ee69152d",
   "metadata": {
    "id": "b6ae3779-cd06-4575-9202-c2a4ee69152d"
   },
   "source": [
    "## 4. 변형(TRANSFORM)\n",
    "---"
   ]
  },
  {
   "cell_type": "markdown",
   "id": "dd3d6e94-d2bd-49df-94da-22f25f740f91",
   "metadata": {
    "id": "dd3d6e94-d2bd-49df-94da-22f25f740f91"
   },
   "source": [
    "데이터가 항상 머신러닝 알고리즘 학습에 필요한 최종 처리가 된 형태로 제공되지는 않습니다. 변형(transform) 을 해서 데이터를 조작하고 학습에 적합하게 만듭니다.\n",
    "\n",
    "모든 TorchVision 데이터셋들은 변형 로직을 갖는, 호출 가능한 객체(callable)를 받는 매개변수 두개 ( 특징(feature)을 변경하기 위한 transform 과 정답(label)을 변경하기 위한 target_transform )를 갖습니다 [torchvision.transforms](https://pytorch.org/vision/stable/transforms.html) 모듈은 주로 사용하는 몇가지 변형(transform)을 제공합니다.\n",
    "\n",
    "FashionMNIST 특징(feature)은 PIL Image 형식이며, 정답(label)은 정수(integer)입니다. 학습을 하려면 정규화(normalize)된 텐서 형태의 특징(feature)과 원-핫(one-hot)으로 부호화(encode)된 텐서 형태의 정답(label)이 필요합니다. 이러한 변형(transformation)을 하기 위해 `ToTensor` 와 `Lambda` 를 사용합니다."
   ]
  },
  {
   "cell_type": "code",
   "execution_count": null,
   "id": "0efdb21a-48d7-4684-a1d7-ba3f04783750",
   "metadata": {
    "colab": {
     "base_uri": "https://localhost:8080/"
    },
    "id": "0efdb21a-48d7-4684-a1d7-ba3f04783750",
    "outputId": "aeacf8c5-e812-49bc-fae8-ff9e03824e5d"
   },
   "outputs": [],
   "source": [
    "import torch\n",
    "from torchvision import datasets\n",
    "from torchvision.transforms import ToTensor, Lambda\n",
    "\n",
    "ds = datasets.FashionMNIST(\n",
    "    root=\"data\",\n",
    "    train=True,\n",
    "    download=True,\n",
    "    transform=ToTensor(),\n",
    "    target_transform=Lambda(lambda y: torch.zeros(10, dtype=torch.float).scatter_(0, torch.tensor(y), value=1))\n",
    ")\n",
    "\n",
    "ds"
   ]
  },
  {
   "cell_type": "markdown",
   "id": "9f9966e5-afb4-463e-ac78-8efc507892db",
   "metadata": {
    "id": "9f9966e5-afb4-463e-ac78-8efc507892db"
   },
   "source": [
    "### A. ToTensor()"
   ]
  },
  {
   "cell_type": "markdown",
   "id": "6e2449af-b200-4d86-a96a-f257188b244c",
   "metadata": {
    "id": "6e2449af-b200-4d86-a96a-f257188b244c"
   },
   "source": [
    "`ToTensor`는 PIL Image나 NumPy ndarray 를 FloatTensor 로 변환하고, 이미지의 픽셀의 크기(intensity) 값을 [0., 1.] 범위로 비례하여 조정(scale)합니다."
   ]
  },
  {
   "cell_type": "markdown",
   "id": "abc3c41d-b5a4-4140-9f0c-86849c263b79",
   "metadata": {
    "id": "abc3c41d-b5a4-4140-9f0c-86849c263b79"
   },
   "source": [
    "### B. Lambda 변형(Transform)"
   ]
  },
  {
   "cell_type": "markdown",
   "id": "4083339e-b2cd-404f-bc11-3e7313d8f7c2",
   "metadata": {
    "id": "4083339e-b2cd-404f-bc11-3e7313d8f7c2"
   },
   "source": [
    "Lambda 변형은 사용자 정의 람다(lambda) 함수를 적용합니다. 여기에서는 정수를 원-핫으로 부호화된 텐서로 바꾸는 함수를 정의합니다. 이 함수는 먼저 (데이터셋 정답의 개수인) 크기 10짜리 영 텐서(zero tensor)를 만들고, [scatter_](https://pytorch.org/docs/stable/tensors.html#torch.Tensor.scatter_) 를 호출하여 주어진 정답 y 에 해당하는 인덱스에 `value=1` 을 할당합니다."
   ]
  },
  {
   "cell_type": "code",
   "execution_count": null,
   "id": "ca365aad-4990-4de6-b120-41ee4f229d44",
   "metadata": {
    "id": "ca365aad-4990-4de6-b120-41ee4f229d44"
   },
   "outputs": [],
   "source": [
    "target_transform = Lambda(lambda y: torch.zeros(\n",
    "    10, dtype=torch.float).scatter_(dim=0, index=torch.tensor(y), value=1))"
   ]
  },
  {
   "cell_type": "markdown",
   "id": "-dcGs7jPd_fs",
   "metadata": {
    "id": "-dcGs7jPd_fs"
   },
   "source": [
    "### C. ILLUSTRATION OF TRANSFORMS"
   ]
  },
  {
   "cell_type": "markdown",
   "id": "BfMST1WFg6cW",
   "metadata": {
    "id": "BfMST1WFg6cW"
   },
   "source": [
    "`torchvision.transforms`을 통해서는 다양한 변환들에 대해여 알아봅시다. 여기서에 등장하지 않는 변환들에서 대해서는 [공식문서](https://pytorch.org/vision/stable/transforms.html)에서 확인해 보실 수 있습니다.\n",
    "\n",
    "✅ 예시와 함께 주어진 빈칸을 [공식문서](https://pytorch.org/vision/stable/transforms.html)을 참고하여 각 method에 대한 설명으로 채워보세요."
   ]
  },
  {
   "cell_type": "code",
   "execution_count": null,
   "id": "BadU3YQyh0k7",
   "metadata": {
    "colab": {
     "base_uri": "https://localhost:8080/",
     "height": 378
    },
    "id": "BadU3YQyh0k7",
    "outputId": "29e841ac-3cde-4b39-d13a-fd77aa9d6cf3"
   },
   "outputs": [],
   "source": [
    "from PIL import Image\n",
    "from pathlib import Path\n",
    "import matplotlib.pyplot as plt\n",
    "import numpy as np\n",
    "import urllib.request\n",
    "\n",
    "import torch\n",
    "import torchvision.transforms as T\n",
    "\n",
    "\n",
    "plt.rcParams[\"savefig.bbox\"] = 'tight'\n",
    "plt.rcParams[\"figure.figsize\"] = (14,6)\n",
    "\n",
    "img_url = 'https://images.unsplash.com/photo-1597848212624-a19eb35e2651?w=600'\n",
    "urllib.request.urlretrieve(img_url, \"./sunflower.jpg\")\n",
    "orig_img = Image.open('./sunflower.jpg')\n",
    "plt.imshow(np.asarray(orig_img))\n",
    "\n",
    "# if you change the seed, make sure that the randomly-applied transforms\n",
    "# properly show that the image can be both transformed and *not* transformed!\n",
    "torch.manual_seed(0)\n",
    "\n",
    "\n",
    "def plot(imgs, with_orig=True, row_title=None, **imshow_kwargs):\n",
    "    if not isinstance(imgs[0], list):\n",
    "        # Make a 2d grid even if there's just 1 row\n",
    "        imgs = [imgs]\n",
    "\n",
    "    num_rows = len(imgs)\n",
    "    num_cols = len(imgs[0]) + with_orig\n",
    "    fig, axs = plt.subplots(nrows=num_rows, ncols=num_cols, squeeze=False)\n",
    "    for row_idx, row in enumerate(imgs):\n",
    "        row = [orig_img] + row if with_orig else row\n",
    "        for col_idx, img in enumerate(row):\n",
    "            ax = axs[row_idx, col_idx]\n",
    "            ax.imshow(np.asarray(img), **imshow_kwargs)\n",
    "            ax.set(xticklabels=[], yticklabels=[], xticks=[], yticks=[])\n",
    "\n",
    "    if with_orig:\n",
    "        axs[0, 0].set(title='Original image')\n",
    "        axs[0, 0].title.set_size(8)\n",
    "    if row_title is not None:\n",
    "        for row_idx in range(num_rows):\n",
    "            axs[row_idx, 0].set(ylabel=row_title[row_idx])\n",
    "\n",
    "    plt.tight_layout()"
   ]
  },
  {
   "cell_type": "markdown",
   "id": "RFBkH4Mqj6JV",
   "metadata": {
    "id": "RFBkH4Mqj6JV"
   },
   "source": [
    "- Pad : `(method의 동작)`"
   ]
  },
  {
   "cell_type": "code",
   "execution_count": null,
   "id": "CcboWkMnkEZ6",
   "metadata": {
    "colab": {
     "base_uri": "https://localhost:8080/",
     "height": 240
    },
    "id": "CcboWkMnkEZ6",
    "outputId": "d8d2c9f2-1421-44a7-d502-a543713aa3af"
   },
   "outputs": [],
   "source": [
    "added_imgs = [T.Pad(padding=padding)(orig_img) for padding in (3, 10, 30, 50)]\n",
    "plot(padded_imgs)"
   ]
  },
  {
   "cell_type": "markdown",
   "id": "oq0AjRYykzX9",
   "metadata": {
    "id": "oq0AjRYykzX9"
   },
   "source": [
    "- Resize : `(method의 동작)`"
   ]
  },
  {
   "cell_type": "code",
   "execution_count": null,
   "id": "KLTz7KQJk1nt",
   "metadata": {
    "colab": {
     "base_uri": "https://localhost:8080/",
     "height": 240
    },
    "id": "KLTz7KQJk1nt",
    "outputId": "24bfb99e-d8ac-4793-a94c-2eaf84229566"
   },
   "outputs": [],
   "source": [
    "resized_imgs = [T.Resize(size=size)(orig_img) for size in (30, 50, 100, orig_img.size)]\n",
    "plot(resized_imgs)"
   ]
  },
  {
   "cell_type": "markdown",
   "id": "vxyyUYqCkzLj",
   "metadata": {
    "id": "vxyyUYqCkzLj"
   },
   "source": [
    "- CenterCrop : `(method의 동작)`"
   ]
  },
  {
   "cell_type": "code",
   "execution_count": null,
   "id": "iqAQOc4klc1-",
   "metadata": {
    "colab": {
     "base_uri": "https://localhost:8080/",
     "height": 240
    },
    "id": "iqAQOc4klc1-",
    "outputId": "80bda0ba-f14a-4cb9-947f-60516fa967a3"
   },
   "outputs": [],
   "source": [
    "center_crops = [T.CenterCrop(size=size)(orig_img) for size in (30, 50, 100, orig_img.size)]\n",
    "plot(center_crops)"
   ]
  },
  {
   "cell_type": "markdown",
   "id": "ItWQpQ6OkzIP",
   "metadata": {
    "id": "ItWQpQ6OkzIP"
   },
   "source": [
    "- FiveCrop : `(method의 동작)`"
   ]
  },
  {
   "cell_type": "code",
   "execution_count": null,
   "id": "mC6OxOOGli_n",
   "metadata": {
    "id": "mC6OxOOGli_n"
   },
   "outputs": [],
   "source": [
    "(top_left, top_right, bottom_left, bottom_right, center) = T.FiveCrop(size=(100, 100))(orig_img)\n",
    "plot([top_left, top_right, bottom_left, bottom_right, center])"
   ]
  },
  {
   "cell_type": "markdown",
   "id": "om0KqV8XkzE0",
   "metadata": {
    "id": "om0KqV8XkzE0"
   },
   "source": [
    "- Grayscale : `(method의 동작)`"
   ]
  },
  {
   "cell_type": "code",
   "execution_count": null,
   "id": "11xtq4Hglo0m",
   "metadata": {
    "colab": {
     "base_uri": "https://localhost:8080/",
     "height": 441
    },
    "id": "11xtq4Hglo0m",
    "outputId": "eded90b2-768d-4726-cb99-d5c8b2dae3a6"
   },
   "outputs": [],
   "source": [
    "gray_img = T.Grayscale()(orig_img)\n",
    "plot([gray_img], cmap='gray')"
   ]
  },
  {
   "cell_type": "markdown",
   "id": "lJkrTbdokzBW",
   "metadata": {
    "id": "lJkrTbdokzBW"
   },
   "source": [
    "#### Random transforms\n",
    "아래에 method는 랜덤하게 동작하는 변형들 입니다."
   ]
  },
  {
   "cell_type": "markdown",
   "id": "bsHfPW4Uky-V",
   "metadata": {
    "id": "bsHfPW4Uky-V"
   },
   "source": [
    "- ColorJitter : `(method의 동작)`"
   ]
  },
  {
   "cell_type": "code",
   "execution_count": null,
   "id": "l5yAg22smAix",
   "metadata": {
    "colab": {
     "base_uri": "https://localhost:8080/",
     "height": 240
    },
    "id": "l5yAg22smAix",
    "outputId": "a91204f8-ea49-4138-9c30-a80c5afd0c6e"
   },
   "outputs": [],
   "source": [
    "jitter = T.ColorJitter(brightness=.5, hue=.3)\n",
    "jitted_imgs = [jitter(orig_img) for _ in range(4)]\n",
    "plot(jitted_imgs)"
   ]
  },
  {
   "cell_type": "markdown",
   "id": "pHXFccIrky7A",
   "metadata": {
    "id": "pHXFccIrky7A"
   },
   "source": [
    "- GaussianBlur : `(method의 동작)`"
   ]
  },
  {
   "cell_type": "code",
   "execution_count": null,
   "id": "PJSiiLtgmGgs",
   "metadata": {
    "colab": {
     "base_uri": "https://localhost:8080/",
     "height": 240
    },
    "id": "PJSiiLtgmGgs",
    "outputId": "8f23f059-336a-4026-f9a4-c9eab916741f"
   },
   "outputs": [],
   "source": [
    "blurrer = T.GaussianBlur(kernel_size=(5, 9), sigma=(0.1, 5))\n",
    "blurred_imgs = [blurrer(orig_img) for _ in range(4)]\n",
    "plot(blurred_imgs)"
   ]
  },
  {
   "cell_type": "markdown",
   "id": "rcr7Hot1ky1y",
   "metadata": {
    "id": "rcr7Hot1ky1y"
   },
   "source": [
    "- RandomPerspective : `(method의 동작)`"
   ]
  },
  {
   "cell_type": "code",
   "execution_count": null,
   "id": "Kzs6Zf_amMUb",
   "metadata": {
    "colab": {
     "base_uri": "https://localhost:8080/",
     "height": 425
    },
    "id": "Kzs6Zf_amMUb",
    "outputId": "aab403fe-bab6-4aa5-a302-cc893d8e14d3"
   },
   "outputs": [],
   "source": [
    "perspective_transformer = T.RandomPerspective(distortion_scale=0.6, p=1.0)\n",
    "perspective_imgs = [perspective_transformer(orig_img) for _ in range(4)]\n",
    "plot(perspective_imgs)"
   ]
  },
  {
   "cell_type": "markdown",
   "id": "oq4J1xsKkyyq",
   "metadata": {
    "id": "oq4J1xsKkyyq"
   },
   "source": [
    "- RandomRotation : `(method의 동작)`"
   ]
  },
  {
   "cell_type": "code",
   "execution_count": null,
   "id": "_cYoAEMtmRhZ",
   "metadata": {
    "colab": {
     "base_uri": "https://localhost:8080/",
     "height": 240
    },
    "id": "_cYoAEMtmRhZ",
    "outputId": "18034af4-6b38-4fd5-d78c-9d990463b8de"
   },
   "outputs": [],
   "source": [
    "rotater = T.RandomRotation(degrees=(0, 180))\n",
    "rotated_imgs = [rotater(orig_img) for _ in range(4)]\n",
    "plot(rotated_imgs)"
   ]
  },
  {
   "cell_type": "markdown",
   "id": "3IM4MoX9kyvE",
   "metadata": {
    "id": "3IM4MoX9kyvE"
   },
   "source": [
    "- RandomAffine : `(method의 동작)`"
   ]
  },
  {
   "cell_type": "code",
   "execution_count": null,
   "id": "7hm0Iv0BmX3y",
   "metadata": {
    "colab": {
     "base_uri": "https://localhost:8080/",
     "height": 240
    },
    "id": "7hm0Iv0BmX3y",
    "outputId": "fbc138c5-0d7b-40d7-9cfb-072f647dda80"
   },
   "outputs": [],
   "source": [
    "affine_transfomer = T.RandomAffine(degrees=(30, 70), translate=(0.1, 0.3), scale=(0.5, 0.75))\n",
    "affine_imgs = [affine_transfomer(orig_img) for _ in range(4)]\n",
    "plot(affine_imgs)"
   ]
  },
  {
   "cell_type": "markdown",
   "id": "z6Q8C_qCkysA",
   "metadata": {
    "id": "z6Q8C_qCkysA"
   },
   "source": [
    "- RandomResizedCrop : `(method의 동작)`"
   ]
  },
  {
   "cell_type": "code",
   "execution_count": null,
   "id": "w3_1g-FMmirM",
   "metadata": {
    "colab": {
     "base_uri": "https://localhost:8080/",
     "height": 240
    },
    "id": "w3_1g-FMmirM",
    "outputId": "b5240a40-2061-4a83-d34d-38181178760f"
   },
   "outputs": [],
   "source": [
    "resize_cropper = T.RandomResizedCrop(size=(32, 32))\n",
    "resized_crops = [resize_cropper(orig_img) for _ in range(4)]\n",
    "plot(resized_crops)"
   ]
  },
  {
   "cell_type": "markdown",
   "id": "VOvTc32HmiDm",
   "metadata": {
    "id": "VOvTc32HmiDm"
   },
   "source": [
    "- RandomEqualize : `(method의 동작)`"
   ]
  },
  {
   "cell_type": "code",
   "execution_count": null,
   "id": "mfIDI26Rmyk2",
   "metadata": {
    "colab": {
     "base_uri": "https://localhost:8080/",
     "height": 240
    },
    "id": "mfIDI26Rmyk2",
    "outputId": "b128d9aa-9530-4462-ba4d-76389edd8f77"
   },
   "outputs": [],
   "source": [
    "equalizer = T.RandomEqualize()\n",
    "equalized_imgs = [equalizer(orig_img) for _ in range(4)]\n",
    "plot(equalized_imgs)"
   ]
  },
  {
   "cell_type": "markdown",
   "id": "LjZ7depvmiAS",
   "metadata": {
    "id": "LjZ7depvmiAS"
   },
   "source": [
    "- AutoAugment : `(method의 동작)`"
   ]
  },
  {
   "cell_type": "code",
   "execution_count": null,
   "id": "H_WNYVZPm7gT",
   "metadata": {
    "colab": {
     "base_uri": "https://localhost:8080/",
     "height": 409
    },
    "id": "H_WNYVZPm7gT",
    "outputId": "492a919b-82f1-4eb2-9588-36bdba812d68"
   },
   "outputs": [],
   "source": [
    "policies = [T.AutoAugmentPolicy.CIFAR10, T.AutoAugmentPolicy.IMAGENET, T.AutoAugmentPolicy.SVHN]\n",
    "augmenters = [T.AutoAugment(policy) for policy in policies]\n",
    "imgs = [\n",
    "    [augmenter(orig_img) for _ in range(4)]\n",
    "    for augmenter in augmenters\n",
    "]\n",
    "row_title = [str(policy).split('.')[-1] for policy in policies]\n",
    "plot(imgs, row_title=row_title)"
   ]
  },
  {
   "cell_type": "markdown",
   "id": "6gnE6jF3mh8q",
   "metadata": {
    "id": "6gnE6jF3mh8q"
   },
   "source": [
    "#### Randomly-applied transforms\n",
    "\n",
    "일부 변환은 확률 p가 주어지면 무작위로 적용됩니다. 즉, 동일한 변환기 인스턴스로 호출하더라도 변환된 이미지가 실제로 원본 이미지와 같을 수 있습니다!"
   ]
  },
  {
   "cell_type": "markdown",
   "id": "dyXHL9rlmh46",
   "metadata": {
    "id": "dyXHL9rlmh46"
   },
   "source": [
    "- RandomHorizontalFlip : `(method의 동작)`\n",
    "\n"
   ]
  },
  {
   "cell_type": "code",
   "execution_count": null,
   "id": "5BV0151RnJdj",
   "metadata": {
    "colab": {
     "base_uri": "https://localhost:8080/",
     "height": 240
    },
    "id": "5BV0151RnJdj",
    "outputId": "f01a5578-0ca8-4cd6-884a-73d6bb191008"
   },
   "outputs": [],
   "source": [
    "hflipper = T.RandomHorizontalFlip(p=0.5)\n",
    "transformed_imgs = [hflipper(orig_img) for _ in range(4)]\n",
    "plot(transformed_imgs)"
   ]
  },
  {
   "cell_type": "markdown",
   "id": "dEPTwfiJmhza",
   "metadata": {
    "id": "dEPTwfiJmhza"
   },
   "source": [
    "- RandomVerticalFlip : `(method의 동작)`"
   ]
  },
  {
   "cell_type": "code",
   "execution_count": null,
   "id": "dgRcAY9mnQSK",
   "metadata": {
    "colab": {
     "base_uri": "https://localhost:8080/",
     "height": 240
    },
    "id": "dgRcAY9mnQSK",
    "outputId": "e9852551-6823-42dc-e539-8e3f7aa48b97"
   },
   "outputs": [],
   "source": [
    "vflipper = T.RandomVerticalFlip(p=0.5)\n",
    "transformed_imgs = [vflipper(orig_img) for _ in range(4)]\n",
    "plot(transformed_imgs)"
   ]
  },
  {
   "cell_type": "markdown",
   "id": "d6ZPfIPZnQ8s",
   "metadata": {
    "id": "d6ZPfIPZnQ8s"
   },
   "source": [
    "- RandomApply : `(method의 동작)`"
   ]
  },
  {
   "cell_type": "code",
   "execution_count": null,
   "id": "SiG4MCxqnVBU",
   "metadata": {
    "colab": {
     "base_uri": "https://localhost:8080/",
     "height": 314
    },
    "id": "SiG4MCxqnVBU",
    "outputId": "2233de10-f3a6-41c3-b199-1fb149c2d396"
   },
   "outputs": [],
   "source": [
    "applier = T.RandomApply(transforms=[T.RandomCrop(size=(64, 64))], p=0.5)\n",
    "transformed_imgs = [applier(orig_img) for _ in range(4)]\n",
    "plot(transformed_imgs)"
   ]
  },
  {
   "cell_type": "markdown",
   "id": "h6tkfBM6ncR9",
   "metadata": {
    "id": "h6tkfBM6ncR9"
   },
   "source": [
    "### D. Compose"
   ]
  },
  {
   "cell_type": "markdown",
   "id": "q0_IuNvFngjq",
   "metadata": {
    "id": "q0_IuNvFngjq"
   },
   "source": [
    "여러 변환들을 함께 사용하고 싶은 경우 Compose를 이용하여 변환의 파이프라인을 만들 수 있습니다."
   ]
  },
  {
   "cell_type": "code",
   "execution_count": null,
   "id": "gdkBYEbhngDJ",
   "metadata": {
    "id": "gdkBYEbhngDJ"
   },
   "outputs": [],
   "source": [
    "my_transform = T.Compose([\n",
    "    T.RandomHorizontalFlip(p=0.5),\n",
    "    T.RandomVerticalFlip(p=0.5),\n",
    "    T.RandomRotation(degrees=(0, 180)),\n",
    "    ToTensor()\n",
    " ])"
   ]
  },
  {
   "cell_type": "code",
   "execution_count": null,
   "id": "ckY3c-K9oh-w",
   "metadata": {
    "id": "ckY3c-K9oh-w"
   },
   "outputs": [],
   "source": [
    "ds = datasets.FashionMNIST(\n",
    "    root=\"data\",\n",
    "    train=True,\n",
    "    download=True,\n",
    "    transform=my_transform,\n",
    "    target_transform=Lambda(lambda y: torch.zeros(10, dtype=torch.float).scatter_(0, torch.tensor(y), value=1))\n",
    ")\n",
    "\n",
    "dataloader = DataLoader(ds, batch_size=9, shuffle=True)"
   ]
  },
  {
   "cell_type": "code",
   "execution_count": null,
   "id": "mgp8D2qPonAP",
   "metadata": {
    "colab": {
     "base_uri": "https://localhost:8080/",
     "height": 786
    },
    "id": "mgp8D2qPonAP",
    "outputId": "36d1b65d-1b89-437d-b2f3-ebab9185a08f"
   },
   "outputs": [],
   "source": [
    "features, labels = next(iter(dataloader))\n",
    "\n",
    "fig = plt.figure(figsize=(10,10))\n",
    "i = 1\n",
    "\n",
    "for img, label in zip(features, labels):\n",
    "    ax = fig.add_subplot(3, 3, i)\n",
    "    ax.imshow(img.squeeze(), cmap=\"gray\")\n",
    "    ax.set_title(label.numpy())\n",
    "    ax.set_xticks([]), ax.set_yticks([])\n",
    "    i += 1\n",
    "    \n",
    "plt.tight_layout()\n",
    "plt.show()"
   ]
  }
 ],
 "metadata": {
  "colab": {
   "collapsed_sections": [
    "-dcGs7jPd_fs"
   ],
   "name": "day1_pytorch_basic.ipynb",
   "provenance": []
  },
  "kernelspec": {
   "display_name": "aiffel",
   "language": "python",
   "name": "aiffel"
  },
  "language_info": {
   "codemirror_mode": {
    "name": "ipython",
    "version": 3
   },
   "file_extension": ".py",
   "mimetype": "text/x-python",
   "name": "python",
   "nbconvert_exporter": "python",
   "pygments_lexer": "ipython3",
   "version": "3.7.10"
  },
  "latex_envs": {
   "LaTeX_envs_menu_present": true,
   "autoclose": false,
   "autocomplete": true,
   "bibliofile": "biblio.bib",
   "cite_by": "apalike",
   "current_citInitial": 1,
   "eqLabelWithNumbers": true,
   "eqNumInitial": 1,
   "hotkeys": {
    "equation": "Ctrl-E",
    "itemize": "Ctrl-I"
   },
   "labels_anchors": false,
   "latex_user_defs": false,
   "report_style_numbering": false,
   "user_envs_cfg": false
  },
  "toc-autonumbering": false,
  "toc-showtags": false,
  "widgets": {
   "application/vnd.jupyter.widget-state+json": {
    "01e148f8dc0442ebbcc446b2d1c0ec17": {
     "model_module": "@jupyter-widgets/controls",
     "model_module_version": "1.5.0",
     "model_name": "DescriptionStyleModel",
     "state": {
      "_model_module": "@jupyter-widgets/controls",
      "_model_module_version": "1.5.0",
      "_model_name": "DescriptionStyleModel",
      "_view_count": null,
      "_view_module": "@jupyter-widgets/base",
      "_view_module_version": "1.2.0",
      "_view_name": "StyleView",
      "description_width": ""
     }
    },
    "045a0c398a5d4c5cb837c28b7bc8dd18": {
     "model_module": "@jupyter-widgets/base",
     "model_module_version": "1.2.0",
     "model_name": "LayoutModel",
     "state": {
      "_model_module": "@jupyter-widgets/base",
      "_model_module_version": "1.2.0",
      "_model_name": "LayoutModel",
      "_view_count": null,
      "_view_module": "@jupyter-widgets/base",
      "_view_module_version": "1.2.0",
      "_view_name": "LayoutView",
      "align_content": null,
      "align_items": null,
      "align_self": null,
      "border": null,
      "bottom": null,
      "display": null,
      "flex": null,
      "flex_flow": null,
      "grid_area": null,
      "grid_auto_columns": null,
      "grid_auto_flow": null,
      "grid_auto_rows": null,
      "grid_column": null,
      "grid_gap": null,
      "grid_row": null,
      "grid_template_areas": null,
      "grid_template_columns": null,
      "grid_template_rows": null,
      "height": null,
      "justify_content": null,
      "justify_items": null,
      "left": null,
      "margin": null,
      "max_height": null,
      "max_width": null,
      "min_height": null,
      "min_width": null,
      "object_fit": null,
      "object_position": null,
      "order": null,
      "overflow": null,
      "overflow_x": null,
      "overflow_y": null,
      "padding": null,
      "right": null,
      "top": null,
      "visibility": null,
      "width": null
     }
    },
    "064c282c5ac2490680e49ee6d95b4374": {
     "model_module": "@jupyter-widgets/base",
     "model_module_version": "1.2.0",
     "model_name": "LayoutModel",
     "state": {
      "_model_module": "@jupyter-widgets/base",
      "_model_module_version": "1.2.0",
      "_model_name": "LayoutModel",
      "_view_count": null,
      "_view_module": "@jupyter-widgets/base",
      "_view_module_version": "1.2.0",
      "_view_name": "LayoutView",
      "align_content": null,
      "align_items": null,
      "align_self": null,
      "border": null,
      "bottom": null,
      "display": null,
      "flex": null,
      "flex_flow": null,
      "grid_area": null,
      "grid_auto_columns": null,
      "grid_auto_flow": null,
      "grid_auto_rows": null,
      "grid_column": null,
      "grid_gap": null,
      "grid_row": null,
      "grid_template_areas": null,
      "grid_template_columns": null,
      "grid_template_rows": null,
      "height": null,
      "justify_content": null,
      "justify_items": null,
      "left": null,
      "margin": null,
      "max_height": null,
      "max_width": null,
      "min_height": null,
      "min_width": null,
      "object_fit": null,
      "object_position": null,
      "order": null,
      "overflow": null,
      "overflow_x": null,
      "overflow_y": null,
      "padding": null,
      "right": null,
      "top": null,
      "visibility": null,
      "width": null
     }
    },
    "0ec4e1cc1ac342c1bd0883c44376614c": {
     "model_module": "@jupyter-widgets/controls",
     "model_module_version": "1.5.0",
     "model_name": "FloatProgressModel",
     "state": {
      "_dom_classes": [],
      "_model_module": "@jupyter-widgets/controls",
      "_model_module_version": "1.5.0",
      "_model_name": "FloatProgressModel",
      "_view_count": null,
      "_view_module": "@jupyter-widgets/controls",
      "_view_module_version": "1.5.0",
      "_view_name": "ProgressView",
      "bar_style": "success",
      "description": "",
      "description_tooltip": null,
      "layout": "IPY_MODEL_fc37647185b246e78d33d75d7056e97e",
      "max": 26421880,
      "min": 0,
      "orientation": "horizontal",
      "style": "IPY_MODEL_37aca75e5d8b4bc3b39a6210bac6243f",
      "value": 26421880
     }
    },
    "0ec8ada266614619b130ecf04d03679d": {
     "model_module": "@jupyter-widgets/controls",
     "model_module_version": "1.5.0",
     "model_name": "HTMLModel",
     "state": {
      "_dom_classes": [],
      "_model_module": "@jupyter-widgets/controls",
      "_model_module_version": "1.5.0",
      "_model_name": "HTMLModel",
      "_view_count": null,
      "_view_module": "@jupyter-widgets/controls",
      "_view_module_version": "1.5.0",
      "_view_name": "HTMLView",
      "description": "",
      "description_tooltip": null,
      "layout": "IPY_MODEL_2b27b2284d6b4484b44048e23864280c",
      "placeholder": "​",
      "style": "IPY_MODEL_b79939890dd8498e984ac2f1f13b9a57",
      "value": ""
     }
    },
    "143e817e41fb48218ad0645bb3007d51": {
     "model_module": "@jupyter-widgets/controls",
     "model_module_version": "1.5.0",
     "model_name": "FloatProgressModel",
     "state": {
      "_dom_classes": [],
      "_model_module": "@jupyter-widgets/controls",
      "_model_module_version": "1.5.0",
      "_model_name": "FloatProgressModel",
      "_view_count": null,
      "_view_module": "@jupyter-widgets/controls",
      "_view_module_version": "1.5.0",
      "_view_name": "ProgressView",
      "bar_style": "success",
      "description": "",
      "description_tooltip": null,
      "layout": "IPY_MODEL_d1d3782506a541c99718555821dd402f",
      "max": 5148,
      "min": 0,
      "orientation": "horizontal",
      "style": "IPY_MODEL_f44f0220d68f434b984eb3b1000a9d48",
      "value": 5148
     }
    },
    "1727391317e64616b334333299c52198": {
     "model_module": "@jupyter-widgets/controls",
     "model_module_version": "1.5.0",
     "model_name": "HBoxModel",
     "state": {
      "_dom_classes": [],
      "_model_module": "@jupyter-widgets/controls",
      "_model_module_version": "1.5.0",
      "_model_name": "HBoxModel",
      "_view_count": null,
      "_view_module": "@jupyter-widgets/controls",
      "_view_module_version": "1.5.0",
      "_view_name": "HBoxView",
      "box_style": "",
      "children": [
       "IPY_MODEL_37a4a07b624b4cf8a3e8fec5656574fe",
       "IPY_MODEL_8000f318094b45b2808cf8694ce68969",
       "IPY_MODEL_ba20c2e33cc344fc81d48c7ad36e144f"
      ],
      "layout": "IPY_MODEL_064c282c5ac2490680e49ee6d95b4374"
     }
    },
    "176aa6e2254f4610b7499b3d4e29438a": {
     "model_module": "@jupyter-widgets/controls",
     "model_module_version": "1.5.0",
     "model_name": "ProgressStyleModel",
     "state": {
      "_model_module": "@jupyter-widgets/controls",
      "_model_module_version": "1.5.0",
      "_model_name": "ProgressStyleModel",
      "_view_count": null,
      "_view_module": "@jupyter-widgets/base",
      "_view_module_version": "1.2.0",
      "_view_name": "StyleView",
      "bar_color": null,
      "description_width": ""
     }
    },
    "1ae88c6f154043d4bcd5c25a75e7a98e": {
     "model_module": "@jupyter-widgets/controls",
     "model_module_version": "1.5.0",
     "model_name": "HBoxModel",
     "state": {
      "_dom_classes": [],
      "_model_module": "@jupyter-widgets/controls",
      "_model_module_version": "1.5.0",
      "_model_name": "HBoxModel",
      "_view_count": null,
      "_view_module": "@jupyter-widgets/controls",
      "_view_module_version": "1.5.0",
      "_view_name": "HBoxView",
      "box_style": "",
      "children": [
       "IPY_MODEL_8c2f0c2b6ec74cceabbf0fef807967bf",
       "IPY_MODEL_143e817e41fb48218ad0645bb3007d51",
       "IPY_MODEL_ff06074ddcaa4089ba2b23fb8ca94e19"
      ],
      "layout": "IPY_MODEL_27fcdf4497f64a9382bdcc3f8fdeb4bd"
     }
    },
    "1c222cfe4e794b21baa41cebb9697d74": {
     "model_module": "@jupyter-widgets/controls",
     "model_module_version": "1.5.0",
     "model_name": "DescriptionStyleModel",
     "state": {
      "_model_module": "@jupyter-widgets/controls",
      "_model_module_version": "1.5.0",
      "_model_name": "DescriptionStyleModel",
      "_view_count": null,
      "_view_module": "@jupyter-widgets/base",
      "_view_module_version": "1.2.0",
      "_view_name": "StyleView",
      "description_width": ""
     }
    },
    "1c2269e03f9d4f01a2ed305254adf07a": {
     "model_module": "@jupyter-widgets/controls",
     "model_module_version": "1.5.0",
     "model_name": "HTMLModel",
     "state": {
      "_dom_classes": [],
      "_model_module": "@jupyter-widgets/controls",
      "_model_module_version": "1.5.0",
      "_model_name": "HTMLModel",
      "_view_count": null,
      "_view_module": "@jupyter-widgets/controls",
      "_view_module_version": "1.5.0",
      "_view_name": "HTMLView",
      "description": "",
      "description_tooltip": null,
      "layout": "IPY_MODEL_4cea21fce9f34b668f6b22bcb1ef5d19",
      "placeholder": "​",
      "style": "IPY_MODEL_54f5c7584803489594f8a5a707302cc9",
      "value": " 29696/? [00:00&lt;00:00, 301216.07it/s]"
     }
    },
    "1fc6492cd225478ab1dd8e317110b59e": {
     "model_module": "@jupyter-widgets/base",
     "model_module_version": "1.2.0",
     "model_name": "LayoutModel",
     "state": {
      "_model_module": "@jupyter-widgets/base",
      "_model_module_version": "1.2.0",
      "_model_name": "LayoutModel",
      "_view_count": null,
      "_view_module": "@jupyter-widgets/base",
      "_view_module_version": "1.2.0",
      "_view_name": "LayoutView",
      "align_content": null,
      "align_items": null,
      "align_self": null,
      "border": null,
      "bottom": null,
      "display": null,
      "flex": null,
      "flex_flow": null,
      "grid_area": null,
      "grid_auto_columns": null,
      "grid_auto_flow": null,
      "grid_auto_rows": null,
      "grid_column": null,
      "grid_gap": null,
      "grid_row": null,
      "grid_template_areas": null,
      "grid_template_columns": null,
      "grid_template_rows": null,
      "height": null,
      "justify_content": null,
      "justify_items": null,
      "left": null,
      "margin": null,
      "max_height": null,
      "max_width": null,
      "min_height": null,
      "min_width": null,
      "object_fit": null,
      "object_position": null,
      "order": null,
      "overflow": null,
      "overflow_x": null,
      "overflow_y": null,
      "padding": null,
      "right": null,
      "top": null,
      "visibility": null,
      "width": null
     }
    },
    "27fcdf4497f64a9382bdcc3f8fdeb4bd": {
     "model_module": "@jupyter-widgets/base",
     "model_module_version": "1.2.0",
     "model_name": "LayoutModel",
     "state": {
      "_model_module": "@jupyter-widgets/base",
      "_model_module_version": "1.2.0",
      "_model_name": "LayoutModel",
      "_view_count": null,
      "_view_module": "@jupyter-widgets/base",
      "_view_module_version": "1.2.0",
      "_view_name": "LayoutView",
      "align_content": null,
      "align_items": null,
      "align_self": null,
      "border": null,
      "bottom": null,
      "display": null,
      "flex": null,
      "flex_flow": null,
      "grid_area": null,
      "grid_auto_columns": null,
      "grid_auto_flow": null,
      "grid_auto_rows": null,
      "grid_column": null,
      "grid_gap": null,
      "grid_row": null,
      "grid_template_areas": null,
      "grid_template_columns": null,
      "grid_template_rows": null,
      "height": null,
      "justify_content": null,
      "justify_items": null,
      "left": null,
      "margin": null,
      "max_height": null,
      "max_width": null,
      "min_height": null,
      "min_width": null,
      "object_fit": null,
      "object_position": null,
      "order": null,
      "overflow": null,
      "overflow_x": null,
      "overflow_y": null,
      "padding": null,
      "right": null,
      "top": null,
      "visibility": null,
      "width": null
     }
    },
    "2ab9b4a6fd3e460683b12135746c84a8": {
     "model_module": "@jupyter-widgets/base",
     "model_module_version": "1.2.0",
     "model_name": "LayoutModel",
     "state": {
      "_model_module": "@jupyter-widgets/base",
      "_model_module_version": "1.2.0",
      "_model_name": "LayoutModel",
      "_view_count": null,
      "_view_module": "@jupyter-widgets/base",
      "_view_module_version": "1.2.0",
      "_view_name": "LayoutView",
      "align_content": null,
      "align_items": null,
      "align_self": null,
      "border": null,
      "bottom": null,
      "display": null,
      "flex": null,
      "flex_flow": null,
      "grid_area": null,
      "grid_auto_columns": null,
      "grid_auto_flow": null,
      "grid_auto_rows": null,
      "grid_column": null,
      "grid_gap": null,
      "grid_row": null,
      "grid_template_areas": null,
      "grid_template_columns": null,
      "grid_template_rows": null,
      "height": null,
      "justify_content": null,
      "justify_items": null,
      "left": null,
      "margin": null,
      "max_height": null,
      "max_width": null,
      "min_height": null,
      "min_width": null,
      "object_fit": null,
      "object_position": null,
      "order": null,
      "overflow": null,
      "overflow_x": null,
      "overflow_y": null,
      "padding": null,
      "right": null,
      "top": null,
      "visibility": null,
      "width": null
     }
    },
    "2b27b2284d6b4484b44048e23864280c": {
     "model_module": "@jupyter-widgets/base",
     "model_module_version": "1.2.0",
     "model_name": "LayoutModel",
     "state": {
      "_model_module": "@jupyter-widgets/base",
      "_model_module_version": "1.2.0",
      "_model_name": "LayoutModel",
      "_view_count": null,
      "_view_module": "@jupyter-widgets/base",
      "_view_module_version": "1.2.0",
      "_view_name": "LayoutView",
      "align_content": null,
      "align_items": null,
      "align_self": null,
      "border": null,
      "bottom": null,
      "display": null,
      "flex": null,
      "flex_flow": null,
      "grid_area": null,
      "grid_auto_columns": null,
      "grid_auto_flow": null,
      "grid_auto_rows": null,
      "grid_column": null,
      "grid_gap": null,
      "grid_row": null,
      "grid_template_areas": null,
      "grid_template_columns": null,
      "grid_template_rows": null,
      "height": null,
      "justify_content": null,
      "justify_items": null,
      "left": null,
      "margin": null,
      "max_height": null,
      "max_width": null,
      "min_height": null,
      "min_width": null,
      "object_fit": null,
      "object_position": null,
      "order": null,
      "overflow": null,
      "overflow_x": null,
      "overflow_y": null,
      "padding": null,
      "right": null,
      "top": null,
      "visibility": null,
      "width": null
     }
    },
    "37a4a07b624b4cf8a3e8fec5656574fe": {
     "model_module": "@jupyter-widgets/controls",
     "model_module_version": "1.5.0",
     "model_name": "HTMLModel",
     "state": {
      "_dom_classes": [],
      "_model_module": "@jupyter-widgets/controls",
      "_model_module_version": "1.5.0",
      "_model_name": "HTMLModel",
      "_view_count": null,
      "_view_module": "@jupyter-widgets/controls",
      "_view_module_version": "1.5.0",
      "_view_name": "HTMLView",
      "description": "",
      "description_tooltip": null,
      "layout": "IPY_MODEL_1fc6492cd225478ab1dd8e317110b59e",
      "placeholder": "​",
      "style": "IPY_MODEL_6bd9121d6f5f4f0681b3937a3d9fb205",
      "value": ""
     }
    },
    "37aca75e5d8b4bc3b39a6210bac6243f": {
     "model_module": "@jupyter-widgets/controls",
     "model_module_version": "1.5.0",
     "model_name": "ProgressStyleModel",
     "state": {
      "_model_module": "@jupyter-widgets/controls",
      "_model_module_version": "1.5.0",
      "_model_name": "ProgressStyleModel",
      "_view_count": null,
      "_view_module": "@jupyter-widgets/base",
      "_view_module_version": "1.2.0",
      "_view_name": "StyleView",
      "bar_color": null,
      "description_width": ""
     }
    },
    "405e10933ee04f9c9cdf29f580bb6d22": {
     "model_module": "@jupyter-widgets/base",
     "model_module_version": "1.2.0",
     "model_name": "LayoutModel",
     "state": {
      "_model_module": "@jupyter-widgets/base",
      "_model_module_version": "1.2.0",
      "_model_name": "LayoutModel",
      "_view_count": null,
      "_view_module": "@jupyter-widgets/base",
      "_view_module_version": "1.2.0",
      "_view_name": "LayoutView",
      "align_content": null,
      "align_items": null,
      "align_self": null,
      "border": null,
      "bottom": null,
      "display": null,
      "flex": null,
      "flex_flow": null,
      "grid_area": null,
      "grid_auto_columns": null,
      "grid_auto_flow": null,
      "grid_auto_rows": null,
      "grid_column": null,
      "grid_gap": null,
      "grid_row": null,
      "grid_template_areas": null,
      "grid_template_columns": null,
      "grid_template_rows": null,
      "height": null,
      "justify_content": null,
      "justify_items": null,
      "left": null,
      "margin": null,
      "max_height": null,
      "max_width": null,
      "min_height": null,
      "min_width": null,
      "object_fit": null,
      "object_position": null,
      "order": null,
      "overflow": null,
      "overflow_x": null,
      "overflow_y": null,
      "padding": null,
      "right": null,
      "top": null,
      "visibility": null,
      "width": null
     }
    },
    "462326ec2014425ab84153f326f4b59d": {
     "model_module": "@jupyter-widgets/controls",
     "model_module_version": "1.5.0",
     "model_name": "DescriptionStyleModel",
     "state": {
      "_model_module": "@jupyter-widgets/controls",
      "_model_module_version": "1.5.0",
      "_model_name": "DescriptionStyleModel",
      "_view_count": null,
      "_view_module": "@jupyter-widgets/base",
      "_view_module_version": "1.2.0",
      "_view_name": "StyleView",
      "description_width": ""
     }
    },
    "4cea21fce9f34b668f6b22bcb1ef5d19": {
     "model_module": "@jupyter-widgets/base",
     "model_module_version": "1.2.0",
     "model_name": "LayoutModel",
     "state": {
      "_model_module": "@jupyter-widgets/base",
      "_model_module_version": "1.2.0",
      "_model_name": "LayoutModel",
      "_view_count": null,
      "_view_module": "@jupyter-widgets/base",
      "_view_module_version": "1.2.0",
      "_view_name": "LayoutView",
      "align_content": null,
      "align_items": null,
      "align_self": null,
      "border": null,
      "bottom": null,
      "display": null,
      "flex": null,
      "flex_flow": null,
      "grid_area": null,
      "grid_auto_columns": null,
      "grid_auto_flow": null,
      "grid_auto_rows": null,
      "grid_column": null,
      "grid_gap": null,
      "grid_row": null,
      "grid_template_areas": null,
      "grid_template_columns": null,
      "grid_template_rows": null,
      "height": null,
      "justify_content": null,
      "justify_items": null,
      "left": null,
      "margin": null,
      "max_height": null,
      "max_width": null,
      "min_height": null,
      "min_width": null,
      "object_fit": null,
      "object_position": null,
      "order": null,
      "overflow": null,
      "overflow_x": null,
      "overflow_y": null,
      "padding": null,
      "right": null,
      "top": null,
      "visibility": null,
      "width": null
     }
    },
    "54f5c7584803489594f8a5a707302cc9": {
     "model_module": "@jupyter-widgets/controls",
     "model_module_version": "1.5.0",
     "model_name": "DescriptionStyleModel",
     "state": {
      "_model_module": "@jupyter-widgets/controls",
      "_model_module_version": "1.5.0",
      "_model_name": "DescriptionStyleModel",
      "_view_count": null,
      "_view_module": "@jupyter-widgets/base",
      "_view_module_version": "1.2.0",
      "_view_name": "StyleView",
      "description_width": ""
     }
    },
    "6bd9121d6f5f4f0681b3937a3d9fb205": {
     "model_module": "@jupyter-widgets/controls",
     "model_module_version": "1.5.0",
     "model_name": "DescriptionStyleModel",
     "state": {
      "_model_module": "@jupyter-widgets/controls",
      "_model_module_version": "1.5.0",
      "_model_name": "DescriptionStyleModel",
      "_view_count": null,
      "_view_module": "@jupyter-widgets/base",
      "_view_module_version": "1.2.0",
      "_view_name": "StyleView",
      "description_width": ""
     }
    },
    "71782e11c276463c81d0a0ab6dd4dd77": {
     "model_module": "@jupyter-widgets/controls",
     "model_module_version": "1.5.0",
     "model_name": "HBoxModel",
     "state": {
      "_dom_classes": [],
      "_model_module": "@jupyter-widgets/controls",
      "_model_module_version": "1.5.0",
      "_model_name": "HBoxModel",
      "_view_count": null,
      "_view_module": "@jupyter-widgets/controls",
      "_view_module_version": "1.5.0",
      "_view_name": "HBoxView",
      "box_style": "",
      "children": [
       "IPY_MODEL_94d26662bbb44c80961d703760191d02",
       "IPY_MODEL_d28d0ba4ad0a443d9b3e71950be9a264",
       "IPY_MODEL_1c2269e03f9d4f01a2ed305254adf07a"
      ],
      "layout": "IPY_MODEL_f35a84381256473086972819238fa483"
     }
    },
    "8000f318094b45b2808cf8694ce68969": {
     "model_module": "@jupyter-widgets/controls",
     "model_module_version": "1.5.0",
     "model_name": "FloatProgressModel",
     "state": {
      "_dom_classes": [],
      "_model_module": "@jupyter-widgets/controls",
      "_model_module_version": "1.5.0",
      "_model_name": "FloatProgressModel",
      "_view_count": null,
      "_view_module": "@jupyter-widgets/controls",
      "_view_module_version": "1.5.0",
      "_view_name": "ProgressView",
      "bar_style": "success",
      "description": "",
      "description_tooltip": null,
      "layout": "IPY_MODEL_2ab9b4a6fd3e460683b12135746c84a8",
      "max": 4422102,
      "min": 0,
      "orientation": "horizontal",
      "style": "IPY_MODEL_b652d8cecd0a47e6ae05913de4b8926f",
      "value": 4422102
     }
    },
    "826be472afbb44e294283c4e5498626c": {
     "model_module": "@jupyter-widgets/base",
     "model_module_version": "1.2.0",
     "model_name": "LayoutModel",
     "state": {
      "_model_module": "@jupyter-widgets/base",
      "_model_module_version": "1.2.0",
      "_model_name": "LayoutModel",
      "_view_count": null,
      "_view_module": "@jupyter-widgets/base",
      "_view_module_version": "1.2.0",
      "_view_name": "LayoutView",
      "align_content": null,
      "align_items": null,
      "align_self": null,
      "border": null,
      "bottom": null,
      "display": null,
      "flex": null,
      "flex_flow": null,
      "grid_area": null,
      "grid_auto_columns": null,
      "grid_auto_flow": null,
      "grid_auto_rows": null,
      "grid_column": null,
      "grid_gap": null,
      "grid_row": null,
      "grid_template_areas": null,
      "grid_template_columns": null,
      "grid_template_rows": null,
      "height": null,
      "justify_content": null,
      "justify_items": null,
      "left": null,
      "margin": null,
      "max_height": null,
      "max_width": null,
      "min_height": null,
      "min_width": null,
      "object_fit": null,
      "object_position": null,
      "order": null,
      "overflow": null,
      "overflow_x": null,
      "overflow_y": null,
      "padding": null,
      "right": null,
      "top": null,
      "visibility": null,
      "width": null
     }
    },
    "84a45dedb3734b51ba2cac8e7bca4cf8": {
     "model_module": "@jupyter-widgets/base",
     "model_module_version": "1.2.0",
     "model_name": "LayoutModel",
     "state": {
      "_model_module": "@jupyter-widgets/base",
      "_model_module_version": "1.2.0",
      "_model_name": "LayoutModel",
      "_view_count": null,
      "_view_module": "@jupyter-widgets/base",
      "_view_module_version": "1.2.0",
      "_view_name": "LayoutView",
      "align_content": null,
      "align_items": null,
      "align_self": null,
      "border": null,
      "bottom": null,
      "display": null,
      "flex": null,
      "flex_flow": null,
      "grid_area": null,
      "grid_auto_columns": null,
      "grid_auto_flow": null,
      "grid_auto_rows": null,
      "grid_column": null,
      "grid_gap": null,
      "grid_row": null,
      "grid_template_areas": null,
      "grid_template_columns": null,
      "grid_template_rows": null,
      "height": null,
      "justify_content": null,
      "justify_items": null,
      "left": null,
      "margin": null,
      "max_height": null,
      "max_width": null,
      "min_height": null,
      "min_width": null,
      "object_fit": null,
      "object_position": null,
      "order": null,
      "overflow": null,
      "overflow_x": null,
      "overflow_y": null,
      "padding": null,
      "right": null,
      "top": null,
      "visibility": null,
      "width": null
     }
    },
    "89cce03e71be42e7ab2c02e2e0d2b73e": {
     "model_module": "@jupyter-widgets/controls",
     "model_module_version": "1.5.0",
     "model_name": "HTMLModel",
     "state": {
      "_dom_classes": [],
      "_model_module": "@jupyter-widgets/controls",
      "_model_module_version": "1.5.0",
      "_model_name": "HTMLModel",
      "_view_count": null,
      "_view_module": "@jupyter-widgets/controls",
      "_view_module_version": "1.5.0",
      "_view_name": "HTMLView",
      "description": "",
      "description_tooltip": null,
      "layout": "IPY_MODEL_d138d0b04aa246939051e1ce133e03bb",
      "placeholder": "​",
      "style": "IPY_MODEL_1c222cfe4e794b21baa41cebb9697d74",
      "value": " 26422272/? [00:01&lt;00:00, 26832617.41it/s]"
     }
    },
    "8c2f0c2b6ec74cceabbf0fef807967bf": {
     "model_module": "@jupyter-widgets/controls",
     "model_module_version": "1.5.0",
     "model_name": "HTMLModel",
     "state": {
      "_dom_classes": [],
      "_model_module": "@jupyter-widgets/controls",
      "_model_module_version": "1.5.0",
      "_model_name": "HTMLModel",
      "_view_count": null,
      "_view_module": "@jupyter-widgets/controls",
      "_view_module_version": "1.5.0",
      "_view_name": "HTMLView",
      "description": "",
      "description_tooltip": null,
      "layout": "IPY_MODEL_826be472afbb44e294283c4e5498626c",
      "placeholder": "​",
      "style": "IPY_MODEL_01e148f8dc0442ebbcc446b2d1c0ec17",
      "value": ""
     }
    },
    "94d26662bbb44c80961d703760191d02": {
     "model_module": "@jupyter-widgets/controls",
     "model_module_version": "1.5.0",
     "model_name": "HTMLModel",
     "state": {
      "_dom_classes": [],
      "_model_module": "@jupyter-widgets/controls",
      "_model_module_version": "1.5.0",
      "_model_name": "HTMLModel",
      "_view_count": null,
      "_view_module": "@jupyter-widgets/controls",
      "_view_module_version": "1.5.0",
      "_view_name": "HTMLView",
      "description": "",
      "description_tooltip": null,
      "layout": "IPY_MODEL_b577521e8bb948d292dc59d35be6bddf",
      "placeholder": "​",
      "style": "IPY_MODEL_a14a803444a745039338b5f5b09ae75a",
      "value": ""
     }
    },
    "9b14adbf948e468790aa806a6b7a78c7": {
     "model_module": "@jupyter-widgets/controls",
     "model_module_version": "1.5.0",
     "model_name": "HBoxModel",
     "state": {
      "_dom_classes": [],
      "_model_module": "@jupyter-widgets/controls",
      "_model_module_version": "1.5.0",
      "_model_name": "HBoxModel",
      "_view_count": null,
      "_view_module": "@jupyter-widgets/controls",
      "_view_module_version": "1.5.0",
      "_view_name": "HBoxView",
      "box_style": "",
      "children": [
       "IPY_MODEL_0ec8ada266614619b130ecf04d03679d",
       "IPY_MODEL_0ec4e1cc1ac342c1bd0883c44376614c",
       "IPY_MODEL_89cce03e71be42e7ab2c02e2e0d2b73e"
      ],
      "layout": "IPY_MODEL_405e10933ee04f9c9cdf29f580bb6d22"
     }
    },
    "a14a803444a745039338b5f5b09ae75a": {
     "model_module": "@jupyter-widgets/controls",
     "model_module_version": "1.5.0",
     "model_name": "DescriptionStyleModel",
     "state": {
      "_model_module": "@jupyter-widgets/controls",
      "_model_module_version": "1.5.0",
      "_model_name": "DescriptionStyleModel",
      "_view_count": null,
      "_view_module": "@jupyter-widgets/base",
      "_view_module_version": "1.2.0",
      "_view_name": "StyleView",
      "description_width": ""
     }
    },
    "b577521e8bb948d292dc59d35be6bddf": {
     "model_module": "@jupyter-widgets/base",
     "model_module_version": "1.2.0",
     "model_name": "LayoutModel",
     "state": {
      "_model_module": "@jupyter-widgets/base",
      "_model_module_version": "1.2.0",
      "_model_name": "LayoutModel",
      "_view_count": null,
      "_view_module": "@jupyter-widgets/base",
      "_view_module_version": "1.2.0",
      "_view_name": "LayoutView",
      "align_content": null,
      "align_items": null,
      "align_self": null,
      "border": null,
      "bottom": null,
      "display": null,
      "flex": null,
      "flex_flow": null,
      "grid_area": null,
      "grid_auto_columns": null,
      "grid_auto_flow": null,
      "grid_auto_rows": null,
      "grid_column": null,
      "grid_gap": null,
      "grid_row": null,
      "grid_template_areas": null,
      "grid_template_columns": null,
      "grid_template_rows": null,
      "height": null,
      "justify_content": null,
      "justify_items": null,
      "left": null,
      "margin": null,
      "max_height": null,
      "max_width": null,
      "min_height": null,
      "min_width": null,
      "object_fit": null,
      "object_position": null,
      "order": null,
      "overflow": null,
      "overflow_x": null,
      "overflow_y": null,
      "padding": null,
      "right": null,
      "top": null,
      "visibility": null,
      "width": null
     }
    },
    "b652d8cecd0a47e6ae05913de4b8926f": {
     "model_module": "@jupyter-widgets/controls",
     "model_module_version": "1.5.0",
     "model_name": "ProgressStyleModel",
     "state": {
      "_model_module": "@jupyter-widgets/controls",
      "_model_module_version": "1.5.0",
      "_model_name": "ProgressStyleModel",
      "_view_count": null,
      "_view_module": "@jupyter-widgets/base",
      "_view_module_version": "1.2.0",
      "_view_name": "StyleView",
      "bar_color": null,
      "description_width": ""
     }
    },
    "b79939890dd8498e984ac2f1f13b9a57": {
     "model_module": "@jupyter-widgets/controls",
     "model_module_version": "1.5.0",
     "model_name": "DescriptionStyleModel",
     "state": {
      "_model_module": "@jupyter-widgets/controls",
      "_model_module_version": "1.5.0",
      "_model_name": "DescriptionStyleModel",
      "_view_count": null,
      "_view_module": "@jupyter-widgets/base",
      "_view_module_version": "1.2.0",
      "_view_name": "StyleView",
      "description_width": ""
     }
    },
    "ba20c2e33cc344fc81d48c7ad36e144f": {
     "model_module": "@jupyter-widgets/controls",
     "model_module_version": "1.5.0",
     "model_name": "HTMLModel",
     "state": {
      "_dom_classes": [],
      "_model_module": "@jupyter-widgets/controls",
      "_model_module_version": "1.5.0",
      "_model_name": "HTMLModel",
      "_view_count": null,
      "_view_module": "@jupyter-widgets/controls",
      "_view_module_version": "1.5.0",
      "_view_name": "HTMLView",
      "description": "",
      "description_tooltip": null,
      "layout": "IPY_MODEL_84a45dedb3734b51ba2cac8e7bca4cf8",
      "placeholder": "​",
      "style": "IPY_MODEL_462326ec2014425ab84153f326f4b59d",
      "value": " 4422656/? [00:00&lt;00:00, 9194780.60it/s]"
     }
    },
    "d138d0b04aa246939051e1ce133e03bb": {
     "model_module": "@jupyter-widgets/base",
     "model_module_version": "1.2.0",
     "model_name": "LayoutModel",
     "state": {
      "_model_module": "@jupyter-widgets/base",
      "_model_module_version": "1.2.0",
      "_model_name": "LayoutModel",
      "_view_count": null,
      "_view_module": "@jupyter-widgets/base",
      "_view_module_version": "1.2.0",
      "_view_name": "LayoutView",
      "align_content": null,
      "align_items": null,
      "align_self": null,
      "border": null,
      "bottom": null,
      "display": null,
      "flex": null,
      "flex_flow": null,
      "grid_area": null,
      "grid_auto_columns": null,
      "grid_auto_flow": null,
      "grid_auto_rows": null,
      "grid_column": null,
      "grid_gap": null,
      "grid_row": null,
      "grid_template_areas": null,
      "grid_template_columns": null,
      "grid_template_rows": null,
      "height": null,
      "justify_content": null,
      "justify_items": null,
      "left": null,
      "margin": null,
      "max_height": null,
      "max_width": null,
      "min_height": null,
      "min_width": null,
      "object_fit": null,
      "object_position": null,
      "order": null,
      "overflow": null,
      "overflow_x": null,
      "overflow_y": null,
      "padding": null,
      "right": null,
      "top": null,
      "visibility": null,
      "width": null
     }
    },
    "d1d3782506a541c99718555821dd402f": {
     "model_module": "@jupyter-widgets/base",
     "model_module_version": "1.2.0",
     "model_name": "LayoutModel",
     "state": {
      "_model_module": "@jupyter-widgets/base",
      "_model_module_version": "1.2.0",
      "_model_name": "LayoutModel",
      "_view_count": null,
      "_view_module": "@jupyter-widgets/base",
      "_view_module_version": "1.2.0",
      "_view_name": "LayoutView",
      "align_content": null,
      "align_items": null,
      "align_self": null,
      "border": null,
      "bottom": null,
      "display": null,
      "flex": null,
      "flex_flow": null,
      "grid_area": null,
      "grid_auto_columns": null,
      "grid_auto_flow": null,
      "grid_auto_rows": null,
      "grid_column": null,
      "grid_gap": null,
      "grid_row": null,
      "grid_template_areas": null,
      "grid_template_columns": null,
      "grid_template_rows": null,
      "height": null,
      "justify_content": null,
      "justify_items": null,
      "left": null,
      "margin": null,
      "max_height": null,
      "max_width": null,
      "min_height": null,
      "min_width": null,
      "object_fit": null,
      "object_position": null,
      "order": null,
      "overflow": null,
      "overflow_x": null,
      "overflow_y": null,
      "padding": null,
      "right": null,
      "top": null,
      "visibility": null,
      "width": null
     }
    },
    "d28d0ba4ad0a443d9b3e71950be9a264": {
     "model_module": "@jupyter-widgets/controls",
     "model_module_version": "1.5.0",
     "model_name": "FloatProgressModel",
     "state": {
      "_dom_classes": [],
      "_model_module": "@jupyter-widgets/controls",
      "_model_module_version": "1.5.0",
      "_model_name": "FloatProgressModel",
      "_view_count": null,
      "_view_module": "@jupyter-widgets/controls",
      "_view_module_version": "1.5.0",
      "_view_name": "ProgressView",
      "bar_style": "success",
      "description": "",
      "description_tooltip": null,
      "layout": "IPY_MODEL_045a0c398a5d4c5cb837c28b7bc8dd18",
      "max": 29515,
      "min": 0,
      "orientation": "horizontal",
      "style": "IPY_MODEL_176aa6e2254f4610b7499b3d4e29438a",
      "value": 29515
     }
    },
    "eec4340102204514aa25edff1c59d1c5": {
     "model_module": "@jupyter-widgets/base",
     "model_module_version": "1.2.0",
     "model_name": "LayoutModel",
     "state": {
      "_model_module": "@jupyter-widgets/base",
      "_model_module_version": "1.2.0",
      "_model_name": "LayoutModel",
      "_view_count": null,
      "_view_module": "@jupyter-widgets/base",
      "_view_module_version": "1.2.0",
      "_view_name": "LayoutView",
      "align_content": null,
      "align_items": null,
      "align_self": null,
      "border": null,
      "bottom": null,
      "display": null,
      "flex": null,
      "flex_flow": null,
      "grid_area": null,
      "grid_auto_columns": null,
      "grid_auto_flow": null,
      "grid_auto_rows": null,
      "grid_column": null,
      "grid_gap": null,
      "grid_row": null,
      "grid_template_areas": null,
      "grid_template_columns": null,
      "grid_template_rows": null,
      "height": null,
      "justify_content": null,
      "justify_items": null,
      "left": null,
      "margin": null,
      "max_height": null,
      "max_width": null,
      "min_height": null,
      "min_width": null,
      "object_fit": null,
      "object_position": null,
      "order": null,
      "overflow": null,
      "overflow_x": null,
      "overflow_y": null,
      "padding": null,
      "right": null,
      "top": null,
      "visibility": null,
      "width": null
     }
    },
    "f35a84381256473086972819238fa483": {
     "model_module": "@jupyter-widgets/base",
     "model_module_version": "1.2.0",
     "model_name": "LayoutModel",
     "state": {
      "_model_module": "@jupyter-widgets/base",
      "_model_module_version": "1.2.0",
      "_model_name": "LayoutModel",
      "_view_count": null,
      "_view_module": "@jupyter-widgets/base",
      "_view_module_version": "1.2.0",
      "_view_name": "LayoutView",
      "align_content": null,
      "align_items": null,
      "align_self": null,
      "border": null,
      "bottom": null,
      "display": null,
      "flex": null,
      "flex_flow": null,
      "grid_area": null,
      "grid_auto_columns": null,
      "grid_auto_flow": null,
      "grid_auto_rows": null,
      "grid_column": null,
      "grid_gap": null,
      "grid_row": null,
      "grid_template_areas": null,
      "grid_template_columns": null,
      "grid_template_rows": null,
      "height": null,
      "justify_content": null,
      "justify_items": null,
      "left": null,
      "margin": null,
      "max_height": null,
      "max_width": null,
      "min_height": null,
      "min_width": null,
      "object_fit": null,
      "object_position": null,
      "order": null,
      "overflow": null,
      "overflow_x": null,
      "overflow_y": null,
      "padding": null,
      "right": null,
      "top": null,
      "visibility": null,
      "width": null
     }
    },
    "f44f0220d68f434b984eb3b1000a9d48": {
     "model_module": "@jupyter-widgets/controls",
     "model_module_version": "1.5.0",
     "model_name": "ProgressStyleModel",
     "state": {
      "_model_module": "@jupyter-widgets/controls",
      "_model_module_version": "1.5.0",
      "_model_name": "ProgressStyleModel",
      "_view_count": null,
      "_view_module": "@jupyter-widgets/base",
      "_view_module_version": "1.2.0",
      "_view_name": "StyleView",
      "bar_color": null,
      "description_width": ""
     }
    },
    "fadcc7e6d9e941ddb23aeef132c2e7f0": {
     "model_module": "@jupyter-widgets/controls",
     "model_module_version": "1.5.0",
     "model_name": "DescriptionStyleModel",
     "state": {
      "_model_module": "@jupyter-widgets/controls",
      "_model_module_version": "1.5.0",
      "_model_name": "DescriptionStyleModel",
      "_view_count": null,
      "_view_module": "@jupyter-widgets/base",
      "_view_module_version": "1.2.0",
      "_view_name": "StyleView",
      "description_width": ""
     }
    },
    "fc37647185b246e78d33d75d7056e97e": {
     "model_module": "@jupyter-widgets/base",
     "model_module_version": "1.2.0",
     "model_name": "LayoutModel",
     "state": {
      "_model_module": "@jupyter-widgets/base",
      "_model_module_version": "1.2.0",
      "_model_name": "LayoutModel",
      "_view_count": null,
      "_view_module": "@jupyter-widgets/base",
      "_view_module_version": "1.2.0",
      "_view_name": "LayoutView",
      "align_content": null,
      "align_items": null,
      "align_self": null,
      "border": null,
      "bottom": null,
      "display": null,
      "flex": null,
      "flex_flow": null,
      "grid_area": null,
      "grid_auto_columns": null,
      "grid_auto_flow": null,
      "grid_auto_rows": null,
      "grid_column": null,
      "grid_gap": null,
      "grid_row": null,
      "grid_template_areas": null,
      "grid_template_columns": null,
      "grid_template_rows": null,
      "height": null,
      "justify_content": null,
      "justify_items": null,
      "left": null,
      "margin": null,
      "max_height": null,
      "max_width": null,
      "min_height": null,
      "min_width": null,
      "object_fit": null,
      "object_position": null,
      "order": null,
      "overflow": null,
      "overflow_x": null,
      "overflow_y": null,
      "padding": null,
      "right": null,
      "top": null,
      "visibility": null,
      "width": null
     }
    },
    "ff06074ddcaa4089ba2b23fb8ca94e19": {
     "model_module": "@jupyter-widgets/controls",
     "model_module_version": "1.5.0",
     "model_name": "HTMLModel",
     "state": {
      "_dom_classes": [],
      "_model_module": "@jupyter-widgets/controls",
      "_model_module_version": "1.5.0",
      "_model_name": "HTMLModel",
      "_view_count": null,
      "_view_module": "@jupyter-widgets/controls",
      "_view_module_version": "1.5.0",
      "_view_name": "HTMLView",
      "description": "",
      "description_tooltip": null,
      "layout": "IPY_MODEL_eec4340102204514aa25edff1c59d1c5",
      "placeholder": "​",
      "style": "IPY_MODEL_fadcc7e6d9e941ddb23aeef132c2e7f0",
      "value": " 6144/? [00:00&lt;00:00, 104451.71it/s]"
     }
    }
   }
  }
 },
 "nbformat": 4,
 "nbformat_minor": 5
}
