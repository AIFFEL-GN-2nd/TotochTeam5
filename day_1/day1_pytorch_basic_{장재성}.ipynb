{
  "nbformat": 4,
  "nbformat_minor": 0,
  "metadata": {
    "colab": {
      "name": "day1_pytorch_basic_{장재성}.ipynb",
      "provenance": [],
      "collapsed_sections": []
    },
    "kernelspec": {
      "name": "python3",
      "display_name": "Python 3"
    },
    "language_info": {
      "name": "python"
    },
    "widgets": {
      "application/vnd.jupyter.widget-state+json": {
        "97ef3090c30c498f862120b0a11a99b6": {
          "model_module": "@jupyter-widgets/controls",
          "model_name": "HBoxModel",
          "model_module_version": "1.5.0",
          "state": {
            "_view_name": "HBoxView",
            "_dom_classes": [],
            "_model_name": "HBoxModel",
            "_view_module": "@jupyter-widgets/controls",
            "_model_module_version": "1.5.0",
            "_view_count": null,
            "_view_module_version": "1.5.0",
            "box_style": "",
            "layout": "IPY_MODEL_4bae61704e98433cb3ec4294a9f876b1",
            "_model_module": "@jupyter-widgets/controls",
            "children": [
              "IPY_MODEL_5835a1569a4248f1b246a7a1deb3a979",
              "IPY_MODEL_10207e34c14a474aa2dd55c64d5c434d",
              "IPY_MODEL_998f37e9fcb447de9981cc22d96ee2d4"
            ]
          }
        },
        "4bae61704e98433cb3ec4294a9f876b1": {
          "model_module": "@jupyter-widgets/base",
          "model_name": "LayoutModel",
          "model_module_version": "1.2.0",
          "state": {
            "_view_name": "LayoutView",
            "grid_template_rows": null,
            "right": null,
            "justify_content": null,
            "_view_module": "@jupyter-widgets/base",
            "overflow": null,
            "_model_module_version": "1.2.0",
            "_view_count": null,
            "flex_flow": null,
            "width": null,
            "min_width": null,
            "border": null,
            "align_items": null,
            "bottom": null,
            "_model_module": "@jupyter-widgets/base",
            "top": null,
            "grid_column": null,
            "overflow_y": null,
            "overflow_x": null,
            "grid_auto_flow": null,
            "grid_area": null,
            "grid_template_columns": null,
            "flex": null,
            "_model_name": "LayoutModel",
            "justify_items": null,
            "grid_row": null,
            "max_height": null,
            "align_content": null,
            "visibility": null,
            "align_self": null,
            "height": null,
            "min_height": null,
            "padding": null,
            "grid_auto_rows": null,
            "grid_gap": null,
            "max_width": null,
            "order": null,
            "_view_module_version": "1.2.0",
            "grid_template_areas": null,
            "object_position": null,
            "object_fit": null,
            "grid_auto_columns": null,
            "margin": null,
            "display": null,
            "left": null
          }
        },
        "5835a1569a4248f1b246a7a1deb3a979": {
          "model_module": "@jupyter-widgets/controls",
          "model_name": "HTMLModel",
          "model_module_version": "1.5.0",
          "state": {
            "_view_name": "HTMLView",
            "style": "IPY_MODEL_7b56c7373a88454aa9b70d30e7b3204f",
            "_dom_classes": [],
            "description": "",
            "_model_name": "HTMLModel",
            "placeholder": "​",
            "_view_module": "@jupyter-widgets/controls",
            "_model_module_version": "1.5.0",
            "value": "",
            "_view_count": null,
            "_view_module_version": "1.5.0",
            "description_tooltip": null,
            "_model_module": "@jupyter-widgets/controls",
            "layout": "IPY_MODEL_340eccb0c3274ae8969b21ddb5de4e48"
          }
        },
        "10207e34c14a474aa2dd55c64d5c434d": {
          "model_module": "@jupyter-widgets/controls",
          "model_name": "FloatProgressModel",
          "model_module_version": "1.5.0",
          "state": {
            "_view_name": "ProgressView",
            "style": "IPY_MODEL_ab5a9e42e4e54085bee19a6ce88fb5d6",
            "_dom_classes": [],
            "description": "",
            "_model_name": "FloatProgressModel",
            "bar_style": "success",
            "max": 26421880,
            "_view_module": "@jupyter-widgets/controls",
            "_model_module_version": "1.5.0",
            "value": 26421880,
            "_view_count": null,
            "_view_module_version": "1.5.0",
            "orientation": "horizontal",
            "min": 0,
            "description_tooltip": null,
            "_model_module": "@jupyter-widgets/controls",
            "layout": "IPY_MODEL_c264045e1ac54683beb901b845ed93e1"
          }
        },
        "998f37e9fcb447de9981cc22d96ee2d4": {
          "model_module": "@jupyter-widgets/controls",
          "model_name": "HTMLModel",
          "model_module_version": "1.5.0",
          "state": {
            "_view_name": "HTMLView",
            "style": "IPY_MODEL_532c989fa5e94e8693605340e9021457",
            "_dom_classes": [],
            "description": "",
            "_model_name": "HTMLModel",
            "placeholder": "​",
            "_view_module": "@jupyter-widgets/controls",
            "_model_module_version": "1.5.0",
            "value": " 26422272/? [00:02&lt;00:00, 17947513.81it/s]",
            "_view_count": null,
            "_view_module_version": "1.5.0",
            "description_tooltip": null,
            "_model_module": "@jupyter-widgets/controls",
            "layout": "IPY_MODEL_da5e4262c6ed41978154bc1921f9bfb3"
          }
        },
        "7b56c7373a88454aa9b70d30e7b3204f": {
          "model_module": "@jupyter-widgets/controls",
          "model_name": "DescriptionStyleModel",
          "model_module_version": "1.5.0",
          "state": {
            "_view_name": "StyleView",
            "_model_name": "DescriptionStyleModel",
            "description_width": "",
            "_view_module": "@jupyter-widgets/base",
            "_model_module_version": "1.5.0",
            "_view_count": null,
            "_view_module_version": "1.2.0",
            "_model_module": "@jupyter-widgets/controls"
          }
        },
        "340eccb0c3274ae8969b21ddb5de4e48": {
          "model_module": "@jupyter-widgets/base",
          "model_name": "LayoutModel",
          "model_module_version": "1.2.0",
          "state": {
            "_view_name": "LayoutView",
            "grid_template_rows": null,
            "right": null,
            "justify_content": null,
            "_view_module": "@jupyter-widgets/base",
            "overflow": null,
            "_model_module_version": "1.2.0",
            "_view_count": null,
            "flex_flow": null,
            "width": null,
            "min_width": null,
            "border": null,
            "align_items": null,
            "bottom": null,
            "_model_module": "@jupyter-widgets/base",
            "top": null,
            "grid_column": null,
            "overflow_y": null,
            "overflow_x": null,
            "grid_auto_flow": null,
            "grid_area": null,
            "grid_template_columns": null,
            "flex": null,
            "_model_name": "LayoutModel",
            "justify_items": null,
            "grid_row": null,
            "max_height": null,
            "align_content": null,
            "visibility": null,
            "align_self": null,
            "height": null,
            "min_height": null,
            "padding": null,
            "grid_auto_rows": null,
            "grid_gap": null,
            "max_width": null,
            "order": null,
            "_view_module_version": "1.2.0",
            "grid_template_areas": null,
            "object_position": null,
            "object_fit": null,
            "grid_auto_columns": null,
            "margin": null,
            "display": null,
            "left": null
          }
        },
        "ab5a9e42e4e54085bee19a6ce88fb5d6": {
          "model_module": "@jupyter-widgets/controls",
          "model_name": "ProgressStyleModel",
          "model_module_version": "1.5.0",
          "state": {
            "_view_name": "StyleView",
            "_model_name": "ProgressStyleModel",
            "description_width": "",
            "_view_module": "@jupyter-widgets/base",
            "_model_module_version": "1.5.0",
            "_view_count": null,
            "_view_module_version": "1.2.0",
            "bar_color": null,
            "_model_module": "@jupyter-widgets/controls"
          }
        },
        "c264045e1ac54683beb901b845ed93e1": {
          "model_module": "@jupyter-widgets/base",
          "model_name": "LayoutModel",
          "model_module_version": "1.2.0",
          "state": {
            "_view_name": "LayoutView",
            "grid_template_rows": null,
            "right": null,
            "justify_content": null,
            "_view_module": "@jupyter-widgets/base",
            "overflow": null,
            "_model_module_version": "1.2.0",
            "_view_count": null,
            "flex_flow": null,
            "width": null,
            "min_width": null,
            "border": null,
            "align_items": null,
            "bottom": null,
            "_model_module": "@jupyter-widgets/base",
            "top": null,
            "grid_column": null,
            "overflow_y": null,
            "overflow_x": null,
            "grid_auto_flow": null,
            "grid_area": null,
            "grid_template_columns": null,
            "flex": null,
            "_model_name": "LayoutModel",
            "justify_items": null,
            "grid_row": null,
            "max_height": null,
            "align_content": null,
            "visibility": null,
            "align_self": null,
            "height": null,
            "min_height": null,
            "padding": null,
            "grid_auto_rows": null,
            "grid_gap": null,
            "max_width": null,
            "order": null,
            "_view_module_version": "1.2.0",
            "grid_template_areas": null,
            "object_position": null,
            "object_fit": null,
            "grid_auto_columns": null,
            "margin": null,
            "display": null,
            "left": null
          }
        },
        "532c989fa5e94e8693605340e9021457": {
          "model_module": "@jupyter-widgets/controls",
          "model_name": "DescriptionStyleModel",
          "model_module_version": "1.5.0",
          "state": {
            "_view_name": "StyleView",
            "_model_name": "DescriptionStyleModel",
            "description_width": "",
            "_view_module": "@jupyter-widgets/base",
            "_model_module_version": "1.5.0",
            "_view_count": null,
            "_view_module_version": "1.2.0",
            "_model_module": "@jupyter-widgets/controls"
          }
        },
        "da5e4262c6ed41978154bc1921f9bfb3": {
          "model_module": "@jupyter-widgets/base",
          "model_name": "LayoutModel",
          "model_module_version": "1.2.0",
          "state": {
            "_view_name": "LayoutView",
            "grid_template_rows": null,
            "right": null,
            "justify_content": null,
            "_view_module": "@jupyter-widgets/base",
            "overflow": null,
            "_model_module_version": "1.2.0",
            "_view_count": null,
            "flex_flow": null,
            "width": null,
            "min_width": null,
            "border": null,
            "align_items": null,
            "bottom": null,
            "_model_module": "@jupyter-widgets/base",
            "top": null,
            "grid_column": null,
            "overflow_y": null,
            "overflow_x": null,
            "grid_auto_flow": null,
            "grid_area": null,
            "grid_template_columns": null,
            "flex": null,
            "_model_name": "LayoutModel",
            "justify_items": null,
            "grid_row": null,
            "max_height": null,
            "align_content": null,
            "visibility": null,
            "align_self": null,
            "height": null,
            "min_height": null,
            "padding": null,
            "grid_auto_rows": null,
            "grid_gap": null,
            "max_width": null,
            "order": null,
            "_view_module_version": "1.2.0",
            "grid_template_areas": null,
            "object_position": null,
            "object_fit": null,
            "grid_auto_columns": null,
            "margin": null,
            "display": null,
            "left": null
          }
        },
        "09c06d8f848c4959b014ee57edc78eab": {
          "model_module": "@jupyter-widgets/controls",
          "model_name": "HBoxModel",
          "model_module_version": "1.5.0",
          "state": {
            "_view_name": "HBoxView",
            "_dom_classes": [],
            "_model_name": "HBoxModel",
            "_view_module": "@jupyter-widgets/controls",
            "_model_module_version": "1.5.0",
            "_view_count": null,
            "_view_module_version": "1.5.0",
            "box_style": "",
            "layout": "IPY_MODEL_a32a9d4caeea4523a3aad8fd81079e30",
            "_model_module": "@jupyter-widgets/controls",
            "children": [
              "IPY_MODEL_c82389f7b5b54e1a9736eb9bd5c584b2",
              "IPY_MODEL_a7468a2ee8ec4b08879cd2d6665c139a",
              "IPY_MODEL_4ad020339ae9465ab638672a65f05fa3"
            ]
          }
        },
        "a32a9d4caeea4523a3aad8fd81079e30": {
          "model_module": "@jupyter-widgets/base",
          "model_name": "LayoutModel",
          "model_module_version": "1.2.0",
          "state": {
            "_view_name": "LayoutView",
            "grid_template_rows": null,
            "right": null,
            "justify_content": null,
            "_view_module": "@jupyter-widgets/base",
            "overflow": null,
            "_model_module_version": "1.2.0",
            "_view_count": null,
            "flex_flow": null,
            "width": null,
            "min_width": null,
            "border": null,
            "align_items": null,
            "bottom": null,
            "_model_module": "@jupyter-widgets/base",
            "top": null,
            "grid_column": null,
            "overflow_y": null,
            "overflow_x": null,
            "grid_auto_flow": null,
            "grid_area": null,
            "grid_template_columns": null,
            "flex": null,
            "_model_name": "LayoutModel",
            "justify_items": null,
            "grid_row": null,
            "max_height": null,
            "align_content": null,
            "visibility": null,
            "align_self": null,
            "height": null,
            "min_height": null,
            "padding": null,
            "grid_auto_rows": null,
            "grid_gap": null,
            "max_width": null,
            "order": null,
            "_view_module_version": "1.2.0",
            "grid_template_areas": null,
            "object_position": null,
            "object_fit": null,
            "grid_auto_columns": null,
            "margin": null,
            "display": null,
            "left": null
          }
        },
        "c82389f7b5b54e1a9736eb9bd5c584b2": {
          "model_module": "@jupyter-widgets/controls",
          "model_name": "HTMLModel",
          "model_module_version": "1.5.0",
          "state": {
            "_view_name": "HTMLView",
            "style": "IPY_MODEL_bba39938e4c04b6e8f35e6cdc4d529be",
            "_dom_classes": [],
            "description": "",
            "_model_name": "HTMLModel",
            "placeholder": "​",
            "_view_module": "@jupyter-widgets/controls",
            "_model_module_version": "1.5.0",
            "value": "",
            "_view_count": null,
            "_view_module_version": "1.5.0",
            "description_tooltip": null,
            "_model_module": "@jupyter-widgets/controls",
            "layout": "IPY_MODEL_dc5bc006e53e4c59958d113700f692f9"
          }
        },
        "a7468a2ee8ec4b08879cd2d6665c139a": {
          "model_module": "@jupyter-widgets/controls",
          "model_name": "FloatProgressModel",
          "model_module_version": "1.5.0",
          "state": {
            "_view_name": "ProgressView",
            "style": "IPY_MODEL_41ef17518025453aa6b7943a3a9999b2",
            "_dom_classes": [],
            "description": "",
            "_model_name": "FloatProgressModel",
            "bar_style": "success",
            "max": 29515,
            "_view_module": "@jupyter-widgets/controls",
            "_model_module_version": "1.5.0",
            "value": 29515,
            "_view_count": null,
            "_view_module_version": "1.5.0",
            "orientation": "horizontal",
            "min": 0,
            "description_tooltip": null,
            "_model_module": "@jupyter-widgets/controls",
            "layout": "IPY_MODEL_5eb8c103fe604751ae2aa2bf69be4568"
          }
        },
        "4ad020339ae9465ab638672a65f05fa3": {
          "model_module": "@jupyter-widgets/controls",
          "model_name": "HTMLModel",
          "model_module_version": "1.5.0",
          "state": {
            "_view_name": "HTMLView",
            "style": "IPY_MODEL_5c0549089aee49b381654060c580b387",
            "_dom_classes": [],
            "description": "",
            "_model_name": "HTMLModel",
            "placeholder": "​",
            "_view_module": "@jupyter-widgets/controls",
            "_model_module_version": "1.5.0",
            "value": " 29696/? [00:00&lt;00:00, 85556.55it/s]",
            "_view_count": null,
            "_view_module_version": "1.5.0",
            "description_tooltip": null,
            "_model_module": "@jupyter-widgets/controls",
            "layout": "IPY_MODEL_c4a2aaa90d2842a3bcd5a59ef549b647"
          }
        },
        "bba39938e4c04b6e8f35e6cdc4d529be": {
          "model_module": "@jupyter-widgets/controls",
          "model_name": "DescriptionStyleModel",
          "model_module_version": "1.5.0",
          "state": {
            "_view_name": "StyleView",
            "_model_name": "DescriptionStyleModel",
            "description_width": "",
            "_view_module": "@jupyter-widgets/base",
            "_model_module_version": "1.5.0",
            "_view_count": null,
            "_view_module_version": "1.2.0",
            "_model_module": "@jupyter-widgets/controls"
          }
        },
        "dc5bc006e53e4c59958d113700f692f9": {
          "model_module": "@jupyter-widgets/base",
          "model_name": "LayoutModel",
          "model_module_version": "1.2.0",
          "state": {
            "_view_name": "LayoutView",
            "grid_template_rows": null,
            "right": null,
            "justify_content": null,
            "_view_module": "@jupyter-widgets/base",
            "overflow": null,
            "_model_module_version": "1.2.0",
            "_view_count": null,
            "flex_flow": null,
            "width": null,
            "min_width": null,
            "border": null,
            "align_items": null,
            "bottom": null,
            "_model_module": "@jupyter-widgets/base",
            "top": null,
            "grid_column": null,
            "overflow_y": null,
            "overflow_x": null,
            "grid_auto_flow": null,
            "grid_area": null,
            "grid_template_columns": null,
            "flex": null,
            "_model_name": "LayoutModel",
            "justify_items": null,
            "grid_row": null,
            "max_height": null,
            "align_content": null,
            "visibility": null,
            "align_self": null,
            "height": null,
            "min_height": null,
            "padding": null,
            "grid_auto_rows": null,
            "grid_gap": null,
            "max_width": null,
            "order": null,
            "_view_module_version": "1.2.0",
            "grid_template_areas": null,
            "object_position": null,
            "object_fit": null,
            "grid_auto_columns": null,
            "margin": null,
            "display": null,
            "left": null
          }
        },
        "41ef17518025453aa6b7943a3a9999b2": {
          "model_module": "@jupyter-widgets/controls",
          "model_name": "ProgressStyleModel",
          "model_module_version": "1.5.0",
          "state": {
            "_view_name": "StyleView",
            "_model_name": "ProgressStyleModel",
            "description_width": "",
            "_view_module": "@jupyter-widgets/base",
            "_model_module_version": "1.5.0",
            "_view_count": null,
            "_view_module_version": "1.2.0",
            "bar_color": null,
            "_model_module": "@jupyter-widgets/controls"
          }
        },
        "5eb8c103fe604751ae2aa2bf69be4568": {
          "model_module": "@jupyter-widgets/base",
          "model_name": "LayoutModel",
          "model_module_version": "1.2.0",
          "state": {
            "_view_name": "LayoutView",
            "grid_template_rows": null,
            "right": null,
            "justify_content": null,
            "_view_module": "@jupyter-widgets/base",
            "overflow": null,
            "_model_module_version": "1.2.0",
            "_view_count": null,
            "flex_flow": null,
            "width": null,
            "min_width": null,
            "border": null,
            "align_items": null,
            "bottom": null,
            "_model_module": "@jupyter-widgets/base",
            "top": null,
            "grid_column": null,
            "overflow_y": null,
            "overflow_x": null,
            "grid_auto_flow": null,
            "grid_area": null,
            "grid_template_columns": null,
            "flex": null,
            "_model_name": "LayoutModel",
            "justify_items": null,
            "grid_row": null,
            "max_height": null,
            "align_content": null,
            "visibility": null,
            "align_self": null,
            "height": null,
            "min_height": null,
            "padding": null,
            "grid_auto_rows": null,
            "grid_gap": null,
            "max_width": null,
            "order": null,
            "_view_module_version": "1.2.0",
            "grid_template_areas": null,
            "object_position": null,
            "object_fit": null,
            "grid_auto_columns": null,
            "margin": null,
            "display": null,
            "left": null
          }
        },
        "5c0549089aee49b381654060c580b387": {
          "model_module": "@jupyter-widgets/controls",
          "model_name": "DescriptionStyleModel",
          "model_module_version": "1.5.0",
          "state": {
            "_view_name": "StyleView",
            "_model_name": "DescriptionStyleModel",
            "description_width": "",
            "_view_module": "@jupyter-widgets/base",
            "_model_module_version": "1.5.0",
            "_view_count": null,
            "_view_module_version": "1.2.0",
            "_model_module": "@jupyter-widgets/controls"
          }
        },
        "c4a2aaa90d2842a3bcd5a59ef549b647": {
          "model_module": "@jupyter-widgets/base",
          "model_name": "LayoutModel",
          "model_module_version": "1.2.0",
          "state": {
            "_view_name": "LayoutView",
            "grid_template_rows": null,
            "right": null,
            "justify_content": null,
            "_view_module": "@jupyter-widgets/base",
            "overflow": null,
            "_model_module_version": "1.2.0",
            "_view_count": null,
            "flex_flow": null,
            "width": null,
            "min_width": null,
            "border": null,
            "align_items": null,
            "bottom": null,
            "_model_module": "@jupyter-widgets/base",
            "top": null,
            "grid_column": null,
            "overflow_y": null,
            "overflow_x": null,
            "grid_auto_flow": null,
            "grid_area": null,
            "grid_template_columns": null,
            "flex": null,
            "_model_name": "LayoutModel",
            "justify_items": null,
            "grid_row": null,
            "max_height": null,
            "align_content": null,
            "visibility": null,
            "align_self": null,
            "height": null,
            "min_height": null,
            "padding": null,
            "grid_auto_rows": null,
            "grid_gap": null,
            "max_width": null,
            "order": null,
            "_view_module_version": "1.2.0",
            "grid_template_areas": null,
            "object_position": null,
            "object_fit": null,
            "grid_auto_columns": null,
            "margin": null,
            "display": null,
            "left": null
          }
        },
        "6a069f20656d467b9fccb57b53657308": {
          "model_module": "@jupyter-widgets/controls",
          "model_name": "HBoxModel",
          "model_module_version": "1.5.0",
          "state": {
            "_view_name": "HBoxView",
            "_dom_classes": [],
            "_model_name": "HBoxModel",
            "_view_module": "@jupyter-widgets/controls",
            "_model_module_version": "1.5.0",
            "_view_count": null,
            "_view_module_version": "1.5.0",
            "box_style": "",
            "layout": "IPY_MODEL_9d9497744fa44fd1a1927b6b03cd4020",
            "_model_module": "@jupyter-widgets/controls",
            "children": [
              "IPY_MODEL_0fcf22aeb3f146c0b22b4678e20abe7f",
              "IPY_MODEL_bd889115c149493f89a5ba3bee4575aa",
              "IPY_MODEL_22fe4f06df0b4ac1bf054c1392d49b7d"
            ]
          }
        },
        "9d9497744fa44fd1a1927b6b03cd4020": {
          "model_module": "@jupyter-widgets/base",
          "model_name": "LayoutModel",
          "model_module_version": "1.2.0",
          "state": {
            "_view_name": "LayoutView",
            "grid_template_rows": null,
            "right": null,
            "justify_content": null,
            "_view_module": "@jupyter-widgets/base",
            "overflow": null,
            "_model_module_version": "1.2.0",
            "_view_count": null,
            "flex_flow": null,
            "width": null,
            "min_width": null,
            "border": null,
            "align_items": null,
            "bottom": null,
            "_model_module": "@jupyter-widgets/base",
            "top": null,
            "grid_column": null,
            "overflow_y": null,
            "overflow_x": null,
            "grid_auto_flow": null,
            "grid_area": null,
            "grid_template_columns": null,
            "flex": null,
            "_model_name": "LayoutModel",
            "justify_items": null,
            "grid_row": null,
            "max_height": null,
            "align_content": null,
            "visibility": null,
            "align_self": null,
            "height": null,
            "min_height": null,
            "padding": null,
            "grid_auto_rows": null,
            "grid_gap": null,
            "max_width": null,
            "order": null,
            "_view_module_version": "1.2.0",
            "grid_template_areas": null,
            "object_position": null,
            "object_fit": null,
            "grid_auto_columns": null,
            "margin": null,
            "display": null,
            "left": null
          }
        },
        "0fcf22aeb3f146c0b22b4678e20abe7f": {
          "model_module": "@jupyter-widgets/controls",
          "model_name": "HTMLModel",
          "model_module_version": "1.5.0",
          "state": {
            "_view_name": "HTMLView",
            "style": "IPY_MODEL_36f454894fa841aeb69aa0c506e0a07e",
            "_dom_classes": [],
            "description": "",
            "_model_name": "HTMLModel",
            "placeholder": "​",
            "_view_module": "@jupyter-widgets/controls",
            "_model_module_version": "1.5.0",
            "value": "",
            "_view_count": null,
            "_view_module_version": "1.5.0",
            "description_tooltip": null,
            "_model_module": "@jupyter-widgets/controls",
            "layout": "IPY_MODEL_68d914889c4c400e9c02b1bd10b1d8fb"
          }
        },
        "bd889115c149493f89a5ba3bee4575aa": {
          "model_module": "@jupyter-widgets/controls",
          "model_name": "FloatProgressModel",
          "model_module_version": "1.5.0",
          "state": {
            "_view_name": "ProgressView",
            "style": "IPY_MODEL_902679b86e05415f9a08f19afa91e5d5",
            "_dom_classes": [],
            "description": "",
            "_model_name": "FloatProgressModel",
            "bar_style": "success",
            "max": 4422102,
            "_view_module": "@jupyter-widgets/controls",
            "_model_module_version": "1.5.0",
            "value": 4422102,
            "_view_count": null,
            "_view_module_version": "1.5.0",
            "orientation": "horizontal",
            "min": 0,
            "description_tooltip": null,
            "_model_module": "@jupyter-widgets/controls",
            "layout": "IPY_MODEL_072a5e3e98ee4634ad59654dd02ab5ff"
          }
        },
        "22fe4f06df0b4ac1bf054c1392d49b7d": {
          "model_module": "@jupyter-widgets/controls",
          "model_name": "HTMLModel",
          "model_module_version": "1.5.0",
          "state": {
            "_view_name": "HTMLView",
            "style": "IPY_MODEL_3a4684e7cf61492f9f4df29af9aadea2",
            "_dom_classes": [],
            "description": "",
            "_model_name": "HTMLModel",
            "placeholder": "​",
            "_view_module": "@jupyter-widgets/controls",
            "_model_module_version": "1.5.0",
            "value": " 4422656/? [00:01&lt;00:00, 5754425.36it/s]",
            "_view_count": null,
            "_view_module_version": "1.5.0",
            "description_tooltip": null,
            "_model_module": "@jupyter-widgets/controls",
            "layout": "IPY_MODEL_be88040a5f554414ab2bc73cc9eb8ffb"
          }
        },
        "36f454894fa841aeb69aa0c506e0a07e": {
          "model_module": "@jupyter-widgets/controls",
          "model_name": "DescriptionStyleModel",
          "model_module_version": "1.5.0",
          "state": {
            "_view_name": "StyleView",
            "_model_name": "DescriptionStyleModel",
            "description_width": "",
            "_view_module": "@jupyter-widgets/base",
            "_model_module_version": "1.5.0",
            "_view_count": null,
            "_view_module_version": "1.2.0",
            "_model_module": "@jupyter-widgets/controls"
          }
        },
        "68d914889c4c400e9c02b1bd10b1d8fb": {
          "model_module": "@jupyter-widgets/base",
          "model_name": "LayoutModel",
          "model_module_version": "1.2.0",
          "state": {
            "_view_name": "LayoutView",
            "grid_template_rows": null,
            "right": null,
            "justify_content": null,
            "_view_module": "@jupyter-widgets/base",
            "overflow": null,
            "_model_module_version": "1.2.0",
            "_view_count": null,
            "flex_flow": null,
            "width": null,
            "min_width": null,
            "border": null,
            "align_items": null,
            "bottom": null,
            "_model_module": "@jupyter-widgets/base",
            "top": null,
            "grid_column": null,
            "overflow_y": null,
            "overflow_x": null,
            "grid_auto_flow": null,
            "grid_area": null,
            "grid_template_columns": null,
            "flex": null,
            "_model_name": "LayoutModel",
            "justify_items": null,
            "grid_row": null,
            "max_height": null,
            "align_content": null,
            "visibility": null,
            "align_self": null,
            "height": null,
            "min_height": null,
            "padding": null,
            "grid_auto_rows": null,
            "grid_gap": null,
            "max_width": null,
            "order": null,
            "_view_module_version": "1.2.0",
            "grid_template_areas": null,
            "object_position": null,
            "object_fit": null,
            "grid_auto_columns": null,
            "margin": null,
            "display": null,
            "left": null
          }
        },
        "902679b86e05415f9a08f19afa91e5d5": {
          "model_module": "@jupyter-widgets/controls",
          "model_name": "ProgressStyleModel",
          "model_module_version": "1.5.0",
          "state": {
            "_view_name": "StyleView",
            "_model_name": "ProgressStyleModel",
            "description_width": "",
            "_view_module": "@jupyter-widgets/base",
            "_model_module_version": "1.5.0",
            "_view_count": null,
            "_view_module_version": "1.2.0",
            "bar_color": null,
            "_model_module": "@jupyter-widgets/controls"
          }
        },
        "072a5e3e98ee4634ad59654dd02ab5ff": {
          "model_module": "@jupyter-widgets/base",
          "model_name": "LayoutModel",
          "model_module_version": "1.2.0",
          "state": {
            "_view_name": "LayoutView",
            "grid_template_rows": null,
            "right": null,
            "justify_content": null,
            "_view_module": "@jupyter-widgets/base",
            "overflow": null,
            "_model_module_version": "1.2.0",
            "_view_count": null,
            "flex_flow": null,
            "width": null,
            "min_width": null,
            "border": null,
            "align_items": null,
            "bottom": null,
            "_model_module": "@jupyter-widgets/base",
            "top": null,
            "grid_column": null,
            "overflow_y": null,
            "overflow_x": null,
            "grid_auto_flow": null,
            "grid_area": null,
            "grid_template_columns": null,
            "flex": null,
            "_model_name": "LayoutModel",
            "justify_items": null,
            "grid_row": null,
            "max_height": null,
            "align_content": null,
            "visibility": null,
            "align_self": null,
            "height": null,
            "min_height": null,
            "padding": null,
            "grid_auto_rows": null,
            "grid_gap": null,
            "max_width": null,
            "order": null,
            "_view_module_version": "1.2.0",
            "grid_template_areas": null,
            "object_position": null,
            "object_fit": null,
            "grid_auto_columns": null,
            "margin": null,
            "display": null,
            "left": null
          }
        },
        "3a4684e7cf61492f9f4df29af9aadea2": {
          "model_module": "@jupyter-widgets/controls",
          "model_name": "DescriptionStyleModel",
          "model_module_version": "1.5.0",
          "state": {
            "_view_name": "StyleView",
            "_model_name": "DescriptionStyleModel",
            "description_width": "",
            "_view_module": "@jupyter-widgets/base",
            "_model_module_version": "1.5.0",
            "_view_count": null,
            "_view_module_version": "1.2.0",
            "_model_module": "@jupyter-widgets/controls"
          }
        },
        "be88040a5f554414ab2bc73cc9eb8ffb": {
          "model_module": "@jupyter-widgets/base",
          "model_name": "LayoutModel",
          "model_module_version": "1.2.0",
          "state": {
            "_view_name": "LayoutView",
            "grid_template_rows": null,
            "right": null,
            "justify_content": null,
            "_view_module": "@jupyter-widgets/base",
            "overflow": null,
            "_model_module_version": "1.2.0",
            "_view_count": null,
            "flex_flow": null,
            "width": null,
            "min_width": null,
            "border": null,
            "align_items": null,
            "bottom": null,
            "_model_module": "@jupyter-widgets/base",
            "top": null,
            "grid_column": null,
            "overflow_y": null,
            "overflow_x": null,
            "grid_auto_flow": null,
            "grid_area": null,
            "grid_template_columns": null,
            "flex": null,
            "_model_name": "LayoutModel",
            "justify_items": null,
            "grid_row": null,
            "max_height": null,
            "align_content": null,
            "visibility": null,
            "align_self": null,
            "height": null,
            "min_height": null,
            "padding": null,
            "grid_auto_rows": null,
            "grid_gap": null,
            "max_width": null,
            "order": null,
            "_view_module_version": "1.2.0",
            "grid_template_areas": null,
            "object_position": null,
            "object_fit": null,
            "grid_auto_columns": null,
            "margin": null,
            "display": null,
            "left": null
          }
        },
        "8738f4518c9c46bfbee4b4d223f54c7e": {
          "model_module": "@jupyter-widgets/controls",
          "model_name": "HBoxModel",
          "model_module_version": "1.5.0",
          "state": {
            "_view_name": "HBoxView",
            "_dom_classes": [],
            "_model_name": "HBoxModel",
            "_view_module": "@jupyter-widgets/controls",
            "_model_module_version": "1.5.0",
            "_view_count": null,
            "_view_module_version": "1.5.0",
            "box_style": "",
            "layout": "IPY_MODEL_75824bdcfe5d485994a36b2caf9d8a97",
            "_model_module": "@jupyter-widgets/controls",
            "children": [
              "IPY_MODEL_73e7af0b2f5b4d60bcf8ccf380e93d23",
              "IPY_MODEL_50ec0ab1ae6742a3b7451c9a614fb2b3",
              "IPY_MODEL_10f644d3e13d4d83bb0b74e5e83b904c"
            ]
          }
        },
        "75824bdcfe5d485994a36b2caf9d8a97": {
          "model_module": "@jupyter-widgets/base",
          "model_name": "LayoutModel",
          "model_module_version": "1.2.0",
          "state": {
            "_view_name": "LayoutView",
            "grid_template_rows": null,
            "right": null,
            "justify_content": null,
            "_view_module": "@jupyter-widgets/base",
            "overflow": null,
            "_model_module_version": "1.2.0",
            "_view_count": null,
            "flex_flow": null,
            "width": null,
            "min_width": null,
            "border": null,
            "align_items": null,
            "bottom": null,
            "_model_module": "@jupyter-widgets/base",
            "top": null,
            "grid_column": null,
            "overflow_y": null,
            "overflow_x": null,
            "grid_auto_flow": null,
            "grid_area": null,
            "grid_template_columns": null,
            "flex": null,
            "_model_name": "LayoutModel",
            "justify_items": null,
            "grid_row": null,
            "max_height": null,
            "align_content": null,
            "visibility": null,
            "align_self": null,
            "height": null,
            "min_height": null,
            "padding": null,
            "grid_auto_rows": null,
            "grid_gap": null,
            "max_width": null,
            "order": null,
            "_view_module_version": "1.2.0",
            "grid_template_areas": null,
            "object_position": null,
            "object_fit": null,
            "grid_auto_columns": null,
            "margin": null,
            "display": null,
            "left": null
          }
        },
        "73e7af0b2f5b4d60bcf8ccf380e93d23": {
          "model_module": "@jupyter-widgets/controls",
          "model_name": "HTMLModel",
          "model_module_version": "1.5.0",
          "state": {
            "_view_name": "HTMLView",
            "style": "IPY_MODEL_c4fd85f7a5064b829fd1b99122ca27e3",
            "_dom_classes": [],
            "description": "",
            "_model_name": "HTMLModel",
            "placeholder": "​",
            "_view_module": "@jupyter-widgets/controls",
            "_model_module_version": "1.5.0",
            "value": "",
            "_view_count": null,
            "_view_module_version": "1.5.0",
            "description_tooltip": null,
            "_model_module": "@jupyter-widgets/controls",
            "layout": "IPY_MODEL_53b590e427474aafb07e5b46d916ffc0"
          }
        },
        "50ec0ab1ae6742a3b7451c9a614fb2b3": {
          "model_module": "@jupyter-widgets/controls",
          "model_name": "FloatProgressModel",
          "model_module_version": "1.5.0",
          "state": {
            "_view_name": "ProgressView",
            "style": "IPY_MODEL_7e90229255694a33923df5b6eda12802",
            "_dom_classes": [],
            "description": "",
            "_model_name": "FloatProgressModel",
            "bar_style": "success",
            "max": 5148,
            "_view_module": "@jupyter-widgets/controls",
            "_model_module_version": "1.5.0",
            "value": 5148,
            "_view_count": null,
            "_view_module_version": "1.5.0",
            "orientation": "horizontal",
            "min": 0,
            "description_tooltip": null,
            "_model_module": "@jupyter-widgets/controls",
            "layout": "IPY_MODEL_15a93051aab647b1a2a63d808e2e8ebe"
          }
        },
        "10f644d3e13d4d83bb0b74e5e83b904c": {
          "model_module": "@jupyter-widgets/controls",
          "model_name": "HTMLModel",
          "model_module_version": "1.5.0",
          "state": {
            "_view_name": "HTMLView",
            "style": "IPY_MODEL_9e0f631c2b9043a78e489e224eff22ef",
            "_dom_classes": [],
            "description": "",
            "_model_name": "HTMLModel",
            "placeholder": "​",
            "_view_module": "@jupyter-widgets/controls",
            "_model_module_version": "1.5.0",
            "value": " 6144/? [00:00&lt;00:00, 149858.42it/s]",
            "_view_count": null,
            "_view_module_version": "1.5.0",
            "description_tooltip": null,
            "_model_module": "@jupyter-widgets/controls",
            "layout": "IPY_MODEL_e4b21052d1a54fc89e719df002d99f52"
          }
        },
        "c4fd85f7a5064b829fd1b99122ca27e3": {
          "model_module": "@jupyter-widgets/controls",
          "model_name": "DescriptionStyleModel",
          "model_module_version": "1.5.0",
          "state": {
            "_view_name": "StyleView",
            "_model_name": "DescriptionStyleModel",
            "description_width": "",
            "_view_module": "@jupyter-widgets/base",
            "_model_module_version": "1.5.0",
            "_view_count": null,
            "_view_module_version": "1.2.0",
            "_model_module": "@jupyter-widgets/controls"
          }
        },
        "53b590e427474aafb07e5b46d916ffc0": {
          "model_module": "@jupyter-widgets/base",
          "model_name": "LayoutModel",
          "model_module_version": "1.2.0",
          "state": {
            "_view_name": "LayoutView",
            "grid_template_rows": null,
            "right": null,
            "justify_content": null,
            "_view_module": "@jupyter-widgets/base",
            "overflow": null,
            "_model_module_version": "1.2.0",
            "_view_count": null,
            "flex_flow": null,
            "width": null,
            "min_width": null,
            "border": null,
            "align_items": null,
            "bottom": null,
            "_model_module": "@jupyter-widgets/base",
            "top": null,
            "grid_column": null,
            "overflow_y": null,
            "overflow_x": null,
            "grid_auto_flow": null,
            "grid_area": null,
            "grid_template_columns": null,
            "flex": null,
            "_model_name": "LayoutModel",
            "justify_items": null,
            "grid_row": null,
            "max_height": null,
            "align_content": null,
            "visibility": null,
            "align_self": null,
            "height": null,
            "min_height": null,
            "padding": null,
            "grid_auto_rows": null,
            "grid_gap": null,
            "max_width": null,
            "order": null,
            "_view_module_version": "1.2.0",
            "grid_template_areas": null,
            "object_position": null,
            "object_fit": null,
            "grid_auto_columns": null,
            "margin": null,
            "display": null,
            "left": null
          }
        },
        "7e90229255694a33923df5b6eda12802": {
          "model_module": "@jupyter-widgets/controls",
          "model_name": "ProgressStyleModel",
          "model_module_version": "1.5.0",
          "state": {
            "_view_name": "StyleView",
            "_model_name": "ProgressStyleModel",
            "description_width": "",
            "_view_module": "@jupyter-widgets/base",
            "_model_module_version": "1.5.0",
            "_view_count": null,
            "_view_module_version": "1.2.0",
            "bar_color": null,
            "_model_module": "@jupyter-widgets/controls"
          }
        },
        "15a93051aab647b1a2a63d808e2e8ebe": {
          "model_module": "@jupyter-widgets/base",
          "model_name": "LayoutModel",
          "model_module_version": "1.2.0",
          "state": {
            "_view_name": "LayoutView",
            "grid_template_rows": null,
            "right": null,
            "justify_content": null,
            "_view_module": "@jupyter-widgets/base",
            "overflow": null,
            "_model_module_version": "1.2.0",
            "_view_count": null,
            "flex_flow": null,
            "width": null,
            "min_width": null,
            "border": null,
            "align_items": null,
            "bottom": null,
            "_model_module": "@jupyter-widgets/base",
            "top": null,
            "grid_column": null,
            "overflow_y": null,
            "overflow_x": null,
            "grid_auto_flow": null,
            "grid_area": null,
            "grid_template_columns": null,
            "flex": null,
            "_model_name": "LayoutModel",
            "justify_items": null,
            "grid_row": null,
            "max_height": null,
            "align_content": null,
            "visibility": null,
            "align_self": null,
            "height": null,
            "min_height": null,
            "padding": null,
            "grid_auto_rows": null,
            "grid_gap": null,
            "max_width": null,
            "order": null,
            "_view_module_version": "1.2.0",
            "grid_template_areas": null,
            "object_position": null,
            "object_fit": null,
            "grid_auto_columns": null,
            "margin": null,
            "display": null,
            "left": null
          }
        },
        "9e0f631c2b9043a78e489e224eff22ef": {
          "model_module": "@jupyter-widgets/controls",
          "model_name": "DescriptionStyleModel",
          "model_module_version": "1.5.0",
          "state": {
            "_view_name": "StyleView",
            "_model_name": "DescriptionStyleModel",
            "description_width": "",
            "_view_module": "@jupyter-widgets/base",
            "_model_module_version": "1.5.0",
            "_view_count": null,
            "_view_module_version": "1.2.0",
            "_model_module": "@jupyter-widgets/controls"
          }
        },
        "e4b21052d1a54fc89e719df002d99f52": {
          "model_module": "@jupyter-widgets/base",
          "model_name": "LayoutModel",
          "model_module_version": "1.2.0",
          "state": {
            "_view_name": "LayoutView",
            "grid_template_rows": null,
            "right": null,
            "justify_content": null,
            "_view_module": "@jupyter-widgets/base",
            "overflow": null,
            "_model_module_version": "1.2.0",
            "_view_count": null,
            "flex_flow": null,
            "width": null,
            "min_width": null,
            "border": null,
            "align_items": null,
            "bottom": null,
            "_model_module": "@jupyter-widgets/base",
            "top": null,
            "grid_column": null,
            "overflow_y": null,
            "overflow_x": null,
            "grid_auto_flow": null,
            "grid_area": null,
            "grid_template_columns": null,
            "flex": null,
            "_model_name": "LayoutModel",
            "justify_items": null,
            "grid_row": null,
            "max_height": null,
            "align_content": null,
            "visibility": null,
            "align_self": null,
            "height": null,
            "min_height": null,
            "padding": null,
            "grid_auto_rows": null,
            "grid_gap": null,
            "max_width": null,
            "order": null,
            "_view_module_version": "1.2.0",
            "grid_template_areas": null,
            "object_position": null,
            "object_fit": null,
            "grid_auto_columns": null,
            "margin": null,
            "display": null,
            "left": null
          }
        }
      }
    }
  },
  "cells": [
    {
      "cell_type": "markdown",
      "metadata": {
        "id": "T7j9ULM_12Rf"
      },
      "source": [
        "## 1. 텐서(Tensor)"
      ]
    },
    {
      "cell_type": "code",
      "metadata": {
        "id": "WYwL4McXCV7z"
      },
      "source": [
        "import torch\n",
        "import numpy as np"
      ],
      "execution_count": null,
      "outputs": []
    },
    {
      "cell_type": "code",
      "metadata": {
        "colab": {
          "base_uri": "https://localhost:8080/"
        },
        "id": "-as9839IDJs7",
        "outputId": "6e8c6c05-5ef3-4b5c-cccb-d6670a3fcb3f"
      },
      "source": [
        "data = [[1, 2], [3, 4]]\n",
        "x_data = torch.tensor(data)\n",
        "x_data"
      ],
      "execution_count": null,
      "outputs": [
        {
          "output_type": "execute_result",
          "data": {
            "text/plain": [
              "tensor([[1, 2],\n",
              "        [3, 4]])"
            ]
          },
          "metadata": {},
          "execution_count": 2
        }
      ]
    },
    {
      "cell_type": "code",
      "metadata": {
        "colab": {
          "base_uri": "https://localhost:8080/"
        },
        "id": "C5wCYBY1DSB3",
        "outputId": "baa85e08-9993-43ba-955d-7606d58a6770"
      },
      "source": [
        "np_array = np.array(data)\n",
        "x_np = torch.from_numpy(np_array)\n",
        "x_np\n"
      ],
      "execution_count": null,
      "outputs": [
        {
          "output_type": "execute_result",
          "data": {
            "text/plain": [
              "tensor([[1, 2],\n",
              "        [3, 4]])"
            ]
          },
          "metadata": {},
          "execution_count": 3
        }
      ]
    },
    {
      "cell_type": "code",
      "metadata": {
        "colab": {
          "base_uri": "https://localhost:8080/"
        },
        "id": "E8ZgieIBDXED",
        "outputId": "946dfcdf-6d26-46b2-858c-2bca171378a7"
      },
      "source": [
        "x_np.numpy()"
      ],
      "execution_count": null,
      "outputs": [
        {
          "output_type": "execute_result",
          "data": {
            "text/plain": [
              "array([[1, 2],\n",
              "       [3, 4]])"
            ]
          },
          "metadata": {},
          "execution_count": 4
        }
      ]
    },
    {
      "cell_type": "code",
      "metadata": {
        "colab": {
          "base_uri": "https://localhost:8080/"
        },
        "id": "6-3KpfpGD8dL",
        "outputId": "2c59edf4-f773-4357-e389-eb18b2fdca22"
      },
      "source": [
        "x_ones = torch.ones_like(x_data)\n",
        "x_ones"
      ],
      "execution_count": null,
      "outputs": [
        {
          "output_type": "execute_result",
          "data": {
            "text/plain": [
              "tensor([[1, 1],\n",
              "        [1, 1]])"
            ]
          },
          "metadata": {},
          "execution_count": 5
        }
      ]
    },
    {
      "cell_type": "code",
      "metadata": {
        "colab": {
          "base_uri": "https://localhost:8080/"
        },
        "id": "bgQ73ZXZEDch",
        "outputId": "17b2fbe9-cecf-4177-8491-7bff961c9dff"
      },
      "source": [
        "x_rand = torch.rand_like(x_data, dtype=torch.float)\n",
        "x_rand"
      ],
      "execution_count": null,
      "outputs": [
        {
          "output_type": "execute_result",
          "data": {
            "text/plain": [
              "tensor([[0.9036, 0.3912],\n",
              "        [0.4572, 0.6932]])"
            ]
          },
          "metadata": {},
          "execution_count": 6
        }
      ]
    },
    {
      "cell_type": "code",
      "metadata": {
        "colab": {
          "base_uri": "https://localhost:8080/"
        },
        "id": "0Zh32NajEILV",
        "outputId": "0c865813-0d07-461e-a36b-87807ff8ec42"
      },
      "source": [
        "shape=(2, 3,)\n",
        "rand_tensor = torch.rand(shape)\n",
        "ones_tensor = torch.ones(shape)\n",
        "zeros_tensor = torch.zeros(shape)\n",
        "print(rand_tensor)\n",
        "print(ones_tensor)\n",
        "print(zeros_tensor)"
      ],
      "execution_count": null,
      "outputs": [
        {
          "output_type": "stream",
          "name": "stdout",
          "text": [
            "tensor([[0.8183, 0.6590, 0.6735],\n",
            "        [0.9055, 0.3990, 0.0937]])\n",
            "tensor([[1., 1., 1.],\n",
            "        [1., 1., 1.]])\n",
            "tensor([[0., 0., 0.],\n",
            "        [0., 0., 0.]])\n"
          ]
        }
      ]
    },
    {
      "cell_type": "code",
      "metadata": {
        "colab": {
          "base_uri": "https://localhost:8080/"
        },
        "id": "qFz0CjuoEI5a",
        "outputId": "b7693796-315d-46f5-ad54-6816af64e719"
      },
      "source": [
        "tensor = torch.rand(3, 4)\n",
        "print(tensor.shape)\n",
        "print(tensor.dtype)\n",
        "print(tensor.device)"
      ],
      "execution_count": null,
      "outputs": [
        {
          "output_type": "stream",
          "name": "stdout",
          "text": [
            "torch.Size([3, 4])\n",
            "torch.float32\n",
            "cpu\n"
          ]
        }
      ]
    },
    {
      "cell_type": "code",
      "metadata": {
        "id": "b6PUxhrtEI72"
      },
      "source": [
        "if torch.cuda.is_available():\n",
        "  tensor = tensor.to('cuda')\n",
        "  print(tensor.device)"
      ],
      "execution_count": null,
      "outputs": []
    },
    {
      "cell_type": "code",
      "metadata": {
        "colab": {
          "base_uri": "https://localhost:8080/"
        },
        "id": "F-bGxWBWEI9_",
        "outputId": "9f117e95-2e45-45f8-8922-9cd27be0d044"
      },
      "source": [
        "tensor = torch.randn(4, 4)\n",
        "print(tensor)\n",
        "print(tensor[0])\n",
        "print(tensor[:, 0])\n",
        "print(tensor[..., -1])\n",
        "tensor[:, 1]=0\n",
        "print(tensor)"
      ],
      "execution_count": null,
      "outputs": [
        {
          "output_type": "stream",
          "name": "stdout",
          "text": [
            "tensor([[-0.3486,  0.2440, -0.6740,  1.1812],\n",
            "        [ 1.4979,  0.1211,  0.7679,  0.5843],\n",
            "        [ 1.6846,  0.5967, -0.0236,  0.4353],\n",
            "        [-0.0165,  0.9893,  1.7753, -1.2649]])\n",
            "tensor([-0.3486,  0.2440, -0.6740,  1.1812])\n",
            "tensor([-0.3486,  1.4979,  1.6846, -0.0165])\n",
            "tensor([ 1.1812,  0.5843,  0.4353, -1.2649])\n",
            "tensor([[-0.3486,  0.0000, -0.6740,  1.1812],\n",
            "        [ 1.4979,  0.0000,  0.7679,  0.5843],\n",
            "        [ 1.6846,  0.0000, -0.0236,  0.4353],\n",
            "        [-0.0165,  0.0000,  1.7753, -1.2649]])\n"
          ]
        }
      ]
    },
    {
      "cell_type": "code",
      "metadata": {
        "colab": {
          "base_uri": "https://localhost:8080/"
        },
        "id": "4gkghsIpEJAk",
        "outputId": "06730ace-9fe9-4f87-db44-23f31a7cd2e9"
      },
      "source": [
        "t1 = torch.cat([tensor, tensor, tensor], dim=1)\n",
        "print(t1)"
      ],
      "execution_count": null,
      "outputs": [
        {
          "output_type": "stream",
          "name": "stdout",
          "text": [
            "tensor([[-0.3486,  0.0000, -0.6740,  1.1812, -0.3486,  0.0000, -0.6740,  1.1812,\n",
            "         -0.3486,  0.0000, -0.6740,  1.1812],\n",
            "        [ 1.4979,  0.0000,  0.7679,  0.5843,  1.4979,  0.0000,  0.7679,  0.5843,\n",
            "          1.4979,  0.0000,  0.7679,  0.5843],\n",
            "        [ 1.6846,  0.0000, -0.0236,  0.4353,  1.6846,  0.0000, -0.0236,  0.4353,\n",
            "          1.6846,  0.0000, -0.0236,  0.4353],\n",
            "        [-0.0165,  0.0000,  1.7753, -1.2649, -0.0165,  0.0000,  1.7753, -1.2649,\n",
            "         -0.0165,  0.0000,  1.7753, -1.2649]])\n"
          ]
        }
      ]
    },
    {
      "cell_type": "code",
      "metadata": {
        "id": "Xox3WxbAEJCm"
      },
      "source": [
        "y1 = tensor@tensor.T\n",
        "y2 = tensor.matmul(tensor.T)\n"
      ],
      "execution_count": null,
      "outputs": []
    },
    {
      "cell_type": "code",
      "metadata": {
        "colab": {
          "base_uri": "https://localhost:8080/"
        },
        "id": "1VtJuYgfEJEm",
        "outputId": "888926fb-ef5a-49c7-aece-150b0feaa093"
      },
      "source": [
        "y1"
      ],
      "execution_count": null,
      "outputs": [
        {
          "output_type": "execute_result",
          "data": {
            "text/plain": [
              "tensor([[ 1.9711, -0.3494, -0.0571, -2.6850],\n",
              "        [-0.3494,  3.1748,  2.7596,  0.5995],\n",
              "        [-0.0571,  2.7596,  3.0280, -0.6202],\n",
              "        [-2.6850,  0.5995, -0.6202,  4.7521]])"
            ]
          },
          "metadata": {},
          "execution_count": 17
        }
      ]
    },
    {
      "cell_type": "code",
      "metadata": {
        "colab": {
          "base_uri": "https://localhost:8080/"
        },
        "id": "Y6OGd7kLEJG3",
        "outputId": "aabb7c86-8773-49a9-b897-82ed81187381"
      },
      "source": [
        "y2"
      ],
      "execution_count": null,
      "outputs": [
        {
          "output_type": "execute_result",
          "data": {
            "text/plain": [
              "tensor([[ 1.9711, -0.3494, -0.0571, -2.6850],\n",
              "        [-0.3494,  3.1748,  2.7596,  0.5995],\n",
              "        [-0.0571,  2.7596,  3.0280, -0.6202],\n",
              "        [-2.6850,  0.5995, -0.6202,  4.7521]])"
            ]
          },
          "metadata": {},
          "execution_count": 18
        }
      ]
    },
    {
      "cell_type": "code",
      "metadata": {
        "id": "JR9abLgnEJJN"
      },
      "source": [
        "y3 = tensor.mm(tensor.T)"
      ],
      "execution_count": null,
      "outputs": []
    },
    {
      "cell_type": "code",
      "metadata": {
        "colab": {
          "base_uri": "https://localhost:8080/"
        },
        "id": "D1xzj4hLFp30",
        "outputId": "4362f719-470e-4b22-ea25-0c48966fcf6e"
      },
      "source": [
        "y3"
      ],
      "execution_count": null,
      "outputs": [
        {
          "output_type": "execute_result",
          "data": {
            "text/plain": [
              "tensor([[ 1.9711, -0.3494, -0.0571, -2.6850],\n",
              "        [-0.3494,  3.1748,  2.7596,  0.5995],\n",
              "        [-0.0571,  2.7596,  3.0280, -0.6202],\n",
              "        [-2.6850,  0.5995, -0.6202,  4.7521]])"
            ]
          },
          "metadata": {},
          "execution_count": 20
        }
      ]
    },
    {
      "cell_type": "code",
      "metadata": {
        "colab": {
          "base_uri": "https://localhost:8080/"
        },
        "id": "SbhnGUTSFqk0",
        "outputId": "45fed7de-a0b8-492e-89ab-bc250b8b7df5"
      },
      "source": [
        "y3 = torch.rand_like(tensor)\n",
        "torch.matmul(tensor, tensor.T, out=y3)\n",
        "y3"
      ],
      "execution_count": null,
      "outputs": [
        {
          "output_type": "execute_result",
          "data": {
            "text/plain": [
              "tensor([[ 1.9711, -0.3494, -0.0571, -2.6850],\n",
              "        [-0.3494,  3.1748,  2.7596,  0.5995],\n",
              "        [-0.0571,  2.7596,  3.0280, -0.6202],\n",
              "        [-2.6850,  0.5995, -0.6202,  4.7521]])"
            ]
          },
          "metadata": {},
          "execution_count": 22
        }
      ]
    },
    {
      "cell_type": "code",
      "metadata": {
        "id": "Sgy6CykOFyiW"
      },
      "source": [
        "z1 = tensor*tensor"
      ],
      "execution_count": null,
      "outputs": []
    },
    {
      "cell_type": "code",
      "metadata": {
        "colab": {
          "base_uri": "https://localhost:8080/"
        },
        "id": "KVor5aQxF18p",
        "outputId": "d3c7cc80-79d2-4d1e-8ad2-39a621171d4f"
      },
      "source": [
        "z1"
      ],
      "execution_count": null,
      "outputs": [
        {
          "output_type": "execute_result",
          "data": {
            "text/plain": [
              "tensor([[1.2149e-01, 0.0000e+00, 4.5426e-01, 1.3953e+00],\n",
              "        [2.2437e+00, 0.0000e+00, 5.8970e-01, 3.4144e-01],\n",
              "        [2.8379e+00, 0.0000e+00, 5.5633e-04, 1.8948e-01],\n",
              "        [2.7153e-04, 0.0000e+00, 3.1518e+00, 1.6000e+00]])"
            ]
          },
          "metadata": {},
          "execution_count": 24
        }
      ]
    },
    {
      "cell_type": "code",
      "metadata": {
        "colab": {
          "base_uri": "https://localhost:8080/"
        },
        "id": "MfmSX4TDF3JE",
        "outputId": "e2b0628a-dba4-4d31-9ea3-6ca8891ec3ec"
      },
      "source": [
        "z2 = tensor.mul(tensor)\n",
        "z2"
      ],
      "execution_count": null,
      "outputs": [
        {
          "output_type": "execute_result",
          "data": {
            "text/plain": [
              "tensor([[1.2149e-01, 0.0000e+00, 4.5426e-01, 1.3953e+00],\n",
              "        [2.2437e+00, 0.0000e+00, 5.8970e-01, 3.4144e-01],\n",
              "        [2.8379e+00, 0.0000e+00, 5.5633e-04, 1.8948e-01],\n",
              "        [2.7153e-04, 0.0000e+00, 3.1518e+00, 1.6000e+00]])"
            ]
          },
          "metadata": {},
          "execution_count": 25
        }
      ]
    },
    {
      "cell_type": "code",
      "metadata": {
        "colab": {
          "base_uri": "https://localhost:8080/"
        },
        "id": "-Gi-w4apF5fN",
        "outputId": "34f7247c-fed3-4ce0-8711-874f231707ce"
      },
      "source": [
        "z3 = torch.rand_like(tensor)\n",
        "torch.mul(tensor, tensor, out=z3)\n",
        "z3"
      ],
      "execution_count": null,
      "outputs": [
        {
          "output_type": "execute_result",
          "data": {
            "text/plain": [
              "tensor([[1.2149e-01, 0.0000e+00, 4.5426e-01, 1.3953e+00],\n",
              "        [2.2437e+00, 0.0000e+00, 5.8970e-01, 3.4144e-01],\n",
              "        [2.8379e+00, 0.0000e+00, 5.5633e-04, 1.8948e-01],\n",
              "        [2.7153e-04, 0.0000e+00, 3.1518e+00, 1.6000e+00]])"
            ]
          },
          "metadata": {},
          "execution_count": 26
        }
      ]
    },
    {
      "cell_type": "code",
      "metadata": {
        "colab": {
          "base_uri": "https://localhost:8080/"
        },
        "id": "sWlQbO6bGA_W",
        "outputId": "4c83e6c1-ca62-4dee-d4bf-7c5f80d321e6"
      },
      "source": [
        "agg = tensor.sum()\n",
        "agg_item = agg.item()\n",
        "print(agg_item)\n",
        "print(type(agg_item))"
      ],
      "execution_count": null,
      "outputs": [
        {
          "output_type": "stream",
          "name": "stdout",
          "text": [
            "5.599092483520508\n",
            "<class 'float'>\n"
          ]
        }
      ]
    },
    {
      "cell_type": "code",
      "metadata": {
        "colab": {
          "base_uri": "https://localhost:8080/"
        },
        "id": "wzBUwVg1GJV4",
        "outputId": "61900ee9-9dc4-4f80-fdb9-f7747299e09e"
      },
      "source": [
        "t = torch.ones(5)\n",
        "print(t)\n",
        "n = t.numpy()\n",
        "print(n)"
      ],
      "execution_count": null,
      "outputs": [
        {
          "output_type": "stream",
          "name": "stdout",
          "text": [
            "tensor([1., 1., 1., 1., 1.])\n",
            "[1. 1. 1. 1. 1.]\n"
          ]
        }
      ]
    },
    {
      "cell_type": "code",
      "metadata": {
        "colab": {
          "base_uri": "https://localhost:8080/"
        },
        "id": "cNk5SRYpI3iU",
        "outputId": "0ae486f8-0894-4196-9f48-63f42fa49258"
      },
      "source": [
        "t.add_(1)\n",
        "print(t)\n",
        "print(n)\n"
      ],
      "execution_count": null,
      "outputs": [
        {
          "output_type": "stream",
          "name": "stdout",
          "text": [
            "tensor([2., 2., 2., 2., 2.])\n",
            "[2. 2. 2. 2. 2.]\n"
          ]
        }
      ]
    },
    {
      "cell_type": "code",
      "metadata": {
        "colab": {
          "base_uri": "https://localhost:8080/"
        },
        "id": "zvfiliqpI99G",
        "outputId": "5aca4c9c-c830-4ea6-c220-2def2a717d33"
      },
      "source": [
        "n = np.ones(5)\n",
        "t = torch.from_numpy(n)\n",
        "t"
      ],
      "execution_count": null,
      "outputs": [
        {
          "output_type": "execute_result",
          "data": {
            "text/plain": [
              "tensor([1., 1., 1., 1., 1.], dtype=torch.float64)"
            ]
          },
          "metadata": {},
          "execution_count": 32
        }
      ]
    },
    {
      "cell_type": "code",
      "metadata": {
        "colab": {
          "base_uri": "https://localhost:8080/"
        },
        "id": "oBJUi8fNJDL9",
        "outputId": "c55785e2-4b7c-44d0-feca-236f5779c773"
      },
      "source": [
        "np.add(n, 1, out=n)\n",
        "print(t)\n",
        "print(n)"
      ],
      "execution_count": null,
      "outputs": [
        {
          "output_type": "stream",
          "name": "stdout",
          "text": [
            "tensor([2., 2., 2., 2., 2.], dtype=torch.float64)\n",
            "[2. 2. 2. 2. 2.]\n"
          ]
        }
      ]
    },
    {
      "cell_type": "markdown",
      "metadata": {
        "id": "JhIZF5-V2CHb"
      },
      "source": [
        "실습"
      ]
    },
    {
      "cell_type": "code",
      "metadata": {
        "colab": {
          "base_uri": "https://localhost:8080/"
        },
        "id": "8zpbz_kPJJjS",
        "outputId": "724a4e68-1c26-4456-9211-be14e85764cd"
      },
      "source": [
        "import numpy as np\n",
        "import math\n",
        "\n",
        "x = np.linspace(-math.pi, math.pi, 2000)\n",
        "y = np.sin(x)\n",
        "\n",
        "a = np.random.randn()\n",
        "b = np.random.randn()\n",
        "c = np.random.randn()\n",
        "d = np.random.randn()\n",
        "\n",
        "print('--init--')\n",
        "print(f'x({len(x)}) : {x}')\n",
        "print(f'y({len(y)}) : {y}')\n",
        "print('가중치 초기값: ')\n",
        "print(f'a: {a}')\n",
        "print(f'b: {b}')\n",
        "print(f'c: {c}')\n",
        "print(f'd: {d}')\n",
        "print('--------')\n",
        "\n",
        "learning_rate = 1e-6\n",
        "for t in range(2000):\n",
        "  y_pred = a + b*x + c*(x**2) + d*(x**3)\n",
        "\n",
        "  loss = np.square(y_pred-y).sum()\n",
        "  if t % 100 == 99:\n",
        "    print(f'[t = {t+1:4d}] loss : {loss:.3f}')\n",
        "\n",
        "  grad_y_pred = 2.0*(y_pred-y)\n",
        "  grad_a = grad_y_pred.sum()\n",
        "  grad_b = (grad_y_pred * x).sum()\n",
        "  grad_c = (grad_y_pred * x **2).sum()\n",
        "  grad_d = (grad_y_pred * x **3).sum()\n",
        "\n",
        "  a -= learning_rate * grad_a\n",
        "  b -= learning_rate * grad_b\n",
        "  c -= learning_rate * grad_c\n",
        "  d -= learning_rate * grad_y_pred\n",
        "\n",
        "print('---')\n",
        "print(f'Result: y = {a} + {b}x + {c}x^2 + {d}x^3')\n"
      ],
      "execution_count": null,
      "outputs": [
        {
          "output_type": "stream",
          "name": "stdout",
          "text": [
            "--init--\n",
            "x(2000) : [-3.14159265 -3.13844949 -3.13530633 ...  3.13530633  3.13844949\n",
            "  3.14159265]\n",
            "y(2000) : [-1.22464680e-16 -3.14315906e-03 -6.28628707e-03 ...  6.28628707e-03\n",
            "  3.14315906e-03  1.22464680e-16]\n",
            "가중치 초기값: \n",
            "a: -0.7857271811099319\n",
            "b: -0.31517364488280775\n",
            "c: 0.14049140334536028\n",
            "d: -0.4755165687058792\n",
            "--------\n",
            "[t =  100] loss : 12486.438\n",
            "[t =  200] loss : 7140.121\n",
            "[t =  300] loss : 6693.665\n",
            "[t =  400] loss : 6613.368\n",
            "[t =  500] loss : 6573.573\n",
            "[t =  600] loss : 6547.073\n",
            "[t =  700] loss : 6528.946\n",
            "[t =  800] loss : 6516.720\n",
            "[t =  900] loss : 6508.717\n",
            "[t = 1000] loss : 6503.755\n",
            "[t = 1100] loss : 6500.997\n",
            "[t = 1200] loss : 6499.850\n",
            "[t = 1300] loss : 6499.898\n",
            "[t = 1400] loss : 6500.842\n",
            "[t = 1500] loss : 6502.475\n",
            "[t = 1600] loss : 6504.646\n",
            "[t = 1700] loss : 6507.253\n",
            "[t = 1800] loss : 6510.220\n",
            "[t = 1900] loss : 6513.495\n",
            "[t = 2000] loss : 6517.042\n",
            "---\n",
            "Result: y = 0.025984127747057512 + 3.123861426918176x + -0.026933677456062694x^2 + [-0.49845603 -0.49831445 -0.4981733  ... -0.45575852 -0.45564508\n",
            " -0.45553134]x^3\n"
          ]
        }
      ]
    },
    {
      "cell_type": "code",
      "metadata": {
        "colab": {
          "base_uri": "https://localhost:8080/",
          "height": 265
        },
        "id": "gvGxw7NHJmP_",
        "outputId": "e110d842-197f-4c46-ff3a-5d5fe3b35def"
      },
      "source": [
        "import matplotlib.pyplot as plt\n",
        "\n",
        "def show(x, y, y_pred):\n",
        "    fig = plt.figure(figsize=(10, 4))\n",
        "\n",
        "    plt.plot(x, y, color='red', label=\"real\")\n",
        "    plt.plot(x, y_pred, color='blue', label=\"prediction\")\n",
        "    plt.legend()\n",
        "    plt.grid(True)\n",
        "    plt.show()\n",
        "\n",
        "show(x, y, a + b * x + c * x ** 2 + d * x ** 3)"
      ],
      "execution_count": null,
      "outputs": [
        {
          "output_type": "display_data",
          "data": {
            "image/png": "[encoded data removed]",
            "text/plain": [
              "<Figure size 720x288 with 1 Axes>"
            ]
          },
          "metadata": {
            "needs_background": "light"
          }
        }
      ]
    },
    {
      "cell_type": "markdown",
      "metadata": {
        "id": "k9422ii1MF5f"
      },
      "source": [
        "Q: grad_y_pred에 2를 곱하는이유 : 몰랐는데 L2계산식에서 미분되면서 지수였던 2가 앞으로 나온 것이라고 한다. loss를 구할 때 square로 구하는게 L2 방식이라고 볼 수 있다.<br>\n",
        "Q: 각 가중치의 gradient를 구하는 식이 유도된 방식 : 해당 단계 계산식의 loss값을 모두 더하는 방식<br>\n",
        "Q: numpy.linspace: 지정범위를 지정숫자만큼 균일하게 나눠줌<br>\n",
        "Q: numpy.sin : sin함수<br>\n",
        "Q: numpy.square : 제곱<br>"
      ]
    },
    {
      "cell_type": "code",
      "metadata": {
        "colab": {
          "base_uri": "https://localhost:8080/",
          "height": 817
        },
        "id": "ACRmfDHeN8Qm",
        "outputId": "c31bab7b-4eb5-44d9-d353-f6ddeb37e1fe"
      },
      "source": [
        "import torch\n",
        "import math\n",
        "\n",
        " \n",
        "dtype = torch.float\n",
        "device = torch.device('cpu')\n",
        "\n",
        "x = torch.linspace(-math.pi, math.pi, 2000, device=device, dtype=dtype)\n",
        "y = torch.sin(x)\n",
        "\n",
        "a = torch.randn((), device=device, dtype=dtype)\n",
        "b = torch.randn((), device=device, dtype=dtype)\n",
        "c = torch.randn((), device=device, dtype=dtype)\n",
        "d = torch.randn((), device=device, dtype=dtype)\n",
        "\n",
        "print(f'------------------ init ------------------')\n",
        "print(f'x({len(x)}, {x.__class__}) : {x}')\n",
        "print(f'y({len(y)}, {y.__class__}) : {y}')\n",
        "print(f'가중치 초기값 : ')\n",
        "print(f'  a({a.__class__}) : {a}')\n",
        "print(f'  b({b.__class__}) : {b}')\n",
        "print(f'  c({c.__class__}) : {c}')\n",
        "print(f'  d({d.__class__}) : {d}')\n",
        "print(f'------------------------------------------')\n",
        "\n",
        "\n",
        "learning_rate = 1e-6\n",
        "for t in range(2000):\n",
        "    # 순전파 단계: 예측값 y를 계산합니다\n",
        "    y_pred = a + b * x + c * x ** 2 + d * x ** 3\n",
        "\n",
        "    # 손실(loss)을 계산하고 출력합니다\n",
        "    loss = (y_pred - y).pow(2).sum().item()\n",
        "    if t % 100 == 99:\n",
        "        print(f'[t = {t+1:4d}] loss : {loss:.3f}')\n",
        "\n",
        "    # 손실에 따른 a, b, c, d의 변화도(gradient)를 계산하고 역전파합니다.\n",
        "    grad_y_pred = 2.0 * (y_pred - y)\n",
        "    grad_a = grad_y_pred.sum()\n",
        "    grad_b = (grad_y_pred * x).sum()\n",
        "    grad_c = (grad_y_pred * x ** 2).sum()\n",
        "    grad_d = (grad_y_pred * x ** 3).sum()\n",
        "\n",
        "    # 가중치를 갱신합니다.\n",
        "    a -= learning_rate * grad_a\n",
        "    b -= learning_rate * grad_b\n",
        "    c -= learning_rate * grad_c\n",
        "    d -= learning_rate * grad_d\n",
        "\n",
        "print(f'------------------------------------------')\n",
        "print(f'Result: y = {a.item()} + {b.item()} x + {c.item()} x^2 + {d.item()} x^3')\n",
        "\n",
        "show(x, y, a + b * x + c * x ** 2 + d * x ** 3)"
      ],
      "execution_count": null,
      "outputs": [
        {
          "output_type": "stream",
          "name": "stdout",
          "text": [
            "------------------ init ------------------\n",
            "x(2000, <class 'torch.Tensor'>) : tensor([-3.1416, -3.1384, -3.1353,  ...,  3.1353,  3.1384,  3.1416])\n",
            "y(2000, <class 'torch.Tensor'>) : tensor([ 8.7423e-08, -3.1430e-03, -6.2863e-03,  ...,  6.2863e-03,\n",
            "         3.1432e-03, -8.7423e-08])\n",
            "가중치 초기값 : \n",
            "  a(<class 'torch.Tensor'>) : -2.470579147338867\n",
            "  b(<class 'torch.Tensor'>) : -0.7415614724159241\n",
            "  c(<class 'torch.Tensor'>) : -1.505057692527771\n",
            "  d(<class 'torch.Tensor'>) : 0.8176876902580261\n",
            "------------------------------------------\n",
            "[t =  100] loss : 4927.575\n",
            "[t =  200] loss : 3396.453\n",
            "[t =  300] loss : 2344.504\n",
            "[t =  400] loss : 1620.950\n",
            "[t =  500] loss : 1122.721\n",
            "[t =  600] loss : 779.268\n",
            "[t =  700] loss : 542.255\n",
            "[t =  800] loss : 378.520\n",
            "[t =  900] loss : 265.291\n",
            "[t = 1000] loss : 186.907\n",
            "[t = 1100] loss : 132.592\n",
            "[t = 1200] loss : 94.918\n",
            "[t = 1300] loss : 68.763\n",
            "[t = 1400] loss : 50.587\n",
            "[t = 1500] loss : 37.945\n",
            "[t = 1600] loss : 29.145\n",
            "[t = 1700] loss : 23.014\n",
            "[t = 1800] loss : 18.739\n",
            "[t = 1900] loss : 15.756\n",
            "[t = 2000] loss : 13.673\n",
            "------------------------------------------\n",
            "Result: y = -0.06761662662029266 + 0.8296719789505005 x + 0.01166499126702547 x^2 + -0.08948007971048355 x^3\n"
          ]
        },
        {
          "output_type": "display_data",
          "data": {
            "image/png": "[encoded data removed]",
            "text/plain": [
              "<Figure size 720x288 with 1 Axes>"
            ]
          },
          "metadata": {
            "needs_background": "light"
          }
        }
      ]
    },
    {
      "cell_type": "markdown",
      "metadata": {
        "id": "CD4_G_iKRHdy"
      },
      "source": [
        "Q: tensor가 numpy에 비해 가지는 장점 : 빠르다, 그 외에는 아직 잘모르겠다."
      ]
    },
    {
      "cell_type": "markdown",
      "metadata": {
        "id": "rYc4_I5EGl4a"
      },
      "source": [
        "## 2. Autograd"
      ]
    },
    {
      "cell_type": "code",
      "metadata": {
        "id": "dPIv_rNtN8l1"
      },
      "source": [
        "import torch\n",
        "import torch.nn.functional\n",
        "\n",
        "x = torch.ones(5)  # input tensor\n",
        "y = torch.zeros(3)  # expected output\n",
        "w = torch.randn(5, 3, requires_grad=True)\n",
        "b = torch.randn(3, requires_grad=True)\n",
        "z = torch.matmul(x, w)+b\n",
        "loss = torch.nn.functional.binary_cross_entropy_with_logits(z, y)"
      ],
      "execution_count": null,
      "outputs": []
    },
    {
      "cell_type": "code",
      "metadata": {
        "colab": {
          "base_uri": "https://localhost:8080/"
        },
        "id": "HZ_7dqIAN8oB",
        "outputId": "c9e53f00-040c-4bd8-999f-7d4ffba9415c"
      },
      "source": [
        "print('Gradient function for z = ', z.grad_fn)\n",
        "print('Gradient function for loss = ', loss.grad_fn)"
      ],
      "execution_count": null,
      "outputs": [
        {
          "output_type": "stream",
          "name": "stdout",
          "text": [
            "Gradient function for z =  <AddBackward0 object at 0x7f4ee5b36550>\n",
            "Gradient function for loss =  <BinaryCrossEntropyWithLogitsBackward object at 0x7f4ee5b36690>\n"
          ]
        }
      ]
    },
    {
      "cell_type": "code",
      "metadata": {
        "colab": {
          "base_uri": "https://localhost:8080/"
        },
        "id": "5qNHLdlfN8qM",
        "outputId": "4aebd6df-693c-4eb6-fd08-01fbb63643be"
      },
      "source": [
        "loss.backward(retain_graph=True)\n",
        "print(w.grad)\n",
        "print(b.grad)"
      ],
      "execution_count": null,
      "outputs": [
        {
          "output_type": "stream",
          "name": "stdout",
          "text": [
            "tensor([[0.0727, 0.2213, 0.3137],\n",
            "        [0.0727, 0.2213, 0.3137],\n",
            "        [0.0727, 0.2213, 0.3137],\n",
            "        [0.0727, 0.2213, 0.3137],\n",
            "        [0.0727, 0.2213, 0.3137]])\n",
            "tensor([0.0727, 0.2213, 0.3137])\n"
          ]
        }
      ]
    },
    {
      "cell_type": "code",
      "metadata": {
        "colab": {
          "base_uri": "https://localhost:8080/"
        },
        "id": "bX9Hs9brLB46",
        "outputId": "490385fb-2fc6-4890-a667-4441a1a46373"
      },
      "source": [
        "loss.backward(retain_graph=True)\n",
        "print(w.grad)\n",
        "print(b.grad)"
      ],
      "execution_count": null,
      "outputs": [
        {
          "output_type": "stream",
          "name": "stdout",
          "text": [
            "tensor([[0.1453, 0.4426, 0.6274],\n",
            "        [0.1453, 0.4426, 0.6274],\n",
            "        [0.1453, 0.4426, 0.6274],\n",
            "        [0.1453, 0.4426, 0.6274],\n",
            "        [0.1453, 0.4426, 0.6274]])\n",
            "tensor([0.1453, 0.4426, 0.6274])\n"
          ]
        }
      ]
    },
    {
      "cell_type": "code",
      "metadata": {
        "colab": {
          "base_uri": "https://localhost:8080/"
        },
        "id": "rn2GucBqLU20",
        "outputId": "b468bd9a-64e7-4371-eb90-537ed4fa4002"
      },
      "source": [
        "loss.backward(retain_graph=True)\n",
        "print(w.grad)\n",
        "print(b.grad)"
      ],
      "execution_count": null,
      "outputs": [
        {
          "output_type": "stream",
          "name": "stdout",
          "text": [
            "tensor([[0.2180, 0.6639, 0.9411],\n",
            "        [0.2180, 0.6639, 0.9411],\n",
            "        [0.2180, 0.6639, 0.9411],\n",
            "        [0.2180, 0.6639, 0.9411],\n",
            "        [0.2180, 0.6639, 0.9411]])\n",
            "tensor([0.2180, 0.6639, 0.9411])\n"
          ]
        }
      ]
    },
    {
      "cell_type": "markdown",
      "metadata": {
        "id": "J24H6b_6LmoG"
      },
      "source": [
        "loss.backward() 가 호출이 될 때 마다 동일한 크기의 gradient 값이 추가적으로 더해진다."
      ]
    },
    {
      "cell_type": "code",
      "metadata": {
        "colab": {
          "base_uri": "https://localhost:8080/"
        },
        "id": "6d_aB8rGN8sZ",
        "outputId": "a56921cb-a9f8-4f71-d751-dad76e9a096c"
      },
      "source": [
        "z = torch.matmul(x, w)+b\n",
        "print(z.requires_grad)\n",
        "\n",
        "with torch.no_grad():\n",
        "  z = torch.matmul(x, w)+b\n",
        "  print(z.requires_grad)\n",
        "\n",
        "print(z.requires_grad)"
      ],
      "execution_count": null,
      "outputs": [
        {
          "output_type": "stream",
          "name": "stdout",
          "text": [
            "True\n",
            "False\n",
            "False\n"
          ]
        }
      ]
    },
    {
      "cell_type": "code",
      "metadata": {
        "colab": {
          "base_uri": "https://localhost:8080/"
        },
        "id": "h2lJ6wYdN8uk",
        "outputId": "56e3f007-241e-4b8f-ea7f-676da5033152"
      },
      "source": [
        "inp = torch.eye(5, requires_grad=True)\n",
        "print(inp)\n",
        "out = (inp+1).pow(2)\n",
        "print(out)\n",
        "out.backward(torch.ones_like(inp), retain_graph=True)\n",
        "print('first call:\\n', inp.grad)\n",
        "out.backward(torch.ones_like(inp), retain_graph=True)\n",
        "print('second call:\\n', inp.grad)\n",
        "out.backward(torch.ones_like(inp), retain_graph=True)\n",
        "print('third call:\\n', inp.grad)\n",
        "inp.grad.zero_() # gradient 초기화\n",
        "out.backward(torch.ones_like(inp), retain_graph=True)\n",
        "print('call after zero gradient:\\n', inp.grad)"
      ],
      "execution_count": null,
      "outputs": [
        {
          "output_type": "stream",
          "name": "stdout",
          "text": [
            "tensor([[1., 0., 0., 0., 0.],\n",
            "        [0., 1., 0., 0., 0.],\n",
            "        [0., 0., 1., 0., 0.],\n",
            "        [0., 0., 0., 1., 0.],\n",
            "        [0., 0., 0., 0., 1.]], requires_grad=True)\n",
            "tensor([[4., 1., 1., 1., 1.],\n",
            "        [1., 4., 1., 1., 1.],\n",
            "        [1., 1., 4., 1., 1.],\n",
            "        [1., 1., 1., 4., 1.],\n",
            "        [1., 1., 1., 1., 4.]], grad_fn=<PowBackward0>)\n",
            "first call:\n",
            " tensor([[4., 2., 2., 2., 2.],\n",
            "        [2., 4., 2., 2., 2.],\n",
            "        [2., 2., 4., 2., 2.],\n",
            "        [2., 2., 2., 4., 2.],\n",
            "        [2., 2., 2., 2., 4.]])\n",
            "second call:\n",
            " tensor([[8., 4., 4., 4., 4.],\n",
            "        [4., 8., 4., 4., 4.],\n",
            "        [4., 4., 8., 4., 4.],\n",
            "        [4., 4., 4., 8., 4.],\n",
            "        [4., 4., 4., 4., 8.]])\n",
            "third call:\n",
            " tensor([[12.,  6.,  6.,  6.,  6.],\n",
            "        [ 6., 12.,  6.,  6.,  6.],\n",
            "        [ 6.,  6., 12.,  6.,  6.],\n",
            "        [ 6.,  6.,  6., 12.,  6.],\n",
            "        [ 6.,  6.,  6.,  6., 12.]])\n",
            "call after zero gradient:\n",
            " tensor([[4., 2., 2., 2., 2.],\n",
            "        [2., 4., 2., 2., 2.],\n",
            "        [2., 2., 4., 2., 2.],\n",
            "        [2., 2., 2., 4., 2.],\n",
            "        [2., 2., 2., 2., 4.]])\n"
          ]
        }
      ]
    },
    {
      "cell_type": "markdown",
      "metadata": {
        "id": "9-oPUpji6c7Y"
      },
      "source": [
        "처음에 잘 이해가 안됐는데 보다보니 알게 됐다.\n",
        "out = (inp+1)**2 를 방정식으로 쓰면 y=(x+1)^2로 쓸수있고 gradient를 구하기 위해서 미분하면 y' = 2(x+1) 이 되는데 여기서 x가 eye(5)행렬이니까 이를 대입하면 출력값의 두번째 tensor처럼 [[4,2,2,2,2], [2,4,2,2,2,],...]의 형태로 나오게 된다. 여기서 inp.grad 값을 초기화 하지않고 한번 더 동일한 연산을 진행하면 기존의 값에 한번더 계산된 값이 더해져서 inp.grad값이 [[8,4,4,4,4,], [4,8,4,4,4,],...]의 형태가 되고 한번 더 하면 한번 더 더해지는 식으로 계속 누적이 된다. 따라서 gard는 초기화가 꼭 필요하다."
      ]
    },
    {
      "cell_type": "code",
      "metadata": {
        "colab": {
          "base_uri": "https://localhost:8080/",
          "height": 1000
        },
        "id": "f-qG5nAxN8w_",
        "outputId": "375f3947-8036-44af-aa38-ecc66bd04234"
      },
      "source": [
        "import torch\n",
        "import math\n",
        "\n",
        "dtype = torch.float\n",
        "device = torch.device(\"cpu\")\n",
        "# device = torch.device(\"cuda:0\") # GPU에서 실행하려면 이 주석을 제거하세요\n",
        "\n",
        "# 입력값과 출력값을 갖는 텐서들을 생성합니다.\n",
        "# requires_grad=False가 기본값으로 설정되어 역전파 단계 중에 이 텐서들에 대한 변화도를\n",
        "# 계산할 필요가 없음을 나타냅니다.\n",
        "x = torch.linspace(-math.pi, math.pi, 2000, device=device, dtype=dtype)\n",
        "y = torch.sin(x)\n",
        "\n",
        "# 가중치를 갖는 임의의 텐서를 생성합니다. 3차 다항식이므로 4개의 가중치가 필요합니다:\n",
        "# y = a + b x + c x^2 + d x^3\n",
        "# requires_grad=True로 설정하여 역전파 단계 중에 이 텐서들에 대한 변화도를 계산할 필요가 \n",
        "# 있음을 나타냅니다.\n",
        "a = torch.randn((), device=device, dtype=dtype, requires_grad=True)\n",
        "b = torch.randn((), device=device, dtype=dtype, requires_grad=True)\n",
        "c = torch.randn((), device=device, dtype=dtype, requires_grad=True)\n",
        "d = torch.randn((), device=device, dtype=dtype, requires_grad=True)\n",
        "\n",
        "print(f'------------------ init ------------------')\n",
        "print(f'x({len(x)}) : {x}')\n",
        "print(f'y({len(y)}) : {y}')\n",
        "print(f'가중치 초기값 : ')\n",
        "print(f'  a : {a}')\n",
        "print(f'  b : {b}')\n",
        "print(f'  c : {c}')\n",
        "print(f'  d : {d}')\n",
        "print(f'------------------------------------------')\n",
        "\n",
        "learning_rate = 1e-6\n",
        "for t in range(2000):\n",
        "    # 순전파 단계: 텐서들 간의 연산을 사용하여 예측값 y를 계산합니다.\n",
        "    y_pred = a + b * x + c * x ** 2 + d * x ** 3\n",
        "\n",
        "    # 텐서들간의 연산을 사용하여 손실(loss)을 계싼하고 출력합니다.\n",
        "    # 이 때 손실은 (1,) shape을 갖는 텐서입니다.\n",
        "    # loss.item() 으로 손실이 갖고 있는 스칼라 값을 가져올 수 있습니다.\n",
        "    loss = (y_pred - y).pow(2).sum()\n",
        "    if t % 100 == 99:\n",
        "        print(f'[t = {t+1:4d}] loss : {loss:.3f}')\n",
        "        print('-----------')\n",
        "        print(f'a = {a}')\n",
        "        print(f'b = {b}')\n",
        "        print(f'c = {c}')\n",
        "        print(f'd = {d}')\n",
        "        print(f'a_grad = {a.grad}')\n",
        "        print(f'b_grad = {b.grad}')\n",
        "        print(f'c_grad = {c.grad}')\n",
        "        print(f'd_grad = {d.grad}')\n",
        "        print('-----------')\n",
        "\n",
        "    # autograd 를 사용하여 역전파 단계를 계산합니다. 이는 requires_grad=True를 갖는\n",
        "    # 모든 텐서들에 대한 손실의 변화도를 계산합니다. \n",
        "    # 이후 a.grad와 b.grad, c.grad, d.grad는 각각 a, b, c, d에 대한 손실의 변화도를\n",
        "    # 갖는 텐서가 됩니다.\n",
        "    loss.backward()\n",
        "    if t % 100 == 99:\n",
        "      print('#### x_grad ####')\n",
        "      print(f'a_grad = {a.grad}')\n",
        "      print(f'b_grad = {b.grad}')\n",
        "      print(f'c_grad = {c.grad}')\n",
        "      print(f'd_grad = {d.grad}')\n",
        "      print('################')\n",
        "\n",
        "    # 경사하강법(gradient descent)를 사용하여 가중치를 직접 갱신합니다.\n",
        "    # torch.no_grad()로 감싸는 이유는, 가중치들이 requires_grad=True 지만\n",
        "    # autograd에서는 이를 추적하지 않을 것이기 때문입니다.\n",
        "    with torch.no_grad(): # 직접 gradient 값을 정하고 싶을 때\n",
        "        a -= learning_rate * a.grad\n",
        "        b -= learning_rate * b.grad\n",
        "        c -= learning_rate * c.grad\n",
        "        d -= learning_rate * d.grad\n",
        "        if t % 100 == 99:\n",
        "          print('************')\n",
        "          print(f'a = {a}')\n",
        "          print(f'b = {b}')\n",
        "          print(f'c = {c}')\n",
        "          print(f'd = {d}')\n",
        "          print('************')\n",
        "\n",
        "        # 가중치 갱신 후에는 변화도를 직접 0으로 만듭니다.\n",
        "        a.grad = None\n",
        "        b.grad = None\n",
        "        c.grad = None\n",
        "        d.grad = None\n",
        "\n",
        "print(f'------------------------------------------')\n",
        "print(f'Result: y = {a.item()} + {b.item()} x + {c.item()} x^2 + {d.item()} x^3')\n",
        "\n",
        "with torch.no_grad():\n",
        "    show(x, y, a + b * x + c * x ** 2 + d * x ** 3)"
      ],
      "execution_count": null,
      "outputs": [
        {
          "output_type": "stream",
          "name": "stdout",
          "text": [
            "------------------ init ------------------\n",
            "x(2000) : tensor([-3.1416, -3.1384, -3.1353,  ...,  3.1353,  3.1384,  3.1416])\n",
            "y(2000) : tensor([ 8.7423e-08, -3.1430e-03, -6.2863e-03,  ...,  6.2863e-03,\n",
            "         3.1432e-03, -8.7423e-08])\n",
            "가중치 초기값 : \n",
            "  a : -0.10285478830337524\n",
            "  b : -0.4215467870235443\n",
            "  c : 0.26847726106643677\n",
            "  d : 2.479179859161377\n",
            "------------------------------------------\n",
            "[t =  100] loss : 1839.554\n",
            "-----------\n",
            "a = -0.12206006795167923\n",
            "b = -0.45648059248924255\n",
            "c = 0.021120134741067886\n",
            "d = 0.09346391260623932\n",
            "a_grad = None\n",
            "b_grad = None\n",
            "c_grad = None\n",
            "d_grad = None\n",
            "-----------\n",
            "#### x_grad ####\n",
            "a_grad = -210.03236389160156\n",
            "b_grad = -2713.083251953125\n",
            "c_grad = 41.27593231201172\n",
            "d_grad = 385.9106750488281\n",
            "################\n",
            "************\n",
            "a = -0.12185003608465195\n",
            "b = -0.4537675082683563\n",
            "c = 0.02107885852456093\n",
            "d = 0.09307800233364105\n",
            "************\n",
            "[t =  200] loss : 1220.008\n",
            "-----------\n",
            "a = -0.10268846899271011\n",
            "b = -0.21113552153110504\n",
            "c = 0.017715485766530037\n",
            "d = 0.058565717190504074\n",
            "a_grad = None\n",
            "b_grad = None\n",
            "c_grad = None\n",
            "d_grad = None\n",
            "-----------\n",
            "#### x_grad ####\n",
            "a_grad = -177.39422607421875\n",
            "b_grad = -2206.2060546875\n",
            "c_grad = 30.604713439941406\n",
            "d_grad = 313.81317138671875\n",
            "################\n",
            "************\n",
            "a = -0.10251107811927795\n",
            "b = -0.20892931520938873\n",
            "c = 0.017684880644083023\n",
            "d = 0.05825190246105194\n",
            "************\n",
            "[t =  300] loss : 810.153\n",
            "-----------\n",
            "a = -0.08638383448123932\n",
            "b = -0.011627535335719585\n",
            "c = 0.014902647584676743\n",
            "d = 0.030187444761395454\n",
            "a_grad = None\n",
            "b_grad = None\n",
            "c_grad = None\n",
            "d_grad = None\n",
            "-----------\n",
            "#### x_grad ####\n",
            "a_grad = -149.22816467285156\n",
            "b_grad = -1794.027587890625\n",
            "c_grad = 25.744247436523438\n",
            "d_grad = 255.1846466064453\n",
            "################\n",
            "************\n",
            "a = -0.08623460680246353\n",
            "b = -0.009833507239818573\n",
            "c = 0.014876903034746647\n",
            "d = 0.029932260513305664\n",
            "************\n",
            "[t =  400] loss : 539.009\n",
            "-----------\n",
            "a = -0.07266797125339508\n",
            "b = 0.15060698986053467\n",
            "c = 0.012536434456706047\n",
            "d = 0.007110998500138521\n",
            "a_grad = None\n",
            "b_grad = None\n",
            "c_grad = None\n",
            "d_grad = None\n",
            "-----------\n",
            "#### x_grad ####\n",
            "a_grad = -125.53395080566406\n",
            "b_grad = -1458.85498046875\n",
            "c_grad = 21.656761169433594\n",
            "d_grad = 207.50967407226562\n",
            "################\n",
            "************\n",
            "a = -0.07254243642091751\n",
            "b = 0.15206584334373474\n",
            "c = 0.012514777481555939\n",
            "d = 0.006903488654643297\n",
            "************\n",
            "[t =  500] loss : 359.625\n",
            "-----------\n",
            "a = -0.06112990528345108\n",
            "b = 0.28253185749053955\n",
            "c = 0.010545924305915833\n",
            "d = -0.011654164642095566\n",
            "a_grad = None\n",
            "b_grad = None\n",
            "c_grad = None\n",
            "d_grad = None\n",
            "-----------\n",
            "#### x_grad ####\n",
            "a_grad = -105.60199737548828\n",
            "b_grad = -1186.3016357421875\n",
            "c_grad = 18.2177791595459\n",
            "d_grad = 168.74102783203125\n",
            "################\n",
            "************\n",
            "a = -0.06102430447936058\n",
            "b = 0.28371816873550415\n",
            "c = 0.01052770670503378\n",
            "d = -0.011822905391454697\n",
            "************\n",
            "[t =  600] loss : 240.943\n",
            "-----------\n",
            "a = -0.05142383277416229\n",
            "b = 0.38980957865715027\n",
            "c = 0.008871466852724552\n",
            "d = -0.026913484558463097\n",
            "a_grad = None\n",
            "b_grad = None\n",
            "c_grad = None\n",
            "d_grad = None\n",
            "-----------\n",
            "#### x_grad ####\n",
            "a_grad = -88.83468627929688\n",
            "b_grad = -964.66845703125\n",
            "c_grad = 15.325666427612305\n",
            "d_grad = 137.21600341796875\n",
            "################\n",
            "************\n",
            "a = -0.05133499950170517\n",
            "b = 0.3907742500305176\n",
            "c = 0.00885614100843668\n",
            "d = -0.027050700038671494\n",
            "************\n",
            "[t =  700] loss : 162.420\n",
            "-----------\n",
            "a = -0.043258875608444214\n",
            "b = 0.47704485058784485\n",
            "c = 0.007462875917553902\n",
            "d = -0.03932194039225578\n",
            "a_grad = None\n",
            "b_grad = None\n",
            "c_grad = None\n",
            "d_grad = None\n",
            "-----------\n",
            "#### x_grad ####\n",
            "a_grad = -74.7297592163086\n",
            "b_grad = -784.4423828125\n",
            "c_grad = 12.891916275024414\n",
            "d_grad = 111.58123016357422\n",
            "################\n",
            "************\n",
            "a = -0.04318414628505707\n",
            "b = 0.47782930731773376\n",
            "c = 0.007449984084814787\n",
            "d = -0.039433520287275314\n",
            "************\n",
            "[t =  800] loss : 110.464\n",
            "-----------\n",
            "a = -0.03639034181833267\n",
            "b = 0.5479823350906372\n",
            "c = 0.006277941167354584\n",
            "d = -0.049412183463573456\n",
            "a_grad = None\n",
            "b_grad = None\n",
            "c_grad = None\n",
            "d_grad = None\n",
            "-----------\n",
            "#### x_grad ####\n",
            "a_grad = -62.86427307128906\n",
            "b_grad = -637.8876342773438\n",
            "c_grad = 10.845611572265625\n",
            "d_grad = 90.73275756835938\n",
            "################\n",
            "************\n",
            "a = -0.03632747754454613\n",
            "b = 0.5486202239990234\n",
            "c = 0.006267095450311899\n",
            "d = -0.049502916634082794\n",
            "************\n",
            "[t =  900] loss : 76.086\n",
            "-----------\n",
            "a = -0.03061237372457981\n",
            "b = 0.6056670546531677\n",
            "c = 0.005281143821775913\n",
            "d = -0.05761732533574104\n",
            "a_grad = None\n",
            "b_grad = None\n",
            "c_grad = None\n",
            "d_grad = None\n",
            "-----------\n",
            "#### x_grad ####\n",
            "a_grad = -52.88283157348633\n",
            "b_grad = -518.7118530273438\n",
            "c_grad = 9.12347412109375\n",
            "d_grad = 73.78485107421875\n",
            "################\n",
            "************\n",
            "a = -0.030559491366147995\n",
            "b = 0.606185793876648\n",
            "c = 0.005272020120173693\n",
            "d = -0.05769110843539238\n",
            "************\n",
            "[t = 1000] loss : 53.337\n",
            "-----------\n",
            "a = -0.025751816108822823\n",
            "b = 0.6525745987892151\n",
            "c = 0.004442617297172546\n",
            "d = -0.06428951770067215\n",
            "a_grad = None\n",
            "b_grad = None\n",
            "c_grad = None\n",
            "d_grad = None\n",
            "-----------\n",
            "#### x_grad ####\n",
            "a_grad = -44.48632049560547\n",
            "b_grad = -421.8022766113281\n",
            "c_grad = 7.674518585205078\n",
            "d_grad = 59.99851989746094\n",
            "################\n",
            "************\n",
            "a = -0.02570733055472374\n",
            "b = 0.6529964208602905\n",
            "c = 0.0044349427334964275\n",
            "d = -0.06434951722621918\n",
            "************\n",
            "[t = 1100] loss : 38.283\n",
            "-----------\n",
            "a = -0.021662991493940353\n",
            "b = 0.6907181739807129\n",
            "c = 0.003737226827070117\n",
            "d = -0.06971511989831924\n",
            "a_grad = None\n",
            "b_grad = None\n",
            "c_grad = None\n",
            "d_grad = None\n",
            "-----------\n",
            "#### x_grad ####\n",
            "a_grad = -37.42274475097656\n",
            "b_grad = -342.9994812011719\n",
            "c_grad = 6.456601142883301\n",
            "d_grad = 48.78340530395508\n",
            "################\n",
            "************\n",
            "a = -0.021625569090247154\n",
            "b = 0.6910611987113953\n",
            "c = 0.0037307702004909515\n",
            "d = -0.0697639063000679\n",
            "************\n",
            "[t = 1200] loss : 28.321\n",
            "-----------\n",
            "a = -0.018223384395241737\n",
            "b = 0.721735954284668\n",
            "c = 0.003143836045637727\n",
            "d = -0.07412711530923843\n",
            "a_grad = None\n",
            "b_grad = None\n",
            "c_grad = None\n",
            "d_grad = None\n",
            "-----------\n",
            "#### x_grad ####\n",
            "a_grad = -31.480920791625977\n",
            "b_grad = -278.91644287109375\n",
            "c_grad = 5.4311933517456055\n",
            "d_grad = 39.67549133300781\n",
            "################\n",
            "************\n",
            "a = -0.018191903829574585\n",
            "b = 0.722014844417572\n",
            "c = 0.003138404805213213\n",
            "d = -0.07416678965091705\n",
            "************\n",
            "[t = 1300] loss : 21.728\n",
            "-----------\n",
            "a = -0.015329922549426556\n",
            "b = 0.7469587326049805\n",
            "c = 0.002644667401909828\n",
            "d = -0.07771483808755875\n",
            "a_grad = None\n",
            "b_grad = None\n",
            "c_grad = None\n",
            "d_grad = None\n",
            "-----------\n",
            "#### x_grad ####\n",
            "a_grad = -26.482419967651367\n",
            "b_grad = -226.80699157714844\n",
            "c_grad = 4.568977355957031\n",
            "d_grad = 32.26223373413086\n",
            "################\n",
            "************\n",
            "a = -0.015303440392017365\n",
            "b = 0.7471855282783508\n",
            "c = 0.0026400983333587646\n",
            "d = -0.07774709910154343\n",
            "************\n",
            "[t = 1400] loss : 17.364\n",
            "-----------\n",
            "a = -0.012895872816443443\n",
            "b = 0.7674688100814819\n",
            "c = 0.0022247538436204195\n",
            "d = -0.08063221722841263\n",
            "a_grad = None\n",
            "b_grad = None\n",
            "c_grad = None\n",
            "d_grad = None\n",
            "-----------\n",
            "#### x_grad ####\n",
            "a_grad = -22.277517318725586\n",
            "b_grad = -184.43360900878906\n",
            "c_grad = 3.843926429748535\n",
            "d_grad = 26.235271453857422\n",
            "################\n",
            "************\n",
            "a = -0.012873595580458641\n",
            "b = 0.767653226852417\n",
            "c = 0.002220909809693694\n",
            "d = -0.0806584507226944\n",
            "************\n",
            "[t = 1500] loss : 14.476\n",
            "-----------\n",
            "a = -0.010848291218280792\n",
            "b = 0.7841470837593079\n",
            "c = 0.0018715130863711238\n",
            "d = -0.08300455659627914\n",
            "a_grad = None\n",
            "b_grad = None\n",
            "c_grad = None\n",
            "d_grad = None\n",
            "-----------\n",
            "#### x_grad ####\n",
            "a_grad = -18.740375518798828\n",
            "b_grad = -149.97674560546875\n",
            "c_grad = 3.2332873344421387\n",
            "d_grad = 21.334028244018555\n",
            "################\n",
            "************\n",
            "a = -0.01082955114543438\n",
            "b = 0.7842970490455627\n",
            "c = 0.0018682797672227025\n",
            "d = -0.08302588760852814\n",
            "************\n",
            "[t = 1600] loss : 12.564\n",
            "-----------\n",
            "a = -0.009125829674303532\n",
            "b = 0.797709584236145\n",
            "c = 0.0015743576223030686\n",
            "d = -0.08493370562791824\n",
            "a_grad = None\n",
            "b_grad = None\n",
            "c_grad = None\n",
            "d_grad = None\n",
            "-----------\n",
            "#### x_grad ####\n",
            "a_grad = -15.764968872070312\n",
            "b_grad = -121.9570541381836\n",
            "c_grad = 2.7189788818359375\n",
            "d_grad = 17.34765625\n",
            "################\n",
            "************\n",
            "a = -0.00911006424576044\n",
            "b = 0.7978315353393555\n",
            "c = 0.0015716386260464787\n",
            "d = -0.08495105057954788\n",
            "************\n",
            "[t = 1700] loss : 11.298\n",
            "-----------\n",
            "a = -0.007676850538700819\n",
            "b = 0.8087381720542908\n",
            "c = 0.0013243864523246884\n",
            "d = -0.08650242537260056\n",
            "a_grad = None\n",
            "b_grad = None\n",
            "c_grad = None\n",
            "d_grad = None\n",
            "-----------\n",
            "#### x_grad ####\n",
            "a_grad = -13.261691093444824\n",
            "b_grad = -99.1722183227539\n",
            "c_grad = 2.288217782974243\n",
            "d_grad = 14.107150077819824\n",
            "################\n",
            "************\n",
            "a = -0.007663588970899582\n",
            "b = 0.808837354183197\n",
            "c = 0.0013220981927588582\n",
            "d = -0.08651652932167053\n",
            "************\n",
            "[t = 1800] loss : 10.460\n",
            "-----------\n",
            "a = -0.00645793741568923\n",
            "b = 0.8177067637443542\n",
            "c = 0.001114100101403892\n",
            "d = -0.08777812868356705\n",
            "a_grad = None\n",
            "b_grad = None\n",
            "c_grad = None\n",
            "d_grad = None\n",
            "-----------\n",
            "#### x_grad ####\n",
            "a_grad = -11.15616512298584\n",
            "b_grad = -80.64328002929688\n",
            "c_grad = 1.9238817691802979\n",
            "d_grad = 11.471878051757812\n",
            "################\n",
            "************\n",
            "a = -0.006446781102567911\n",
            "b = 0.8177874088287354\n",
            "c = 0.0011121762217953801\n",
            "d = -0.08778960257768631\n",
            "************\n",
            "[t = 1900] loss : 9.905\n",
            "-----------\n",
            "a = -0.00543255964294076\n",
            "b = 0.8249996304512024\n",
            "c = 0.0009372046333737671\n",
            "d = -0.08881548047065735\n",
            "a_grad = None\n",
            "b_grad = None\n",
            "c_grad = None\n",
            "d_grad = None\n",
            "-----------\n",
            "#### x_grad ####\n",
            "a_grad = -9.384868621826172\n",
            "b_grad = -65.57676696777344\n",
            "c_grad = 1.6183664798736572\n",
            "d_grad = 9.32607650756836\n",
            "################\n",
            "************\n",
            "a = -0.0054231747053563595\n",
            "b = 0.8250651955604553\n",
            "c = 0.00093558628577739\n",
            "d = -0.0888248085975647\n",
            "************\n",
            "[t = 2000] loss : 9.538\n",
            "-----------\n",
            "a = -0.004569987766444683\n",
            "b = 0.8309297561645508\n",
            "c = 0.0007884007645770907\n",
            "d = -0.08965898305177689\n",
            "a_grad = None\n",
            "b_grad = None\n",
            "c_grad = None\n",
            "d_grad = None\n",
            "-----------\n",
            "#### x_grad ####\n",
            "a_grad = -7.894689559936523\n",
            "b_grad = -53.32483673095703\n",
            "c_grad = 1.361823558807373\n",
            "d_grad = 7.586479663848877\n",
            "################\n",
            "************\n",
            "a = -0.004562092944979668\n",
            "b = 0.8309831023216248\n",
            "c = 0.0007870389381423593\n",
            "d = -0.08966656774282455\n",
            "************\n",
            "------------------------------------------\n",
            "Result: y = -0.004562092944979668 + 0.8309831023216248 x + 0.0007870389381423593 x^2 + -0.08966656774282455 x^3\n"
          ]
        },
        {
          "output_type": "display_data",
          "data": {
            "image/png": "[encoded data removed]",
            "text/plain": [
              "<Figure size 720x288 with 1 Axes>"
            ]
          },
          "metadata": {
            "needs_background": "light"
          }
        }
      ]
    },
    {
      "cell_type": "markdown",
      "metadata": {
        "id": "aJpOd4FCf_F4"
      },
      "source": [
        "## <Numpy vs Tensor 속도비교>"
      ]
    },
    {
      "cell_type": "code",
      "metadata": {
        "colab": {
          "base_uri": "https://localhost:8080/"
        },
        "id": "DBg7URZ23hgC",
        "outputId": "5fdc737f-2c9c-4b19-fba5-c9f379fdc7e9"
      },
      "source": [
        "import torch\n",
        "import math\n",
        "import timeit\n",
        " \n",
        "dtype = torch.float\n",
        "device = torch.device('cpu')\n",
        "\n",
        "x = torch.linspace(-math.pi, math.pi, 2000, device=device, dtype=dtype)\n",
        "y = torch.sin(x)\n",
        "\n",
        "a = torch.randn((), device=device, dtype=dtype)\n",
        "b = torch.randn((), device=device, dtype=dtype)\n",
        "c = torch.randn((), device=device, dtype=dtype)\n",
        "d = torch.randn((), device=device, dtype=dtype)\n",
        "\n",
        "print(f'------------------ init ------------------')\n",
        "print(f'x({len(x)}, {x.__class__}) : {x}')\n",
        "print(f'y({len(y)}, {y.__class__}) : {y}')\n",
        "print(f'가중치 초기값 : ')\n",
        "print(f'  a({a.__class__}) : {a}')\n",
        "print(f'  b({b.__class__}) : {b}')\n",
        "print(f'  c({c.__class__}) : {c}')\n",
        "print(f'  d({d.__class__}) : {d}')\n",
        "print(f'------------------------------------------')\n",
        "\n",
        "start_time = timeit.default_timer() # 시작 시간 체크\n",
        "learning_rate = 1e-6\n",
        "for t in range(1000):\n",
        "    # 순전파 단계: 예측값 y를 계산합니다\n",
        "    y_pred = a + b * x + c * x ** 2 + d * x ** 3\n",
        "\n",
        "    # 손실(loss)을 계산하고 출력합니다\n",
        "    loss = (y_pred - y).pow(2).sum().item()\n",
        "    if t % 100 == 99:\n",
        "        print(f'[t = {t+1:4d}] loss : {loss:.3f}')\n",
        "\n",
        "    # 손실에 따른 a, b, c, d의 변화도(gradient)를 계산하고 역전파합니다.\n",
        "    grad_y_pred = 2.0 * (y_pred - y)\n",
        "    grad_a = grad_y_pred.sum()\n",
        "    grad_b = (grad_y_pred * x).sum()\n",
        "    grad_c = (grad_y_pred * x ** 2).sum()\n",
        "    grad_d = (grad_y_pred * x ** 3).sum()\n",
        "\n",
        "    # 가중치를 갱신합니다.\n",
        "    a -= learning_rate * grad_a\n",
        "    b -= learning_rate * grad_b\n",
        "    c -= learning_rate * grad_c\n",
        "    d -= learning_rate * grad_d\n",
        "\n",
        "print(f'------------------------------------------')\n",
        "print(f'Result: y = {a.item()} + {b.item()} x + {c.item()} x^2 + {d.item()} x^3')\n",
        "\n",
        "terminate_time = timeit.default_timer() # 종료 시간 체크  \n",
        "print(\"%f초 걸렸습니다.\" % (terminate_time - start_time)) "
      ],
      "execution_count": null,
      "outputs": [
        {
          "output_type": "stream",
          "name": "stdout",
          "text": [
            "------------------ init ------------------\n",
            "x(2000, <class 'torch.Tensor'>) : tensor([-3.1416, -3.1384, -3.1353,  ...,  3.1353,  3.1384,  3.1416])\n",
            "y(2000, <class 'torch.Tensor'>) : tensor([ 8.7423e-08, -3.1430e-03, -6.2863e-03,  ...,  6.2863e-03,\n",
            "         3.1432e-03, -8.7423e-08])\n",
            "가중치 초기값 : \n",
            "  a(<class 'torch.Tensor'>) : -0.27668389678001404\n",
            "  b(<class 'torch.Tensor'>) : 0.03611907735466957\n",
            "  c(<class 'torch.Tensor'>) : -0.5848990678787231\n",
            "  d(<class 'torch.Tensor'>) : -0.20584554970264435\n",
            "------------------------------------------\n",
            "[t =  100] loss : 462.470\n",
            "[t =  200] loss : 309.649\n",
            "[t =  300] loss : 208.347\n",
            "[t =  400] loss : 141.184\n",
            "[t =  500] loss : 96.647\n",
            "[t =  600] loss : 67.109\n",
            "[t =  700] loss : 47.514\n",
            "[t =  800] loss : 34.513\n",
            "[t =  900] loss : 25.884\n",
            "[t = 1000] loss : 20.157\n",
            "------------------------------------------\n",
            "Result: y = -0.030292656272649765 + 0.7570353746414185 x + 0.0052259876392781734 x^2 + -0.07914815843105316 x^3\n",
            "0.118149초 걸렸습니다.\n"
          ]
        }
      ]
    },
    {
      "cell_type": "code",
      "metadata": {
        "colab": {
          "base_uri": "https://localhost:8080/"
        },
        "id": "c_WffYEygDMv",
        "outputId": "e8791e7a-14f0-48f9-a9f8-6ed6f5f26116"
      },
      "source": [
        "import torch\n",
        "import math\n",
        "import timeit\n",
        "\n",
        "dtype = torch.float\n",
        "device = torch.device(\"cpu\")\n",
        "# device = torch.device(\"cuda:0\") # GPU에서 실행하려면 이 주석을 제거하세요\n",
        "\n",
        "# 입력값과 출력값을 갖는 텐서들을 생성합니다.\n",
        "# requires_grad=False가 기본값으로 설정되어 역전파 단계 중에 이 텐서들에 대한 변화도를\n",
        "# 계산할 필요가 없음을 나타냅니다.\n",
        "x = torch.linspace(-math.pi, math.pi, 2000, device=device, dtype=dtype)\n",
        "y = torch.sin(x)\n",
        "\n",
        "# 가중치를 갖는 임의의 텐서를 생성합니다. 3차 다항식이므로 4개의 가중치가 필요합니다:\n",
        "# y = a + b x + c x^2 + d x^3\n",
        "# requires_grad=True로 설정하여 역전파 단계 중에 이 텐서들에 대한 변화도를 계산할 필요가 \n",
        "# 있음을 나타냅니다.\n",
        "a = torch.randn((), device=device, dtype=dtype, requires_grad=True)\n",
        "b = torch.randn((), device=device, dtype=dtype, requires_grad=True)\n",
        "c = torch.randn((), device=device, dtype=dtype, requires_grad=True)\n",
        "d = torch.randn((), device=device, dtype=dtype, requires_grad=True)\n",
        "\n",
        "print(f'------------------ init ------------------')\n",
        "print(f'x({len(x)}) : {x}')\n",
        "print(f'y({len(y)}) : {y}')\n",
        "print(f'가중치 초기값 : ')\n",
        "print(f'  a : {a}')\n",
        "print(f'  b : {b}')\n",
        "print(f'  c : {c}')\n",
        "print(f'  d : {d}')\n",
        "print(f'------------------------------------------')\n",
        "\n",
        "start_time = timeit.default_timer() # 시작 시간 체크\n",
        "learning_rate = 1e-6\n",
        "for t in range(1000): # 1000 loop 만 테스트함\n",
        "    # 순전파 단계: 텐서들 간의 연산을 사용하여 예측값 y를 계산합니다.\n",
        "    y_pred = a + b * x + c * x ** 2 + d * x ** 3\n",
        "    \n",
        "    # 텐서들간의 연산을 사용하여 손실(loss)을 계싼하고 출력합니다.\n",
        "    # 이 때 손실은 (1,) shape을 갖는 텐서입니다.\n",
        "    # loss.item() 으로 손실이 갖고 있는 스칼라 값을 가져올 수 있습니다.\n",
        "    loss = (y_pred - y).pow(2).sum()\n",
        "    if t % 100 == 99:\n",
        "        print(f'[t = {t+1:4d}] loss : {loss:.3f}')\n",
        "\n",
        "    # autograd 를 사용하여 역전파 단계를 계산합니다. 이는 requires_grad=True를 갖는\n",
        "    # 모든 텐서들에 대한 손실의 변화도를 계산합니다. \n",
        "    # 이후 a.grad와 b.grad, c.grad, d.grad는 각각 a, b, c, d에 대한 손실의 변화도를\n",
        "    # 갖는 텐서가 됩니다.\n",
        "    loss.backward()\n",
        "\n",
        "    # 경사하강법(gradient descent)를 사용하여 가중치를 직접 갱신합니다.\n",
        "    # torch.no_grad()로 감싸는 이유는, 가중치들이 requires_grad=True 지만\n",
        "    # autograd에서는 이를 추적하지 않을 것이기 때문입니다.\n",
        "    with torch.no_grad(): # 직접 gradient 값을 정하고 싶을 때\n",
        "        a -= learning_rate * a.grad\n",
        "        b -= learning_rate * b.grad\n",
        "        c -= learning_rate * c.grad\n",
        "        d -= learning_rate * d.grad\n",
        "      \n",
        "        # 가중치 갱신 후에는 변화도를 직접 0으로 만듭니다.\n",
        "        a.grad = None\n",
        "        b.grad = None\n",
        "        c.grad = None\n",
        "        d.grad = None\n",
        "\n",
        "print(f'------------------------------------------')\n",
        "print(f'Result: y = {a.item()} + {b.item()} x + {c.item()} x^2 + {d.item()} x^3')\n",
        "\n",
        "terminate_time = timeit.default_timer() # 종료 시간 체크  \n",
        "print(\"%f초 걸렸습니다.\" % (terminate_time - start_time)) "
      ],
      "execution_count": null,
      "outputs": [
        {
          "output_type": "stream",
          "name": "stdout",
          "text": [
            "------------------ init ------------------\n",
            "x(2000) : tensor([-3.1416, -3.1384, -3.1353,  ...,  3.1353,  3.1384,  3.1416])\n",
            "y(2000) : tensor([ 8.7423e-08, -3.1430e-03, -6.2863e-03,  ...,  6.2863e-03,\n",
            "         3.1432e-03, -8.7423e-08])\n",
            "가중치 초기값 : \n",
            "  a : 3.373800277709961\n",
            "  b : -0.5152038931846619\n",
            "  c : 1.1773890256881714\n",
            "  d : -0.6762803792953491\n",
            "------------------------------------------\n",
            "[t =  100] loss : 7113.869\n",
            "[t =  200] loss : 4984.897\n",
            "[t =  300] loss : 3495.885\n",
            "[t =  400] loss : 2453.792\n",
            "[t =  500] loss : 1724.028\n",
            "[t =  600] loss : 1212.684\n",
            "[t =  700] loss : 854.185\n",
            "[t =  800] loss : 602.713\n",
            "[t =  900] loss : 426.225\n",
            "[t = 1000] loss : 302.303\n",
            "------------------------------------------\n",
            "Result: y = 0.5464152097702026 + 0.6970084309577942 x + -0.09426572173833847 x^2 + -0.07060984522104263 x^3\n",
            "0.207823초 걸렸습니다.\n"
          ]
        }
      ]
    },
    {
      "cell_type": "markdown",
      "metadata": {
        "id": "b40rhrK14ijT"
      },
      "source": [
        "1000 iter 로 비교를 해봤을 때 tesor가 더 빠를 거라고 생각했는데 의외로 numpy가 2배정도 더 빠른 것으로 나타났다. 큰단위의 데이터의 경우에는 가능하다면 numpy로 계산하는게 좋아보인다. 하지만 이것만으로는 확신할 수 없기 때문에 일단 참고정도로만 생각하려고 한다."
      ]
    },
    {
      "cell_type": "markdown",
      "metadata": {
        "id": "7qdqIe74lwVx"
      },
      "source": [
        "## 3. DATASET과 DATALOADER"
      ]
    },
    {
      "cell_type": "markdown",
      "metadata": {
        "id": "gPnT2UHInMfQ"
      },
      "source": [
        "데이터 불러오기"
      ]
    },
    {
      "cell_type": "code",
      "metadata": {
        "id": "nyw5_StvN8zB",
        "colab": {
          "base_uri": "https://localhost:8080/",
          "height": 475,
          "referenced_widgets": [
            "97ef3090c30c498f862120b0a11a99b6",
            "4bae61704e98433cb3ec4294a9f876b1",
            "5835a1569a4248f1b246a7a1deb3a979",
            "10207e34c14a474aa2dd55c64d5c434d",
            "998f37e9fcb447de9981cc22d96ee2d4",
            "7b56c7373a88454aa9b70d30e7b3204f",
            "340eccb0c3274ae8969b21ddb5de4e48",
            "ab5a9e42e4e54085bee19a6ce88fb5d6",
            "c264045e1ac54683beb901b845ed93e1",
            "532c989fa5e94e8693605340e9021457",
            "da5e4262c6ed41978154bc1921f9bfb3",
            "09c06d8f848c4959b014ee57edc78eab",
            "a32a9d4caeea4523a3aad8fd81079e30",
            "c82389f7b5b54e1a9736eb9bd5c584b2",
            "a7468a2ee8ec4b08879cd2d6665c139a",
            "4ad020339ae9465ab638672a65f05fa3",
            "bba39938e4c04b6e8f35e6cdc4d529be",
            "dc5bc006e53e4c59958d113700f692f9",
            "41ef17518025453aa6b7943a3a9999b2",
            "5eb8c103fe604751ae2aa2bf69be4568",
            "5c0549089aee49b381654060c580b387",
            "c4a2aaa90d2842a3bcd5a59ef549b647",
            "6a069f20656d467b9fccb57b53657308",
            "9d9497744fa44fd1a1927b6b03cd4020",
            "0fcf22aeb3f146c0b22b4678e20abe7f",
            "bd889115c149493f89a5ba3bee4575aa",
            "22fe4f06df0b4ac1bf054c1392d49b7d",
            "36f454894fa841aeb69aa0c506e0a07e",
            "68d914889c4c400e9c02b1bd10b1d8fb",
            "902679b86e05415f9a08f19afa91e5d5",
            "072a5e3e98ee4634ad59654dd02ab5ff",
            "3a4684e7cf61492f9f4df29af9aadea2",
            "be88040a5f554414ab2bc73cc9eb8ffb",
            "8738f4518c9c46bfbee4b4d223f54c7e",
            "75824bdcfe5d485994a36b2caf9d8a97",
            "73e7af0b2f5b4d60bcf8ccf380e93d23",
            "50ec0ab1ae6742a3b7451c9a614fb2b3",
            "10f644d3e13d4d83bb0b74e5e83b904c",
            "c4fd85f7a5064b829fd1b99122ca27e3",
            "53b590e427474aafb07e5b46d916ffc0",
            "7e90229255694a33923df5b6eda12802",
            "15a93051aab647b1a2a63d808e2e8ebe",
            "9e0f631c2b9043a78e489e224eff22ef",
            "e4b21052d1a54fc89e719df002d99f52"
          ]
        },
        "outputId": "0456725d-4a5c-47a7-aa28-4507ab98559a"
      },
      "source": [
        "import torch\n",
        "from torch.utils.data import Dataset\n",
        "from torchvision import datasets\n",
        "from torchvision.transforms import ToTensor\n",
        "import matplotlib.pyplot as plt\n",
        "\n",
        "training_data = datasets.FashionMNIST(\n",
        "    root='data',\n",
        "    train=True,\n",
        "    download=True,\n",
        "    transform=ToTensor()\n",
        ")\n",
        "\n",
        "test_data = datasets.FashionMNIST(\n",
        "    root='data',\n",
        "    train=False,\n",
        "    download=True,\n",
        "    transform=ToTensor()\n",
        ")"
      ],
      "execution_count": null,
      "outputs": [
        {
          "output_type": "stream",
          "name": "stdout",
          "text": [
            "Downloading http://fashion-mnist.s3-website.eu-central-1.amazonaws.com/train-images-idx3-ubyte.gz\n",
            "Downloading http://fashion-mnist.s3-website.eu-central-1.amazonaws.com/train-images-idx3-ubyte.gz to data/FashionMNIST/raw/train-images-idx3-ubyte.gz\n"
          ]
        },
        {
          "output_type": "display_data",
          "data": {
            "application/vnd.jupyter.widget-view+json": {
              "model_id": "97ef3090c30c498f862120b0a11a99b6",
              "version_minor": 0,
              "version_major": 2
            },
            "text/plain": [
              "  0%|          | 0/26421880 [00:00<?, ?it/s]"
            ]
          },
          "metadata": {}
        },
        {
          "output_type": "stream",
          "name": "stdout",
          "text": [
            "Extracting data/FashionMNIST/raw/train-images-idx3-ubyte.gz to data/FashionMNIST/raw\n",
            "\n",
            "Downloading http://fashion-mnist.s3-website.eu-central-1.amazonaws.com/train-labels-idx1-ubyte.gz\n",
            "Downloading http://fashion-mnist.s3-website.eu-central-1.amazonaws.com/train-labels-idx1-ubyte.gz to data/FashionMNIST/raw/train-labels-idx1-ubyte.gz\n"
          ]
        },
        {
          "output_type": "display_data",
          "data": {
            "application/vnd.jupyter.widget-view+json": {
              "model_id": "09c06d8f848c4959b014ee57edc78eab",
              "version_minor": 0,
              "version_major": 2
            },
            "text/plain": [
              "  0%|          | 0/29515 [00:00<?, ?it/s]"
            ]
          },
          "metadata": {}
        },
        {
          "output_type": "stream",
          "name": "stdout",
          "text": [
            "Extracting data/FashionMNIST/raw/train-labels-idx1-ubyte.gz to data/FashionMNIST/raw\n",
            "\n",
            "Downloading http://fashion-mnist.s3-website.eu-central-1.amazonaws.com/t10k-images-idx3-ubyte.gz\n",
            "Downloading http://fashion-mnist.s3-website.eu-central-1.amazonaws.com/t10k-images-idx3-ubyte.gz to data/FashionMNIST/raw/t10k-images-idx3-ubyte.gz\n"
          ]
        },
        {
          "output_type": "display_data",
          "data": {
            "application/vnd.jupyter.widget-view+json": {
              "model_id": "6a069f20656d467b9fccb57b53657308",
              "version_minor": 0,
              "version_major": 2
            },
            "text/plain": [
              "  0%|          | 0/4422102 [00:00<?, ?it/s]"
            ]
          },
          "metadata": {}
        },
        {
          "output_type": "stream",
          "name": "stdout",
          "text": [
            "Extracting data/FashionMNIST/raw/t10k-images-idx3-ubyte.gz to data/FashionMNIST/raw\n",
            "\n",
            "Downloading http://fashion-mnist.s3-website.eu-central-1.amazonaws.com/t10k-labels-idx1-ubyte.gz\n",
            "Downloading http://fashion-mnist.s3-website.eu-central-1.amazonaws.com/t10k-labels-idx1-ubyte.gz to data/FashionMNIST/raw/t10k-labels-idx1-ubyte.gz\n"
          ]
        },
        {
          "output_type": "display_data",
          "data": {
            "application/vnd.jupyter.widget-view+json": {
              "model_id": "8738f4518c9c46bfbee4b4d223f54c7e",
              "version_minor": 0,
              "version_major": 2
            },
            "text/plain": [
              "  0%|          | 0/5148 [00:00<?, ?it/s]"
            ]
          },
          "metadata": {}
        },
        {
          "output_type": "stream",
          "name": "stdout",
          "text": [
            "Extracting data/FashionMNIST/raw/t10k-labels-idx1-ubyte.gz to data/FashionMNIST/raw\n",
            "\n"
          ]
        },
        {
          "output_type": "stream",
          "name": "stderr",
          "text": [
            "/usr/local/lib/python3.7/dist-packages/torchvision/datasets/mnist.py:498: UserWarning: The given NumPy array is not writeable, and PyTorch does not support non-writeable tensors. This means you can write to the underlying (supposedly non-writeable) NumPy array using the tensor. You may want to copy the array to protect its data or make it writeable before converting it to a tensor. This type of warning will be suppressed for the rest of this program. (Triggered internally at  /pytorch/torch/csrc/utils/tensor_numpy.cpp:180.)\n",
            "  return torch.from_numpy(parsed.astype(m[2], copy=False)).view(*s)\n"
          ]
        }
      ]
    },
    {
      "cell_type": "markdown",
      "metadata": {
        "id": "WKp_LFAUnOkg"
      },
      "source": [
        "시각화"
      ]
    },
    {
      "cell_type": "code",
      "metadata": {
        "id": "AiKVHOzBN81A",
        "colab": {
          "base_uri": "https://localhost:8080/",
          "height": 482
        },
        "outputId": "c5ea809d-7469-4545-ab8c-bfd8cb70f148"
      },
      "source": [
        "labels_map = {\n",
        "    0: \"T-Shirt\",\n",
        "    1: \"Trouser\",\n",
        "    2: \"Pullover\",\n",
        "    3: \"Dress\",\n",
        "    4: \"Coat\",\n",
        "    5: \"Sandal\",\n",
        "    6: \"Shirt\",\n",
        "    7: \"Sneaker\",\n",
        "    8: \"Bag\",\n",
        "    9: \"Ankle Boot\",\n",
        "}\n",
        "figure = plt.figure(figsize=(8, 8))\n",
        "cols, rows = 3, 3\n",
        "for i in range(1, cols*rows+1):\n",
        "  sample_idx = torch.randint(len(training_data), size=(1, )).item()\n",
        "  img, label = training_data[sample_idx]\n",
        "  figure.add_subplot(rows,cols,i)\n",
        "  plt.title(labels_map[label])\n",
        "  plt.axis('off')\n",
        "  plt.imshow(img.squeeze(), cmap='gray')\n",
        "plt.show()"
      ],
      "execution_count": null,
      "outputs": [
        {
          "output_type": "display_data",
          "data": {
            "image/png": "[encoded data removed]",
            "text/plain": [
              "<Figure size 576x576 with 9 Axes>"
            ]
          },
          "metadata": {
            "needs_background": "light"
          }
        }
      ]
    },
    {
      "cell_type": "markdown",
      "metadata": {
        "id": "DIfPPnfwnyKT"
      },
      "source": [
        "사용자 정의 데이터셋 만들기"
      ]
    },
    {
      "cell_type": "code",
      "metadata": {
        "id": "6SuuT2FLnsE_"
      },
      "source": [
        "import os\n",
        "import pandas as pd\n",
        "from torchvision.io import read_image\n",
        "\n",
        "class CustomImageDataset(Dataset):\n",
        "  def __init__(self, annotations_file, img_dir, transform=None, target_transform=None):\n",
        "    self.img_labels = pd.read_csv(annotations_file)\n",
        "    self.img_dir = img_dir\n",
        "    self.transform = transform\n",
        "    self.target_transform = target_transform\n",
        "\n",
        "  def __len__(self):\n",
        "    return len(self.img_labels) # label 개수 반환\n",
        "\n",
        "  def __getitem__(self, idx):\n",
        "    img_path = os.path.join(self.img_dir, self.img_labels.iloc[idx, 0]) # sample 불러오기\n",
        "    image = read_image(img_path) # image to tensor 변환\n",
        "    label = self.img_labels.iloc[idx, 1] # label 불러오기\n",
        "    if self.transform:\n",
        "      image = self.transform(image)\n",
        "    if self.target_transform:\n",
        "      label = self.target_transform(label)\n",
        "    return image, label"
      ],
      "execution_count": null,
      "outputs": []
    },
    {
      "cell_type": "markdown",
      "metadata": {
        "id": "3FXXS0bMpb8x"
      },
      "source": [
        "DATALoader로 학습용 데이터 준비"
      ]
    },
    {
      "cell_type": "code",
      "metadata": {
        "colab": {
          "base_uri": "https://localhost:8080/"
        },
        "id": "SrAYucVVoNPL",
        "outputId": "59f4ddcf-16b7-4a1c-cd4b-e337fcaf495a"
      },
      "source": [
        "from torch.utils.data import DataLoader\n",
        "\n",
        "train_dataloader = DataLoader(training_data, batch_size=64, shuffle=True)\n",
        "test_dataloader = DataLoader(test_data, batch_size=64, shuffle=True)\n",
        "\n",
        "train_dataloader, test_dataloader\n",
        "\n"
      ],
      "execution_count": null,
      "outputs": [
        {
          "output_type": "execute_result",
          "data": {
            "text/plain": [
              "(<torch.utils.data.dataloader.DataLoader at 0x7f5e1ed5cbd0>,\n",
              " <torch.utils.data.dataloader.DataLoader at 0x7f5e1ed5c350>)"
            ]
          },
          "metadata": {},
          "execution_count": 6
        }
      ]
    },
    {
      "cell_type": "markdown",
      "metadata": {
        "id": "5Se9Lt_lp3ov"
      },
      "source": [
        "DataLoader iteration"
      ]
    },
    {
      "cell_type": "code",
      "metadata": {
        "colab": {
          "base_uri": "https://localhost:8080/",
          "height": 316
        },
        "id": "DRJdltfZp1b5",
        "outputId": "f13e956a-b180-4015-b132-7a66fa3133ed"
      },
      "source": [
        "train_features, train_labels = next(iter(train_dataloader)) # dataloader로 batch 만큼 data를 가져온다\n",
        "print(f'Feature batch shape: {train_features.size()}')\n",
        "print(f'Labels batch shape: {train_labels.size()}')\n",
        "img = train_features[0].squeeze() # squeeze : dimension 을 down 시킨다. 그래야 출력이 되는듯?\n",
        "label = train_labels[0]\n",
        "plt.imshow(img, cmap='gray')\n",
        "plt.show()\n",
        "print(f'Label: {label}')"
      ],
      "execution_count": null,
      "outputs": [
        {
          "output_type": "stream",
          "name": "stdout",
          "text": [
            "Feature batch shape: torch.Size([64, 1, 28, 28])\n",
            "Labels batch shape: torch.Size([64])\n"
          ]
        },
        {
          "output_type": "display_data",
          "data": {
            "image/png": "[encoded data removed]",
            "text/plain": [
              "<Figure size 432x288 with 1 Axes>"
            ]
          },
          "metadata": {
            "needs_background": "light"
          }
        },
        {
          "output_type": "stream",
          "name": "stdout",
          "text": [
            "Label: 6\n"
          ]
        }
      ]
    },
    {
      "cell_type": "code",
      "metadata": {
        "colab": {
          "base_uri": "https://localhost:8080/"
        },
        "id": "zp0nxNYyqivc",
        "outputId": "31bf01ca-80f1-49d9-abe4-ae034892921a"
      },
      "source": [
        "print(train_features[0].size()) # squeeze 전\n",
        "print(img.size()) # suqeeze 후"
      ],
      "execution_count": null,
      "outputs": [
        {
          "output_type": "stream",
          "name": "stdout",
          "text": [
            "torch.Size([1, 28, 28])\n",
            "torch.Size([28, 28])\n"
          ]
        }
      ]
    },
    {
      "cell_type": "markdown",
      "metadata": {
        "id": "eE0_mcLnq93r"
      },
      "source": [
        "## 4. 변형(TRANSFORM)<br>\n",
        ": 변형을 통해 학습에 적합한 형태의 데이터로 만든다"
      ]
    },
    {
      "cell_type": "code",
      "metadata": {
        "colab": {
          "base_uri": "https://localhost:8080/"
        },
        "id": "7TLCJ_lYqsuV",
        "outputId": "764096cc-7f49-49c7-b42c-8c66c535cd83"
      },
      "source": [
        "import torch\n",
        "from torchvision import datasets\n",
        "from torchvision.transforms import ToTensor, Lambda\n",
        "\n",
        "ds = datasets.FashionMNIST(\n",
        "    root='data',\n",
        "    train=True,\n",
        "    download=True,\n",
        "    transform=ToTensor(),\n",
        "    target_transform=Lambda(lambda y: torch.zeros(10, dtype=torch.float).scatter_(0, torch.tensor(y), value=1))\n",
        ")\n",
        "ds"
      ],
      "execution_count": null,
      "outputs": [
        {
          "output_type": "execute_result",
          "data": {
            "text/plain": [
              "Dataset FashionMNIST\n",
              "    Number of datapoints: 60000\n",
              "    Root location: data\n",
              "    Split: Train\n",
              "    StandardTransform\n",
              "Transform: ToTensor()\n",
              "Target transform: Lambda()"
            ]
          },
          "metadata": {},
          "execution_count": 16
        }
      ]
    },
    {
      "cell_type": "markdown",
      "metadata": {
        "id": "GOM6X1gMuo2D"
      },
      "source": [
        "torch.scatter_(dim, index, src, value) 이게 기본형이다. src는 tensor, value는 float, int값을 가진다"
      ]
    },
    {
      "cell_type": "markdown",
      "metadata": {
        "id": "fwyj2sVqsNCm"
      },
      "source": [
        "ToTensor()<br>\n",
        ": PIL image or Numpy ndarray -> Float Tensor<br>\n",
        ": 이미지 픽셀의 크기값을 [0., 1.] 범위로 조절"
      ]
    },
    {
      "cell_type": "markdown",
      "metadata": {
        "id": "ODYa63CCvF8C"
      },
      "source": [
        "Compose"
      ]
    },
    {
      "cell_type": "code",
      "metadata": {
        "id": "iCDgD_jtr1OL"
      },
      "source": [
        "import torchvision.transforms as T\n",
        "\n",
        "my_transform = T.Compose([ # 원래 코드의 T.가 에러가나서 transforms를 다시 T로 import해줬다.\n",
        "    T.RandomHorizontalFlip(p=0.5),\n",
        "    T.RandomVerticalFlip(p=0.5),\n",
        "    T.RandomRotation(degrees=(0, 180)),\n",
        "    ToTensor()\n",
        " ])"
      ],
      "execution_count": null,
      "outputs": []
    },
    {
      "cell_type": "code",
      "metadata": {
        "id": "tSOJsaojvUc_"
      },
      "source": [
        "ds = datasets.FashionMNIST(\n",
        "    root='data',\n",
        "    train=True,\n",
        "    download=True,\n",
        "    transform=my_transform,\n",
        "    target_transform=Lambda(lambda y: torch.zeros(10, dtype=torch.float).scatter_(0, torch.tensor(y), value=1))\n",
        ")\n",
        "\n",
        "dataloader = DataLoader(ds, batch_size=9, shuffle=True)"
      ],
      "execution_count": null,
      "outputs": []
    },
    {
      "cell_type": "code",
      "metadata": {
        "id": "9Q5gQVgAxLMu",
        "colab": {
          "base_uri": "https://localhost:8080/",
          "height": 783
        },
        "outputId": "761e764f-b999-47ba-b4d3-23be592cc92d"
      },
      "source": [
        "# labels_map = {\n",
        "#     0: \"T-Shirt\",\n",
        "#     1: \"Trouser\",\n",
        "#     2: \"Pullover\",\n",
        "#     3: \"Dress\",\n",
        "#     4: \"Coat\",\n",
        "#     5: \"Sandal\",\n",
        "#     6: \"Shirt\",\n",
        "#     7: \"Sneaker\",\n",
        "#     8: \"Bag\",\n",
        "#     9: \"Ankle Boot\",\n",
        "# }\n",
        "\n",
        "features, labels = next(iter(dataloader))\n",
        "\n",
        "fig = plt.figure(figsize=(10, 10))\n",
        "i=1\n",
        "\n",
        "for img, label in zip(features, labels):\n",
        "  ax = fig.add_subplot(3, 3, i)\n",
        "  ax.imshow(img.squeeze(), cmap='gray')\n",
        "  ax.set_title(label.numpy())\n",
        "  ax.set_xticks([]), ax.set_yticks([])\n",
        "  i+=1\n",
        "\n",
        "plt.tight_layout()\n",
        "plt.show()"
      ],
      "execution_count": null,
      "outputs": [
        {
          "output_type": "stream",
          "name": "stderr",
          "text": [
            "/usr/local/lib/python3.7/dist-packages/matplotlib/text.py:1165: FutureWarning: elementwise comparison failed; returning scalar instead, but in the future will perform elementwise comparison\n",
            "  if s != self._text:\n"
          ]
        },
        {
          "output_type": "display_data",
          "data": {
            "image/png": "[encoded data removed]",
            "text/plain": [
              "<Figure size 720x720 with 9 Axes>"
            ]
          },
          "metadata": {}
        }
      ]
    },
    {
      "cell_type": "markdown",
      "metadata": {
        "id": "M2uhPEyrzc6n"
      },
      "source": [
        "lables_map이랑 동일하게 잘 구별 되는 것 같다"
      ]
    },
    {
      "cell_type": "markdown",
      "metadata": {
        "id": "99v_AwRG0rxj"
      },
      "source": [
        "## 회고"
      ]
    },
    {
      "cell_type": "markdown",
      "metadata": {
        "id": "kzj1iK580uEW"
      },
      "source": [
        "전반적으로 autograd에 대해서 단계별로 출력해 보면서 진행과정을 확인 해 봤다. a, b, c, d gradient 가 있고, a_grad, b_grad, c_grad, d_grad는 각 a, b, c, d 를 업데이트 시키기 위한 값이 들어가는 변수라고 볼 수 있다. 그리고 이걸 초기화 시키지 않으면 다음 값이 계속해서 누적되기 때문에 a_grad = None으로 매번 초기화를 시켜준다. 사용하면서는 numpy랑 tensor를 비교해서 차이점을 크게 느끼지는 못했었는데 그래도 뭐가 있나 보면 tensor의 경우에는 device를 직접 설정이 가능해서 GPU를 이용해 계산하는 것이 가능하다. 그리고 속도도 tensor가 좀 더 빠른것 같긴한데 정확히는 잘 모르겠다."
      ]
    },
    {
      "cell_type": "markdown",
      "metadata": {
        "id": "pA-ohod55DOU"
      },
      "source": [
        "## < 추가학습 >"
      ]
    },
    {
      "cell_type": "markdown",
      "metadata": {
        "id": "qfLk60py5K2W"
      },
      "source": [
        "### Q1-1<br>\n",
        "![](https://camo.githubusercontent.com/1e50904b73b3791f3e582bba76e712962197d3b2/68747470733a2f2f692e6962622e636f2f72645a4c5476762f702d312e706e67)\n",
        "<br>\n",
        "X = 1"
      ]
    },
    {
      "cell_type": "code",
      "metadata": {
        "id": "4DcMV6II5EwE"
      },
      "source": [
        ""
      ],
      "execution_count": null,
      "outputs": []
    },
    {
      "cell_type": "markdown",
      "metadata": {
        "id": "Bpuv388o5sQH"
      },
      "source": [
        "#### Answer<br>\n",
        "Y = 3<br>\n",
        "dy/dx = 1 (y=x+2 를 미분해서 1이다)"
      ]
    },
    {
      "cell_type": "code",
      "metadata": {
        "colab": {
          "base_uri": "https://localhost:8080/"
        },
        "id": "okU0bx9e73vE",
        "outputId": "735f7080-75f0-4147-ccb9-6413e9207d83"
      },
      "source": [
        "import torch\n",
        "import numpy as np\n",
        "\n",
        "x = torch.ones(1, requires_grad=True)\n",
        "y = x+2\n",
        "y.backward()\n",
        "print(f'x_grad: {x.grad}')"
      ],
      "execution_count": 20,
      "outputs": [
        {
          "output_type": "stream",
          "name": "stdout",
          "text": [
            "x_grad: tensor([1.])\n"
          ]
        }
      ]
    },
    {
      "cell_type": "markdown",
      "metadata": {
        "id": "v1wTDoJCVTC0"
      },
      "source": [
        "## Q2-1<br>\n",
        "![](https://camo.githubusercontent.com/a29f1ad3bcaba99e6a644e89a958b96041de6e83/68747470733a2f2f692e6962622e636f2f375656526373352f702d322e706e67)<br>\n",
        "X=1<br>\n",
        "dy/dx = 2"
      ]
    },
    {
      "cell_type": "code",
      "metadata": {
        "id": "DywlRK_49hXw",
        "colab": {
          "base_uri": "https://localhost:8080/"
        },
        "outputId": "670591a9-3242-43ba-b4a6-5bef547496da"
      },
      "source": [
        "import torch\n",
        "\n",
        "x.grad=None\n",
        "x = torch.ones(1, requires_grad=True)\n",
        "y = x*2\n",
        "y.backward()\n",
        "print(f'x_grad: {x.grad}')"
      ],
      "execution_count": 12,
      "outputs": [
        {
          "output_type": "stream",
          "name": "stdout",
          "text": [
            "x_grad: tensor([2.])\n"
          ]
        }
      ]
    },
    {
      "cell_type": "markdown",
      "metadata": {
        "id": "2XG7fVWWWSd3"
      },
      "source": [
        "Q3-1<br>\n",
        "![](https://camo.githubusercontent.com/51ffa0e9cedf5e1752dc6fd237f739d91cf59d97/68747470733a2f2f692e6962622e636f2f426e6a6b734d322f702d332e706e67)<br>\n",
        "f = (x+y)*z = q * z = -12<br>\n",
        "q = x+y = 3<br>\n",
        "df/dz = x+y = 3<br>\n",
        "df/dq = z = -4<br>\n",
        "dq/dy = 1<br>\n",
        "dq/dx = 1<br>\n",
        "df/dx = df/dq * dq/dx = -4 * 1 = -4<br>"
      ]
    },
    {
      "cell_type": "code",
      "metadata": {
        "colab": {
          "base_uri": "https://localhost:8080/"
        },
        "id": "vTBuBAg7Vwo8",
        "outputId": "4eef76be-8914-4fee-ada9-dd7ccc687873"
      },
      "source": [
        "# 풀이\n",
        "import torch\n",
        "\n",
        "x = torch.tensor([-2.], requires_grad=True)\n",
        "y = torch.tensor([5.], requires_grad=True)\n",
        "z = torch.tensor([-4.], requires_grad=True)\n",
        "q = x+y\n",
        "f = (x+y)*z\n",
        "\n",
        "q.backward()\n",
        "print(f'x_grad(dq/dx): {x.grad}')\n",
        "print(f'y_grad(dq/dy): {y.grad}')\n",
        "x.grad=None\n",
        "y.grad=None\n",
        "\n",
        "f.backward()\n",
        "print(f'x_grad(df/dx): {x.grad}')\n",
        "print(f'y_grad(df/dy): {y.grad}')\n",
        "print(f'z_grad(df/dz): {z.grad}')\n",
        "x.grad=None\n",
        "y.grad=None\n",
        "z.grad=None"
      ],
      "execution_count": 32,
      "outputs": [
        {
          "output_type": "stream",
          "name": "stdout",
          "text": [
            "x_grad(dq/dx): tensor([1.])\n",
            "y_grad(dq/dy): tensor([1.])\n",
            "x_grad(df/dx): tensor([-4.])\n",
            "y_grad(df/dy): tensor([-4.])\n",
            "z_grad(df/dz): tensor([3.])\n"
          ]
        }
      ]
    },
    {
      "cell_type": "code",
      "metadata": {
        "colab": {
          "base_uri": "https://localhost:8080/"
        },
        "id": "xfGpKfyZZaHZ",
        "outputId": "90f9baae-2aa1-4f9a-cea5-4059ca0648d0"
      },
      "source": [
        "# 정답\n",
        "q = x + y\n",
        "f = q * z\n",
        "\n",
        "q.retain_grad()\n",
        "f.retain_grad()\n",
        "\n",
        "print(f'before backward 👉')\n",
        "print(f'  f : {f}')\n",
        "print(f'  q : {q}')\n",
        "print(f'  x : {x}')\n",
        "print(f'  y : {y}')\n",
        "print(f'  z : {z}')\n",
        "\n",
        "f.backward()\n",
        "print(f'after  backward 👉')\n",
        "print(f'  f : {f.grad}')\n",
        "print(f'  q : {q.grad}')\n",
        "print(f'  x : {x.grad}')\n",
        "print(f'  y : {y.grad}')\n",
        "print(f'  z : {z.grad}')"
      ],
      "execution_count": 33,
      "outputs": [
        {
          "output_type": "stream",
          "name": "stdout",
          "text": [
            "before backward 👉\n",
            "  f : tensor([-12.], grad_fn=<MulBackward0>)\n",
            "  q : tensor([3.], grad_fn=<AddBackward0>)\n",
            "  x : tensor([-2.], requires_grad=True)\n",
            "  y : tensor([5.], requires_grad=True)\n",
            "  z : tensor([-4.], requires_grad=True)\n",
            "after  backward 👉\n",
            "  f : tensor([1.])\n",
            "  q : tensor([-4.])\n",
            "  x : tensor([-4.])\n",
            "  y : tensor([-4.])\n",
            "  z : tensor([3.])\n"
          ]
        }
      ]
    },
    {
      "cell_type": "code",
      "metadata": {
        "id": "1z0Bf0_scTl3"
      },
      "source": [
        ""
      ],
      "execution_count": null,
      "outputs": []
    }
  ]
}